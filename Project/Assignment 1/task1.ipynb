{
 "cells": [
  {
   "cell_type": "markdown",
   "metadata": {
    "id": "zGpzxALXO3_c"
   },
   "source": [
    "<h1> Task 1 </h1>\n",
    "<h3> 2. Load the three JSON files and encode them as pandas dataframes. </h3>"
   ]
  },
  {
   "cell_type": "code",
   "execution_count": 94,
   "metadata": {
    "id": "WmDePCZ0O3_f"
   },
   "outputs": [],
   "source": [
    "import pandas as pd\n",
    "import numpy as np\n",
    "import matplotlib.pyplot as plt"
   ]
  },
  {
   "cell_type": "code",
   "execution_count": 95,
   "metadata": {
    "colab": {
     "base_uri": "https://localhost:8080/"
    },
    "id": "MrOeCCeTPBd7",
    "outputId": "7b8b34a1-769b-45ca-f26f-3aad4336dd1d"
   },
   "outputs": [],
   "source": [
    "#from google.colab import drive\n",
    "#drive.mount('/content/drive')"
   ]
  },
  {
   "cell_type": "code",
   "execution_count": 96,
   "metadata": {
    "id": "1Gnxra7IO3_h"
   },
   "outputs": [],
   "source": [
    "training_url = '/Users/kor/Desktop/Unibo/II year/Fall/NLP/Project/Assignment 1/data/training.json'#'/content/drive/MyDrive/Assignment 1/data/training.json'\n",
    "validation_url = '/Users/kor/Desktop/Unibo/II year/Fall/NLP/Project/Assignment 1/data/validation.json'#'/content/drive/MyDrive/Assignment 1/data/validation.json'\n",
    "test_url = '/Users/kor/Desktop/Unibo/II year/Fall/NLP/Project/Assignment 1/data/test.json'#'/content/drive/MyDrive/Assignment 1/data/test.json'"
   ]
  },
  {
   "cell_type": "code",
   "execution_count": 97,
   "metadata": {
    "id": "ABXXeRZyO3_h"
   },
   "outputs": [],
   "source": [
    "training_set = pd.read_json(training_url, orient='index')\n",
    "validation_set = pd.read_json(validation_url, orient='index')\n",
    "test_set = pd.read_json(test_url, orient='index')"
   ]
  },
  {
   "cell_type": "markdown",
   "metadata": {
    "id": "tzrMgWXkO3_i"
   },
   "source": [
    "<h3> 3. Generate hard labels for Task 1 using majority voting and store them in a new dataframe column called `hard_label_task1`. <br>Items without a clear majority will be removed from the dataset. </h3>"
   ]
  },
  {
   "cell_type": "code",
   "execution_count": 98,
   "metadata": {
    "id": "PsmJDOIOO3_j"
   },
   "outputs": [],
   "source": [
    "def majority(l):\n",
    "    y_count = l.count('YES')\n",
    "    n_count = l.count('NO')\n",
    "\n",
    "    if y_count == n_count:\n",
    "        return pd.NaT\n",
    "\n",
    "    if y_count > 3:\n",
    "        return 'YES'\n",
    "\n",
    "    return 'NO'"
   ]
  },
  {
   "cell_type": "code",
   "execution_count": 99,
   "metadata": {
    "id": "s9hxDOWjO3_j"
   },
   "outputs": [],
   "source": [
    "training_set['hard_label_task1'] = training_set['labels_task1'].apply(majority)\n",
    "training_set.dropna(axis=0, inplace=True)\n",
    "\n",
    "validation_set['hard_label_task1'] = validation_set['labels_task1'].apply(majority)\n",
    "validation_set.dropna(axis=0, inplace=True)\n",
    "\n",
    "test_set['hard_label_task1'] = test_set['labels_task1'].apply(majority)\n",
    "test_set.dropna(axis=0, inplace=True)"
   ]
  },
  {
   "cell_type": "markdown",
   "metadata": {
    "id": "ln8PNReUO3_k"
   },
   "source": [
    "<h3> 4. Filter the DataFrame to keep only rows where the `lang` column is `'en'`. </h3>"
   ]
  },
  {
   "cell_type": "code",
   "execution_count": 100,
   "metadata": {
    "id": "t_T5zOiFO3_k"
   },
   "outputs": [],
   "source": [
    "lang = 'en'"
   ]
  },
  {
   "cell_type": "code",
   "execution_count": 101,
   "metadata": {
    "id": "24-3RDlhO3_k"
   },
   "outputs": [],
   "source": [
    "training_set = training_set[training_set['lang'] == lang]\n",
    "validation_set = validation_set[validation_set['lang'] == lang]\n",
    "test_set = test_set[test_set['lang'] == lang]"
   ]
  },
  {
   "cell_type": "markdown",
   "metadata": {
    "id": "wIC77nNgO3_l"
   },
   "source": [
    "<h3> 5. Remove unwanted columns: Keep only `id_EXIST`, `lang`, `tweet`, and `hard_label_task1`. </h3>"
   ]
  },
  {
   "cell_type": "code",
   "execution_count": 102,
   "metadata": {
    "id": "1USDpIecO3_l"
   },
   "outputs": [],
   "source": [
    "training_set = training_set.loc[:,['id_EXIST', 'lang', 'tweet', 'hard_label_task1']]\n",
    "validation_set = validation_set.loc[:,['id_EXIST', 'lang', 'tweet', 'hard_label_task1']]\n",
    "test_set = test_set.loc[:,['id_EXIST', 'lang', 'tweet', 'hard_label_task1']]"
   ]
  },
  {
   "cell_type": "markdown",
   "metadata": {
    "id": "j39m2p1ZO3_l"
   },
   "source": [
    "<h3> 6. Encode the `hard_label_task1` column: Use 1 to represent \"YES\" and 0 to represent \"NO\".</h3>"
   ]
  },
  {
   "cell_type": "code",
   "execution_count": 103,
   "metadata": {
    "id": "EnhYC0ZIO3_l"
   },
   "outputs": [],
   "source": [
    "training_set['hard_label_task1'] = training_set['hard_label_task1'].map({'YES':1, 'NO':0})\n",
    "validation_set['hard_label_task1'] = validation_set['hard_label_task1'].map({'YES':1, 'NO':0})\n",
    "test_set['hard_label_task1'] = test_set['hard_label_task1'].map({'YES':1, 'NO':0})"
   ]
  },
  {
   "cell_type": "code",
   "execution_count": 104,
   "metadata": {
    "colab": {
     "base_uri": "https://localhost:8080/",
     "height": 423
    },
    "id": "XWhi7JeKO3_l",
    "outputId": "23ac20f8-4247-4ca8-a957-f17750c24cbf"
   },
   "outputs": [
    {
     "data": {
      "text/html": [
       "<div>\n",
       "<style scoped>\n",
       "    .dataframe tbody tr th:only-of-type {\n",
       "        vertical-align: middle;\n",
       "    }\n",
       "\n",
       "    .dataframe tbody tr th {\n",
       "        vertical-align: top;\n",
       "    }\n",
       "\n",
       "    .dataframe thead th {\n",
       "        text-align: right;\n",
       "    }\n",
       "</style>\n",
       "<table border=\"1\" class=\"dataframe\">\n",
       "  <thead>\n",
       "    <tr style=\"text-align: right;\">\n",
       "      <th></th>\n",
       "      <th>id_EXIST</th>\n",
       "      <th>lang</th>\n",
       "      <th>tweet</th>\n",
       "      <th>hard_label_task1</th>\n",
       "    </tr>\n",
       "  </thead>\n",
       "  <tbody>\n",
       "    <tr>\n",
       "      <th>200002</th>\n",
       "      <td>200002</td>\n",
       "      <td>en</td>\n",
       "      <td>Writing a uni essay in my local pub with a cof...</td>\n",
       "      <td>1</td>\n",
       "    </tr>\n",
       "    <tr>\n",
       "      <th>200003</th>\n",
       "      <td>200003</td>\n",
       "      <td>en</td>\n",
       "      <td>@UniversalORL it is 2021 not 1921. I dont appr...</td>\n",
       "      <td>1</td>\n",
       "    </tr>\n",
       "    <tr>\n",
       "      <th>200006</th>\n",
       "      <td>200006</td>\n",
       "      <td>en</td>\n",
       "      <td>According to a customer I have plenty of time ...</td>\n",
       "      <td>1</td>\n",
       "    </tr>\n",
       "    <tr>\n",
       "      <th>200007</th>\n",
       "      <td>200007</td>\n",
       "      <td>en</td>\n",
       "      <td>So only 'blokes' drink beer? Sorry, but if you...</td>\n",
       "      <td>1</td>\n",
       "    </tr>\n",
       "    <tr>\n",
       "      <th>200008</th>\n",
       "      <td>200008</td>\n",
       "      <td>en</td>\n",
       "      <td>New to the shelves this week - looking forward...</td>\n",
       "      <td>0</td>\n",
       "    </tr>\n",
       "    <tr>\n",
       "      <th>...</th>\n",
       "      <td>...</td>\n",
       "      <td>...</td>\n",
       "      <td>...</td>\n",
       "      <td>...</td>\n",
       "    </tr>\n",
       "    <tr>\n",
       "      <th>203256</th>\n",
       "      <td>203256</td>\n",
       "      <td>en</td>\n",
       "      <td>idk why y’all bitches think having half your a...</td>\n",
       "      <td>1</td>\n",
       "    </tr>\n",
       "    <tr>\n",
       "      <th>203257</th>\n",
       "      <td>203257</td>\n",
       "      <td>en</td>\n",
       "      <td>This has been a part of an experiment with @Wo...</td>\n",
       "      <td>1</td>\n",
       "    </tr>\n",
       "    <tr>\n",
       "      <th>203258</th>\n",
       "      <td>203258</td>\n",
       "      <td>en</td>\n",
       "      <td>\"Take me already\" \"Not yet. You gotta be ready...</td>\n",
       "      <td>1</td>\n",
       "    </tr>\n",
       "    <tr>\n",
       "      <th>203259</th>\n",
       "      <td>203259</td>\n",
       "      <td>en</td>\n",
       "      <td>@clintneedcoffee why do you look like a whore?...</td>\n",
       "      <td>1</td>\n",
       "    </tr>\n",
       "    <tr>\n",
       "      <th>203260</th>\n",
       "      <td>203260</td>\n",
       "      <td>en</td>\n",
       "      <td>ik when mandy says “you look like a whore” i l...</td>\n",
       "      <td>1</td>\n",
       "    </tr>\n",
       "  </tbody>\n",
       "</table>\n",
       "<p>2870 rows × 4 columns</p>\n",
       "</div>"
      ],
      "text/plain": [
       "        id_EXIST lang                                              tweet  \\\n",
       "200002    200002   en  Writing a uni essay in my local pub with a cof...   \n",
       "200003    200003   en  @UniversalORL it is 2021 not 1921. I dont appr...   \n",
       "200006    200006   en  According to a customer I have plenty of time ...   \n",
       "200007    200007   en  So only 'blokes' drink beer? Sorry, but if you...   \n",
       "200008    200008   en  New to the shelves this week - looking forward...   \n",
       "...          ...  ...                                                ...   \n",
       "203256    203256   en  idk why y’all bitches think having half your a...   \n",
       "203257    203257   en  This has been a part of an experiment with @Wo...   \n",
       "203258    203258   en  \"Take me already\" \"Not yet. You gotta be ready...   \n",
       "203259    203259   en  @clintneedcoffee why do you look like a whore?...   \n",
       "203260    203260   en  ik when mandy says “you look like a whore” i l...   \n",
       "\n",
       "        hard_label_task1  \n",
       "200002                 1  \n",
       "200003                 1  \n",
       "200006                 1  \n",
       "200007                 1  \n",
       "200008                 0  \n",
       "...                  ...  \n",
       "203256                 1  \n",
       "203257                 1  \n",
       "203258                 1  \n",
       "203259                 1  \n",
       "203260                 1  \n",
       "\n",
       "[2870 rows x 4 columns]"
      ]
     },
     "execution_count": 104,
     "metadata": {},
     "output_type": "execute_result"
    }
   ],
   "source": [
    "training_set"
   ]
  },
  {
   "cell_type": "code",
   "execution_count": 105,
   "metadata": {
    "colab": {
     "base_uri": "https://localhost:8080/",
     "height": 472
    },
    "id": "-rg_mJKrKxjb",
    "outputId": "11187efd-d5b1-4e0f-9ef4-e2356cfd7f29"
   },
   "outputs": [
    {
     "data": {
      "image/png": "[encoded data removed]",
      "text/plain": [
       "<Figure size 640x480 with 1 Axes>"
      ]
     },
     "metadata": {},
     "output_type": "display_data"
    }
   ],
   "source": [
    "#@title inspect positive/negative distribution\n",
    "train_labels = training_set['hard_label_task1'].values\n",
    "val_labels = validation_set['hard_label_task1'].values\n",
    "test_labels = test_set['hard_label_task1'].values\n",
    "\n",
    "plt.hist([train_labels, val_labels, test_labels], bins = 2, label = ['train', 'val', 'test'])\n",
    "plt.legend()\n",
    "plt.title('Class distribution')\n",
    "plt.xlabel('Sentiment')\n",
    "plt.ylabel('# Samples')\n",
    "plt.xticks([0, 1], ['Non-sexist', 'Sexist'])  # Set the x-axis ticks\n",
    "plt.show()"
   ]
  },
  {
   "cell_type": "code",
   "execution_count": 106,
   "metadata": {
    "colab": {
     "base_uri": "https://localhost:8080/",
     "height": 526
    },
    "id": "2kgT8A27e7xI",
    "outputId": "5045c30e-c5fe-4097-f829-8db9f8b29c2a"
   },
   "outputs": [
    {
     "name": "stdout",
     "output_type": "stream",
     "text": [
      "Training set size: 2870\n",
      "Validation set size: 158\n",
      "Test set size: 286\n"
     ]
    },
    {
     "data": {
      "image/png": "[encoded data removed]",
      "text/plain": [
       "<Figure size 640x480 with 1 Axes>"
      ]
     },
     "metadata": {},
     "output_type": "display_data"
    }
   ],
   "source": [
    "#@title inspect training/val/test distribution\n",
    "train_counts = training_set.shape[0]\n",
    "val_counts = validation_set.shape[0]\n",
    "test_counts = test_set.shape[0]\n",
    "\n",
    "print(f'Training set size: {train_counts}')\n",
    "print(f'Validation set size: {val_counts}')\n",
    "print(f'Test set size: {test_counts}')\n",
    "\n",
    "# Data for histogram\n",
    "data = [train_counts, val_counts, test_counts]\n",
    "labels = ['Training', 'Validation', 'Test']\n",
    "\n",
    "# Create a histogram\n",
    "plt.bar(labels, data)\n",
    "\n",
    "# Add labels and title\n",
    "plt.xlabel('Dataset')\n",
    "plt.ylabel('Number of Samples')\n",
    "plt.title('Distribution of Training, Validation, and Test Sets')\n",
    "\n",
    "# Show the plot\n",
    "plt.show()"
   ]
  },
  {
   "cell_type": "markdown",
   "metadata": {
    "id": "M9r67IJTO3_m"
   },
   "source": [
    "<h1> Task 2 </h1>"
   ]
  },
  {
   "cell_type": "markdown",
   "metadata": {
    "id": "djzkN4SrO3_m"
   },
   "source": [
    "- **Remove emojis** from the tweets.\n",
    "- **Remove hashtags** (e.g., `#example`).\n",
    "- **Remove mentions** such as `@user`.\n",
    "- **Remove URLs** from the tweets.\n",
    "- **Remove special characters and symbols**.\n",
    "- **Remove specific quote characters** (e.g., curly quotes).\n",
    "- **Perform lemmatization** to reduce words to their base form."
   ]
  },
  {
   "cell_type": "code",
   "execution_count": 107,
   "metadata": {
    "colab": {
     "base_uri": "https://localhost:8080/"
    },
    "id": "TUmZWeqzO3_m",
    "outputId": "84625e6e-4ef0-4501-f620-352d9a1efe2e"
   },
   "outputs": [],
   "source": [
    "#!pip install emoji\n",
    "\n",
    "import re\n",
    "import emoji\n",
    "from nltk.corpus import stopwords\n",
    "import nltk"
   ]
  },
  {
   "cell_type": "code",
   "execution_count": 108,
   "metadata": {
    "colab": {
     "base_uri": "https://localhost:8080/"
    },
    "id": "R6-6_f7VO3_n",
    "outputId": "e97136d9-e7e7-44ea-b623-f98121d18c55"
   },
   "outputs": [],
   "source": [
    "emojis_list = map(lambda x: ''.join(x.split()), emoji.EMOJI_DATA.keys())\n",
    "\n",
    "EMOJI_RE = re.compile('|'.join(re.escape(p) for p in emojis_list))\n",
    "HASHTAGS_RE = re.compile('#\\w+')\n",
    "MENTIONS_RE = re.compile('@\\w+')\n",
    "URL_RE = re.compile('(https|http)?:\\/\\/\\S+')\n",
    "#Qui ho aggiunto il punto sostituito dallo spazio perchè mi sembra che la maggior parte\n",
    "#dei tweets ne traggono beneficio, poi TODO va provato raga\n",
    "REPLACE_BY_SPACE_RE = re.compile('[/(){}\\[\\]\\|,;‘’“”\\\"\\.]')\n",
    "SPECIAL_CHARACTERS_RE = re.compile('&amp;')\n",
    "GOOD_SYMBOLS_RE = re.compile('[^\\w+ +]')\n",
    "\n",
    "try:\n",
    "    STOPWORDS = set(stopwords.words('english'))\n",
    "except LookupError:\n",
    "    nltk.download('stopwords')\n",
    "    STOPWORDS = set(stopwords.words('english'))"
   ]
  },
  {
   "cell_type": "code",
   "execution_count": 109,
   "metadata": {
    "id": "aiar3s09O3_n"
   },
   "outputs": [],
   "source": [
    "def lower(text: str) -> str:\n",
    "    return text.lower()\n",
    "\n",
    "def remove_emojis(text: str) -> str:\n",
    "    return EMOJI_RE.sub(' ',text)\n",
    "\n",
    "def remove_hashtags(text: str) -> str:\n",
    "    return HASHTAGS_RE.sub(' ', text)\n",
    "\n",
    "def remove_mentions(text: str) -> str:\n",
    "    return MENTIONS_RE.sub(' ', text)\n",
    "\n",
    "def remove_url(text: str) -> str:\n",
    "    return URL_RE.sub(' ',text)\n",
    "\n",
    "def remove_special_characters(text: str) -> str:\n",
    "    return SPECIAL_CHARACTERS_RE.sub('', text)\n",
    "\n",
    "def replace_special_characters(text: str) -> str:\n",
    "    return REPLACE_BY_SPACE_RE.sub(' ', text)\n",
    "\n",
    "def filter_out_uncommon_symbols(text: str) -> str:\n",
    "    \"\"\"\n",
    "    Removes any special character that is not in the good symbols list (check regular expression)\n",
    "    \"\"\"\n",
    "    return GOOD_SYMBOLS_RE.sub('', text)\n",
    "\n",
    "def remove_stopwords(text: str) -> str:\n",
    "    return ' '.join([x for x in text.split() if x and x not in STOPWORDS])\n",
    "\n",
    "def strip_text(text: str) -> str:\n",
    "    \"\"\"\n",
    "    Removes any left or right spacing (including carriage return) from text.\n",
    "    \"\"\"\n",
    "    return text.strip()"
   ]
  },
  {
   "cell_type": "markdown",
   "metadata": {
    "id": "vncKwO6yO3_n"
   },
   "source": [
    "We can observe that some hashtags in the form \"#somethinghttps://\" also removes the initial part of the link."
   ]
  },
  {
   "cell_type": "markdown",
   "metadata": {
    "id": "MAnHByb3O3_n"
   },
   "source": [
    "@rufinelix's account"
   ]
  },
  {
   "cell_type": "code",
   "execution_count": 110,
   "metadata": {
    "id": "EXkeuKHpO3_o"
   },
   "outputs": [],
   "source": [
    "from typing import List, Callable, Dict\n",
    "from functools import reduce\n",
    "\n",
    "PREPROCESSING_PIPELINE = [\n",
    "                          lower,\n",
    "                          remove_emojis,\n",
    "                          remove_hashtags,\n",
    "                          remove_mentions,\n",
    "                          remove_url,\n",
    "                          remove_special_characters,\n",
    "                          replace_special_characters,\n",
    "                          filter_out_uncommon_symbols,\n",
    "                          remove_stopwords,\n",
    "                          strip_text\n",
    "                          ]\n",
    "#Lui elimina anche le stopwords, poi TODO va provato raga\n",
    "\n",
    "def text_prepare(text: str,\n",
    "                 filter_methods: List[Callable[[str], str]] = None) -> str:\n",
    "    \"\"\"\n",
    "    Applies a list of pre-processing functions in sequence (reduce).\n",
    "    Note that the order is important here!\n",
    "    \"\"\"\n",
    "    filter_methods = filter_methods if filter_methods is not None else PREPROCESSING_PIPELINE\n",
    "    return reduce(lambda txt, f: f(txt), filter_methods, text)"
   ]
  },
  {
   "cell_type": "code",
   "execution_count": 111,
   "metadata": {
    "colab": {
     "base_uri": "https://localhost:8080/"
    },
    "id": "fmtdMboIO3_o",
    "outputId": "9b3106ab-d4a6-4bf3-bc54-ea7f49b365fd"
   },
   "outputs": [
    {
     "name": "stdout",
     "output_type": "stream",
     "text": [
      "Pre-processing text...\n",
      "\n",
      "[Debug] Before:\n",
      "According to a customer I have plenty of time to go spent the Stirling coins he wants to pay me with, in Derry. \"Just like any other woman, I'm sure of it.\" #EveryDaySexism in retail.\n",
      "\n",
      "[Debug] After:\n",
      "according customer plenty time go spent stirling coins wants pay derry like woman im sure retail\n",
      "\n",
      "Pre-processing completed!\n"
     ]
    }
   ],
   "source": [
    "print('Pre-processing text...')\n",
    "\n",
    "print()\n",
    "print(f'[Debug] Before:\\n{training_set.tweet.values[2]}')\n",
    "print()\n",
    "\n",
    "# Replace each sentence with its pre-processed version\n",
    "training_set['tweet'] = training_set['tweet'].apply(lambda txt: text_prepare(txt))\n",
    "validation_set['tweet'] = validation_set['tweet'].apply(lambda txt: text_prepare(txt))\n",
    "test_set['tweet'] = test_set['tweet'].apply(lambda txt: text_prepare(txt))\n",
    "\n",
    "print(f'[Debug] After:\\n{training_set.tweet.values[2]}')\n",
    "print()\n",
    "\n",
    "print(\"Pre-processing completed!\")"
   ]
  },
  {
   "cell_type": "code",
   "execution_count": 112,
   "metadata": {
    "colab": {
     "base_uri": "https://localhost:8080/",
     "height": 397
    },
    "id": "ZWo94S5MO3_o",
    "outputId": "6229201e-c63a-4682-c70d-1fe9032f5834"
   },
   "outputs": [
    {
     "data": {
      "text/plain": [
       "200002    writing uni essay local pub coffee random old ...\n",
       "200003    2021 1921 dont appreciate two rides team membe...\n",
       "200006    according customer plenty time go spent stirli...\n",
       "200007    blokes drink beer sorry arent bloke drink wine...\n",
       "200008       new shelves week looking forward reading books\n",
       "200010                      guess fairly normal neanderthal\n",
       "200011    means women usually end lower paid support wor...\n",
       "200013    hi orla interesting piece 2 policy response be...\n",
       "200015    dear god colette capable identifying sexism li...\n",
       "200016                            women home cooking family\n",
       "Name: tweet, dtype: object"
      ]
     },
     "execution_count": 112,
     "metadata": {},
     "output_type": "execute_result"
    }
   ],
   "source": [
    "#Focus Focus Focus qui le contrazioni tipo I'm le accorpa, ma sotto la lemmatization con wordNet le\n",
    "#scoppia. Se usassimo le stopwords le eliminerebbe direttamente e il problema non si porrebbe, quindi indovinate\n",
    "#TODO va provato raga\n",
    "training_set.iloc[:10]['tweet']"
   ]
  },
  {
   "cell_type": "code",
   "execution_count": 113,
   "metadata": {
    "colab": {
     "base_uri": "https://localhost:8080/"
    },
    "id": "Z_a7AzM6O3_o",
    "outputId": "1c48328e-db5b-4101-e8a2-7e896ad5a60d"
   },
   "outputs": [
    {
     "name": "stderr",
     "output_type": "stream",
     "text": [
      "[nltk_data] Downloading package averaged_perceptron_tagger_eng to\n",
      "[nltk_data]     /Users/kor/nltk_data...\n",
      "[nltk_data]   Package averaged_perceptron_tagger_eng is already up-to-\n",
      "[nltk_data]       date!\n",
      "[nltk_data] Downloading package wordnet to /Users/kor/nltk_data...\n",
      "[nltk_data]   Package wordnet is already up-to-date!\n"
     ]
    }
   ],
   "source": [
    "from nltk.stem import WordNetLemmatizer\n",
    "from nltk import pos_tag\n",
    "from nltk.corpus import wordnet\n",
    "from nltk.tokenize import WhitespaceTokenizer\n",
    "\n",
    "nltk.download('averaged_perceptron_tagger_eng')\n",
    "nltk.download('wordnet')\n",
    "\n",
    "lemmatizer = WordNetLemmatizer()\n",
    "tokenizer = WhitespaceTokenizer()\n",
    "\n",
    "def get_wordnet_key(pos_tag):\n",
    "    if pos_tag.startswith('J'):\n",
    "        return wordnet.ADJ\n",
    "    elif pos_tag.startswith('V'):\n",
    "        return wordnet.VERB\n",
    "    elif pos_tag.startswith('N'):\n",
    "        return wordnet.NOUN\n",
    "    elif pos_tag.startswith('R'):\n",
    "        return wordnet.ADV\n",
    "    else:\n",
    "        return 'n'\n",
    "\n",
    "def lem_text(text: str):\n",
    "    tokens = tokenizer.tokenize(text)\n",
    "    tagged = pos_tag(tokens)\n",
    "    words = [lemmatizer.lemmatize(word, get_wordnet_key(tag)) for word, tag in tagged]\n",
    "    return \" \".join(words)"
   ]
  },
  {
   "cell_type": "code",
   "execution_count": 114,
   "metadata": {
    "colab": {
     "base_uri": "https://localhost:8080/",
     "height": 397
    },
    "id": "Wa8xcbcAO3_o",
    "outputId": "e7a9cc7a-33da-4dc7-dd26-a6d109737960"
   },
   "outputs": [
    {
     "data": {
      "text/plain": [
       "200002    writing uni essay local pub coffee random old ...\n",
       "200003    2021 1921 dont appreciate two rides team membe...\n",
       "200006    according customer plenty time go spent stirli...\n",
       "200007    blokes drink beer sorry arent bloke drink wine...\n",
       "200008       new shelves week looking forward reading books\n",
       "200010                      guess fairly normal neanderthal\n",
       "200011    means women usually end lower paid support wor...\n",
       "200013    hi orla interesting piece 2 policy response be...\n",
       "200015    dear god colette capable identifying sexism li...\n",
       "200016                            women home cooking family\n",
       "Name: tweet, dtype: object"
      ]
     },
     "execution_count": 114,
     "metadata": {},
     "output_type": "execute_result"
    }
   ],
   "source": [
    "training_set['tweet'][:10]"
   ]
  },
  {
   "cell_type": "code",
   "execution_count": 115,
   "metadata": {
    "id": "tPV1wPaGO3_p"
   },
   "outputs": [],
   "source": [
    "lem_train_texts = [lem_text(text) for text in training_set['tweet']]\n",
    "lem_validation_texts = [lem_text(text) for text in validation_set['tweet']]\n",
    "lem_test_texts = [lem_text(text) for text in test_set['tweet']]"
   ]
  },
  {
   "cell_type": "code",
   "execution_count": 116,
   "metadata": {
    "colab": {
     "base_uri": "https://localhost:8080/"
    },
    "id": "VkFXXPRJO3_p",
    "outputId": "19281e6f-9a7d-448b-ed23-3fc3986e2baf"
   },
   "outputs": [
    {
     "data": {
      "text/plain": [
       "['write uni essay local pub coffee random old man keep ask drunk question im try concentrate end good luck youll end get marry use anyway alive well',\n",
       " '2021 1921 dont appreciate two ride team member look behind ask man behind many party impress',\n",
       " 'accord customer plenty time go spent stirling coin want pay derry like woman im sure retail',\n",
       " 'bloke drink beer sorry arent bloke drink wine apparently alive well',\n",
       " 'new shelf week look forward read book',\n",
       " 'guess fairly normal neanderthal',\n",
       " 'mean woman usually end low pay support work start change traditionalist notice unfairness previously hasnt bother',\n",
       " 'hi orla interest piece 2 policy response believe earlyinlife prosecution punishment way go boy young men offend girl woman see zero tolerance approach institute',\n",
       " 'dear god colette capable identify sexism literally anywhere good see develop female grandpa simpson',\n",
       " 'woman home cooking family']"
      ]
     },
     "execution_count": 116,
     "metadata": {},
     "output_type": "execute_result"
    }
   ],
   "source": [
    "lem_train_texts[:10]"
   ]
  },
  {
   "cell_type": "code",
   "execution_count": 117,
   "metadata": {
    "id": "cNzqL_0HO3_p"
   },
   "outputs": [],
   "source": [
    "training_set['tweet'] = lem_train_texts\n",
    "validation_set['tweet'] = lem_validation_texts\n",
    "test_set['tweet'] = lem_test_texts"
   ]
  },
  {
   "cell_type": "code",
   "execution_count": 118,
   "metadata": {
    "colab": {
     "base_uri": "https://localhost:8080/"
    },
    "id": "nHyiqAsswEBS",
    "outputId": "183fa166-b828-4462-a1b0-0bb0899ba272"
   },
   "outputs": [
    {
     "name": "stdout",
     "output_type": "stream",
     "text": [
      "Longest tweet: movie 103+ haunt tale 1980 + house 1977 + gift hate 2019 + ouijia japan 2021 + dream home 2010 + ghoul 2018 + ringu spiral 1998 + ringu 0 2000 + gaze 2014 + 3 2012 + daughter 2015 + roommate 2010\n",
      "Length of the longest tweet: 43\n"
     ]
    }
   ],
   "source": [
    "# Find the longest tweet\n",
    "longest_tweet = max(training_set['tweet'], key=lambda x: len(x.split()))\n",
    "longest_tweet_length = len(longest_tweet.split())\n",
    "\n",
    "print(f\"Longest tweet: {longest_tweet}\")\n",
    "print(f\"Length of the longest tweet: {longest_tweet_length}\")"
   ]
  },
  {
   "cell_type": "markdown",
   "metadata": {
    "id": "-AXZOPpcO3_p"
   },
   "source": [
    "<h1> Task 3 </h1>"
   ]
  },
  {
   "cell_type": "markdown",
   "metadata": {
    "id": "xNOwfJzQO3_p"
   },
   "source": [
    "Embed words using **GloVe embeddings**. <br>\n",
    "You are **free** to pick any embedding dimension."
   ]
  },
  {
   "cell_type": "code",
   "execution_count": 119,
   "metadata": {
    "id": "46QHfuNOO3_p"
   },
   "outputs": [],
   "source": [
    "from collections import OrderedDict"
   ]
  },
  {
   "cell_type": "markdown",
   "metadata": {
    "id": "2zDXJ8nIdtpb"
   },
   "source": [
    "#### Building the vocabulary"
   ]
  },
  {
   "cell_type": "code",
   "execution_count": 120,
   "metadata": {
    "id": "Ug25Ior2O3_q"
   },
   "outputs": [],
   "source": [
    "def build_vocabulary(df: pd.DataFrame) -> (Dict[int, str], Dict[str, int], List[str]):\n",
    "    \"\"\"\n",
    "    Given a dataset, builds the corresponding word vocabulary.\n",
    "\n",
    "    :param df: dataset from which we want to build the word vocabulary (pandas.DataFrame)\n",
    "    :return:\n",
    "      - word vocabulary: vocabulary index to word\n",
    "      - inverse word vocabulary: word to vocabulary index\n",
    "      - word listing: set of unique terms that build up the vocabulary\n",
    "    \"\"\"\n",
    "    idx_to_word = OrderedDict()\n",
    "    word_to_idx = OrderedDict()\n",
    "\n",
    "    word_to_idx['PAD'] = 0\n",
    "    idx_to_word[0] = 'PAD'\n",
    "\n",
    "    curr_idx = 1\n",
    "    for sentence in df.tweet:\n",
    "        tokens = sentence.split()\n",
    "        for token in tokens:\n",
    "            if token not in word_to_idx:\n",
    "                word_to_idx[token] = curr_idx\n",
    "                idx_to_word[curr_idx] = token\n",
    "                curr_idx += 1\n",
    "\n",
    "    word_to_idx['UNK'] = curr_idx\n",
    "    idx_to_word[curr_idx] = 'UNK'\n",
    "\n",
    "    word_listing = list(idx_to_word.values())\n",
    "    return idx_to_word, word_to_idx, word_listing"
   ]
  },
  {
   "cell_type": "code",
   "execution_count": 121,
   "metadata": {
    "colab": {
     "base_uri": "https://localhost:8080/"
    },
    "id": "YsVDtwr1O3_q",
    "outputId": "95ce1f7d-d5bf-4aa4-e703-5ce55acc9e44"
   },
   "outputs": [
    {
     "name": "stdout",
     "output_type": "stream",
     "text": [
      "[Debug] Index -> Word vocabulary size: 9364\n",
      "[Debug] Word -> Index vocabulary size: 9364\n",
      "[Debug] Some words: [('write', 1), ('uni', 2), ('essay', 3), ('local', 4), ('pub', 5), ('coffee', 6), ('random', 7), ('old', 8), ('man', 9), ('keep', 10)]\n"
     ]
    }
   ],
   "source": [
    "idx_to_word, word_to_idx, word_listing = build_vocabulary(training_set)\n",
    "print(f'[Debug] Index -> Word vocabulary size: {len(idx_to_word)}')\n",
    "print(f'[Debug] Word -> Index vocabulary size: {len(word_to_idx)}')\n",
    "print(f'[Debug] Some words: {[(idx_to_word[idx], idx) for idx in np.arange(10) + 1]}')"
   ]
  },
  {
   "cell_type": "code",
   "execution_count": 122,
   "metadata": {
    "id": "bqLbEcDRO3_q"
   },
   "outputs": [],
   "source": [
    "idx_to_word, word_to_idx, word_listing = build_vocabulary(training_set)"
   ]
  },
  {
   "cell_type": "markdown",
   "metadata": {
    "id": "1sZ4uterdxu1"
   },
   "source": [
    "#### Embedding text"
   ]
  },
  {
   "cell_type": "code",
   "execution_count": 123,
   "metadata": {
    "id": "BPsCG_RhO3_q"
   },
   "outputs": [],
   "source": [
    "import gensim\n",
    "import gensim.downloader as gloader"
   ]
  },
  {
   "cell_type": "code",
   "execution_count": 124,
   "metadata": {
    "id": "J262jvDjO3_q"
   },
   "outputs": [],
   "source": [
    "def check_OOV_terms(embedding_model: gensim.models.keyedvectors.KeyedVectors,\n",
    "                    word_listing: List[str]):\n",
    "    \"\"\"\n",
    "    Checks differences between pre-trained embedding model vocabulary\n",
    "    and dataset specific vocabulary in order to highlight out-of-vocabulary terms.\n",
    "\n",
    "    :param embedding_model: pre-trained word embedding model (gensim wrapper)\n",
    "    :param word_listing: dataset specific vocabulary (list)\n",
    "\n",
    "    :return\n",
    "        - list of OOV terms\n",
    "    \"\"\"\n",
    "    embedding_vocabulary = set(embedding_model.key_to_index.keys())\n",
    "    oov = set(word_listing).difference(embedding_vocabulary)\n",
    "    return list(oov)"
   ]
  },
  {
   "cell_type": "code",
   "execution_count": 125,
   "metadata": {
    "id": "Um9Gby5PO3_v"
   },
   "outputs": [],
   "source": [
    "def build_embedding_matrix(embedding_model: gensim.models.keyedvectors.KeyedVectors,\n",
    "                           embedding_dimension: int,\n",
    "                           word_to_idx: Dict[str, int],\n",
    "                           vocab_size: int,\n",
    "                           oov_terms: List[str]) -> np.ndarray:\n",
    "    \"\"\"\n",
    "    Builds the embedding matrix of a specific dataset given a pre-trained word embedding model\n",
    "\n",
    "    :param embedding_model: pre-trained word embedding model (gensim wrapper)\n",
    "    :param word_to_idx: vocabulary map (word -> index) (dict)\n",
    "    :param vocab_size: size of the vocabulary\n",
    "    :param oov_terms: list of OOV terms (list)\n",
    "\n",
    "    :return\n",
    "        - embedding matrix that assigns a high dimensional vector to each word in the dataset specific vocabulary (shape |V| x d)\n",
    "    \"\"\"\n",
    "    embedding_matrix = np.zeros((vocab_size, embedding_dimension), dtype=np.float32)\n",
    "    for word, idx in word_to_idx.items():\n",
    "        try:\n",
    "            embedding_vector = embedding_model[word]\n",
    "        except (KeyError, TypeError):\n",
    "            embedding_vector = np.random.uniform(low=-0.05, high=0.05, size=embedding_dimension)\n",
    "\n",
    "        embedding_matrix[idx] = embedding_vector\n",
    "\n",
    "    return embedding_matrix"
   ]
  },
  {
   "cell_type": "markdown",
   "metadata": {
    "id": "jdj-jy6PfTKp"
   },
   "source": [
    "#### Creating a function that automatizes the embedding process\n",
    "It will be useful in subsequent sections, where grid search will be performed"
   ]
  },
  {
   "cell_type": "code",
   "execution_count": 126,
   "metadata": {
    "id": "gn36OQ1mZdUh"
   },
   "outputs": [],
   "source": [
    "def embed_text(embedding_dimension):\n",
    "    download_path = \"glove-wiki-gigaword-{}\".format(embedding_dimension)\n",
    "    emb_model = gloader.load(download_path)\n",
    "\n",
    "    oov_terms = check_OOV_terms(emb_model, word_listing)\n",
    "    oov_percentage = float(len(oov_terms)) * 100 / len(word_listing)\n",
    "    #print(f\"Total OOV terms: {len(oov_terms)} ({oov_percentage:.2f}%)\")\n",
    "\n",
    "    embedding_matrix = build_embedding_matrix(emb_model, embedding_dimension, word_to_idx, len(word_to_idx), oov_terms)\n",
    "    #print(f\"Embedding matrix shape: {embedding_matrix.shape}\")\n",
    "\n",
    "    return embedding_matrix"
   ]
  },
  {
   "cell_type": "markdown",
   "metadata": {
    "id": "UzYggMVKm-7u"
   },
   "source": [
    "#### Creating an extra column for each dataset to store all the token ids"
   ]
  },
  {
   "cell_type": "code",
   "execution_count": 127,
   "metadata": {
    "colab": {
     "base_uri": "https://localhost:8080/"
    },
    "id": "GNOO6ZDgItPu",
    "outputId": "bc5d9911-e167-4662-bb02-843187bda0b5"
   },
   "outputs": [
    {
     "name": "stdout",
     "output_type": "stream",
     "text": [
      "Original: 1st day pool beautiful sunday ny bad dare go due frigid water temp last 45 min figure prove point\n",
      "Processed indices: [5077, 300, 9095, 1953, 1177, 2872, 433, 2311, 44, 669, 4917, 4764, 4991, 1056, 9363, 2278, 776, 480, 535]\n"
     ]
    }
   ],
   "source": [
    "def preprocess_text(sentence: str, word_to_idx: Dict[str, int]) -> List[int]:\n",
    "    \"\"\"\n",
    "    Maps tokens in a sentence to vocabulary indices, replacing OOV terms with 'UNK'.\n",
    "\n",
    "    :param sentence: input sentence (str)\n",
    "    :param word_to_idx: word-to-index mapping (dict)\n",
    "    :return: list of token indices (list of int)\n",
    "    \"\"\"\n",
    "    tokens = sentence.split()\n",
    "    return [word_to_idx.get(token, word_to_idx['UNK']) for token in tokens]\n",
    "\n",
    "training_set['processed'] = training_set['tweet'].apply(\n",
    "    lambda x: preprocess_text(x, word_to_idx)\n",
    ")\n",
    "\n",
    "# Validation/Test: Preprocess to handle OOV terms\n",
    "validation_set['processed'] = validation_set['tweet'].apply(\n",
    "    lambda x: preprocess_text(x, word_to_idx)\n",
    ")\n",
    "test_set['processed'] = test_set['tweet'].apply(\n",
    "    lambda x: preprocess_text(x, word_to_idx)\n",
    ")\n",
    "\n",
    "# Inspect a test sentence\n",
    "print(\"Original:\", test_set['tweet'].iloc[0])\n",
    "print(\"Processed indices:\", test_set['processed'].iloc[0])\n",
    "#print(\"Embedding for 'UNK':\", embedding_matrix[word_to_idx['UNK']])"
   ]
  },
  {
   "cell_type": "code",
   "execution_count": 128,
   "metadata": {
    "colab": {
     "base_uri": "https://localhost:8080/",
     "height": 458
    },
    "collapsed": true,
    "id": "olw_dH8TaB-L",
    "outputId": "d4cfb515-8a0a-4cc2-d5ff-c7e257ec1b64"
   },
   "outputs": [
    {
     "data": {
      "text/plain": [
       "200002    [1, 2, 3, 4, 5, 6, 7, 8, 9, 10, 11, 12, 13, 14...\n",
       "200003    [27, 28, 29, 30, 31, 32, 33, 34, 35, 36, 11, 9...\n",
       "200006    [40, 41, 42, 43, 44, 45, 46, 47, 48, 49, 50, 5...\n",
       "200007         [55, 56, 57, 58, 59, 55, 56, 60, 61, 25, 26]\n",
       "200008                         [62, 63, 64, 35, 65, 66, 67]\n",
       "                                ...                        \n",
       "203256    [903, 272, 524, 1085, 1709, 1828, 1920, 35, 51...\n",
       "203257    [264, 3538, 14, 991, 1099, 2182, 1363, 6514, 3...\n",
       "203258    [624, 362, 706, 189, 1152, 14, 6402, 371, 6381...\n",
       "203259                                 [35, 51, 2239, 9361]\n",
       "203260       [5279, 9362, 371, 35, 51, 2239, 35, 1920, 836]\n",
       "Name: processed, Length: 2870, dtype: object"
      ]
     },
     "execution_count": 128,
     "metadata": {},
     "output_type": "execute_result"
    }
   ],
   "source": [
    "training_set['processed']"
   ]
  },
  {
   "cell_type": "markdown",
   "metadata": {
    "id": "ElRAMGFAO3_w"
   },
   "source": [
    "## TASK 4"
   ]
  },
  {
   "cell_type": "markdown",
   "metadata": {
    "id": "3v5aNs3fO3_w"
   },
   "source": [
    "### Instructions\n",
    "\n",
    "* **Baseline**: implement a Bidirectional LSTM with a Dense layer on top.\n",
    "* You are **free** to experiment with hyper-parameters to define the baseline model.\n",
    "\n",
    "* **Model 1**: add an additional LSTM layer to the Baseline model."
   ]
  },
  {
   "cell_type": "code",
   "execution_count": 129,
   "metadata": {
    "id": "jnIgIG7CO3_w"
   },
   "outputs": [],
   "source": [
    "from keras.layers import LSTM, Bidirectional, Dense, Embedding, TimeDistributed\n",
    "from keras.models import Sequential\n",
    "from keras_preprocessing.sequence import pad_sequences\n",
    "from sklearn.metrics import f1_score\n",
    "import tensorflow as tf\n",
    "from itertools import product"
   ]
  },
  {
   "cell_type": "markdown",
   "metadata": {
    "id": "BDXkjQa-mw9v"
   },
   "source": [
    "#### Padding sentences to achieve the same length for each of them"
   ]
  },
  {
   "cell_type": "markdown",
   "metadata": {},
   "source": [
    "Since we are working with a bidirectional LSTM it doesn't matter if we add padding at the beginning or at the end of the tweet."
   ]
  },
  {
   "cell_type": "code",
   "execution_count": 130,
   "metadata": {
    "id": "nGR4UQoverNs"
   },
   "outputs": [],
   "source": [
    "max_length = longest_tweet_length  # Define a fixed maximum sequence length\n",
    "train_padded = pad_sequences(training_set['processed'], maxlen=max_length, padding='post')\n",
    "validation_padded = pad_sequences(validation_set['processed'], maxlen=max_length, padding='post')\n",
    "test_padded = pad_sequences(test_set['processed'], maxlen=max_length, padding='post')"
   ]
  },
  {
   "cell_type": "code",
   "execution_count": 131,
   "metadata": {
    "colab": {
     "base_uri": "https://localhost:8080/"
    },
    "id": "gj4aFtbAYUvw",
    "outputId": "9b350a7a-57b2-4556-8cfc-5cfacd7e94af"
   },
   "outputs": [
    {
     "data": {
      "text/plain": [
       "(2870, 43)"
      ]
     },
     "execution_count": 131,
     "metadata": {},
     "output_type": "execute_result"
    }
   ],
   "source": [
    "train_padded.shape"
   ]
  },
  {
   "cell_type": "markdown",
   "metadata": {
    "id": "phhiNowim6la"
   },
   "source": [
    "**Remark**: dynamic padding is not available unless we do not work directly with embeddings, using a generator and yielding pre-padded batches"
   ]
  },
  {
   "cell_type": "markdown",
   "metadata": {
    "id": "nYb7k_4VYHel"
   },
   "source": [
    "#### Defining embedding layer"
   ]
  },
  {
   "cell_type": "code",
   "execution_count": 132,
   "metadata": {
    "id": "x9H1_nySYEmF"
   },
   "outputs": [],
   "source": [
    "vocab_size = len(word_to_idx)\n",
    "\n",
    "def create_embedding_layer(embedding_matrix, embedding_dimension):\n",
    "    embedding_layer = Embedding(input_dim=vocab_size,\n",
    "                                output_dim=embedding_dimension,\n",
    "                                weights=[embedding_matrix],\n",
    "                                mask_zero=False,               # automatically masks padding tokens\n",
    "                                name='encoder_embedding')\n",
    "                                #trainable=False)              # default: learnable params\n",
    "\n",
    "    return embedding_layer"
   ]
  },
  {
   "cell_type": "code",
   "execution_count": 133,
   "metadata": {
    "id": "A9yx4GJ_Dgky"
   },
   "outputs": [],
   "source": [
    "#@title - working directly with the embeddings (dynamic padding available)"
   ]
  },
  {
   "cell_type": "code",
   "execution_count": 134,
   "metadata": {
    "id": "yA_MgEuqO3_w"
   },
   "outputs": [],
   "source": [
    "#@title - working with the Embedding Layer\n",
    "# defining a bidirectional LSTM\n",
    "def create_model(name, embedding_layer, hidden_units=64, activation=\"sigmoid\", extra_LSTM=False):\n",
    "    model = Sequential()\n",
    "    model.add(embedding_layer)\n",
    "    model.add(Bidirectional(LSTM(hidden_units, return_sequences=extra_LSTM)))\n",
    "\n",
    "    # add an extra LSTM layer for Model 1\n",
    "    if extra_LSTM:\n",
    "      model.add(LSTM(hidden_units, return_sequences=False))\n",
    "\n",
    "    model.add(Dense(1, activation=activation))\n",
    "    model.name = name\n",
    "    return model"
   ]
  },
  {
   "cell_type": "markdown",
   "metadata": {
    "id": "hNaNfN8cJqpf"
   },
   "source": [
    "## Task 5\n",
    "Training and evaluating Baseline and Model 1"
   ]
  },
  {
   "cell_type": "code",
   "execution_count": 148,
   "metadata": {},
   "outputs": [],
   "source": [
    "from sklearn.metrics import classification_report\n",
    "from sklearn.model_selection import GridSearchCV, StratifiedKFold\n",
    "from keras.wrappers.scikit_learn import KerasClassifier\n",
    "import keras.metrics"
   ]
  },
  {
   "cell_type": "code",
   "execution_count": 136,
   "metadata": {
    "id": "nsXL6AfoS4qs"
   },
   "outputs": [],
   "source": [
    "models = [\"baseline\", \"model_1\"]\n",
    "\n",
    "#scores = ['accuracy', 'precision_macro', 'recall_macro', 'f1_macro']"
   ]
  },
  {
   "cell_type": "code",
   "execution_count": 149,
   "metadata": {},
   "outputs": [],
   "source": [
    "def build_model_2(embedding_dimension=50, hidden_units=64):\n",
    "    embedding_matrix = embed_text(embedding_dimension)\n",
    "\n",
    "    model = Sequential()\n",
    "    embedding_layer = create_embedding_layer(embedding_matrix, embedding_dimension)\n",
    "    model.add(embedding_layer)\n",
    "    model.add(Bidirectional(LSTM(hidden_units, return_sequences=False)))\n",
    "    model.add(Dense(1, activation='sigmoid'))\n",
    "\n",
    "    model.compile(loss='binary_crossentropy', optimizer='adam', metrics=['accuracy', keras.metrics.Precision(), keras.metrics.Recall()])\n",
    "\n",
    "    return model"
   ]
  },
  {
   "cell_type": "code",
   "execution_count": 151,
   "metadata": {},
   "outputs": [],
   "source": [
    "param_grid = {\n",
    "    'batch_size' : [16, 32, 64],\n",
    "    'embedding_dimension' : [50, 100, 200],\n",
    "    'hidden_units' : [32, 64, 128]\n",
    "}\n",
    "\n",
    "n_splits = 3\n",
    "seeds = [39, 42, 777]\n",
    "random_state = 42"
   ]
  },
  {
   "cell_type": "markdown",
   "metadata": {},
   "source": [
    "Train baseline (i.e. bidirectional LSTM)"
   ]
  },
  {
   "cell_type": "code",
   "execution_count": 152,
   "metadata": {},
   "outputs": [
    {
     "name": "stderr",
     "output_type": "stream",
     "text": [
      "/var/folders/2q/rkhrm2kx3679lsk08jhspf5w0000gn/T/ipykernel_3557/820708145.py:8: DeprecationWarning: KerasClassifier is deprecated, use Sci-Keras (https://github.com/adriangb/scikeras) instead. See https://www.adriangb.com/scikeras/stable/migration.html for help migrating.\n",
      "  model = KerasClassifier(build_fn=build_model_2, epochs=1)\n"
     ]
    },
    {
     "name": "stdout",
     "output_type": "stream",
     "text": [
      "120/120 [==============================] - 2s 8ms/step - loss: 0.6388 - accuracy: 0.6404 - precision_114: 0.6250 - recall_114: 0.2309\n",
      "30/30 [==============================] - 0s 2ms/step\n",
      "120/120 [==============================] - 2s 8ms/step - loss: 0.6204 - accuracy: 0.6404 - precision_115: 0.6080 - recall_115: 0.2599\n",
      "30/30 [==============================] - 0s 2ms/step\n",
      "120/120 [==============================] - 3s 9ms/step - loss: 0.6347 - accuracy: 0.6379 - precision_116: 0.5942 - recall_116: 0.2704\n",
      "30/30 [==============================] - 0s 2ms/step\n",
      "120/120 [==============================] - 3s 11ms/step - loss: 0.6234 - accuracy: 0.6539 - precision_117: 0.6053 - recall_117: 0.3641\n",
      "30/30 [==============================] - 0s 3ms/step\n",
      "120/120 [==============================] - 3s 11ms/step - loss: 0.5985 - accuracy: 0.6696 - precision_118: 0.6302 - recall_118: 0.4024\n",
      "30/30 [==============================] - 0s 3ms/step\n",
      "120/120 [==============================] - 3s 11ms/step - loss: 0.6191 - accuracy: 0.6536 - precision_119: 0.6022 - recall_119: 0.3694\n",
      "30/30 [==============================] - 0s 3ms/step\n",
      "120/120 [==============================] - 4s 19ms/step - loss: 0.6047 - accuracy: 0.6733 - precision_120: 0.6291 - recall_120: 0.4274\n",
      "30/30 [==============================] - 0s 7ms/step\n",
      "120/120 [==============================] - 4s 20ms/step - loss: 0.6010 - accuracy: 0.6764 - precision_121: 0.6427 - recall_121: 0.4129\n",
      "30/30 [==============================] - 0s 7ms/step\n",
      "120/120 [==============================] - 4s 20ms/step - loss: 0.6032 - accuracy: 0.6625 - precision_122: 0.6102 - recall_122: 0.4090\n",
      "30/30 [==============================] - 1s 8ms/step\n",
      "120/120 [==============================] - 3s 11ms/step - loss: 0.6314 - accuracy: 0.6529 - precision_123: 0.6169 - recall_123: 0.3272\n",
      "30/30 [==============================] - 0s 2ms/step\n",
      "120/120 [==============================] - 3s 11ms/step - loss: 0.6099 - accuracy: 0.6654 - precision_124: 0.6705 - recall_124: 0.3061\n",
      "30/30 [==============================] - 0s 2ms/step\n",
      "120/120 [==============================] - 3s 12ms/step - loss: 0.6165 - accuracy: 0.6630 - precision_125: 0.6355 - recall_125: 0.3496\n",
      "30/30 [==============================] - 0s 3ms/step\n",
      "120/120 [==============================] - 3s 14ms/step - loss: 0.6138 - accuracy: 0.6769 - precision_126: 0.6477 - recall_126: 0.4050\n",
      "30/30 [==============================] - 0s 4ms/step\n",
      "120/120 [==============================] - 3s 14ms/step - loss: 0.5896 - accuracy: 0.6832 - precision_127: 0.6652 - recall_127: 0.4037\n",
      "30/30 [==============================] - 0s 4ms/step\n",
      "120/120 [==============================] - 3s 13ms/step - loss: 0.6211 - accuracy: 0.6599 - precision_128: 0.6156 - recall_128: 0.3760\n",
      "30/30 [==============================] - 0s 6ms/step\n",
      "120/120 [==============================] - 5s 23ms/step - loss: 0.5983 - accuracy: 0.6853 - precision_129: 0.6444 - recall_129: 0.4591\n",
      "30/30 [==============================] - 1s 8ms/step\n",
      "120/120 [==============================] - 4s 23ms/step - loss: 0.5828 - accuracy: 0.6984 - precision_130: 0.6698 - recall_130: 0.4710\n",
      "30/30 [==============================] - 1s 9ms/step\n",
      "120/120 [==============================] - 4s 24ms/step - loss: 0.5887 - accuracy: 0.6897 - precision_131: 0.6480 - recall_131: 0.4736\n",
      "30/30 [==============================] - 1s 10ms/step\n",
      "[==================================================] 100.0% 252.1/252.1MB downloaded\n",
      "120/120 [==============================] - 3s 14ms/step - loss: 0.6089 - accuracy: 0.6806 - precision_132: 0.6567 - recall_132: 0.4063\n",
      "30/30 [==============================] - 0s 4ms/step\n",
      "120/120 [==============================] - 3s 14ms/step - loss: 0.5842 - accuracy: 0.6963 - precision_133: 0.6937 - recall_133: 0.4182\n",
      "30/30 [==============================] - 0s 4ms/step\n",
      "120/120 [==============================] - 4s 14ms/step - loss: 0.5918 - accuracy: 0.6834 - precision_134: 0.6597 - recall_134: 0.4142\n",
      "30/30 [==============================] - 0s 4ms/step\n",
      "120/120 [==============================] - 4s 20ms/step - loss: 0.5876 - accuracy: 0.7041 - precision_135: 0.6667 - recall_135: 0.5066\n",
      "30/30 [==============================] - 0s 6ms/step\n",
      "120/120 [==============================] - 4s 20ms/step - loss: 0.5730 - accuracy: 0.7057 - precision_136: 0.6916 - recall_136: 0.4644\n",
      "30/30 [==============================] - 1s 8ms/step\n",
      "120/120 [==============================] - 4s 21ms/step - loss: 0.5775 - accuracy: 0.7027 - precision_137: 0.6753 - recall_137: 0.4802\n",
      "30/30 [==============================] - 0s 7ms/step\n",
      "120/120 [==============================] - 6s 31ms/step - loss: 0.5771 - accuracy: 0.7135 - precision_138: 0.6762 - recall_138: 0.5317\n",
      "30/30 [==============================] - 1s 11ms/step\n"
     ]
    },
    {
     "ename": "KeyboardInterrupt",
     "evalue": "",
     "output_type": "error",
     "traceback": [
      "\u001b[0;31m---------------------------------------------------------------------------\u001b[0m",
      "\u001b[0;31mKeyboardInterrupt\u001b[0m                         Traceback (most recent call last)",
      "Cell \u001b[0;32mIn[152], line 15\u001b[0m\n\u001b[1;32m      8\u001b[0m model \u001b[38;5;241m=\u001b[39m KerasClassifier(build_fn\u001b[38;5;241m=\u001b[39mbuild_model_2, epochs\u001b[38;5;241m=\u001b[39m\u001b[38;5;241m1\u001b[39m)\n\u001b[1;32m      9\u001b[0m clf \u001b[38;5;241m=\u001b[39m GridSearchCV(estimator\u001b[38;5;241m=\u001b[39mmodel, \n\u001b[1;32m     10\u001b[0m                            param_grid\u001b[38;5;241m=\u001b[39mparam_grid,\n\u001b[1;32m     11\u001b[0m                            scoring\u001b[38;5;241m=\u001b[39m\u001b[38;5;124m'\u001b[39m\u001b[38;5;124mf1_macro\u001b[39m\u001b[38;5;124m'\u001b[39m,\n\u001b[1;32m     12\u001b[0m                            return_train_score\u001b[38;5;241m=\u001b[39m\u001b[38;5;28;01mFalse\u001b[39;00m,\n\u001b[1;32m     13\u001b[0m                            cv \u001b[38;5;241m=\u001b[39m skf)\n\u001b[0;32m---> 15\u001b[0m \u001b[43mclf\u001b[49m\u001b[38;5;241;43m.\u001b[39;49m\u001b[43mfit\u001b[49m\u001b[43m(\u001b[49m\u001b[43mtrain_padded\u001b[49m\u001b[43m,\u001b[49m\u001b[43m \u001b[49m\u001b[43mtraining_set\u001b[49m\u001b[43m[\u001b[49m\u001b[38;5;124;43m'\u001b[39;49m\u001b[38;5;124;43mhard_label_task1\u001b[39;49m\u001b[38;5;124;43m'\u001b[39;49m\u001b[43m]\u001b[49m\u001b[43m)\u001b[49m\n\u001b[1;32m     17\u001b[0m best_params \u001b[38;5;241m=\u001b[39m clf\u001b[38;5;241m.\u001b[39mbest_params_\n\u001b[1;32m     18\u001b[0m \u001b[38;5;28mprint\u001b[39m(best_params)\n",
      "File \u001b[0;32m~/anaconda3/lib/python3.10/site-packages/sklearn/model_selection/_search.py:874\u001b[0m, in \u001b[0;36mBaseSearchCV.fit\u001b[0;34m(self, X, y, groups, **fit_params)\u001b[0m\n\u001b[1;32m    868\u001b[0m     results \u001b[38;5;241m=\u001b[39m \u001b[38;5;28mself\u001b[39m\u001b[38;5;241m.\u001b[39m_format_results(\n\u001b[1;32m    869\u001b[0m         all_candidate_params, n_splits, all_out, all_more_results\n\u001b[1;32m    870\u001b[0m     )\n\u001b[1;32m    872\u001b[0m     \u001b[38;5;28;01mreturn\u001b[39;00m results\n\u001b[0;32m--> 874\u001b[0m \u001b[38;5;28;43mself\u001b[39;49m\u001b[38;5;241;43m.\u001b[39;49m\u001b[43m_run_search\u001b[49m\u001b[43m(\u001b[49m\u001b[43mevaluate_candidates\u001b[49m\u001b[43m)\u001b[49m\n\u001b[1;32m    876\u001b[0m \u001b[38;5;66;03m# multimetric is determined here because in the case of a callable\u001b[39;00m\n\u001b[1;32m    877\u001b[0m \u001b[38;5;66;03m# self.scoring the return type is only known after calling\u001b[39;00m\n\u001b[1;32m    878\u001b[0m first_test_score \u001b[38;5;241m=\u001b[39m all_out[\u001b[38;5;241m0\u001b[39m][\u001b[38;5;124m\"\u001b[39m\u001b[38;5;124mtest_scores\u001b[39m\u001b[38;5;124m\"\u001b[39m]\n",
      "File \u001b[0;32m~/anaconda3/lib/python3.10/site-packages/sklearn/model_selection/_search.py:1388\u001b[0m, in \u001b[0;36mGridSearchCV._run_search\u001b[0;34m(self, evaluate_candidates)\u001b[0m\n\u001b[1;32m   1386\u001b[0m \u001b[38;5;28;01mdef\u001b[39;00m \u001b[38;5;21m_run_search\u001b[39m(\u001b[38;5;28mself\u001b[39m, evaluate_candidates):\n\u001b[1;32m   1387\u001b[0m     \u001b[38;5;124;03m\"\"\"Search all candidates in param_grid\"\"\"\u001b[39;00m\n\u001b[0;32m-> 1388\u001b[0m     \u001b[43mevaluate_candidates\u001b[49m\u001b[43m(\u001b[49m\u001b[43mParameterGrid\u001b[49m\u001b[43m(\u001b[49m\u001b[38;5;28;43mself\u001b[39;49m\u001b[38;5;241;43m.\u001b[39;49m\u001b[43mparam_grid\u001b[49m\u001b[43m)\u001b[49m\u001b[43m)\u001b[49m\n",
      "File \u001b[0;32m~/anaconda3/lib/python3.10/site-packages/sklearn/model_selection/_search.py:821\u001b[0m, in \u001b[0;36mBaseSearchCV.fit.<locals>.evaluate_candidates\u001b[0;34m(candidate_params, cv, more_results)\u001b[0m\n\u001b[1;32m    813\u001b[0m \u001b[38;5;28;01mif\u001b[39;00m \u001b[38;5;28mself\u001b[39m\u001b[38;5;241m.\u001b[39mverbose \u001b[38;5;241m>\u001b[39m \u001b[38;5;241m0\u001b[39m:\n\u001b[1;32m    814\u001b[0m     \u001b[38;5;28mprint\u001b[39m(\n\u001b[1;32m    815\u001b[0m         \u001b[38;5;124m\"\u001b[39m\u001b[38;5;124mFitting \u001b[39m\u001b[38;5;132;01m{0}\u001b[39;00m\u001b[38;5;124m folds for each of \u001b[39m\u001b[38;5;132;01m{1}\u001b[39;00m\u001b[38;5;124m candidates,\u001b[39m\u001b[38;5;124m\"\u001b[39m\n\u001b[1;32m    816\u001b[0m         \u001b[38;5;124m\"\u001b[39m\u001b[38;5;124m totalling \u001b[39m\u001b[38;5;132;01m{2}\u001b[39;00m\u001b[38;5;124m fits\u001b[39m\u001b[38;5;124m\"\u001b[39m\u001b[38;5;241m.\u001b[39mformat(\n\u001b[1;32m    817\u001b[0m             n_splits, n_candidates, n_candidates \u001b[38;5;241m*\u001b[39m n_splits\n\u001b[1;32m    818\u001b[0m         )\n\u001b[1;32m    819\u001b[0m     )\n\u001b[0;32m--> 821\u001b[0m out \u001b[38;5;241m=\u001b[39m \u001b[43mparallel\u001b[49m\u001b[43m(\u001b[49m\n\u001b[1;32m    822\u001b[0m \u001b[43m    \u001b[49m\u001b[43mdelayed\u001b[49m\u001b[43m(\u001b[49m\u001b[43m_fit_and_score\u001b[49m\u001b[43m)\u001b[49m\u001b[43m(\u001b[49m\n\u001b[1;32m    823\u001b[0m \u001b[43m        \u001b[49m\u001b[43mclone\u001b[49m\u001b[43m(\u001b[49m\u001b[43mbase_estimator\u001b[49m\u001b[43m)\u001b[49m\u001b[43m,\u001b[49m\n\u001b[1;32m    824\u001b[0m \u001b[43m        \u001b[49m\u001b[43mX\u001b[49m\u001b[43m,\u001b[49m\n\u001b[1;32m    825\u001b[0m \u001b[43m        \u001b[49m\u001b[43my\u001b[49m\u001b[43m,\u001b[49m\n\u001b[1;32m    826\u001b[0m \u001b[43m        \u001b[49m\u001b[43mtrain\u001b[49m\u001b[38;5;241;43m=\u001b[39;49m\u001b[43mtrain\u001b[49m\u001b[43m,\u001b[49m\n\u001b[1;32m    827\u001b[0m \u001b[43m        \u001b[49m\u001b[43mtest\u001b[49m\u001b[38;5;241;43m=\u001b[39;49m\u001b[43mtest\u001b[49m\u001b[43m,\u001b[49m\n\u001b[1;32m    828\u001b[0m \u001b[43m        \u001b[49m\u001b[43mparameters\u001b[49m\u001b[38;5;241;43m=\u001b[39;49m\u001b[43mparameters\u001b[49m\u001b[43m,\u001b[49m\n\u001b[1;32m    829\u001b[0m \u001b[43m        \u001b[49m\u001b[43msplit_progress\u001b[49m\u001b[38;5;241;43m=\u001b[39;49m\u001b[43m(\u001b[49m\u001b[43msplit_idx\u001b[49m\u001b[43m,\u001b[49m\u001b[43m \u001b[49m\u001b[43mn_splits\u001b[49m\u001b[43m)\u001b[49m\u001b[43m,\u001b[49m\n\u001b[1;32m    830\u001b[0m \u001b[43m        \u001b[49m\u001b[43mcandidate_progress\u001b[49m\u001b[38;5;241;43m=\u001b[39;49m\u001b[43m(\u001b[49m\u001b[43mcand_idx\u001b[49m\u001b[43m,\u001b[49m\u001b[43m \u001b[49m\u001b[43mn_candidates\u001b[49m\u001b[43m)\u001b[49m\u001b[43m,\u001b[49m\n\u001b[1;32m    831\u001b[0m \u001b[43m        \u001b[49m\u001b[38;5;241;43m*\u001b[39;49m\u001b[38;5;241;43m*\u001b[39;49m\u001b[43mfit_and_score_kwargs\u001b[49m\u001b[43m,\u001b[49m\n\u001b[1;32m    832\u001b[0m \u001b[43m    \u001b[49m\u001b[43m)\u001b[49m\n\u001b[1;32m    833\u001b[0m \u001b[43m    \u001b[49m\u001b[38;5;28;43;01mfor\u001b[39;49;00m\u001b[43m \u001b[49m\u001b[43m(\u001b[49m\u001b[43mcand_idx\u001b[49m\u001b[43m,\u001b[49m\u001b[43m \u001b[49m\u001b[43mparameters\u001b[49m\u001b[43m)\u001b[49m\u001b[43m,\u001b[49m\u001b[43m \u001b[49m\u001b[43m(\u001b[49m\u001b[43msplit_idx\u001b[49m\u001b[43m,\u001b[49m\u001b[43m \u001b[49m\u001b[43m(\u001b[49m\u001b[43mtrain\u001b[49m\u001b[43m,\u001b[49m\u001b[43m \u001b[49m\u001b[43mtest\u001b[49m\u001b[43m)\u001b[49m\u001b[43m)\u001b[49m\u001b[43m \u001b[49m\u001b[38;5;129;43;01min\u001b[39;49;00m\u001b[43m \u001b[49m\u001b[43mproduct\u001b[49m\u001b[43m(\u001b[49m\n\u001b[1;32m    834\u001b[0m \u001b[43m        \u001b[49m\u001b[38;5;28;43menumerate\u001b[39;49m\u001b[43m(\u001b[49m\u001b[43mcandidate_params\u001b[49m\u001b[43m)\u001b[49m\u001b[43m,\u001b[49m\u001b[43m \u001b[49m\u001b[38;5;28;43menumerate\u001b[39;49m\u001b[43m(\u001b[49m\u001b[43mcv\u001b[49m\u001b[38;5;241;43m.\u001b[39;49m\u001b[43msplit\u001b[49m\u001b[43m(\u001b[49m\u001b[43mX\u001b[49m\u001b[43m,\u001b[49m\u001b[43m \u001b[49m\u001b[43my\u001b[49m\u001b[43m,\u001b[49m\u001b[43m \u001b[49m\u001b[43mgroups\u001b[49m\u001b[43m)\u001b[49m\u001b[43m)\u001b[49m\n\u001b[1;32m    835\u001b[0m \u001b[43m    \u001b[49m\u001b[43m)\u001b[49m\n\u001b[1;32m    836\u001b[0m \u001b[43m\u001b[49m\u001b[43m)\u001b[49m\n\u001b[1;32m    838\u001b[0m \u001b[38;5;28;01mif\u001b[39;00m \u001b[38;5;28mlen\u001b[39m(out) \u001b[38;5;241m<\u001b[39m \u001b[38;5;241m1\u001b[39m:\n\u001b[1;32m    839\u001b[0m     \u001b[38;5;28;01mraise\u001b[39;00m \u001b[38;5;167;01mValueError\u001b[39;00m(\n\u001b[1;32m    840\u001b[0m         \u001b[38;5;124m\"\u001b[39m\u001b[38;5;124mNo fits were performed. \u001b[39m\u001b[38;5;124m\"\u001b[39m\n\u001b[1;32m    841\u001b[0m         \u001b[38;5;124m\"\u001b[39m\u001b[38;5;124mWas the CV iterator empty? \u001b[39m\u001b[38;5;124m\"\u001b[39m\n\u001b[1;32m    842\u001b[0m         \u001b[38;5;124m\"\u001b[39m\u001b[38;5;124mWere there no candidates?\u001b[39m\u001b[38;5;124m\"\u001b[39m\n\u001b[1;32m    843\u001b[0m     )\n",
      "File \u001b[0;32m~/anaconda3/lib/python3.10/site-packages/sklearn/utils/parallel.py:63\u001b[0m, in \u001b[0;36mParallel.__call__\u001b[0;34m(self, iterable)\u001b[0m\n\u001b[1;32m     58\u001b[0m config \u001b[38;5;241m=\u001b[39m get_config()\n\u001b[1;32m     59\u001b[0m iterable_with_config \u001b[38;5;241m=\u001b[39m (\n\u001b[1;32m     60\u001b[0m     (_with_config(delayed_func, config), args, kwargs)\n\u001b[1;32m     61\u001b[0m     \u001b[38;5;28;01mfor\u001b[39;00m delayed_func, args, kwargs \u001b[38;5;129;01min\u001b[39;00m iterable\n\u001b[1;32m     62\u001b[0m )\n\u001b[0;32m---> 63\u001b[0m \u001b[38;5;28;01mreturn\u001b[39;00m \u001b[38;5;28;43msuper\u001b[39;49m\u001b[43m(\u001b[49m\u001b[43m)\u001b[49m\u001b[38;5;241;43m.\u001b[39;49m\u001b[38;5;21;43m__call__\u001b[39;49m\u001b[43m(\u001b[49m\u001b[43miterable_with_config\u001b[49m\u001b[43m)\u001b[49m\n",
      "File \u001b[0;32m~/anaconda3/lib/python3.10/site-packages/joblib/parallel.py:1051\u001b[0m, in \u001b[0;36mParallel.__call__\u001b[0;34m(self, iterable)\u001b[0m\n\u001b[1;32m   1048\u001b[0m \u001b[38;5;28;01mif\u001b[39;00m \u001b[38;5;28mself\u001b[39m\u001b[38;5;241m.\u001b[39mdispatch_one_batch(iterator):\n\u001b[1;32m   1049\u001b[0m     \u001b[38;5;28mself\u001b[39m\u001b[38;5;241m.\u001b[39m_iterating \u001b[38;5;241m=\u001b[39m \u001b[38;5;28mself\u001b[39m\u001b[38;5;241m.\u001b[39m_original_iterator \u001b[38;5;129;01mis\u001b[39;00m \u001b[38;5;129;01mnot\u001b[39;00m \u001b[38;5;28;01mNone\u001b[39;00m\n\u001b[0;32m-> 1051\u001b[0m \u001b[38;5;28;01mwhile\u001b[39;00m \u001b[38;5;28;43mself\u001b[39;49m\u001b[38;5;241;43m.\u001b[39;49m\u001b[43mdispatch_one_batch\u001b[49m\u001b[43m(\u001b[49m\u001b[43miterator\u001b[49m\u001b[43m)\u001b[49m:\n\u001b[1;32m   1052\u001b[0m     \u001b[38;5;28;01mpass\u001b[39;00m\n\u001b[1;32m   1054\u001b[0m \u001b[38;5;28;01mif\u001b[39;00m pre_dispatch \u001b[38;5;241m==\u001b[39m \u001b[38;5;124m\"\u001b[39m\u001b[38;5;124mall\u001b[39m\u001b[38;5;124m\"\u001b[39m \u001b[38;5;129;01mor\u001b[39;00m n_jobs \u001b[38;5;241m==\u001b[39m \u001b[38;5;241m1\u001b[39m:\n\u001b[1;32m   1055\u001b[0m     \u001b[38;5;66;03m# The iterable was consumed all at once by the above for loop.\u001b[39;00m\n\u001b[1;32m   1056\u001b[0m     \u001b[38;5;66;03m# No need to wait for async callbacks to trigger to\u001b[39;00m\n\u001b[1;32m   1057\u001b[0m     \u001b[38;5;66;03m# consumption.\u001b[39;00m\n",
      "File \u001b[0;32m~/anaconda3/lib/python3.10/site-packages/joblib/parallel.py:864\u001b[0m, in \u001b[0;36mParallel.dispatch_one_batch\u001b[0;34m(self, iterator)\u001b[0m\n\u001b[1;32m    862\u001b[0m     \u001b[38;5;28;01mreturn\u001b[39;00m \u001b[38;5;28;01mFalse\u001b[39;00m\n\u001b[1;32m    863\u001b[0m \u001b[38;5;28;01melse\u001b[39;00m:\n\u001b[0;32m--> 864\u001b[0m     \u001b[38;5;28;43mself\u001b[39;49m\u001b[38;5;241;43m.\u001b[39;49m\u001b[43m_dispatch\u001b[49m\u001b[43m(\u001b[49m\u001b[43mtasks\u001b[49m\u001b[43m)\u001b[49m\n\u001b[1;32m    865\u001b[0m     \u001b[38;5;28;01mreturn\u001b[39;00m \u001b[38;5;28;01mTrue\u001b[39;00m\n",
      "File \u001b[0;32m~/anaconda3/lib/python3.10/site-packages/joblib/parallel.py:782\u001b[0m, in \u001b[0;36mParallel._dispatch\u001b[0;34m(self, batch)\u001b[0m\n\u001b[1;32m    780\u001b[0m \u001b[38;5;28;01mwith\u001b[39;00m \u001b[38;5;28mself\u001b[39m\u001b[38;5;241m.\u001b[39m_lock:\n\u001b[1;32m    781\u001b[0m     job_idx \u001b[38;5;241m=\u001b[39m \u001b[38;5;28mlen\u001b[39m(\u001b[38;5;28mself\u001b[39m\u001b[38;5;241m.\u001b[39m_jobs)\n\u001b[0;32m--> 782\u001b[0m     job \u001b[38;5;241m=\u001b[39m \u001b[38;5;28;43mself\u001b[39;49m\u001b[38;5;241;43m.\u001b[39;49m\u001b[43m_backend\u001b[49m\u001b[38;5;241;43m.\u001b[39;49m\u001b[43mapply_async\u001b[49m\u001b[43m(\u001b[49m\u001b[43mbatch\u001b[49m\u001b[43m,\u001b[49m\u001b[43m \u001b[49m\u001b[43mcallback\u001b[49m\u001b[38;5;241;43m=\u001b[39;49m\u001b[43mcb\u001b[49m\u001b[43m)\u001b[49m\n\u001b[1;32m    783\u001b[0m     \u001b[38;5;66;03m# A job can complete so quickly than its callback is\u001b[39;00m\n\u001b[1;32m    784\u001b[0m     \u001b[38;5;66;03m# called before we get here, causing self._jobs to\u001b[39;00m\n\u001b[1;32m    785\u001b[0m     \u001b[38;5;66;03m# grow. To ensure correct results ordering, .insert is\u001b[39;00m\n\u001b[1;32m    786\u001b[0m     \u001b[38;5;66;03m# used (rather than .append) in the following line\u001b[39;00m\n\u001b[1;32m    787\u001b[0m     \u001b[38;5;28mself\u001b[39m\u001b[38;5;241m.\u001b[39m_jobs\u001b[38;5;241m.\u001b[39minsert(job_idx, job)\n",
      "File \u001b[0;32m~/anaconda3/lib/python3.10/site-packages/joblib/_parallel_backends.py:208\u001b[0m, in \u001b[0;36mSequentialBackend.apply_async\u001b[0;34m(self, func, callback)\u001b[0m\n\u001b[1;32m    206\u001b[0m \u001b[38;5;28;01mdef\u001b[39;00m \u001b[38;5;21mapply_async\u001b[39m(\u001b[38;5;28mself\u001b[39m, func, callback\u001b[38;5;241m=\u001b[39m\u001b[38;5;28;01mNone\u001b[39;00m):\n\u001b[1;32m    207\u001b[0m     \u001b[38;5;124;03m\"\"\"Schedule a func to be run\"\"\"\u001b[39;00m\n\u001b[0;32m--> 208\u001b[0m     result \u001b[38;5;241m=\u001b[39m \u001b[43mImmediateResult\u001b[49m\u001b[43m(\u001b[49m\u001b[43mfunc\u001b[49m\u001b[43m)\u001b[49m\n\u001b[1;32m    209\u001b[0m     \u001b[38;5;28;01mif\u001b[39;00m callback:\n\u001b[1;32m    210\u001b[0m         callback(result)\n",
      "File \u001b[0;32m~/anaconda3/lib/python3.10/site-packages/joblib/_parallel_backends.py:572\u001b[0m, in \u001b[0;36mImmediateResult.__init__\u001b[0;34m(self, batch)\u001b[0m\n\u001b[1;32m    569\u001b[0m \u001b[38;5;28;01mdef\u001b[39;00m \u001b[38;5;21m__init__\u001b[39m(\u001b[38;5;28mself\u001b[39m, batch):\n\u001b[1;32m    570\u001b[0m     \u001b[38;5;66;03m# Don't delay the application, to avoid keeping the input\u001b[39;00m\n\u001b[1;32m    571\u001b[0m     \u001b[38;5;66;03m# arguments in memory\u001b[39;00m\n\u001b[0;32m--> 572\u001b[0m     \u001b[38;5;28mself\u001b[39m\u001b[38;5;241m.\u001b[39mresults \u001b[38;5;241m=\u001b[39m \u001b[43mbatch\u001b[49m\u001b[43m(\u001b[49m\u001b[43m)\u001b[49m\n",
      "File \u001b[0;32m~/anaconda3/lib/python3.10/site-packages/joblib/parallel.py:263\u001b[0m, in \u001b[0;36mBatchedCalls.__call__\u001b[0;34m(self)\u001b[0m\n\u001b[1;32m    259\u001b[0m \u001b[38;5;28;01mdef\u001b[39;00m \u001b[38;5;21m__call__\u001b[39m(\u001b[38;5;28mself\u001b[39m):\n\u001b[1;32m    260\u001b[0m     \u001b[38;5;66;03m# Set the default nested backend to self._backend but do not set the\u001b[39;00m\n\u001b[1;32m    261\u001b[0m     \u001b[38;5;66;03m# change the default number of processes to -1\u001b[39;00m\n\u001b[1;32m    262\u001b[0m     \u001b[38;5;28;01mwith\u001b[39;00m parallel_backend(\u001b[38;5;28mself\u001b[39m\u001b[38;5;241m.\u001b[39m_backend, n_jobs\u001b[38;5;241m=\u001b[39m\u001b[38;5;28mself\u001b[39m\u001b[38;5;241m.\u001b[39m_n_jobs):\n\u001b[0;32m--> 263\u001b[0m         \u001b[38;5;28;01mreturn\u001b[39;00m [func(\u001b[38;5;241m*\u001b[39margs, \u001b[38;5;241m*\u001b[39m\u001b[38;5;241m*\u001b[39mkwargs)\n\u001b[1;32m    264\u001b[0m                 \u001b[38;5;28;01mfor\u001b[39;00m func, args, kwargs \u001b[38;5;129;01min\u001b[39;00m \u001b[38;5;28mself\u001b[39m\u001b[38;5;241m.\u001b[39mitems]\n",
      "File \u001b[0;32m~/anaconda3/lib/python3.10/site-packages/joblib/parallel.py:263\u001b[0m, in \u001b[0;36m<listcomp>\u001b[0;34m(.0)\u001b[0m\n\u001b[1;32m    259\u001b[0m \u001b[38;5;28;01mdef\u001b[39;00m \u001b[38;5;21m__call__\u001b[39m(\u001b[38;5;28mself\u001b[39m):\n\u001b[1;32m    260\u001b[0m     \u001b[38;5;66;03m# Set the default nested backend to self._backend but do not set the\u001b[39;00m\n\u001b[1;32m    261\u001b[0m     \u001b[38;5;66;03m# change the default number of processes to -1\u001b[39;00m\n\u001b[1;32m    262\u001b[0m     \u001b[38;5;28;01mwith\u001b[39;00m parallel_backend(\u001b[38;5;28mself\u001b[39m\u001b[38;5;241m.\u001b[39m_backend, n_jobs\u001b[38;5;241m=\u001b[39m\u001b[38;5;28mself\u001b[39m\u001b[38;5;241m.\u001b[39m_n_jobs):\n\u001b[0;32m--> 263\u001b[0m         \u001b[38;5;28;01mreturn\u001b[39;00m [\u001b[43mfunc\u001b[49m\u001b[43m(\u001b[49m\u001b[38;5;241;43m*\u001b[39;49m\u001b[43margs\u001b[49m\u001b[43m,\u001b[49m\u001b[43m \u001b[49m\u001b[38;5;241;43m*\u001b[39;49m\u001b[38;5;241;43m*\u001b[39;49m\u001b[43mkwargs\u001b[49m\u001b[43m)\u001b[49m\n\u001b[1;32m    264\u001b[0m                 \u001b[38;5;28;01mfor\u001b[39;00m func, args, kwargs \u001b[38;5;129;01min\u001b[39;00m \u001b[38;5;28mself\u001b[39m\u001b[38;5;241m.\u001b[39mitems]\n",
      "File \u001b[0;32m~/anaconda3/lib/python3.10/site-packages/sklearn/utils/parallel.py:123\u001b[0m, in \u001b[0;36m_FuncWrapper.__call__\u001b[0;34m(self, *args, **kwargs)\u001b[0m\n\u001b[1;32m    121\u001b[0m     config \u001b[38;5;241m=\u001b[39m {}\n\u001b[1;32m    122\u001b[0m \u001b[38;5;28;01mwith\u001b[39;00m config_context(\u001b[38;5;241m*\u001b[39m\u001b[38;5;241m*\u001b[39mconfig):\n\u001b[0;32m--> 123\u001b[0m     \u001b[38;5;28;01mreturn\u001b[39;00m \u001b[38;5;28;43mself\u001b[39;49m\u001b[38;5;241;43m.\u001b[39;49m\u001b[43mfunction\u001b[49m\u001b[43m(\u001b[49m\u001b[38;5;241;43m*\u001b[39;49m\u001b[43margs\u001b[49m\u001b[43m,\u001b[49m\u001b[43m \u001b[49m\u001b[38;5;241;43m*\u001b[39;49m\u001b[38;5;241;43m*\u001b[39;49m\u001b[43mkwargs\u001b[49m\u001b[43m)\u001b[49m\n",
      "File \u001b[0;32m~/anaconda3/lib/python3.10/site-packages/sklearn/model_selection/_validation.py:686\u001b[0m, in \u001b[0;36m_fit_and_score\u001b[0;34m(estimator, X, y, scorer, train, test, verbose, parameters, fit_params, return_train_score, return_parameters, return_n_test_samples, return_times, return_estimator, split_progress, candidate_progress, error_score)\u001b[0m\n\u001b[1;32m    684\u001b[0m         estimator\u001b[38;5;241m.\u001b[39mfit(X_train, \u001b[38;5;241m*\u001b[39m\u001b[38;5;241m*\u001b[39mfit_params)\n\u001b[1;32m    685\u001b[0m     \u001b[38;5;28;01melse\u001b[39;00m:\n\u001b[0;32m--> 686\u001b[0m         \u001b[43mestimator\u001b[49m\u001b[38;5;241;43m.\u001b[39;49m\u001b[43mfit\u001b[49m\u001b[43m(\u001b[49m\u001b[43mX_train\u001b[49m\u001b[43m,\u001b[49m\u001b[43m \u001b[49m\u001b[43my_train\u001b[49m\u001b[43m,\u001b[49m\u001b[43m \u001b[49m\u001b[38;5;241;43m*\u001b[39;49m\u001b[38;5;241;43m*\u001b[39;49m\u001b[43mfit_params\u001b[49m\u001b[43m)\u001b[49m\n\u001b[1;32m    688\u001b[0m \u001b[38;5;28;01mexcept\u001b[39;00m \u001b[38;5;167;01mException\u001b[39;00m:\n\u001b[1;32m    689\u001b[0m     \u001b[38;5;66;03m# Note fit time as time until error\u001b[39;00m\n\u001b[1;32m    690\u001b[0m     fit_time \u001b[38;5;241m=\u001b[39m time\u001b[38;5;241m.\u001b[39mtime() \u001b[38;5;241m-\u001b[39m start_time\n",
      "File \u001b[0;32m~/anaconda3/lib/python3.10/site-packages/keras/wrappers/scikit_learn.py:248\u001b[0m, in \u001b[0;36mKerasClassifier.fit\u001b[0;34m(self, x, y, **kwargs)\u001b[0m\n\u001b[1;32m    246\u001b[0m     \u001b[38;5;28;01mraise\u001b[39;00m \u001b[38;5;167;01mValueError\u001b[39;00m(\u001b[38;5;124m\"\u001b[39m\u001b[38;5;124mInvalid shape for y: \u001b[39m\u001b[38;5;124m\"\u001b[39m \u001b[38;5;241m+\u001b[39m \u001b[38;5;28mstr\u001b[39m(y\u001b[38;5;241m.\u001b[39mshape))\n\u001b[1;32m    247\u001b[0m \u001b[38;5;28mself\u001b[39m\u001b[38;5;241m.\u001b[39mn_classes_ \u001b[38;5;241m=\u001b[39m \u001b[38;5;28mlen\u001b[39m(\u001b[38;5;28mself\u001b[39m\u001b[38;5;241m.\u001b[39mclasses_)\n\u001b[0;32m--> 248\u001b[0m \u001b[38;5;28;01mreturn\u001b[39;00m \u001b[38;5;28;43msuper\u001b[39;49m\u001b[43m(\u001b[49m\u001b[43m)\u001b[49m\u001b[38;5;241;43m.\u001b[39;49m\u001b[43mfit\u001b[49m\u001b[43m(\u001b[49m\u001b[43mx\u001b[49m\u001b[43m,\u001b[49m\u001b[43m \u001b[49m\u001b[43my\u001b[49m\u001b[43m,\u001b[49m\u001b[43m \u001b[49m\u001b[38;5;241;43m*\u001b[39;49m\u001b[38;5;241;43m*\u001b[39;49m\u001b[43mkwargs\u001b[49m\u001b[43m)\u001b[49m\n",
      "File \u001b[0;32m~/anaconda3/lib/python3.10/site-packages/keras/wrappers/scikit_learn.py:164\u001b[0m, in \u001b[0;36mBaseWrapper.fit\u001b[0;34m(self, x, y, **kwargs)\u001b[0m\n\u001b[1;32m    160\u001b[0m     \u001b[38;5;28mself\u001b[39m\u001b[38;5;241m.\u001b[39mmodel \u001b[38;5;241m=\u001b[39m \u001b[38;5;28mself\u001b[39m\u001b[38;5;241m.\u001b[39mbuild_fn(\n\u001b[1;32m    161\u001b[0m         \u001b[38;5;241m*\u001b[39m\u001b[38;5;241m*\u001b[39m\u001b[38;5;28mself\u001b[39m\u001b[38;5;241m.\u001b[39mfilter_sk_params(\u001b[38;5;28mself\u001b[39m\u001b[38;5;241m.\u001b[39mbuild_fn\u001b[38;5;241m.\u001b[39m\u001b[38;5;21m__call__\u001b[39m)\n\u001b[1;32m    162\u001b[0m     )\n\u001b[1;32m    163\u001b[0m \u001b[38;5;28;01melse\u001b[39;00m:\n\u001b[0;32m--> 164\u001b[0m     \u001b[38;5;28mself\u001b[39m\u001b[38;5;241m.\u001b[39mmodel \u001b[38;5;241m=\u001b[39m \u001b[38;5;28;43mself\u001b[39;49m\u001b[38;5;241;43m.\u001b[39;49m\u001b[43mbuild_fn\u001b[49m\u001b[43m(\u001b[49m\u001b[38;5;241;43m*\u001b[39;49m\u001b[38;5;241;43m*\u001b[39;49m\u001b[38;5;28;43mself\u001b[39;49m\u001b[38;5;241;43m.\u001b[39;49m\u001b[43mfilter_sk_params\u001b[49m\u001b[43m(\u001b[49m\u001b[38;5;28;43mself\u001b[39;49m\u001b[38;5;241;43m.\u001b[39;49m\u001b[43mbuild_fn\u001b[49m\u001b[43m)\u001b[49m\u001b[43m)\u001b[49m\n\u001b[1;32m    166\u001b[0m \u001b[38;5;28;01mif\u001b[39;00m (\n\u001b[1;32m    167\u001b[0m     losses\u001b[38;5;241m.\u001b[39mis_categorical_crossentropy(\u001b[38;5;28mself\u001b[39m\u001b[38;5;241m.\u001b[39mmodel\u001b[38;5;241m.\u001b[39mloss)\n\u001b[1;32m    168\u001b[0m     \u001b[38;5;129;01mand\u001b[39;00m \u001b[38;5;28mlen\u001b[39m(y\u001b[38;5;241m.\u001b[39mshape) \u001b[38;5;241m!=\u001b[39m \u001b[38;5;241m2\u001b[39m\n\u001b[1;32m    169\u001b[0m ):\n\u001b[1;32m    170\u001b[0m     y \u001b[38;5;241m=\u001b[39m to_categorical(y)\n",
      "Cell \u001b[0;32mIn[149], line 2\u001b[0m, in \u001b[0;36mbuild_model_2\u001b[0;34m(embedding_dimension, hidden_units)\u001b[0m\n\u001b[1;32m      1\u001b[0m \u001b[38;5;28;01mdef\u001b[39;00m \u001b[38;5;21mbuild_model_2\u001b[39m(embedding_dimension\u001b[38;5;241m=\u001b[39m\u001b[38;5;241m50\u001b[39m, hidden_units\u001b[38;5;241m=\u001b[39m\u001b[38;5;241m64\u001b[39m):\n\u001b[0;32m----> 2\u001b[0m     embedding_matrix \u001b[38;5;241m=\u001b[39m \u001b[43membed_text\u001b[49m\u001b[43m(\u001b[49m\u001b[43membedding_dimension\u001b[49m\u001b[43m)\u001b[49m\n\u001b[1;32m      4\u001b[0m     model \u001b[38;5;241m=\u001b[39m Sequential()\n\u001b[1;32m      5\u001b[0m     embedding_layer \u001b[38;5;241m=\u001b[39m create_embedding_layer(embedding_matrix, embedding_dimension)\n",
      "Cell \u001b[0;32mIn[126], line 3\u001b[0m, in \u001b[0;36membed_text\u001b[0;34m(embedding_dimension)\u001b[0m\n\u001b[1;32m      1\u001b[0m \u001b[38;5;28;01mdef\u001b[39;00m \u001b[38;5;21membed_text\u001b[39m(embedding_dimension):\n\u001b[1;32m      2\u001b[0m     download_path \u001b[38;5;241m=\u001b[39m \u001b[38;5;124m\"\u001b[39m\u001b[38;5;124mglove-wiki-gigaword-\u001b[39m\u001b[38;5;132;01m{}\u001b[39;00m\u001b[38;5;124m\"\u001b[39m\u001b[38;5;241m.\u001b[39mformat(embedding_dimension)\n\u001b[0;32m----> 3\u001b[0m     emb_model \u001b[38;5;241m=\u001b[39m \u001b[43mgloader\u001b[49m\u001b[38;5;241;43m.\u001b[39;49m\u001b[43mload\u001b[49m\u001b[43m(\u001b[49m\u001b[43mdownload_path\u001b[49m\u001b[43m)\u001b[49m\n\u001b[1;32m      5\u001b[0m     oov_terms \u001b[38;5;241m=\u001b[39m check_OOV_terms(emb_model, word_listing)\n\u001b[1;32m      6\u001b[0m     oov_percentage \u001b[38;5;241m=\u001b[39m \u001b[38;5;28mfloat\u001b[39m(\u001b[38;5;28mlen\u001b[39m(oov_terms)) \u001b[38;5;241m*\u001b[39m \u001b[38;5;241m100\u001b[39m \u001b[38;5;241m/\u001b[39m \u001b[38;5;28mlen\u001b[39m(word_listing)\n",
      "File \u001b[0;32m~/anaconda3/lib/python3.10/site-packages/gensim/downloader.py:503\u001b[0m, in \u001b[0;36mload\u001b[0;34m(name, return_path)\u001b[0m\n\u001b[1;32m    501\u001b[0m sys\u001b[38;5;241m.\u001b[39mpath\u001b[38;5;241m.\u001b[39minsert(\u001b[38;5;241m0\u001b[39m, BASE_DIR)\n\u001b[1;32m    502\u001b[0m module \u001b[38;5;241m=\u001b[39m \u001b[38;5;28m__import__\u001b[39m(name)\n\u001b[0;32m--> 503\u001b[0m \u001b[38;5;28;01mreturn\u001b[39;00m \u001b[43mmodule\u001b[49m\u001b[38;5;241;43m.\u001b[39;49m\u001b[43mload_data\u001b[49m\u001b[43m(\u001b[49m\u001b[43m)\u001b[49m\n",
      "File \u001b[0;32m~/gensim-data/glove-wiki-gigaword-200/__init__.py:8\u001b[0m, in \u001b[0;36mload_data\u001b[0;34m()\u001b[0m\n\u001b[1;32m      6\u001b[0m \u001b[38;5;28;01mdef\u001b[39;00m \u001b[38;5;21mload_data\u001b[39m():\n\u001b[1;32m      7\u001b[0m     path \u001b[38;5;241m=\u001b[39m os\u001b[38;5;241m.\u001b[39mpath\u001b[38;5;241m.\u001b[39mjoin(base_dir, \u001b[38;5;124m'\u001b[39m\u001b[38;5;124mglove-wiki-gigaword-200\u001b[39m\u001b[38;5;124m'\u001b[39m, \u001b[38;5;124m'\u001b[39m\u001b[38;5;124mglove-wiki-gigaword-200.gz\u001b[39m\u001b[38;5;124m'\u001b[39m)\n\u001b[0;32m----> 8\u001b[0m     model \u001b[38;5;241m=\u001b[39m \u001b[43mKeyedVectors\u001b[49m\u001b[38;5;241;43m.\u001b[39;49m\u001b[43mload_word2vec_format\u001b[49m\u001b[43m(\u001b[49m\u001b[43mpath\u001b[49m\u001b[43m)\u001b[49m\n\u001b[1;32m      9\u001b[0m     \u001b[38;5;28;01mreturn\u001b[39;00m model\n",
      "File \u001b[0;32m~/anaconda3/lib/python3.10/site-packages/gensim/models/keyedvectors.py:1719\u001b[0m, in \u001b[0;36mKeyedVectors.load_word2vec_format\u001b[0;34m(cls, fname, fvocab, binary, encoding, unicode_errors, limit, datatype, no_header)\u001b[0m\n\u001b[1;32m   1672\u001b[0m \u001b[38;5;129m@classmethod\u001b[39m\n\u001b[1;32m   1673\u001b[0m \u001b[38;5;28;01mdef\u001b[39;00m \u001b[38;5;21mload_word2vec_format\u001b[39m(\n\u001b[1;32m   1674\u001b[0m         \u001b[38;5;28mcls\u001b[39m, fname, fvocab\u001b[38;5;241m=\u001b[39m\u001b[38;5;28;01mNone\u001b[39;00m, binary\u001b[38;5;241m=\u001b[39m\u001b[38;5;28;01mFalse\u001b[39;00m, encoding\u001b[38;5;241m=\u001b[39m\u001b[38;5;124m'\u001b[39m\u001b[38;5;124mutf8\u001b[39m\u001b[38;5;124m'\u001b[39m, unicode_errors\u001b[38;5;241m=\u001b[39m\u001b[38;5;124m'\u001b[39m\u001b[38;5;124mstrict\u001b[39m\u001b[38;5;124m'\u001b[39m,\n\u001b[1;32m   1675\u001b[0m         limit\u001b[38;5;241m=\u001b[39m\u001b[38;5;28;01mNone\u001b[39;00m, datatype\u001b[38;5;241m=\u001b[39mREAL, no_header\u001b[38;5;241m=\u001b[39m\u001b[38;5;28;01mFalse\u001b[39;00m,\n\u001b[1;32m   1676\u001b[0m     ):\n\u001b[1;32m   1677\u001b[0m     \u001b[38;5;124;03m\"\"\"Load KeyedVectors from a file produced by the original C word2vec-tool format.\u001b[39;00m\n\u001b[1;32m   1678\u001b[0m \n\u001b[1;32m   1679\u001b[0m \u001b[38;5;124;03m    Warnings\u001b[39;00m\n\u001b[0;32m   (...)\u001b[0m\n\u001b[1;32m   1717\u001b[0m \n\u001b[1;32m   1718\u001b[0m \u001b[38;5;124;03m    \"\"\"\u001b[39;00m\n\u001b[0;32m-> 1719\u001b[0m     \u001b[38;5;28;01mreturn\u001b[39;00m \u001b[43m_load_word2vec_format\u001b[49m\u001b[43m(\u001b[49m\n\u001b[1;32m   1720\u001b[0m \u001b[43m        \u001b[49m\u001b[38;5;28;43mcls\u001b[39;49m\u001b[43m,\u001b[49m\u001b[43m \u001b[49m\u001b[43mfname\u001b[49m\u001b[43m,\u001b[49m\u001b[43m \u001b[49m\u001b[43mfvocab\u001b[49m\u001b[38;5;241;43m=\u001b[39;49m\u001b[43mfvocab\u001b[49m\u001b[43m,\u001b[49m\u001b[43m \u001b[49m\u001b[43mbinary\u001b[49m\u001b[38;5;241;43m=\u001b[39;49m\u001b[43mbinary\u001b[49m\u001b[43m,\u001b[49m\u001b[43m \u001b[49m\u001b[43mencoding\u001b[49m\u001b[38;5;241;43m=\u001b[39;49m\u001b[43mencoding\u001b[49m\u001b[43m,\u001b[49m\u001b[43m \u001b[49m\u001b[43municode_errors\u001b[49m\u001b[38;5;241;43m=\u001b[39;49m\u001b[43municode_errors\u001b[49m\u001b[43m,\u001b[49m\n\u001b[1;32m   1721\u001b[0m \u001b[43m        \u001b[49m\u001b[43mlimit\u001b[49m\u001b[38;5;241;43m=\u001b[39;49m\u001b[43mlimit\u001b[49m\u001b[43m,\u001b[49m\u001b[43m \u001b[49m\u001b[43mdatatype\u001b[49m\u001b[38;5;241;43m=\u001b[39;49m\u001b[43mdatatype\u001b[49m\u001b[43m,\u001b[49m\u001b[43m \u001b[49m\u001b[43mno_header\u001b[49m\u001b[38;5;241;43m=\u001b[39;49m\u001b[43mno_header\u001b[49m\u001b[43m,\u001b[49m\n\u001b[1;32m   1722\u001b[0m \u001b[43m    \u001b[49m\u001b[43m)\u001b[49m\n",
      "File \u001b[0;32m~/anaconda3/lib/python3.10/site-packages/gensim/models/keyedvectors.py:2069\u001b[0m, in \u001b[0;36m_load_word2vec_format\u001b[0;34m(cls, fname, fvocab, binary, encoding, unicode_errors, limit, datatype, no_header, binary_chunk_size)\u001b[0m\n\u001b[1;32m   2065\u001b[0m         _word2vec_read_binary(\n\u001b[1;32m   2066\u001b[0m             fin, kv, counts, vocab_size, vector_size, datatype, unicode_errors, binary_chunk_size, encoding\n\u001b[1;32m   2067\u001b[0m         )\n\u001b[1;32m   2068\u001b[0m     \u001b[38;5;28;01melse\u001b[39;00m:\n\u001b[0;32m-> 2069\u001b[0m         \u001b[43m_word2vec_read_text\u001b[49m\u001b[43m(\u001b[49m\u001b[43mfin\u001b[49m\u001b[43m,\u001b[49m\u001b[43m \u001b[49m\u001b[43mkv\u001b[49m\u001b[43m,\u001b[49m\u001b[43m \u001b[49m\u001b[43mcounts\u001b[49m\u001b[43m,\u001b[49m\u001b[43m \u001b[49m\u001b[43mvocab_size\u001b[49m\u001b[43m,\u001b[49m\u001b[43m \u001b[49m\u001b[43mvector_size\u001b[49m\u001b[43m,\u001b[49m\u001b[43m \u001b[49m\u001b[43mdatatype\u001b[49m\u001b[43m,\u001b[49m\u001b[43m \u001b[49m\u001b[43municode_errors\u001b[49m\u001b[43m,\u001b[49m\u001b[43m \u001b[49m\u001b[43mencoding\u001b[49m\u001b[43m)\u001b[49m\n\u001b[1;32m   2070\u001b[0m \u001b[38;5;28;01mif\u001b[39;00m kv\u001b[38;5;241m.\u001b[39mvectors\u001b[38;5;241m.\u001b[39mshape[\u001b[38;5;241m0\u001b[39m] \u001b[38;5;241m!=\u001b[39m \u001b[38;5;28mlen\u001b[39m(kv):\n\u001b[1;32m   2071\u001b[0m     logger\u001b[38;5;241m.\u001b[39minfo(\n\u001b[1;32m   2072\u001b[0m         \u001b[38;5;124m\"\u001b[39m\u001b[38;5;124mduplicate words detected, shrinking matrix size from \u001b[39m\u001b[38;5;132;01m%i\u001b[39;00m\u001b[38;5;124m to \u001b[39m\u001b[38;5;132;01m%i\u001b[39;00m\u001b[38;5;124m\"\u001b[39m,\n\u001b[1;32m   2073\u001b[0m         kv\u001b[38;5;241m.\u001b[39mvectors\u001b[38;5;241m.\u001b[39mshape[\u001b[38;5;241m0\u001b[39m], \u001b[38;5;28mlen\u001b[39m(kv),\n\u001b[1;32m   2074\u001b[0m     )\n",
      "File \u001b[0;32m~/anaconda3/lib/python3.10/site-packages/gensim/models/keyedvectors.py:1974\u001b[0m, in \u001b[0;36m_word2vec_read_text\u001b[0;34m(fin, kv, counts, vocab_size, vector_size, datatype, unicode_errors, encoding)\u001b[0m\n\u001b[1;32m   1972\u001b[0m \u001b[38;5;28;01mif\u001b[39;00m line \u001b[38;5;241m==\u001b[39m \u001b[38;5;124mb\u001b[39m\u001b[38;5;124m'\u001b[39m\u001b[38;5;124m'\u001b[39m:\n\u001b[1;32m   1973\u001b[0m     \u001b[38;5;28;01mraise\u001b[39;00m \u001b[38;5;167;01mEOFError\u001b[39;00m(\u001b[38;5;124m\"\u001b[39m\u001b[38;5;124munexpected end of input; is count incorrect or file otherwise damaged?\u001b[39m\u001b[38;5;124m\"\u001b[39m)\n\u001b[0;32m-> 1974\u001b[0m word, weights \u001b[38;5;241m=\u001b[39m \u001b[43m_word2vec_line_to_vector\u001b[49m\u001b[43m(\u001b[49m\u001b[43mline\u001b[49m\u001b[43m,\u001b[49m\u001b[43m \u001b[49m\u001b[43mdatatype\u001b[49m\u001b[43m,\u001b[49m\u001b[43m \u001b[49m\u001b[43municode_errors\u001b[49m\u001b[43m,\u001b[49m\u001b[43m \u001b[49m\u001b[43mencoding\u001b[49m\u001b[43m)\u001b[49m\n\u001b[1;32m   1975\u001b[0m _add_word_to_kv(kv, counts, word, weights, vocab_size)\n",
      "File \u001b[0;32m~/anaconda3/lib/python3.10/site-packages/gensim/models/keyedvectors.py:1980\u001b[0m, in \u001b[0;36m_word2vec_line_to_vector\u001b[0;34m(line, datatype, unicode_errors, encoding)\u001b[0m\n\u001b[1;32m   1978\u001b[0m \u001b[38;5;28;01mdef\u001b[39;00m \u001b[38;5;21m_word2vec_line_to_vector\u001b[39m(line, datatype, unicode_errors, encoding):\n\u001b[1;32m   1979\u001b[0m     parts \u001b[38;5;241m=\u001b[39m utils\u001b[38;5;241m.\u001b[39mto_unicode(line\u001b[38;5;241m.\u001b[39mrstrip(), encoding\u001b[38;5;241m=\u001b[39mencoding, errors\u001b[38;5;241m=\u001b[39municode_errors)\u001b[38;5;241m.\u001b[39msplit(\u001b[38;5;124m\"\u001b[39m\u001b[38;5;124m \u001b[39m\u001b[38;5;124m\"\u001b[39m)\n\u001b[0;32m-> 1980\u001b[0m     word, weights \u001b[38;5;241m=\u001b[39m parts[\u001b[38;5;241m0\u001b[39m], [datatype(x) \u001b[38;5;28;01mfor\u001b[39;00m x \u001b[38;5;129;01min\u001b[39;00m parts[\u001b[38;5;241m1\u001b[39m:]]\n\u001b[1;32m   1981\u001b[0m     \u001b[38;5;28;01mreturn\u001b[39;00m word, weights\n",
      "File \u001b[0;32m~/anaconda3/lib/python3.10/site-packages/gensim/models/keyedvectors.py:1980\u001b[0m, in \u001b[0;36m<listcomp>\u001b[0;34m(.0)\u001b[0m\n\u001b[1;32m   1978\u001b[0m \u001b[38;5;28;01mdef\u001b[39;00m \u001b[38;5;21m_word2vec_line_to_vector\u001b[39m(line, datatype, unicode_errors, encoding):\n\u001b[1;32m   1979\u001b[0m     parts \u001b[38;5;241m=\u001b[39m utils\u001b[38;5;241m.\u001b[39mto_unicode(line\u001b[38;5;241m.\u001b[39mrstrip(), encoding\u001b[38;5;241m=\u001b[39mencoding, errors\u001b[38;5;241m=\u001b[39municode_errors)\u001b[38;5;241m.\u001b[39msplit(\u001b[38;5;124m\"\u001b[39m\u001b[38;5;124m \u001b[39m\u001b[38;5;124m\"\u001b[39m)\n\u001b[0;32m-> 1980\u001b[0m     word, weights \u001b[38;5;241m=\u001b[39m parts[\u001b[38;5;241m0\u001b[39m], [\u001b[43mdatatype\u001b[49m\u001b[43m(\u001b[49m\u001b[43mx\u001b[49m\u001b[43m)\u001b[49m \u001b[38;5;28;01mfor\u001b[39;00m x \u001b[38;5;129;01min\u001b[39;00m parts[\u001b[38;5;241m1\u001b[39m:]]\n\u001b[1;32m   1981\u001b[0m     \u001b[38;5;28;01mreturn\u001b[39;00m word, weights\n",
      "\u001b[0;31mKeyboardInterrupt\u001b[0m: "
     ]
    }
   ],
   "source": [
    "skf = StratifiedKFold(n_splits=n_splits, shuffle=True)\n",
    "\n",
    "baselines = dict()\n",
    "\n",
    "for seed in seeds:\n",
    "    np.random.seed(seed)\n",
    "    tf.random.set_seed(seed)\n",
    "    model = KerasClassifier(build_fn=build_model_2, epochs=1)\n",
    "    clf = GridSearchCV(estimator=model, \n",
    "                               param_grid=param_grid,\n",
    "                               scoring='f1_macro',\n",
    "                               return_train_score=False,\n",
    "                               cv = skf)\n",
    "    \n",
    "    clf.fit(train_padded, training_set['hard_label_task1'])\n",
    "    \n",
    "    best_params = clf.best_params_\n",
    "    print(best_params)\n",
    "    \n",
    "    model = build_model_2(best_params['embedding_dimension'], best_params['hidden_units'])\n",
    "    model.fit(train_padded, training_set['hard_label_task1'], epochs=8, batch_size=best_params['batch_size'])\n",
    "\n",
    "    baselines[seed] = model\n",
    "\n",
    "    y_val = model.predict(validation_padded, verbose=0)\n",
    "    val_predictions = (y_val > 0.5).astype(int)\n",
    "\n",
    "    print('Model for seed {}'.format(seed))\n",
    "    print(classification_report(validation_set['hard_label_task1'], val_predictions, zero_division=0))"
   ]
  },
  {
   "cell_type": "code",
   "execution_count": 43,
   "metadata": {
    "id": "kyj_-nygNJKI"
   },
   "outputs": [],
   "source": [
    "def train_model(model, seed, training_data, training_labels, val_data, val_labels, epochs = 10, batch_size = 32):\n",
    "    np.random.seed(seed)\n",
    "    tf.random.set_seed(seed)\n",
    "\n",
    "    model.compile(loss='binary_crossentropy', optimizer='adam', metrics=['accuracy', 'precision', 'recall']) #binary loss because we have a binary classification task\n",
    "    history = model.fit(training_data, training_labels, epochs=epochs, batch_size=batch_size, validation_data=(val_data, val_labels))\n",
    "\n",
    "    # evaluate the model using the supported metrics\n",
    "    val_results = model.evaluate(val_data, val_labels, verbose=0)\n",
    "\n",
    "    val_loss = val_results[0]\n",
    "    val_accuracy = val_results[1]\n",
    "    val_precision = val_results[2]\n",
    "    val_recall = val_results[3]\n",
    "\n",
    "    # evaluate also using f1-macro\n",
    "    val_predictions = model.predict(val_data)\n",
    "    val_predictions = (val_predictions > 0.5).astype(int)  # binarize predictions\n",
    "    val_f1_macro = f1_score(val_labels, val_predictions, average='macro')\n",
    "\n",
    "    return history, val_loss, val_accuracy, val_precision, val_recall, val_f1_macro"
   ]
  },
  {
   "cell_type": "markdown",
   "metadata": {
    "id": "4ICW4KfowFry"
   },
   "source": [
    "#### Training"
   ]
  },
  {
   "cell_type": "code",
   "execution_count": 47,
   "metadata": {
    "colab": {
     "base_uri": "https://localhost:8080/"
    },
    "id": "IMnRvvFIY_3j",
    "outputId": "ff5f8868-2ba2-4357-d31d-f9426ed97c88"
   },
   "outputs": [
    {
     "name": "stdout",
     "output_type": "stream",
     "text": [
      "Showing results for the following model: baseline\n",
      "Seed=39, hidden_units=32, batch_size=16\n",
      "Total OOV terms: 1340 (14.31%)\n",
      "Epoch 1/10\n",
      "\u001b[1m180/180\u001b[0m \u001b[32m━━━━━━━━━━━━━━━━━━━━\u001b[0m\u001b[37m\u001b[0m \u001b[1m5s\u001b[0m 13ms/step - accuracy: 0.6162 - loss: 0.6507 - precision: 0.5365 - recall: 0.2473 - val_accuracy: 0.7405 - val_loss: 0.5414 - val_precision: 0.7077 - val_recall: 0.6765\n",
      "Epoch 2/10\n",
      "\u001b[1m180/180\u001b[0m \u001b[32m━━━━━━━━━━━━━━━━━━━━\u001b[0m\u001b[37m\u001b[0m \u001b[1m2s\u001b[0m 12ms/step - accuracy: 0.7589 - loss: 0.5088 - precision: 0.7172 - recall: 0.6806 - val_accuracy: 0.7848 - val_loss: 0.4802 - val_precision: 0.7576 - val_recall: 0.7353\n",
      "Epoch 3/10\n",
      "\u001b[1m180/180\u001b[0m \u001b[32m━━━━━━━━━━━━━━━━━━━━\u001b[0m\u001b[37m\u001b[0m \u001b[1m1s\u001b[0m 8ms/step - accuracy: 0.8251 - loss: 0.4099 - precision: 0.7967 - recall: 0.7640 - val_accuracy: 0.8165 - val_loss: 0.4462 - val_precision: 0.8000 - val_recall: 0.7647\n",
      "Epoch 4/10\n",
      "\u001b[1m180/180\u001b[0m \u001b[32m━━━━━━━━━━━━━━━━━━━━\u001b[0m\u001b[37m\u001b[0m \u001b[1m1s\u001b[0m 8ms/step - accuracy: 0.8795 - loss: 0.3155 - precision: 0.8556 - recall: 0.8448 - val_accuracy: 0.8038 - val_loss: 0.4791 - val_precision: 0.8246 - val_recall: 0.6912\n",
      "Epoch 5/10\n",
      "\u001b[1m180/180\u001b[0m \u001b[32m━━━━━━━━━━━━━━━━━━━━\u001b[0m\u001b[37m\u001b[0m \u001b[1m3s\u001b[0m 8ms/step - accuracy: 0.9229 - loss: 0.2256 - precision: 0.9001 - recall: 0.9101 - val_accuracy: 0.8165 - val_loss: 0.5227 - val_precision: 0.8421 - val_recall: 0.7059\n",
      "Epoch 6/10\n",
      "\u001b[1m180/180\u001b[0m \u001b[32m━━━━━━━━━━━━━━━━━━━━\u001b[0m\u001b[37m\u001b[0m \u001b[1m3s\u001b[0m 8ms/step - accuracy: 0.9484 - loss: 0.1515 - precision: 0.9322 - recall: 0.9419 - val_accuracy: 0.8101 - val_loss: 0.5530 - val_precision: 0.7879 - val_recall: 0.7647\n",
      "Epoch 7/10\n",
      "\u001b[1m180/180\u001b[0m \u001b[32m━━━━━━━━━━━━━━━━━━━━\u001b[0m\u001b[37m\u001b[0m \u001b[1m3s\u001b[0m 10ms/step - accuracy: 0.9656 - loss: 0.0997 - precision: 0.9562 - recall: 0.9601 - val_accuracy: 0.7532 - val_loss: 0.7122 - val_precision: 0.7231 - val_recall: 0.6912\n",
      "Epoch 8/10\n",
      "\u001b[1m180/180\u001b[0m \u001b[32m━━━━━━━━━━━━━━━━━━━━\u001b[0m\u001b[37m\u001b[0m \u001b[1m2s\u001b[0m 12ms/step - accuracy: 0.9808 - loss: 0.0607 - precision: 0.9767 - recall: 0.9763 - val_accuracy: 0.7532 - val_loss: 0.9142 - val_precision: 0.7377 - val_recall: 0.6618\n",
      "Epoch 9/10\n",
      "\u001b[1m180/180\u001b[0m \u001b[32m━━━━━━━━━━━━━━━━━━━━\u001b[0m\u001b[37m\u001b[0m \u001b[1m2s\u001b[0m 8ms/step - accuracy: 0.9852 - loss: 0.0411 - precision: 0.9818 - recall: 0.9819 - val_accuracy: 0.7532 - val_loss: 1.2427 - val_precision: 0.8718 - val_recall: 0.5000\n",
      "Epoch 10/10\n",
      "\u001b[1m180/180\u001b[0m \u001b[32m━━━━━━━━━━━━━━━━━━━━\u001b[0m\u001b[37m\u001b[0m \u001b[1m3s\u001b[0m 8ms/step - accuracy: 0.9900 - loss: 0.0355 - precision: 0.9900 - recall: 0.9857 - val_accuracy: 0.7785 - val_loss: 1.0300 - val_precision: 0.8113 - val_recall: 0.6324\n"
     ]
    },
    {
     "name": "stderr",
     "output_type": "stream",
     "text": [
      "WARNING:tensorflow:5 out of the last 11 calls to <function TensorFlowTrainer.make_predict_function.<locals>.one_step_on_data_distributed at 0x78b4477d0d30> triggered tf.function retracing. Tracing is expensive and the excessive number of tracings could be due to (1) creating @tf.function repeatedly in a loop, (2) passing tensors with different shapes, (3) passing Python objects instead of tensors. For (1), please define your @tf.function outside of the loop. For (2), @tf.function has reduce_retracing=True option that can avoid unnecessary retracing. For (3), please refer to https://www.tensorflow.org/guide/function#controlling_retracing and https://www.tensorflow.org/api_docs/python/tf/function for  more details.\n"
     ]
    },
    {
     "name": "stdout",
     "output_type": "stream",
     "text": [
      "\r\u001b[1m1/5\u001b[0m \u001b[32m━━━━\u001b[0m\u001b[37m━━━━━━━━━━━━━━━━\u001b[0m \u001b[1m0s\u001b[0m 163ms/step"
     ]
    },
    {
     "name": "stderr",
     "output_type": "stream",
     "text": [
      "WARNING:tensorflow:5 out of the last 11 calls to <function TensorFlowTrainer.make_predict_function.<locals>.one_step_on_data_distributed at 0x78b4477d0d30> triggered tf.function retracing. Tracing is expensive and the excessive number of tracings could be due to (1) creating @tf.function repeatedly in a loop, (2) passing tensors with different shapes, (3) passing Python objects instead of tensors. For (1), please define your @tf.function outside of the loop. For (2), @tf.function has reduce_retracing=True option that can avoid unnecessary retracing. For (3), please refer to https://www.tensorflow.org/guide/function#controlling_retracing and https://www.tensorflow.org/api_docs/python/tf/function for  more details.\n"
     ]
    },
    {
     "name": "stdout",
     "output_type": "stream",
     "text": [
      "\u001b[1m5/5\u001b[0m \u001b[32m━━━━━━━━━━━━━━━━━━━━\u001b[0m\u001b[37m\u001b[0m \u001b[1m0s\u001b[0m 45ms/step\n",
      "Seed=39, hidden_units=32, batch_size=32\n",
      "Total OOV terms: 1340 (14.31%)\n",
      "Epoch 1/10\n",
      "\u001b[1m90/90\u001b[0m \u001b[32m━━━━━━━━━━━━━━━━━━━━\u001b[0m\u001b[37m\u001b[0m \u001b[1m4s\u001b[0m 17ms/step - accuracy: 0.5852 - loss: 0.6765 - precision: 0.5062 - recall: 0.2463 - val_accuracy: 0.7342 - val_loss: 0.5667 - val_precision: 0.7500 - val_recall: 0.5735\n",
      "Epoch 2/10\n",
      "\u001b[1m90/90\u001b[0m \u001b[32m━━━━━━━━━━━━━━━━━━━━\u001b[0m\u001b[37m\u001b[0m \u001b[1m1s\u001b[0m 12ms/step - accuracy: 0.7136 - loss: 0.5637 - precision: 0.6654 - recall: 0.5999 - val_accuracy: 0.7278 - val_loss: 0.5210 - val_precision: 0.7273 - val_recall: 0.5882\n",
      "Epoch 3/10\n",
      "\u001b[1m90/90\u001b[0m \u001b[32m━━━━━━━━━━━━━━━━━━━━\u001b[0m\u001b[37m\u001b[0m \u001b[1m1s\u001b[0m 13ms/step - accuracy: 0.7787 - loss: 0.4712 - precision: 0.7353 - recall: 0.7151 - val_accuracy: 0.7405 - val_loss: 0.5238 - val_precision: 0.7455 - val_recall: 0.6029\n",
      "Epoch 4/10\n",
      "\u001b[1m90/90\u001b[0m \u001b[32m━━━━━━━━━━━━━━━━━━━━\u001b[0m\u001b[37m\u001b[0m \u001b[1m1s\u001b[0m 9ms/step - accuracy: 0.8309 - loss: 0.3978 - precision: 0.7885 - recall: 0.8000 - val_accuracy: 0.7848 - val_loss: 0.5314 - val_precision: 0.8269 - val_recall: 0.6324\n",
      "Epoch 5/10\n",
      "\u001b[1m90/90\u001b[0m \u001b[32m━━━━━━━━━━━━━━━━━━━━\u001b[0m\u001b[37m\u001b[0m \u001b[1m1s\u001b[0m 8ms/step - accuracy: 0.8802 - loss: 0.3169 - precision: 0.8497 - recall: 0.8571 - val_accuracy: 0.7848 - val_loss: 0.5611 - val_precision: 0.8400 - val_recall: 0.6176\n",
      "Epoch 6/10\n",
      "\u001b[1m90/90\u001b[0m \u001b[32m━━━━━━━━━━━━━━━━━━━━\u001b[0m\u001b[37m\u001b[0m \u001b[1m1s\u001b[0m 9ms/step - accuracy: 0.9195 - loss: 0.2378 - precision: 0.8915 - recall: 0.9136 - val_accuracy: 0.7658 - val_loss: 0.6726 - val_precision: 0.8605 - val_recall: 0.5441\n",
      "Epoch 7/10\n",
      "\u001b[1m90/90\u001b[0m \u001b[32m━━━━━━━━━━━━━━━━━━━━\u001b[0m\u001b[37m\u001b[0m \u001b[1m1s\u001b[0m 8ms/step - accuracy: 0.9455 - loss: 0.1678 - precision: 0.9240 - recall: 0.9441 - val_accuracy: 0.7405 - val_loss: 0.8599 - val_precision: 0.8649 - val_recall: 0.4706\n",
      "Epoch 8/10\n",
      "\u001b[1m90/90\u001b[0m \u001b[32m━━━━━━━━━━━━━━━━━━━━\u001b[0m\u001b[37m\u001b[0m \u001b[1m1s\u001b[0m 8ms/step - accuracy: 0.9677 - loss: 0.1209 - precision: 0.9552 - recall: 0.9659 - val_accuracy: 0.7215 - val_loss: 0.9235 - val_precision: 0.8529 - val_recall: 0.4265\n",
      "Epoch 9/10\n",
      "\u001b[1m90/90\u001b[0m \u001b[32m━━━━━━━━━━━━━━━━━━━━\u001b[0m\u001b[37m\u001b[0m \u001b[1m1s\u001b[0m 8ms/step - accuracy: 0.9662 - loss: 0.1171 - precision: 0.9598 - recall: 0.9573 - val_accuracy: 0.8038 - val_loss: 0.6565 - val_precision: 0.8033 - val_recall: 0.7206\n",
      "Epoch 10/10\n",
      "\u001b[1m90/90\u001b[0m \u001b[32m━━━━━━━━━━━━━━━━━━━━\u001b[0m\u001b[37m\u001b[0m \u001b[1m1s\u001b[0m 8ms/step - accuracy: 0.9656 - loss: 0.1034 - precision: 0.9508 - recall: 0.9654 - val_accuracy: 0.7848 - val_loss: 0.7723 - val_precision: 0.8148 - val_recall: 0.6471\n",
      "\u001b[1m5/5\u001b[0m \u001b[32m━━━━━━━━━━━━━━━━━━━━\u001b[0m\u001b[37m\u001b[0m \u001b[1m0s\u001b[0m 42ms/step\n",
      "Seed=39, hidden_units=64, batch_size=16\n",
      "Total OOV terms: 1340 (14.31%)\n",
      "Epoch 1/10\n",
      "\u001b[1m180/180\u001b[0m \u001b[32m━━━━━━━━━━━━━━━━━━━━\u001b[0m\u001b[37m\u001b[0m \u001b[1m5s\u001b[0m 11ms/step - accuracy: 0.6121 - loss: 0.6460 - precision: 0.5356 - recall: 0.3132 - val_accuracy: 0.7215 - val_loss: 0.5404 - val_precision: 0.6765 - val_recall: 0.6765\n",
      "Epoch 2/10\n",
      "\u001b[1m180/180\u001b[0m \u001b[32m━━━━━━━━━━━━━━━━━━━━\u001b[0m\u001b[37m\u001b[0m \u001b[1m1s\u001b[0m 8ms/step - accuracy: 0.7622 - loss: 0.5045 - precision: 0.7247 - recall: 0.6733 - val_accuracy: 0.7468 - val_loss: 0.5038 - val_precision: 0.7000 - val_recall: 0.7206\n",
      "Epoch 3/10\n",
      "\u001b[1m180/180\u001b[0m \u001b[32m━━━━━━━━━━━━━━━━━━━━\u001b[0m\u001b[37m\u001b[0m \u001b[1m3s\u001b[0m 8ms/step - accuracy: 0.8249 - loss: 0.4103 - precision: 0.7947 - recall: 0.7683 - val_accuracy: 0.7468 - val_loss: 0.4739 - val_precision: 0.6944 - val_recall: 0.7353\n",
      "Epoch 4/10\n",
      "\u001b[1m180/180\u001b[0m \u001b[32m━━━━━━━━━━━━━━━━━━━━\u001b[0m\u001b[37m\u001b[0m \u001b[1m2s\u001b[0m 8ms/step - accuracy: 0.8751 - loss: 0.3160 - precision: 0.8455 - recall: 0.8464 - val_accuracy: 0.8165 - val_loss: 0.4641 - val_precision: 0.7826 - val_recall: 0.7941\n",
      "Epoch 5/10\n",
      "\u001b[1m180/180\u001b[0m \u001b[32m━━━━━━━━━━━━━━━━━━━━\u001b[0m\u001b[37m\u001b[0m \u001b[1m3s\u001b[0m 11ms/step - accuracy: 0.9128 - loss: 0.2272 - precision: 0.8806 - recall: 0.9094 - val_accuracy: 0.7848 - val_loss: 0.5559 - val_precision: 0.7297 - val_recall: 0.7941\n",
      "Epoch 6/10\n",
      "\u001b[1m180/180\u001b[0m \u001b[32m━━━━━━━━━━━━━━━━━━━━\u001b[0m\u001b[37m\u001b[0m \u001b[1m2s\u001b[0m 12ms/step - accuracy: 0.9299 - loss: 0.1739 - precision: 0.8992 - recall: 0.9336 - val_accuracy: 0.8101 - val_loss: 0.6443 - val_precision: 0.7794 - val_recall: 0.7794\n",
      "Epoch 7/10\n",
      "\u001b[1m180/180\u001b[0m \u001b[32m━━━━━━━━━━━━━━━━━━━━\u001b[0m\u001b[37m\u001b[0m \u001b[1m2s\u001b[0m 9ms/step - accuracy: 0.9650 - loss: 0.0924 - precision: 0.9529 - recall: 0.9620 - val_accuracy: 0.7911 - val_loss: 0.7184 - val_precision: 0.7465 - val_recall: 0.7794\n",
      "Epoch 8/10\n",
      "\u001b[1m180/180\u001b[0m \u001b[32m━━━━━━━━━━━━━━━━━━━━\u001b[0m\u001b[37m\u001b[0m \u001b[1m2s\u001b[0m 8ms/step - accuracy: 0.9780 - loss: 0.0712 - precision: 0.9720 - recall: 0.9741 - val_accuracy: 0.7785 - val_loss: 0.7684 - val_precision: 0.8235 - val_recall: 0.6176\n",
      "Epoch 9/10\n",
      "\u001b[1m180/180\u001b[0m \u001b[32m━━━━━━━━━━━━━━━━━━━━\u001b[0m\u001b[37m\u001b[0m \u001b[1m3s\u001b[0m 8ms/step - accuracy: 0.9870 - loss: 0.0476 - precision: 0.9821 - recall: 0.9861 - val_accuracy: 0.7025 - val_loss: 1.3453 - val_precision: 0.8387 - val_recall: 0.3824\n",
      "Epoch 10/10\n",
      "\u001b[1m180/180\u001b[0m \u001b[32m━━━━━━━━━━━━━━━━━━━━\u001b[0m\u001b[37m\u001b[0m \u001b[1m3s\u001b[0m 8ms/step - accuracy: 0.9900 - loss: 0.0341 - precision: 0.9870 - recall: 0.9885 - val_accuracy: 0.7785 - val_loss: 1.1671 - val_precision: 0.8667 - val_recall: 0.5735\n",
      "\u001b[1m5/5\u001b[0m \u001b[32m━━━━━━━━━━━━━━━━━━━━\u001b[0m\u001b[37m\u001b[0m \u001b[1m0s\u001b[0m 44ms/step\n",
      "Seed=39, hidden_units=64, batch_size=32\n",
      "Total OOV terms: 1340 (14.31%)\n",
      "Epoch 1/10\n",
      "\u001b[1m90/90\u001b[0m \u001b[32m━━━━━━━━━━━━━━━━━━━━\u001b[0m\u001b[37m\u001b[0m \u001b[1m4s\u001b[0m 14ms/step - accuracy: 0.5898 - loss: 0.6591 - precision: 0.4977 - recall: 0.2052 - val_accuracy: 0.7152 - val_loss: 0.5519 - val_precision: 0.6885 - val_recall: 0.6176\n",
      "Epoch 2/10\n",
      "\u001b[1m90/90\u001b[0m \u001b[32m━━━━━━━━━━━━━━━━━━━━\u001b[0m\u001b[37m\u001b[0m \u001b[1m1s\u001b[0m 8ms/step - accuracy: 0.7382 - loss: 0.5405 - precision: 0.6995 - recall: 0.6318 - val_accuracy: 0.7089 - val_loss: 0.5213 - val_precision: 0.7037 - val_recall: 0.5588\n",
      "Epoch 3/10\n",
      "\u001b[1m90/90\u001b[0m \u001b[32m━━━━━━━━━━━━━━━━━━━━\u001b[0m\u001b[37m\u001b[0m \u001b[1m1s\u001b[0m 8ms/step - accuracy: 0.7849 - loss: 0.4621 - precision: 0.7438 - recall: 0.7199 - val_accuracy: 0.7532 - val_loss: 0.5062 - val_precision: 0.7544 - val_recall: 0.6324\n",
      "Epoch 4/10\n",
      "\u001b[1m90/90\u001b[0m \u001b[32m━━━━━━━━━━━━━━━━━━━━\u001b[0m\u001b[37m\u001b[0m \u001b[1m1s\u001b[0m 8ms/step - accuracy: 0.8371 - loss: 0.3860 - precision: 0.7963 - recall: 0.8060 - val_accuracy: 0.7658 - val_loss: 0.5075 - val_precision: 0.7627 - val_recall: 0.6618\n",
      "Epoch 5/10\n",
      "\u001b[1m90/90\u001b[0m \u001b[32m━━━━━━━━━━━━━━━━━━━━\u001b[0m\u001b[37m\u001b[0m \u001b[1m1s\u001b[0m 8ms/step - accuracy: 0.8795 - loss: 0.3031 - precision: 0.8497 - recall: 0.8555 - val_accuracy: 0.7785 - val_loss: 0.5396 - val_precision: 0.7895 - val_recall: 0.6618\n",
      "Epoch 6/10\n",
      "\u001b[1m90/90\u001b[0m \u001b[32m━━━━━━━━━━━━━━━━━━━━\u001b[0m\u001b[37m\u001b[0m \u001b[1m1s\u001b[0m 8ms/step - accuracy: 0.9204 - loss: 0.2300 - precision: 0.8932 - recall: 0.9145 - val_accuracy: 0.7532 - val_loss: 0.6965 - val_precision: 0.8537 - val_recall: 0.5147\n",
      "Epoch 7/10\n",
      "\u001b[1m90/90\u001b[0m \u001b[32m━━━━━━━━━━━━━━━━━━━━\u001b[0m\u001b[37m\u001b[0m \u001b[1m1s\u001b[0m 8ms/step - accuracy: 0.9495 - loss: 0.1659 - precision: 0.9213 - recall: 0.9582 - val_accuracy: 0.7342 - val_loss: 0.8657 - val_precision: 0.9333 - val_recall: 0.4118\n",
      "Epoch 8/10\n",
      "\u001b[1m90/90\u001b[0m \u001b[32m━━━━━━━━━━━━━━━━━━━━\u001b[0m\u001b[37m\u001b[0m \u001b[1m1s\u001b[0m 8ms/step - accuracy: 0.9577 - loss: 0.1393 - precision: 0.9439 - recall: 0.9532 - val_accuracy: 0.7025 - val_loss: 1.0723 - val_precision: 0.8621 - val_recall: 0.3676\n",
      "Epoch 9/10\n",
      "\u001b[1m90/90\u001b[0m \u001b[32m━━━━━━━━━━━━━━━━━━━━\u001b[0m\u001b[37m\u001b[0m \u001b[1m1s\u001b[0m 10ms/step - accuracy: 0.9601 - loss: 0.1166 - precision: 0.9492 - recall: 0.9536 - val_accuracy: 0.7975 - val_loss: 0.7597 - val_precision: 0.8462 - val_recall: 0.6471\n",
      "Epoch 10/10\n",
      "\u001b[1m90/90\u001b[0m \u001b[32m━━━━━━━━━━━━━━━━━━━━\u001b[0m\u001b[37m\u001b[0m \u001b[1m1s\u001b[0m 13ms/step - accuracy: 0.9715 - loss: 0.0756 - precision: 0.9578 - recall: 0.9725 - val_accuracy: 0.7785 - val_loss: 0.7457 - val_precision: 0.8235 - val_recall: 0.6176\n",
      "\u001b[1m5/5\u001b[0m \u001b[32m━━━━━━━━━━━━━━━━━━━━\u001b[0m\u001b[37m\u001b[0m \u001b[1m1s\u001b[0m 67ms/step\n",
      "Seed=39, hidden_units=32, batch_size=16\n",
      "[==================================================] 100.0% 128.1/128.1MB downloaded\n",
      "Total OOV terms: 1340 (14.31%)\n",
      "Epoch 1/10\n",
      "\u001b[1m180/180\u001b[0m \u001b[32m━━━━━━━━━━━━━━━━━━━━\u001b[0m\u001b[37m\u001b[0m \u001b[1m5s\u001b[0m 10ms/step - accuracy: 0.6106 - loss: 0.6498 - precision: 0.5377 - recall: 0.2455 - val_accuracy: 0.7658 - val_loss: 0.5249 - val_precision: 0.7246 - val_recall: 0.7353\n",
      "Epoch 2/10\n",
      "\u001b[1m180/180\u001b[0m \u001b[32m━━━━━━━━━━━━━━━━━━━━\u001b[0m\u001b[37m\u001b[0m \u001b[1m2s\u001b[0m 11ms/step - accuracy: 0.7850 - loss: 0.4744 - precision: 0.7465 - recall: 0.7137 - val_accuracy: 0.7658 - val_loss: 0.4753 - val_precision: 0.7246 - val_recall: 0.7353\n",
      "Epoch 3/10\n",
      "\u001b[1m180/180\u001b[0m \u001b[32m━━━━━━━━━━━━━━━━━━━━\u001b[0m\u001b[37m\u001b[0m \u001b[1m3s\u001b[0m 12ms/step - accuracy: 0.8637 - loss: 0.3507 - precision: 0.8311 - recall: 0.8345 - val_accuracy: 0.7975 - val_loss: 0.4495 - val_precision: 0.8000 - val_recall: 0.7059\n",
      "Epoch 4/10\n",
      "\u001b[1m180/180\u001b[0m \u001b[32m━━━━━━━━━━━━━━━━━━━━\u001b[0m\u001b[37m\u001b[0m \u001b[1m2s\u001b[0m 8ms/step - accuracy: 0.9218 - loss: 0.2288 - precision: 0.8979 - recall: 0.9118 - val_accuracy: 0.7975 - val_loss: 0.5737 - val_precision: 0.8333 - val_recall: 0.6618\n",
      "Epoch 5/10\n",
      "\u001b[1m180/180\u001b[0m \u001b[32m━━━━━━━━━━━━━━━━━━━━\u001b[0m\u001b[37m\u001b[0m \u001b[1m1s\u001b[0m 8ms/step - accuracy: 0.9591 - loss: 0.1300 - precision: 0.9428 - recall: 0.9576 - val_accuracy: 0.8038 - val_loss: 0.6929 - val_precision: 0.7761 - val_recall: 0.7647\n",
      "Epoch 6/10\n",
      "\u001b[1m180/180\u001b[0m \u001b[32m━━━━━━━━━━━━━━━━━━━━\u001b[0m\u001b[37m\u001b[0m \u001b[1m3s\u001b[0m 8ms/step - accuracy: 0.9815 - loss: 0.0710 - precision: 0.9737 - recall: 0.9812 - val_accuracy: 0.7595 - val_loss: 0.7794 - val_precision: 0.6705 - val_recall: 0.8676\n",
      "Epoch 7/10\n",
      "\u001b[1m180/180\u001b[0m \u001b[32m━━━━━━━━━━━━━━━━━━━━\u001b[0m\u001b[37m\u001b[0m \u001b[1m2s\u001b[0m 8ms/step - accuracy: 0.9839 - loss: 0.0534 - precision: 0.9770 - recall: 0.9843 - val_accuracy: 0.7785 - val_loss: 1.0293 - val_precision: 0.8113 - val_recall: 0.6324\n",
      "Epoch 8/10\n",
      "\u001b[1m180/180\u001b[0m \u001b[32m━━━━━━━━━━━━━━━━━━━━\u001b[0m\u001b[37m\u001b[0m \u001b[1m1s\u001b[0m 8ms/step - accuracy: 0.9900 - loss: 0.0293 - precision: 0.9871 - recall: 0.9885 - val_accuracy: 0.7658 - val_loss: 1.1875 - val_precision: 0.8298 - val_recall: 0.5735\n",
      "Epoch 9/10\n",
      "\u001b[1m180/180\u001b[0m \u001b[32m━━━━━━━━━━━━━━━━━━━━\u001b[0m\u001b[37m\u001b[0m \u001b[1m2s\u001b[0m 12ms/step - accuracy: 0.9969 - loss: 0.0127 - precision: 0.9970 - recall: 0.9953 - val_accuracy: 0.7848 - val_loss: 1.0994 - val_precision: 0.8269 - val_recall: 0.6324\n",
      "Epoch 10/10\n",
      "\u001b[1m180/180\u001b[0m \u001b[32m━━━━━━━━━━━━━━━━━━━━\u001b[0m\u001b[37m\u001b[0m \u001b[1m2s\u001b[0m 12ms/step - accuracy: 0.9959 - loss: 0.0107 - precision: 0.9949 - recall: 0.9951 - val_accuracy: 0.7658 - val_loss: 1.3070 - val_precision: 0.7925 - val_recall: 0.6176\n",
      "\u001b[1m5/5\u001b[0m \u001b[32m━━━━━━━━━━━━━━━━━━━━\u001b[0m\u001b[37m\u001b[0m \u001b[1m0s\u001b[0m 41ms/step\n",
      "Seed=39, hidden_units=32, batch_size=32\n",
      "Total OOV terms: 1340 (14.31%)\n",
      "Epoch 1/10\n",
      "\u001b[1m90/90\u001b[0m \u001b[32m━━━━━━━━━━━━━━━━━━━━\u001b[0m\u001b[37m\u001b[0m \u001b[1m3s\u001b[0m 14ms/step - accuracy: 0.5888 - loss: 0.6694 - precision: 0.4567 - recall: 0.1376 - val_accuracy: 0.7405 - val_loss: 0.5492 - val_precision: 0.8140 - val_recall: 0.5147\n",
      "Epoch 2/10\n",
      "\u001b[1m90/90\u001b[0m \u001b[32m━━━━━━━━━━━━━━━━━━━━\u001b[0m\u001b[37m\u001b[0m \u001b[1m2s\u001b[0m 9ms/step - accuracy: 0.7321 - loss: 0.5345 - precision: 0.6817 - recall: 0.6435 - val_accuracy: 0.7785 - val_loss: 0.4855 - val_precision: 0.7797 - val_recall: 0.6765\n",
      "Epoch 3/10\n",
      "\u001b[1m90/90\u001b[0m \u001b[32m━━━━━━━━━━━━━━━━━━━━\u001b[0m\u001b[37m\u001b[0m \u001b[1m1s\u001b[0m 8ms/step - accuracy: 0.8317 - loss: 0.4082 - precision: 0.7957 - recall: 0.7883 - val_accuracy: 0.7975 - val_loss: 0.4854 - val_precision: 0.8333 - val_recall: 0.6618\n",
      "Epoch 4/10\n",
      "\u001b[1m90/90\u001b[0m \u001b[32m━━━━━━━━━━━━━━━━━━━━\u001b[0m\u001b[37m\u001b[0m \u001b[1m1s\u001b[0m 10ms/step - accuracy: 0.8787 - loss: 0.3119 - precision: 0.8377 - recall: 0.8722 - val_accuracy: 0.8038 - val_loss: 0.5549 - val_precision: 0.9302 - val_recall: 0.5882\n",
      "Epoch 5/10\n",
      "\u001b[1m90/90\u001b[0m \u001b[32m━━━━━━━━━━━━━━━━━━━━\u001b[0m\u001b[37m\u001b[0m \u001b[1m2s\u001b[0m 13ms/step - accuracy: 0.9259 - loss: 0.2138 - precision: 0.8947 - recall: 0.9279 - val_accuracy: 0.7722 - val_loss: 0.6773 - val_precision: 0.9211 - val_recall: 0.5147\n",
      "Epoch 6/10\n",
      "\u001b[1m90/90\u001b[0m \u001b[32m━━━━━━━━━━━━━━━━━━━━\u001b[0m\u001b[37m\u001b[0m \u001b[1m1s\u001b[0m 13ms/step - accuracy: 0.9545 - loss: 0.1499 - precision: 0.9358 - recall: 0.9543 - val_accuracy: 0.7658 - val_loss: 0.6487 - val_precision: 0.8163 - val_recall: 0.5882\n",
      "Epoch 7/10\n",
      "\u001b[1m90/90\u001b[0m \u001b[32m━━━━━━━━━━━━━━━━━━━━\u001b[0m\u001b[37m\u001b[0m \u001b[1m1s\u001b[0m 10ms/step - accuracy: 0.9657 - loss: 0.1186 - precision: 0.9534 - recall: 0.9632 - val_accuracy: 0.7785 - val_loss: 0.6475 - val_precision: 0.8235 - val_recall: 0.6176\n",
      "Epoch 8/10\n",
      "\u001b[1m90/90\u001b[0m \u001b[32m━━━━━━━━━━━━━━━━━━━━\u001b[0m\u001b[37m\u001b[0m \u001b[1m1s\u001b[0m 8ms/step - accuracy: 0.9786 - loss: 0.0751 - precision: 0.9647 - recall: 0.9834 - val_accuracy: 0.7658 - val_loss: 0.7861 - val_precision: 0.8605 - val_recall: 0.5441\n",
      "Epoch 9/10\n",
      "\u001b[1m90/90\u001b[0m \u001b[32m━━━━━━━━━━━━━━━━━━━━\u001b[0m\u001b[37m\u001b[0m \u001b[1m1s\u001b[0m 8ms/step - accuracy: 0.9882 - loss: 0.0468 - precision: 0.9853 - recall: 0.9856 - val_accuracy: 0.7975 - val_loss: 0.6693 - val_precision: 0.8462 - val_recall: 0.6471\n",
      "Epoch 10/10\n",
      "\u001b[1m90/90\u001b[0m \u001b[32m━━━━━━━━━━━━━━━━━━━━\u001b[0m\u001b[37m\u001b[0m \u001b[1m1s\u001b[0m 8ms/step - accuracy: 0.9881 - loss: 0.0432 - precision: 0.9854 - recall: 0.9854 - val_accuracy: 0.7848 - val_loss: 0.7030 - val_precision: 0.7500 - val_recall: 0.7500\n",
      "\u001b[1m5/5\u001b[0m \u001b[32m━━━━━━━━━━━━━━━━━━━━\u001b[0m\u001b[37m\u001b[0m \u001b[1m0s\u001b[0m 42ms/step\n",
      "Seed=39, hidden_units=64, batch_size=16\n",
      "Total OOV terms: 1340 (14.31%)\n",
      "Epoch 1/10\n",
      "\u001b[1m180/180\u001b[0m \u001b[32m━━━━━━━━━━━━━━━━━━━━\u001b[0m\u001b[37m\u001b[0m \u001b[1m5s\u001b[0m 14ms/step - accuracy: 0.6216 - loss: 0.6464 - precision: 0.5429 - recall: 0.3522 - val_accuracy: 0.7468 - val_loss: 0.5060 - val_precision: 0.7188 - val_recall: 0.6765\n",
      "Epoch 2/10\n",
      "\u001b[1m180/180\u001b[0m \u001b[32m━━━━━━━━━━━━━━━━━━━━\u001b[0m\u001b[37m\u001b[0m \u001b[1m2s\u001b[0m 12ms/step - accuracy: 0.7935 - loss: 0.4556 - precision: 0.7594 - recall: 0.7237 - val_accuracy: 0.7658 - val_loss: 0.4534 - val_precision: 0.7067 - val_recall: 0.7794\n",
      "Epoch 3/10\n",
      "\u001b[1m180/180\u001b[0m \u001b[32m━━━━━━━━━━━━━━━━━━━━\u001b[0m\u001b[37m\u001b[0m \u001b[1m2s\u001b[0m 9ms/step - accuracy: 0.8619 - loss: 0.3327 - precision: 0.8302 - recall: 0.8312 - val_accuracy: 0.8165 - val_loss: 0.4403 - val_precision: 0.7826 - val_recall: 0.7941\n",
      "Epoch 4/10\n",
      "\u001b[1m180/180\u001b[0m \u001b[32m━━━━━━━━━━━━━━━━━━━━\u001b[0m\u001b[37m\u001b[0m \u001b[1m1s\u001b[0m 8ms/step - accuracy: 0.9272 - loss: 0.2034 - precision: 0.9014 - recall: 0.9223 - val_accuracy: 0.7975 - val_loss: 0.5850 - val_precision: 0.7250 - val_recall: 0.8529\n",
      "Epoch 5/10\n",
      "\u001b[1m180/180\u001b[0m \u001b[32m━━━━━━━━━━━━━━━━━━━━\u001b[0m\u001b[37m\u001b[0m \u001b[1m3s\u001b[0m 8ms/step - accuracy: 0.9324 - loss: 0.1756 - precision: 0.8994 - recall: 0.9430 - val_accuracy: 0.7975 - val_loss: 0.6624 - val_precision: 0.7500 - val_recall: 0.7941\n",
      "Epoch 6/10\n",
      "\u001b[1m180/180\u001b[0m \u001b[32m━━━━━━━━━━━━━━━━━━━━\u001b[0m\u001b[37m\u001b[0m \u001b[1m1s\u001b[0m 8ms/step - accuracy: 0.9797 - loss: 0.0661 - precision: 0.9686 - recall: 0.9822 - val_accuracy: 0.7975 - val_loss: 0.7042 - val_precision: 0.7432 - val_recall: 0.8088\n",
      "Epoch 7/10\n",
      "\u001b[1m180/180\u001b[0m \u001b[32m━━━━━━━━━━━━━━━━━━━━\u001b[0m\u001b[37m\u001b[0m \u001b[1m3s\u001b[0m 8ms/step - accuracy: 0.9904 - loss: 0.0343 - precision: 0.9865 - recall: 0.9901 - val_accuracy: 0.7785 - val_loss: 0.7552 - val_precision: 0.7391 - val_recall: 0.7500\n",
      "Epoch 8/10\n",
      "\u001b[1m180/180\u001b[0m \u001b[32m━━━━━━━━━━━━━━━━━━━━\u001b[0m\u001b[37m\u001b[0m \u001b[1m3s\u001b[0m 12ms/step - accuracy: 0.9918 - loss: 0.0358 - precision: 0.9860 - recall: 0.9940 - val_accuracy: 0.7785 - val_loss: 0.9503 - val_precision: 0.7705 - val_recall: 0.6912\n",
      "Epoch 9/10\n",
      "\u001b[1m180/180\u001b[0m \u001b[32m━━━━━━━━━━━━━━━━━━━━\u001b[0m\u001b[37m\u001b[0m \u001b[1m2s\u001b[0m 11ms/step - accuracy: 0.9953 - loss: 0.0160 - precision: 0.9916 - recall: 0.9969 - val_accuracy: 0.7785 - val_loss: 0.9391 - val_precision: 0.7619 - val_recall: 0.7059\n",
      "Epoch 10/10\n",
      "\u001b[1m180/180\u001b[0m \u001b[32m━━━━━━━━━━━━━━━━━━━━\u001b[0m\u001b[37m\u001b[0m \u001b[1m2s\u001b[0m 8ms/step - accuracy: 0.9978 - loss: 0.0081 - precision: 0.9950 - recall: 0.9998 - val_accuracy: 0.7722 - val_loss: 1.0348 - val_precision: 0.7424 - val_recall: 0.7206\n",
      "\u001b[1m5/5\u001b[0m \u001b[32m━━━━━━━━━━━━━━━━━━━━\u001b[0m\u001b[37m\u001b[0m \u001b[1m0s\u001b[0m 46ms/step\n",
      "Seed=39, hidden_units=64, batch_size=32\n",
      "Total OOV terms: 1340 (14.31%)\n",
      "Epoch 1/10\n",
      "\u001b[1m90/90\u001b[0m \u001b[32m━━━━━━━━━━━━━━━━━━━━\u001b[0m\u001b[37m\u001b[0m \u001b[1m3s\u001b[0m 14ms/step - accuracy: 0.6020 - loss: 0.6589 - precision: 0.5321 - recall: 0.2383 - val_accuracy: 0.7532 - val_loss: 0.5188 - val_precision: 0.8222 - val_recall: 0.5441\n",
      "Epoch 2/10\n",
      "\u001b[1m90/90\u001b[0m \u001b[32m━━━━━━━━━━━━━━━━━━━━\u001b[0m\u001b[37m\u001b[0m \u001b[1m2s\u001b[0m 12ms/step - accuracy: 0.7658 - loss: 0.4979 - precision: 0.7225 - recall: 0.6905 - val_accuracy: 0.7722 - val_loss: 0.4616 - val_precision: 0.7222 - val_recall: 0.7647\n",
      "Epoch 3/10\n",
      "\u001b[1m90/90\u001b[0m \u001b[32m━━━━━━━━━━━━━━━━━━━━\u001b[0m\u001b[37m\u001b[0m \u001b[1m1s\u001b[0m 12ms/step - accuracy: 0.8372 - loss: 0.3819 - precision: 0.7948 - recall: 0.8112 - val_accuracy: 0.8291 - val_loss: 0.4332 - val_precision: 0.8154 - val_recall: 0.7794\n",
      "Epoch 4/10\n",
      "\u001b[1m90/90\u001b[0m \u001b[32m━━━━━━━━━━━━━━━━━━━━\u001b[0m\u001b[37m\u001b[0m \u001b[1m1s\u001b[0m 13ms/step - accuracy: 0.8995 - loss: 0.2735 - precision: 0.8694 - recall: 0.8864 - val_accuracy: 0.8101 - val_loss: 0.4520 - val_precision: 0.7794 - val_recall: 0.7794\n",
      "Epoch 5/10\n",
      "\u001b[1m90/90\u001b[0m \u001b[32m━━━━━━━━━━━━━━━━━━━━\u001b[0m\u001b[37m\u001b[0m \u001b[1m1s\u001b[0m 10ms/step - accuracy: 0.9322 - loss: 0.1895 - precision: 0.9080 - recall: 0.9275 - val_accuracy: 0.8228 - val_loss: 0.4599 - val_precision: 0.8333 - val_recall: 0.7353\n",
      "Epoch 6/10\n",
      "\u001b[1m90/90\u001b[0m \u001b[32m━━━━━━━━━━━━━━━━━━━━\u001b[0m\u001b[37m\u001b[0m \u001b[1m1s\u001b[0m 10ms/step - accuracy: 0.9489 - loss: 0.1473 - precision: 0.9198 - recall: 0.9587 - val_accuracy: 0.7595 - val_loss: 0.9144 - val_precision: 0.9167 - val_recall: 0.4853\n",
      "Epoch 7/10\n",
      "\u001b[1m90/90\u001b[0m \u001b[32m━━━━━━━━━━━━━━━━━━━━\u001b[0m\u001b[37m\u001b[0m \u001b[1m1s\u001b[0m 9ms/step - accuracy: 0.9623 - loss: 0.1251 - precision: 0.9569 - recall: 0.9509 - val_accuracy: 0.8101 - val_loss: 0.5783 - val_precision: 0.8393 - val_recall: 0.6912\n",
      "Epoch 8/10\n",
      "\u001b[1m90/90\u001b[0m \u001b[32m━━━━━━━━━━━━━━━━━━━━\u001b[0m\u001b[37m\u001b[0m \u001b[1m1s\u001b[0m 8ms/step - accuracy: 0.9836 - loss: 0.0518 - precision: 0.9762 - recall: 0.9837 - val_accuracy: 0.7911 - val_loss: 0.6091 - val_precision: 0.7778 - val_recall: 0.7206\n",
      "Epoch 9/10\n",
      "\u001b[1m90/90\u001b[0m \u001b[32m━━━━━━━━━━━━━━━━━━━━\u001b[0m\u001b[37m\u001b[0m \u001b[1m1s\u001b[0m 8ms/step - accuracy: 0.9895 - loss: 0.0299 - precision: 0.9859 - recall: 0.9885 - val_accuracy: 0.8038 - val_loss: 0.6638 - val_precision: 0.7846 - val_recall: 0.7500\n",
      "Epoch 10/10\n",
      "\u001b[1m90/90\u001b[0m \u001b[32m━━━━━━━━━━━━━━━━━━━━\u001b[0m\u001b[37m\u001b[0m \u001b[1m1s\u001b[0m 8ms/step - accuracy: 0.9953 - loss: 0.0169 - precision: 0.9922 - recall: 0.9964 - val_accuracy: 0.7975 - val_loss: 0.8749 - val_precision: 0.8214 - val_recall: 0.6765\n",
      "\u001b[1m5/5\u001b[0m \u001b[32m━━━━━━━━━━━━━━━━━━━━\u001b[0m\u001b[37m\u001b[0m \u001b[1m0s\u001b[0m 45ms/step\n",
      "Seed=42, hidden_units=32, batch_size=16\n",
      "Total OOV terms: 1340 (14.31%)\n",
      "Epoch 1/10\n",
      "\u001b[1m180/180\u001b[0m \u001b[32m━━━━━━━━━━━━━━━━━━━━\u001b[0m\u001b[37m\u001b[0m \u001b[1m5s\u001b[0m 16ms/step - accuracy: 0.6283 - loss: 0.6366 - precision: 0.5796 - recall: 0.2659 - val_accuracy: 0.7405 - val_loss: 0.5568 - val_precision: 0.8649 - val_recall: 0.4706\n",
      "Epoch 2/10\n",
      "\u001b[1m180/180\u001b[0m \u001b[32m━━━━━━━━━━━━━━━━━━━━\u001b[0m\u001b[37m\u001b[0m \u001b[1m2s\u001b[0m 9ms/step - accuracy: 0.7799 - loss: 0.4767 - precision: 0.7652 - recall: 0.6407 - val_accuracy: 0.7595 - val_loss: 0.5194 - val_precision: 0.8409 - val_recall: 0.5441\n",
      "Epoch 3/10\n",
      "\u001b[1m180/180\u001b[0m \u001b[32m━━━━━━━━━━━━━━━━━━━━\u001b[0m\u001b[37m\u001b[0m \u001b[1m2s\u001b[0m 8ms/step - accuracy: 0.8352 - loss: 0.3793 - precision: 0.8152 - recall: 0.7543 - val_accuracy: 0.7848 - val_loss: 0.4924 - val_precision: 0.8400 - val_recall: 0.6176\n",
      "Epoch 4/10\n",
      "\u001b[1m180/180\u001b[0m \u001b[32m━━━━━━━━━━━━━━━━━━━━\u001b[0m\u001b[37m\u001b[0m \u001b[1m3s\u001b[0m 8ms/step - accuracy: 0.8882 - loss: 0.2889 - precision: 0.8637 - recall: 0.8516 - val_accuracy: 0.8038 - val_loss: 0.5153 - val_precision: 0.8936 - val_recall: 0.6176\n",
      "Epoch 5/10\n",
      "\u001b[1m180/180\u001b[0m \u001b[32m━━━━━━━━━━━━━━━━━━━━\u001b[0m\u001b[37m\u001b[0m \u001b[1m3s\u001b[0m 8ms/step - accuracy: 0.9255 - loss: 0.1996 - precision: 0.9040 - recall: 0.9079 - val_accuracy: 0.7975 - val_loss: 0.5708 - val_precision: 0.8462 - val_recall: 0.6471\n",
      "Epoch 6/10\n",
      "\u001b[1m180/180\u001b[0m \u001b[32m━━━━━━━━━━━━━━━━━━━━\u001b[0m\u001b[37m\u001b[0m \u001b[1m2s\u001b[0m 9ms/step - accuracy: 0.9583 - loss: 0.1264 - precision: 0.9403 - recall: 0.9549 - val_accuracy: 0.7658 - val_loss: 0.6905 - val_precision: 0.8163 - val_recall: 0.5882\n",
      "Epoch 7/10\n",
      "\u001b[1m180/180\u001b[0m \u001b[32m━━━━━━━━━━━━━━━━━━━━\u001b[0m\u001b[37m\u001b[0m \u001b[1m2s\u001b[0m 12ms/step - accuracy: 0.9771 - loss: 0.0798 - precision: 0.9679 - recall: 0.9742 - val_accuracy: 0.7658 - val_loss: 0.7342 - val_precision: 0.7818 - val_recall: 0.6324\n",
      "Epoch 8/10\n",
      "\u001b[1m180/180\u001b[0m \u001b[32m━━━━━━━━━━━━━━━━━━━━\u001b[0m\u001b[37m\u001b[0m \u001b[1m2s\u001b[0m 9ms/step - accuracy: 0.9860 - loss: 0.0551 - precision: 0.9798 - recall: 0.9846 - val_accuracy: 0.7658 - val_loss: 0.8364 - val_precision: 0.8163 - val_recall: 0.5882\n",
      "Epoch 9/10\n",
      "\u001b[1m180/180\u001b[0m \u001b[32m━━━━━━━━━━━━━━━━━━━━\u001b[0m\u001b[37m\u001b[0m \u001b[1m2s\u001b[0m 8ms/step - accuracy: 0.9902 - loss: 0.0441 - precision: 0.9854 - recall: 0.9896 - val_accuracy: 0.7848 - val_loss: 0.8575 - val_precision: 0.8148 - val_recall: 0.6471\n",
      "Epoch 10/10\n",
      "\u001b[1m180/180\u001b[0m \u001b[32m━━━━━━━━━━━━━━━━━━━━\u001b[0m\u001b[37m\u001b[0m \u001b[1m3s\u001b[0m 8ms/step - accuracy: 0.9878 - loss: 0.0413 - precision: 0.9836 - recall: 0.9856 - val_accuracy: 0.7532 - val_loss: 0.9770 - val_precision: 0.8085 - val_recall: 0.5588\n",
      "\u001b[1m5/5\u001b[0m \u001b[32m━━━━━━━━━━━━━━━━━━━━\u001b[0m\u001b[37m\u001b[0m \u001b[1m0s\u001b[0m 43ms/step\n",
      "Seed=42, hidden_units=32, batch_size=32\n",
      "Total OOV terms: 1340 (14.31%)\n",
      "Epoch 1/10\n",
      "\u001b[1m90/90\u001b[0m \u001b[32m━━━━━━━━━━━━━━━━━━━━\u001b[0m\u001b[37m\u001b[0m \u001b[1m5s\u001b[0m 20ms/step - accuracy: 0.6078 - loss: 0.6528 - precision: 0.4935 - recall: 0.1209 - val_accuracy: 0.7089 - val_loss: 0.5688 - val_precision: 0.8235 - val_recall: 0.4118\n",
      "Epoch 2/10\n",
      "\u001b[1m90/90\u001b[0m \u001b[32m━━━━━━━━━━━━━━━━━━━━\u001b[0m\u001b[37m\u001b[0m \u001b[1m1s\u001b[0m 8ms/step - accuracy: 0.7383 - loss: 0.5238 - precision: 0.7168 - recall: 0.5600 - val_accuracy: 0.7342 - val_loss: 0.5206 - val_precision: 0.7955 - val_recall: 0.5147\n",
      "Epoch 3/10\n",
      "\u001b[1m90/90\u001b[0m \u001b[32m━━━━━━━━━━━━━━━━━━━━\u001b[0m\u001b[37m\u001b[0m \u001b[1m1s\u001b[0m 8ms/step - accuracy: 0.8068 - loss: 0.4413 - precision: 0.7915 - recall: 0.6947 - val_accuracy: 0.7405 - val_loss: 0.5010 - val_precision: 0.8293 - val_recall: 0.5000\n",
      "Epoch 4/10\n",
      "\u001b[1m90/90\u001b[0m \u001b[32m━━━━━━━━━━━━━━━━━━━━\u001b[0m\u001b[37m\u001b[0m \u001b[1m1s\u001b[0m 8ms/step - accuracy: 0.8511 - loss: 0.3711 - precision: 0.8422 - recall: 0.7674 - val_accuracy: 0.7848 - val_loss: 0.4831 - val_precision: 0.8864 - val_recall: 0.5735\n",
      "Epoch 5/10\n",
      "\u001b[1m90/90\u001b[0m \u001b[32m━━━━━━━━━━━━━━━━━━━━\u001b[0m\u001b[37m\u001b[0m \u001b[1m1s\u001b[0m 8ms/step - accuracy: 0.8856 - loss: 0.2960 - precision: 0.8732 - recall: 0.8318 - val_accuracy: 0.7722 - val_loss: 0.5319 - val_precision: 0.8636 - val_recall: 0.5588\n",
      "Epoch 6/10\n",
      "\u001b[1m90/90\u001b[0m \u001b[32m━━━━━━━━━━━━━━━━━━━━\u001b[0m\u001b[37m\u001b[0m \u001b[1m1s\u001b[0m 8ms/step - accuracy: 0.9196 - loss: 0.2166 - precision: 0.9020 - recall: 0.8940 - val_accuracy: 0.8101 - val_loss: 0.5281 - val_precision: 0.8519 - val_recall: 0.6765\n",
      "Epoch 7/10\n",
      "\u001b[1m90/90\u001b[0m \u001b[32m━━━━━━━━━━━━━━━━━━━━\u001b[0m\u001b[37m\u001b[0m \u001b[1m1s\u001b[0m 8ms/step - accuracy: 0.9467 - loss: 0.1578 - precision: 0.9298 - recall: 0.9357 - val_accuracy: 0.7848 - val_loss: 0.6714 - val_precision: 0.8148 - val_recall: 0.6471\n",
      "Epoch 8/10\n",
      "\u001b[1m90/90\u001b[0m \u001b[32m━━━━━━━━━━━━━━━━━━━━\u001b[0m\u001b[37m\u001b[0m \u001b[1m1s\u001b[0m 8ms/step - accuracy: 0.9679 - loss: 0.1064 - precision: 0.9576 - recall: 0.9614 - val_accuracy: 0.7468 - val_loss: 1.0901 - val_precision: 0.8889 - val_recall: 0.4706\n",
      "Epoch 9/10\n",
      "\u001b[1m90/90\u001b[0m \u001b[32m━━━━━━━━━━━━━━━━━━━━\u001b[0m\u001b[37m\u001b[0m \u001b[1m1s\u001b[0m 8ms/step - accuracy: 0.9721 - loss: 0.0911 - precision: 0.9656 - recall: 0.9640 - val_accuracy: 0.7848 - val_loss: 0.6518 - val_precision: 0.8148 - val_recall: 0.6471\n",
      "Epoch 10/10\n",
      "\u001b[1m90/90\u001b[0m \u001b[32m━━━━━━━━━━━━━━━━━━━━\u001b[0m\u001b[37m\u001b[0m \u001b[1m1s\u001b[0m 8ms/step - accuracy: 0.9744 - loss: 0.0938 - precision: 0.9660 - recall: 0.9690 - val_accuracy: 0.8101 - val_loss: 0.5572 - val_precision: 0.7794 - val_recall: 0.7794\n",
      "\u001b[1m5/5\u001b[0m \u001b[32m━━━━━━━━━━━━━━━━━━━━\u001b[0m\u001b[37m\u001b[0m \u001b[1m0s\u001b[0m 44ms/step\n",
      "Seed=42, hidden_units=64, batch_size=16\n",
      "Total OOV terms: 1340 (14.31%)\n",
      "Epoch 1/10\n",
      "\u001b[1m180/180\u001b[0m \u001b[32m━━━━━━━━━━━━━━━━━━━━\u001b[0m\u001b[37m\u001b[0m \u001b[1m5s\u001b[0m 14ms/step - accuracy: 0.6494 - loss: 0.6221 - precision: 0.6146 - recall: 0.2958 - val_accuracy: 0.7215 - val_loss: 0.5586 - val_precision: 0.8333 - val_recall: 0.4412\n",
      "Epoch 2/10\n",
      "\u001b[1m180/180\u001b[0m \u001b[32m━━━━━━━━━━━━━━━━━━━━\u001b[0m\u001b[37m\u001b[0m \u001b[1m2s\u001b[0m 8ms/step - accuracy: 0.7794 - loss: 0.4846 - precision: 0.7632 - recall: 0.6411 - val_accuracy: 0.7405 - val_loss: 0.5354 - val_precision: 0.9091 - val_recall: 0.4412\n",
      "Epoch 3/10\n",
      "\u001b[1m180/180\u001b[0m \u001b[32m━━━━━━━━━━━━━━━━━━━━\u001b[0m\u001b[37m\u001b[0m \u001b[1m1s\u001b[0m 8ms/step - accuracy: 0.8194 - loss: 0.3935 - precision: 0.8055 - recall: 0.7164 - val_accuracy: 0.7342 - val_loss: 0.5270 - val_precision: 0.8421 - val_recall: 0.4706\n",
      "Epoch 4/10\n",
      "\u001b[1m180/180\u001b[0m \u001b[32m━━━━━━━━━━━━━━━━━━━━\u001b[0m\u001b[37m\u001b[0m \u001b[1m3s\u001b[0m 8ms/step - accuracy: 0.8848 - loss: 0.2909 - precision: 0.8660 - recall: 0.8384 - val_accuracy: 0.7848 - val_loss: 0.5028 - val_precision: 0.8542 - val_recall: 0.6029\n",
      "Epoch 5/10\n",
      "\u001b[1m180/180\u001b[0m \u001b[32m━━━━━━━━━━━━━━━━━━━━\u001b[0m\u001b[37m\u001b[0m \u001b[1m2s\u001b[0m 12ms/step - accuracy: 0.9189 - loss: 0.2060 - precision: 0.9019 - recall: 0.8925 - val_accuracy: 0.7405 - val_loss: 0.7104 - val_precision: 0.8293 - val_recall: 0.5000\n",
      "Epoch 6/10\n",
      "\u001b[1m180/180\u001b[0m \u001b[32m━━━━━━━━━━━━━━━━━━━━\u001b[0m\u001b[37m\u001b[0m \u001b[1m2s\u001b[0m 11ms/step - accuracy: 0.9546 - loss: 0.1381 - precision: 0.9435 - recall: 0.9412 - val_accuracy: 0.7785 - val_loss: 0.6679 - val_precision: 0.8235 - val_recall: 0.6176\n",
      "Epoch 7/10\n",
      "\u001b[1m180/180\u001b[0m \u001b[32m━━━━━━━━━━━━━━━━━━━━\u001b[0m\u001b[37m\u001b[0m \u001b[1m1s\u001b[0m 8ms/step - accuracy: 0.9721 - loss: 0.0822 - precision: 0.9604 - recall: 0.9696 - val_accuracy: 0.7848 - val_loss: 0.7004 - val_precision: 0.7833 - val_recall: 0.6912\n",
      "Epoch 8/10\n",
      "\u001b[1m180/180\u001b[0m \u001b[32m━━━━━━━━━━━━━━━━━━━━\u001b[0m\u001b[37m\u001b[0m \u001b[1m3s\u001b[0m 8ms/step - accuracy: 0.9857 - loss: 0.0482 - precision: 0.9796 - recall: 0.9842 - val_accuracy: 0.7722 - val_loss: 1.0140 - val_precision: 0.8810 - val_recall: 0.5441\n",
      "Epoch 9/10\n",
      "\u001b[1m180/180\u001b[0m \u001b[32m━━━━━━━━━━━━━━━━━━━━\u001b[0m\u001b[37m\u001b[0m \u001b[1m1s\u001b[0m 8ms/step - accuracy: 0.9913 - loss: 0.0323 - precision: 0.9890 - recall: 0.9890 - val_accuracy: 0.8038 - val_loss: 0.8821 - val_precision: 0.8246 - val_recall: 0.6912\n",
      "Epoch 10/10\n",
      "\u001b[1m180/180\u001b[0m \u001b[32m━━━━━━━━━━━━━━━━━━━━\u001b[0m\u001b[37m\u001b[0m \u001b[1m1s\u001b[0m 8ms/step - accuracy: 0.9911 - loss: 0.0330 - precision: 0.9869 - recall: 0.9904 - val_accuracy: 0.7532 - val_loss: 0.9290 - val_precision: 0.8222 - val_recall: 0.5441\n",
      "\u001b[1m5/5\u001b[0m \u001b[32m━━━━━━━━━━━━━━━━━━━━\u001b[0m\u001b[37m\u001b[0m \u001b[1m0s\u001b[0m 42ms/step\n",
      "Seed=42, hidden_units=64, batch_size=32\n",
      "Total OOV terms: 1340 (14.31%)\n",
      "Epoch 1/10\n",
      "\u001b[1m90/90\u001b[0m \u001b[32m━━━━━━━━━━━━━━━━━━━━\u001b[0m\u001b[37m\u001b[0m \u001b[1m4s\u001b[0m 14ms/step - accuracy: 0.6303 - loss: 0.6436 - precision: 0.5657 - recall: 0.1874 - val_accuracy: 0.7278 - val_loss: 0.5491 - val_precision: 0.8378 - val_recall: 0.4559\n",
      "Epoch 2/10\n",
      "\u001b[1m90/90\u001b[0m \u001b[32m━━━━━━━━━━━━━━━━━━━━\u001b[0m\u001b[37m\u001b[0m \u001b[1m2s\u001b[0m 9ms/step - accuracy: 0.7610 - loss: 0.5113 - precision: 0.7462 - recall: 0.6005 - val_accuracy: 0.7215 - val_loss: 0.5362 - val_precision: 0.8000 - val_recall: 0.4706\n",
      "Epoch 3/10\n",
      "\u001b[1m90/90\u001b[0m \u001b[32m━━━━━━━━━━━━━━━━━━━━\u001b[0m\u001b[37m\u001b[0m \u001b[1m1s\u001b[0m 8ms/step - accuracy: 0.8021 - loss: 0.4362 - precision: 0.7801 - recall: 0.6958 - val_accuracy: 0.7595 - val_loss: 0.5286 - val_precision: 0.8125 - val_recall: 0.5735\n",
      "Epoch 4/10\n",
      "\u001b[1m90/90\u001b[0m \u001b[32m━━━━━━━━━━━━━━━━━━━━\u001b[0m\u001b[37m\u001b[0m \u001b[1m1s\u001b[0m 8ms/step - accuracy: 0.8421 - loss: 0.3651 - precision: 0.8230 - recall: 0.7661 - val_accuracy: 0.7911 - val_loss: 0.5050 - val_precision: 0.8723 - val_recall: 0.6029\n",
      "Epoch 5/10\n",
      "\u001b[1m90/90\u001b[0m \u001b[32m━━━━━━━━━━━━━━━━━━━━\u001b[0m\u001b[37m\u001b[0m \u001b[1m1s\u001b[0m 9ms/step - accuracy: 0.8824 - loss: 0.2941 - precision: 0.8720 - recall: 0.8236 - val_accuracy: 0.8165 - val_loss: 0.4873 - val_precision: 0.8980 - val_recall: 0.6471\n",
      "Epoch 6/10\n",
      "\u001b[1m90/90\u001b[0m \u001b[32m━━━━━━━━━━━━━━━━━━━━\u001b[0m\u001b[37m\u001b[0m \u001b[1m1s\u001b[0m 8ms/step - accuracy: 0.9220 - loss: 0.2186 - precision: 0.9075 - recall: 0.8938 - val_accuracy: 0.8038 - val_loss: 0.4953 - val_precision: 0.8627 - val_recall: 0.6471\n",
      "Epoch 7/10\n",
      "\u001b[1m90/90\u001b[0m \u001b[32m━━━━━━━━━━━━━━━━━━━━\u001b[0m\u001b[37m\u001b[0m \u001b[1m1s\u001b[0m 9ms/step - accuracy: 0.9517 - loss: 0.1494 - precision: 0.9350 - recall: 0.9430 - val_accuracy: 0.7911 - val_loss: 0.5386 - val_precision: 0.8889 - val_recall: 0.5882\n",
      "Epoch 8/10\n",
      "\u001b[1m90/90\u001b[0m \u001b[32m━━━━━━━━━━━━━━━━━━━━\u001b[0m\u001b[37m\u001b[0m \u001b[1m1s\u001b[0m 8ms/step - accuracy: 0.9704 - loss: 0.1033 - precision: 0.9613 - recall: 0.9638 - val_accuracy: 0.7975 - val_loss: 0.5647 - val_precision: 0.8462 - val_recall: 0.6471\n",
      "Epoch 9/10\n",
      "\u001b[1m90/90\u001b[0m \u001b[32m━━━━━━━━━━━━━━━━━━━━\u001b[0m\u001b[37m\u001b[0m \u001b[1m2s\u001b[0m 13ms/step - accuracy: 0.9822 - loss: 0.0741 - precision: 0.9778 - recall: 0.9770 - val_accuracy: 0.8228 - val_loss: 0.5383 - val_precision: 0.8333 - val_recall: 0.7353\n",
      "Epoch 10/10\n",
      "\u001b[1m90/90\u001b[0m \u001b[32m━━━━━━━━━━━━━━━━━━━━\u001b[0m\u001b[37m\u001b[0m \u001b[1m1s\u001b[0m 13ms/step - accuracy: 0.9829 - loss: 0.0573 - precision: 0.9760 - recall: 0.9810 - val_accuracy: 0.7658 - val_loss: 0.9418 - val_precision: 0.8605 - val_recall: 0.5441\n",
      "\u001b[1m5/5\u001b[0m \u001b[32m━━━━━━━━━━━━━━━━━━━━\u001b[0m\u001b[37m\u001b[0m \u001b[1m1s\u001b[0m 63ms/step\n",
      "Seed=42, hidden_units=32, batch_size=16\n",
      "Total OOV terms: 1340 (14.31%)\n",
      "Epoch 1/10\n",
      "\u001b[1m180/180\u001b[0m \u001b[32m━━━━━━━━━━━━━━━━━━━━\u001b[0m\u001b[37m\u001b[0m \u001b[1m4s\u001b[0m 11ms/step - accuracy: 0.6319 - loss: 0.6344 - precision: 0.5839 - recall: 0.1983 - val_accuracy: 0.7468 - val_loss: 0.5234 - val_precision: 0.8684 - val_recall: 0.4853\n",
      "Epoch 2/10\n",
      "\u001b[1m180/180\u001b[0m \u001b[32m━━━━━━━━━━━━━━━━━━━━\u001b[0m\u001b[37m\u001b[0m \u001b[1m2s\u001b[0m 8ms/step - accuracy: 0.8011 - loss: 0.4485 - precision: 0.7880 - recall: 0.6809 - val_accuracy: 0.7848 - val_loss: 0.4832 - val_precision: 0.8864 - val_recall: 0.5735\n",
      "Epoch 3/10\n",
      "\u001b[1m180/180\u001b[0m \u001b[32m━━━━━━━━━━━━━━━━━━━━\u001b[0m\u001b[37m\u001b[0m \u001b[1m3s\u001b[0m 9ms/step - accuracy: 0.8630 - loss: 0.3281 - precision: 0.8401 - recall: 0.8075 - val_accuracy: 0.7722 - val_loss: 0.5041 - val_precision: 0.8077 - val_recall: 0.6176\n",
      "Epoch 4/10\n",
      "\u001b[1m180/180\u001b[0m \u001b[32m━━━━━━━━━━━━━━━━━━━━\u001b[0m\u001b[37m\u001b[0m \u001b[1m2s\u001b[0m 12ms/step - accuracy: 0.9195 - loss: 0.2129 - precision: 0.8893 - recall: 0.9098 - val_accuracy: 0.7785 - val_loss: 0.5829 - val_precision: 0.8235 - val_recall: 0.6176\n",
      "Epoch 5/10\n",
      "\u001b[1m180/180\u001b[0m \u001b[32m━━━━━━━━━━━━━━━━━━━━\u001b[0m\u001b[37m\u001b[0m \u001b[1m2s\u001b[0m 11ms/step - accuracy: 0.9561 - loss: 0.1354 - precision: 0.9443 - recall: 0.9445 - val_accuracy: 0.7532 - val_loss: 0.8200 - val_precision: 0.8372 - val_recall: 0.5294\n",
      "Epoch 6/10\n",
      "\u001b[1m180/180\u001b[0m \u001b[32m━━━━━━━━━━━━━━━━━━━━\u001b[0m\u001b[37m\u001b[0m \u001b[1m2s\u001b[0m 8ms/step - accuracy: 0.9731 - loss: 0.0846 - precision: 0.9657 - recall: 0.9661 - val_accuracy: 0.7468 - val_loss: 0.8167 - val_precision: 0.7917 - val_recall: 0.5588\n",
      "Epoch 7/10\n",
      "\u001b[1m180/180\u001b[0m \u001b[32m━━━━━━━━━━━━━━━━━━━━\u001b[0m\u001b[37m\u001b[0m \u001b[1m3s\u001b[0m 8ms/step - accuracy: 0.9843 - loss: 0.0575 - precision: 0.9768 - recall: 0.9833 - val_accuracy: 0.7785 - val_loss: 0.7904 - val_precision: 0.8113 - val_recall: 0.6324\n",
      "Epoch 8/10\n",
      "\u001b[1m180/180\u001b[0m \u001b[32m━━━━━━━━━━━━━━━━━━━━\u001b[0m\u001b[37m\u001b[0m \u001b[1m2s\u001b[0m 8ms/step - accuracy: 0.9864 - loss: 0.0465 - precision: 0.9825 - recall: 0.9828 - val_accuracy: 0.7911 - val_loss: 0.8334 - val_precision: 0.8070 - val_recall: 0.6765\n",
      "Epoch 9/10\n",
      "\u001b[1m180/180\u001b[0m \u001b[32m━━━━━━━━━━━━━━━━━━━━\u001b[0m\u001b[37m\u001b[0m \u001b[1m1s\u001b[0m 8ms/step - accuracy: 0.9925 - loss: 0.0275 - precision: 0.9899 - recall: 0.9910 - val_accuracy: 0.7911 - val_loss: 0.8652 - val_precision: 0.7966 - val_recall: 0.6912\n",
      "Epoch 10/10\n",
      "\u001b[1m180/180\u001b[0m \u001b[32m━━━━━━━━━━━━━━━━━━━━\u001b[0m\u001b[37m\u001b[0m \u001b[1m1s\u001b[0m 8ms/step - accuracy: 0.9961 - loss: 0.0154 - precision: 0.9936 - recall: 0.9964 - val_accuracy: 0.7911 - val_loss: 0.8642 - val_precision: 0.7966 - val_recall: 0.6912\n",
      "\u001b[1m5/5\u001b[0m \u001b[32m━━━━━━━━━━━━━━━━━━━━\u001b[0m\u001b[37m\u001b[0m \u001b[1m0s\u001b[0m 64ms/step\n",
      "Seed=42, hidden_units=32, batch_size=32\n",
      "Total OOV terms: 1340 (14.31%)\n",
      "Epoch 1/10\n",
      "\u001b[1m90/90\u001b[0m \u001b[32m━━━━━━━━━━━━━━━━━━━━\u001b[0m\u001b[37m\u001b[0m \u001b[1m4s\u001b[0m 14ms/step - accuracy: 0.6017 - loss: 0.6625 - precision: 0.5085 - recall: 0.1973 - val_accuracy: 0.7089 - val_loss: 0.5571 - val_precision: 0.8438 - val_recall: 0.3971\n",
      "Epoch 2/10\n",
      "\u001b[1m90/90\u001b[0m \u001b[32m━━━━━━━━━━━━━━━━━━━━\u001b[0m\u001b[37m\u001b[0m \u001b[1m2s\u001b[0m 9ms/step - accuracy: 0.7752 - loss: 0.4837 - precision: 0.7577 - recall: 0.6364 - val_accuracy: 0.7785 - val_loss: 0.4800 - val_precision: 0.8000 - val_recall: 0.6471\n",
      "Epoch 3/10\n",
      "\u001b[1m90/90\u001b[0m \u001b[32m━━━━━━━━━━━━━━━━━━━━\u001b[0m\u001b[37m\u001b[0m \u001b[1m1s\u001b[0m 8ms/step - accuracy: 0.8301 - loss: 0.3822 - precision: 0.8079 - recall: 0.7500 - val_accuracy: 0.7911 - val_loss: 0.4731 - val_precision: 0.8571 - val_recall: 0.6176\n",
      "Epoch 4/10\n",
      "\u001b[1m90/90\u001b[0m \u001b[32m━━━━━━━━━━━━━━━━━━━━\u001b[0m\u001b[37m\u001b[0m \u001b[1m1s\u001b[0m 8ms/step - accuracy: 0.8965 - loss: 0.2693 - precision: 0.8766 - recall: 0.8595 - val_accuracy: 0.8101 - val_loss: 0.5518 - val_precision: 0.9524 - val_recall: 0.5882\n",
      "Epoch 5/10\n",
      "\u001b[1m90/90\u001b[0m \u001b[32m━━━━━━━━━━━━━━━━━━━━\u001b[0m\u001b[37m\u001b[0m \u001b[1m1s\u001b[0m 8ms/step - accuracy: 0.9326 - loss: 0.1853 - precision: 0.9129 - recall: 0.9170 - val_accuracy: 0.7405 - val_loss: 0.8348 - val_precision: 0.9655 - val_recall: 0.4118\n",
      "Epoch 6/10\n",
      "\u001b[1m90/90\u001b[0m \u001b[32m━━━━━━━━━━━━━━━━━━━━\u001b[0m\u001b[37m\u001b[0m \u001b[1m1s\u001b[0m 8ms/step - accuracy: 0.9517 - loss: 0.1450 - precision: 0.9410 - recall: 0.9371 - val_accuracy: 0.7848 - val_loss: 0.5485 - val_precision: 0.8542 - val_recall: 0.6029\n",
      "Epoch 7/10\n",
      "\u001b[1m90/90\u001b[0m \u001b[32m━━━━━━━━━━━━━━━━━━━━\u001b[0m\u001b[37m\u001b[0m \u001b[1m2s\u001b[0m 13ms/step - accuracy: 0.9627 - loss: 0.1191 - precision: 0.9554 - recall: 0.9502 - val_accuracy: 0.7848 - val_loss: 0.6410 - val_precision: 0.8400 - val_recall: 0.6176\n",
      "Epoch 8/10\n",
      "\u001b[1m90/90\u001b[0m \u001b[32m━━━━━━━━━━━━━━━━━━━━\u001b[0m\u001b[37m\u001b[0m \u001b[1m1s\u001b[0m 13ms/step - accuracy: 0.9829 - loss: 0.0649 - precision: 0.9778 - recall: 0.9789 - val_accuracy: 0.7975 - val_loss: 0.6298 - val_precision: 0.8333 - val_recall: 0.6618\n",
      "Epoch 9/10\n",
      "\u001b[1m90/90\u001b[0m \u001b[32m━━━━━━━━━━━━━━━━━━━━\u001b[0m\u001b[37m\u001b[0m \u001b[1m1s\u001b[0m 14ms/step - accuracy: 0.9903 - loss: 0.0453 - precision: 0.9839 - recall: 0.9916 - val_accuracy: 0.7911 - val_loss: 0.7843 - val_precision: 0.8182 - val_recall: 0.6618\n",
      "Epoch 10/10\n",
      "\u001b[1m90/90\u001b[0m \u001b[32m━━━━━━━━━━━━━━━━━━━━\u001b[0m\u001b[37m\u001b[0m \u001b[1m2s\u001b[0m 9ms/step - accuracy: 0.9939 - loss: 0.0337 - precision: 0.9898 - recall: 0.9949 - val_accuracy: 0.7785 - val_loss: 0.8676 - val_precision: 0.8235 - val_recall: 0.6176\n",
      "\u001b[1m5/5\u001b[0m \u001b[32m━━━━━━━━━━━━━━━━━━━━\u001b[0m\u001b[37m\u001b[0m \u001b[1m0s\u001b[0m 47ms/step\n",
      "Seed=42, hidden_units=64, batch_size=16\n",
      "Total OOV terms: 1340 (14.31%)\n",
      "Epoch 1/10\n",
      "\u001b[1m180/180\u001b[0m \u001b[32m━━━━━━━━━━━━━━━━━━━━\u001b[0m\u001b[37m\u001b[0m \u001b[1m4s\u001b[0m 11ms/step - accuracy: 0.6399 - loss: 0.6265 - precision: 0.5916 - recall: 0.2339 - val_accuracy: 0.7342 - val_loss: 0.4888 - val_precision: 0.7500 - val_recall: 0.5735\n",
      "Epoch 2/10\n",
      "\u001b[1m180/180\u001b[0m \u001b[32m━━━━━━━━━━━━━━━━━━━━\u001b[0m\u001b[37m\u001b[0m \u001b[1m2s\u001b[0m 10ms/step - accuracy: 0.7995 - loss: 0.4441 - precision: 0.7784 - recall: 0.6885 - val_accuracy: 0.7785 - val_loss: 0.4479 - val_precision: 0.8367 - val_recall: 0.6029\n",
      "Epoch 3/10\n",
      "\u001b[1m180/180\u001b[0m \u001b[32m━━━━━━━━━━━━━━━━━━━━\u001b[0m\u001b[37m\u001b[0m \u001b[1m3s\u001b[0m 13ms/step - accuracy: 0.8611 - loss: 0.3203 - precision: 0.8307 - recall: 0.8151 - val_accuracy: 0.8228 - val_loss: 0.4547 - val_precision: 0.8448 - val_recall: 0.7206\n",
      "Epoch 4/10\n",
      "\u001b[1m180/180\u001b[0m \u001b[32m━━━━━━━━━━━━━━━━━━━━\u001b[0m\u001b[37m\u001b[0m \u001b[1m2s\u001b[0m 8ms/step - accuracy: 0.9267 - loss: 0.1938 - precision: 0.8988 - recall: 0.9177 - val_accuracy: 0.7785 - val_loss: 0.7148 - val_precision: 0.9231 - val_recall: 0.5294\n",
      "Epoch 5/10\n",
      "\u001b[1m180/180\u001b[0m \u001b[32m━━━━━━━━━━━━━━━━━━━━\u001b[0m\u001b[37m\u001b[0m \u001b[1m3s\u001b[0m 8ms/step - accuracy: 0.9590 - loss: 0.1120 - precision: 0.9470 - recall: 0.9490 - val_accuracy: 0.7785 - val_loss: 0.8133 - val_precision: 0.8837 - val_recall: 0.5588\n",
      "Epoch 6/10\n",
      "\u001b[1m180/180\u001b[0m \u001b[32m━━━━━━━━━━━━━━━━━━━━\u001b[0m\u001b[37m\u001b[0m \u001b[1m1s\u001b[0m 8ms/step - accuracy: 0.9807 - loss: 0.0613 - precision: 0.9769 - recall: 0.9741 - val_accuracy: 0.7595 - val_loss: 0.7401 - val_precision: 0.7586 - val_recall: 0.6471\n",
      "Epoch 7/10\n",
      "\u001b[1m180/180\u001b[0m \u001b[32m━━━━━━━━━━━━━━━━━━━━\u001b[0m\u001b[37m\u001b[0m \u001b[1m3s\u001b[0m 8ms/step - accuracy: 0.9852 - loss: 0.0430 - precision: 0.9791 - recall: 0.9835 - val_accuracy: 0.7278 - val_loss: 1.0400 - val_precision: 0.8378 - val_recall: 0.4559\n",
      "Epoch 8/10\n",
      "\u001b[1m180/180\u001b[0m \u001b[32m━━━━━━━━━━━━━━━━━━━━\u001b[0m\u001b[37m\u001b[0m \u001b[1m2s\u001b[0m 9ms/step - accuracy: 0.9922 - loss: 0.0272 - precision: 0.9901 - recall: 0.9901 - val_accuracy: 0.7785 - val_loss: 0.9211 - val_precision: 0.7705 - val_recall: 0.6912\n",
      "Epoch 9/10\n",
      "\u001b[1m180/180\u001b[0m \u001b[32m━━━━━━━━━━━━━━━━━━━━\u001b[0m\u001b[37m\u001b[0m \u001b[1m3s\u001b[0m 13ms/step - accuracy: 0.9956 - loss: 0.0180 - precision: 0.9942 - recall: 0.9947 - val_accuracy: 0.7911 - val_loss: 0.8950 - val_precision: 0.8070 - val_recall: 0.6765\n",
      "Epoch 10/10\n",
      "\u001b[1m180/180\u001b[0m \u001b[32m━━━━━━━━━━━━━━━━━━━━\u001b[0m\u001b[37m\u001b[0m \u001b[1m2s\u001b[0m 9ms/step - accuracy: 0.9988 - loss: 0.0078 - precision: 0.9974 - recall: 0.9996 - val_accuracy: 0.7975 - val_loss: 1.1001 - val_precision: 0.8103 - val_recall: 0.6912\n",
      "\u001b[1m5/5\u001b[0m \u001b[32m━━━━━━━━━━━━━━━━━━━━\u001b[0m\u001b[37m\u001b[0m \u001b[1m0s\u001b[0m 41ms/step\n",
      "Seed=42, hidden_units=64, batch_size=32\n",
      "Total OOV terms: 1340 (14.31%)\n",
      "Epoch 1/10\n",
      "\u001b[1m90/90\u001b[0m \u001b[32m━━━━━━━━━━━━━━━━━━━━\u001b[0m\u001b[37m\u001b[0m \u001b[1m4s\u001b[0m 15ms/step - accuracy: 0.6425 - loss: 0.6337 - precision: 0.6268 - recall: 0.2106 - val_accuracy: 0.7405 - val_loss: 0.5142 - val_precision: 0.8293 - val_recall: 0.5000\n",
      "Epoch 2/10\n",
      "\u001b[1m90/90\u001b[0m \u001b[32m━━━━━━━━━━━━━━━━━━━━\u001b[0m\u001b[37m\u001b[0m \u001b[1m1s\u001b[0m 9ms/step - accuracy: 0.7773 - loss: 0.4736 - precision: 0.7753 - recall: 0.6170 - val_accuracy: 0.7785 - val_loss: 0.4579 - val_precision: 0.8000 - val_recall: 0.6471\n",
      "Epoch 3/10\n",
      "\u001b[1m90/90\u001b[0m \u001b[32m━━━━━━━━━━━━━━━━━━━━\u001b[0m\u001b[37m\u001b[0m \u001b[1m1s\u001b[0m 9ms/step - accuracy: 0.8441 - loss: 0.3780 - precision: 0.8273 - recall: 0.7649 - val_accuracy: 0.7848 - val_loss: 0.4659 - val_precision: 0.8400 - val_recall: 0.6176\n",
      "Epoch 4/10\n",
      "\u001b[1m90/90\u001b[0m \u001b[32m━━━━━━━━━━━━━━━━━━━━\u001b[0m\u001b[37m\u001b[0m \u001b[1m1s\u001b[0m 9ms/step - accuracy: 0.8891 - loss: 0.2696 - precision: 0.8699 - recall: 0.8464 - val_accuracy: 0.7848 - val_loss: 0.5115 - val_precision: 0.8400 - val_recall: 0.6176\n",
      "Epoch 5/10\n",
      "\u001b[1m90/90\u001b[0m \u001b[32m━━━━━━━━━━━━━━━━━━━━\u001b[0m\u001b[37m\u001b[0m \u001b[1m2s\u001b[0m 13ms/step - accuracy: 0.9393 - loss: 0.1669 - precision: 0.9253 - recall: 0.9204 - val_accuracy: 0.7468 - val_loss: 0.6147 - val_precision: 0.8182 - val_recall: 0.5294\n",
      "Epoch 6/10\n",
      "\u001b[1m90/90\u001b[0m \u001b[32m━━━━━━━━━━━━━━━━━━━━\u001b[0m\u001b[37m\u001b[0m \u001b[1m1s\u001b[0m 13ms/step - accuracy: 0.9622 - loss: 0.1064 - precision: 0.9552 - recall: 0.9492 - val_accuracy: 0.7089 - val_loss: 1.1063 - val_precision: 0.8929 - val_recall: 0.3676\n",
      "Epoch 7/10\n",
      "\u001b[1m90/90\u001b[0m \u001b[32m━━━━━━━━━━━━━━━━━━━━\u001b[0m\u001b[37m\u001b[0m \u001b[1m1s\u001b[0m 12ms/step - accuracy: 0.9638 - loss: 0.1083 - precision: 0.9631 - recall: 0.9453 - val_accuracy: 0.7848 - val_loss: 0.5841 - val_precision: 0.7833 - val_recall: 0.6912\n",
      "Epoch 8/10\n",
      "\u001b[1m90/90\u001b[0m \u001b[32m━━━━━━━━━━━━━━━━━━━━\u001b[0m\u001b[37m\u001b[0m \u001b[1m1s\u001b[0m 10ms/step - accuracy: 0.9846 - loss: 0.0496 - precision: 0.9805 - recall: 0.9805 - val_accuracy: 0.7911 - val_loss: 0.6609 - val_precision: 0.7612 - val_recall: 0.7500\n",
      "Epoch 9/10\n",
      "\u001b[1m90/90\u001b[0m \u001b[32m━━━━━━━━━━━━━━━━━━━━\u001b[0m\u001b[37m\u001b[0m \u001b[1m1s\u001b[0m 9ms/step - accuracy: 0.9954 - loss: 0.0235 - precision: 0.9945 - recall: 0.9938 - val_accuracy: 0.7848 - val_loss: 0.7200 - val_precision: 0.7576 - val_recall: 0.7353\n",
      "Epoch 10/10\n",
      "\u001b[1m90/90\u001b[0m \u001b[32m━━━━━━━━━━━━━━━━━━━━\u001b[0m\u001b[37m\u001b[0m \u001b[1m1s\u001b[0m 9ms/step - accuracy: 0.9958 - loss: 0.0193 - precision: 0.9949 - recall: 0.9943 - val_accuracy: 0.7848 - val_loss: 0.8566 - val_precision: 0.7656 - val_recall: 0.7206\n",
      "\u001b[1m5/5\u001b[0m \u001b[32m━━━━━━━━━━━━━━━━━━━━\u001b[0m\u001b[37m\u001b[0m \u001b[1m0s\u001b[0m 44ms/step\n",
      "Seed=777, hidden_units=32, batch_size=16\n",
      "Total OOV terms: 1340 (14.31%)\n",
      "Epoch 1/10\n",
      "\u001b[1m180/180\u001b[0m \u001b[32m━━━━━━━━━━━━━━━━━━━━\u001b[0m\u001b[37m\u001b[0m \u001b[1m4s\u001b[0m 11ms/step - accuracy: 0.6315 - loss: 0.6449 - precision: 0.5827 - recall: 0.2187 - val_accuracy: 0.7342 - val_loss: 0.5525 - val_precision: 0.8095 - val_recall: 0.5000\n",
      "Epoch 2/10\n",
      "\u001b[1m180/180\u001b[0m \u001b[32m━━━━━━━━━━━━━━━━━━━━\u001b[0m\u001b[37m\u001b[0m \u001b[1m2s\u001b[0m 13ms/step - accuracy: 0.7636 - loss: 0.4897 - precision: 0.7097 - recall: 0.6860 - val_accuracy: 0.7785 - val_loss: 0.5389 - val_precision: 0.9024 - val_recall: 0.5441\n",
      "Epoch 3/10\n",
      "\u001b[1m180/180\u001b[0m \u001b[32m━━━━━━━━━━━━━━━━━━━━\u001b[0m\u001b[37m\u001b[0m \u001b[1m2s\u001b[0m 13ms/step - accuracy: 0.8254 - loss: 0.3970 - precision: 0.7860 - recall: 0.7702 - val_accuracy: 0.7848 - val_loss: 0.5136 - val_precision: 0.9048 - val_recall: 0.5588\n",
      "Epoch 4/10\n",
      "\u001b[1m180/180\u001b[0m \u001b[32m━━━━━━━━━━━━━━━━━━━━\u001b[0m\u001b[37m\u001b[0m \u001b[1m2s\u001b[0m 8ms/step - accuracy: 0.8779 - loss: 0.3193 - precision: 0.8568 - recall: 0.8315 - val_accuracy: 0.8165 - val_loss: 0.4866 - val_precision: 0.9149 - val_recall: 0.6324\n",
      "Epoch 5/10\n",
      "\u001b[1m180/180\u001b[0m \u001b[32m━━━━━━━━━━━━━━━━━━━━\u001b[0m\u001b[37m\u001b[0m \u001b[1m1s\u001b[0m 8ms/step - accuracy: 0.9167 - loss: 0.2350 - precision: 0.9011 - recall: 0.8867 - val_accuracy: 0.8101 - val_loss: 0.5260 - val_precision: 0.8519 - val_recall: 0.6765\n",
      "Epoch 6/10\n",
      "\u001b[1m180/180\u001b[0m \u001b[32m━━━━━━━━━━━━━━━━━━━━\u001b[0m\u001b[37m\u001b[0m \u001b[1m3s\u001b[0m 11ms/step - accuracy: 0.9372 - loss: 0.1772 - precision: 0.9144 - recall: 0.9282 - val_accuracy: 0.8228 - val_loss: 0.5236 - val_precision: 0.8333 - val_recall: 0.7353\n",
      "Epoch 7/10\n",
      "\u001b[1m180/180\u001b[0m \u001b[32m━━━━━━━━━━━━━━━━━━━━\u001b[0m\u001b[37m\u001b[0m \u001b[1m3s\u001b[0m 14ms/step - accuracy: 0.9594 - loss: 0.1206 - precision: 0.9422 - recall: 0.9561 - val_accuracy: 0.8228 - val_loss: 0.5910 - val_precision: 0.8226 - val_recall: 0.7500\n",
      "Epoch 8/10\n",
      "\u001b[1m180/180\u001b[0m \u001b[32m━━━━━━━━━━━━━━━━━━━━\u001b[0m\u001b[37m\u001b[0m \u001b[1m3s\u001b[0m 17ms/step - accuracy: 0.9712 - loss: 0.0823 - precision: 0.9567 - recall: 0.9715 - val_accuracy: 0.8038 - val_loss: 0.6238 - val_precision: 0.7846 - val_recall: 0.7500\n",
      "Epoch 9/10\n",
      "\u001b[1m180/180\u001b[0m \u001b[32m━━━━━━━━━━━━━━━━━━━━\u001b[0m\u001b[37m\u001b[0m \u001b[1m4s\u001b[0m 10ms/step - accuracy: 0.9841 - loss: 0.0551 - precision: 0.9738 - recall: 0.9862 - val_accuracy: 0.7911 - val_loss: 0.7010 - val_precision: 0.7778 - val_recall: 0.7206\n",
      "Epoch 10/10\n",
      "\u001b[1m180/180\u001b[0m \u001b[32m━━━━━━━━━━━━━━━━━━━━\u001b[0m\u001b[37m\u001b[0m \u001b[1m3s\u001b[0m 15ms/step - accuracy: 0.9873 - loss: 0.0405 - precision: 0.9790 - recall: 0.9891 - val_accuracy: 0.7911 - val_loss: 0.8900 - val_precision: 0.8431 - val_recall: 0.6324\n",
      "\u001b[1m5/5\u001b[0m \u001b[32m━━━━━━━━━━━━━━━━━━━━\u001b[0m\u001b[37m\u001b[0m \u001b[1m1s\u001b[0m 73ms/step\n",
      "Seed=777, hidden_units=32, batch_size=32\n",
      "Total OOV terms: 1340 (14.31%)\n",
      "Epoch 1/10\n",
      "\u001b[1m90/90\u001b[0m \u001b[32m━━━━━━━━━━━━━━━━━━━━\u001b[0m\u001b[37m\u001b[0m \u001b[1m3s\u001b[0m 14ms/step - accuracy: 0.6195 - loss: 0.6603 - precision: 0.4914 - recall: 0.1399 - val_accuracy: 0.6835 - val_loss: 0.6274 - val_precision: 0.8462 - val_recall: 0.3235\n",
      "Epoch 2/10\n",
      "\u001b[1m90/90\u001b[0m \u001b[32m━━━━━━━━━━━━━━━━━━━━\u001b[0m\u001b[37m\u001b[0m \u001b[1m1s\u001b[0m 8ms/step - accuracy: 0.7177 - loss: 0.5497 - precision: 0.6841 - recall: 0.5480 - val_accuracy: 0.7532 - val_loss: 0.5417 - val_precision: 0.7959 - val_recall: 0.5735\n",
      "Epoch 3/10\n",
      "\u001b[1m90/90\u001b[0m \u001b[32m━━━━━━━━━━━━━━━━━━━━\u001b[0m\u001b[37m\u001b[0m \u001b[1m1s\u001b[0m 8ms/step - accuracy: 0.7941 - loss: 0.4440 - precision: 0.7648 - recall: 0.6961 - val_accuracy: 0.7658 - val_loss: 0.5164 - val_precision: 0.8163 - val_recall: 0.5882\n",
      "Epoch 4/10\n",
      "\u001b[1m90/90\u001b[0m \u001b[32m━━━━━━━━━━━━━━━━━━━━\u001b[0m\u001b[37m\u001b[0m \u001b[1m1s\u001b[0m 9ms/step - accuracy: 0.8518 - loss: 0.3614 - precision: 0.8319 - recall: 0.7851 - val_accuracy: 0.7785 - val_loss: 0.4888 - val_precision: 0.8000 - val_recall: 0.6471\n",
      "Epoch 5/10\n",
      "\u001b[1m90/90\u001b[0m \u001b[32m━━━━━━━━━━━━━━━━━━━━\u001b[0m\u001b[37m\u001b[0m \u001b[1m1s\u001b[0m 13ms/step - accuracy: 0.8924 - loss: 0.2829 - precision: 0.8795 - recall: 0.8441 - val_accuracy: 0.8165 - val_loss: 0.4769 - val_precision: 0.8421 - val_recall: 0.7059\n",
      "Epoch 6/10\n",
      "\u001b[1m90/90\u001b[0m \u001b[32m━━━━━━━━━━━━━━━━━━━━\u001b[0m\u001b[37m\u001b[0m \u001b[1m1s\u001b[0m 12ms/step - accuracy: 0.9331 - loss: 0.2014 - precision: 0.9166 - recall: 0.9145 - val_accuracy: 0.8228 - val_loss: 0.4883 - val_precision: 0.8571 - val_recall: 0.7059\n",
      "Epoch 7/10\n",
      "\u001b[1m90/90\u001b[0m \u001b[32m━━━━━━━━━━━━━━━━━━━━\u001b[0m\u001b[37m\u001b[0m \u001b[1m1s\u001b[0m 13ms/step - accuracy: 0.9546 - loss: 0.1422 - precision: 0.9477 - recall: 0.9371 - val_accuracy: 0.7848 - val_loss: 0.5593 - val_precision: 0.7237 - val_recall: 0.8088\n",
      "Epoch 8/10\n",
      "\u001b[1m90/90\u001b[0m \u001b[32m━━━━━━━━━━━━━━━━━━━━\u001b[0m\u001b[37m\u001b[0m \u001b[1m1s\u001b[0m 10ms/step - accuracy: 0.9695 - loss: 0.1036 - precision: 0.9638 - recall: 0.9590 - val_accuracy: 0.7848 - val_loss: 0.5441 - val_precision: 0.7237 - val_recall: 0.8088\n",
      "Epoch 9/10\n",
      "\u001b[1m90/90\u001b[0m \u001b[32m━━━━━━━━━━━━━━━━━━━━\u001b[0m\u001b[37m\u001b[0m \u001b[1m1s\u001b[0m 8ms/step - accuracy: 0.9709 - loss: 0.0828 - precision: 0.9615 - recall: 0.9652 - val_accuracy: 0.7785 - val_loss: 0.6003 - val_precision: 0.7037 - val_recall: 0.8382\n",
      "Epoch 10/10\n",
      "\u001b[1m90/90\u001b[0m \u001b[32m━━━━━━━━━━━━━━━━━━━━\u001b[0m\u001b[37m\u001b[0m \u001b[1m1s\u001b[0m 8ms/step - accuracy: 0.9758 - loss: 0.0834 - precision: 0.9704 - recall: 0.9683 - val_accuracy: 0.7658 - val_loss: 0.6539 - val_precision: 0.7246 - val_recall: 0.7353\n",
      "\u001b[1m5/5\u001b[0m \u001b[32m━━━━━━━━━━━━━━━━━━━━\u001b[0m\u001b[37m\u001b[0m \u001b[1m0s\u001b[0m 43ms/step\n",
      "Seed=777, hidden_units=64, batch_size=16\n",
      "Total OOV terms: 1340 (14.31%)\n",
      "Epoch 1/10\n",
      "\u001b[1m180/180\u001b[0m \u001b[32m━━━━━━━━━━━━━━━━━━━━\u001b[0m\u001b[37m\u001b[0m \u001b[1m4s\u001b[0m 11ms/step - accuracy: 0.6425 - loss: 0.6317 - precision: 0.5931 - recall: 0.2878 - val_accuracy: 0.7215 - val_loss: 0.5253 - val_precision: 0.7609 - val_recall: 0.5147\n",
      "Epoch 2/10\n",
      "\u001b[1m180/180\u001b[0m \u001b[32m━━━━━━━━━━━━━━━━━━━━\u001b[0m\u001b[37m\u001b[0m \u001b[1m3s\u001b[0m 12ms/step - accuracy: 0.7692 - loss: 0.4893 - precision: 0.7197 - recall: 0.6858 - val_accuracy: 0.7785 - val_loss: 0.4718 - val_precision: 0.8113 - val_recall: 0.6324\n",
      "Epoch 3/10\n",
      "\u001b[1m180/180\u001b[0m \u001b[32m━━━━━━━━━━━━━━━━━━━━\u001b[0m\u001b[37m\u001b[0m \u001b[1m2s\u001b[0m 12ms/step - accuracy: 0.8286 - loss: 0.3913 - precision: 0.7772 - recall: 0.7961 - val_accuracy: 0.8038 - val_loss: 0.4665 - val_precision: 0.8776 - val_recall: 0.6324\n",
      "Epoch 4/10\n",
      "\u001b[1m180/180\u001b[0m \u001b[32m━━━━━━━━━━━━━━━━━━━━\u001b[0m\u001b[37m\u001b[0m \u001b[1m2s\u001b[0m 8ms/step - accuracy: 0.8836 - loss: 0.2995 - precision: 0.8502 - recall: 0.8567 - val_accuracy: 0.8038 - val_loss: 0.4395 - val_precision: 0.8627 - val_recall: 0.6471\n",
      "Epoch 5/10\n",
      "\u001b[1m180/180\u001b[0m \u001b[32m━━━━━━━━━━━━━━━━━━━━\u001b[0m\u001b[37m\u001b[0m \u001b[1m1s\u001b[0m 8ms/step - accuracy: 0.9137 - loss: 0.2244 - precision: 0.8763 - recall: 0.9106 - val_accuracy: 0.7785 - val_loss: 0.5692 - val_precision: 0.9231 - val_recall: 0.5294\n",
      "Epoch 6/10\n",
      "\u001b[1m180/180\u001b[0m \u001b[32m━━━━━━━━━━━━━━━━━━━━\u001b[0m\u001b[37m\u001b[0m \u001b[1m3s\u001b[0m 8ms/step - accuracy: 0.9464 - loss: 0.1477 - precision: 0.9199 - recall: 0.9471 - val_accuracy: 0.7405 - val_loss: 0.8186 - val_precision: 0.9091 - val_recall: 0.4412\n",
      "Epoch 7/10\n",
      "\u001b[1m180/180\u001b[0m \u001b[32m━━━━━━━━━━━━━━━━━━━━\u001b[0m\u001b[37m\u001b[0m \u001b[1m2s\u001b[0m 8ms/step - accuracy: 0.9673 - loss: 0.1004 - precision: 0.9543 - recall: 0.9636 - val_accuracy: 0.8101 - val_loss: 0.6001 - val_precision: 0.8065 - val_recall: 0.7353\n",
      "Epoch 8/10\n",
      "\u001b[1m180/180\u001b[0m \u001b[32m━━━━━━━━━━━━━━━━━━━━\u001b[0m\u001b[37m\u001b[0m \u001b[1m1s\u001b[0m 8ms/step - accuracy: 0.9802 - loss: 0.0651 - precision: 0.9674 - recall: 0.9832 - val_accuracy: 0.7975 - val_loss: 0.7492 - val_precision: 0.7432 - val_recall: 0.8088\n",
      "Epoch 9/10\n",
      "\u001b[1m180/180\u001b[0m \u001b[32m━━━━━━━━━━━━━━━━━━━━\u001b[0m\u001b[37m\u001b[0m \u001b[1m2s\u001b[0m 13ms/step - accuracy: 0.9870 - loss: 0.0490 - precision: 0.9794 - recall: 0.9879 - val_accuracy: 0.8101 - val_loss: 0.7831 - val_precision: 0.7714 - val_recall: 0.7941\n",
      "Epoch 10/10\n",
      "\u001b[1m180/180\u001b[0m \u001b[32m━━━━━━━━━━━━━━━━━━━━\u001b[0m\u001b[37m\u001b[0m \u001b[1m2s\u001b[0m 13ms/step - accuracy: 0.9829 - loss: 0.0498 - precision: 0.9770 - recall: 0.9797 - val_accuracy: 0.8165 - val_loss: 0.8784 - val_precision: 0.7910 - val_recall: 0.7794\n",
      "\u001b[1m5/5\u001b[0m \u001b[32m━━━━━━━━━━━━━━━━━━━━\u001b[0m\u001b[37m\u001b[0m \u001b[1m1s\u001b[0m 233ms/step\n",
      "Seed=777, hidden_units=64, batch_size=32\n",
      "Total OOV terms: 1340 (14.31%)\n",
      "Epoch 1/10\n",
      "\u001b[1m90/90\u001b[0m \u001b[32m━━━━━━━━━━━━━━━━━━━━\u001b[0m\u001b[37m\u001b[0m \u001b[1m4s\u001b[0m 14ms/step - accuracy: 0.6314 - loss: 0.6487 - precision: 0.5871 - recall: 0.2577 - val_accuracy: 0.7278 - val_loss: 0.5968 - val_precision: 0.9310 - val_recall: 0.3971\n",
      "Epoch 2/10\n",
      "\u001b[1m90/90\u001b[0m \u001b[32m━━━━━━━━━━━━━━━━━━━━\u001b[0m\u001b[37m\u001b[0m \u001b[1m2s\u001b[0m 9ms/step - accuracy: 0.7334 - loss: 0.5331 - precision: 0.6954 - recall: 0.5914 - val_accuracy: 0.7342 - val_loss: 0.5308 - val_precision: 0.8250 - val_recall: 0.4853\n",
      "Epoch 3/10\n",
      "\u001b[1m90/90\u001b[0m \u001b[32m━━━━━━━━━━━━━━━━━━━━\u001b[0m\u001b[37m\u001b[0m \u001b[1m1s\u001b[0m 9ms/step - accuracy: 0.7982 - loss: 0.4448 - precision: 0.7714 - recall: 0.7008 - val_accuracy: 0.7595 - val_loss: 0.4760 - val_precision: 0.8261 - val_recall: 0.5588\n",
      "Epoch 4/10\n",
      "\u001b[1m90/90\u001b[0m \u001b[32m━━━━━━━━━━━━━━━━━━━━\u001b[0m\u001b[37m\u001b[0m \u001b[1m1s\u001b[0m 13ms/step - accuracy: 0.8440 - loss: 0.3653 - precision: 0.8186 - recall: 0.7793 - val_accuracy: 0.7911 - val_loss: 0.4356 - val_precision: 0.8182 - val_recall: 0.6618\n",
      "Epoch 5/10\n",
      "\u001b[1m90/90\u001b[0m \u001b[32m━━━━━━━━━━━━━━━━━━━━\u001b[0m\u001b[37m\u001b[0m \u001b[1m1s\u001b[0m 13ms/step - accuracy: 0.8735 - loss: 0.3055 - precision: 0.8534 - recall: 0.8223 - val_accuracy: 0.8228 - val_loss: 0.4347 - val_precision: 0.8448 - val_recall: 0.7206\n",
      "Epoch 6/10\n",
      "\u001b[1m90/90\u001b[0m \u001b[32m━━━━━━━━━━━━━━━━━━━━\u001b[0m\u001b[37m\u001b[0m \u001b[1m2s\u001b[0m 20ms/step - accuracy: 0.9118 - loss: 0.2408 - precision: 0.8875 - recall: 0.8899 - val_accuracy: 0.8291 - val_loss: 0.4363 - val_precision: 0.8154 - val_recall: 0.7794\n",
      "Epoch 7/10\n",
      "\u001b[1m90/90\u001b[0m \u001b[32m━━━━━━━━━━━━━━━━━━━━\u001b[0m\u001b[37m\u001b[0m \u001b[1m2s\u001b[0m 9ms/step - accuracy: 0.9453 - loss: 0.1806 - precision: 0.9231 - recall: 0.9401 - val_accuracy: 0.8228 - val_loss: 0.4886 - val_precision: 0.8030 - val_recall: 0.7794\n",
      "Epoch 8/10\n",
      "\u001b[1m90/90\u001b[0m \u001b[32m━━━━━━━━━━━━━━━━━━━━\u001b[0m\u001b[37m\u001b[0m \u001b[1m1s\u001b[0m 9ms/step - accuracy: 0.9626 - loss: 0.1279 - precision: 0.9477 - recall: 0.9584 - val_accuracy: 0.8165 - val_loss: 0.5190 - val_precision: 0.8000 - val_recall: 0.7647\n",
      "Epoch 9/10\n",
      "\u001b[1m90/90\u001b[0m \u001b[32m━━━━━━━━━━━━━━━━━━━━\u001b[0m\u001b[37m\u001b[0m \u001b[1m1s\u001b[0m 8ms/step - accuracy: 0.9627 - loss: 0.1036 - precision: 0.9519 - recall: 0.9539 - val_accuracy: 0.7658 - val_loss: 0.6335 - val_precision: 0.6867 - val_recall: 0.8382\n",
      "Epoch 10/10\n",
      "\u001b[1m90/90\u001b[0m \u001b[32m━━━━━━━━━━━━━━━━━━━━\u001b[0m\u001b[37m\u001b[0m \u001b[1m1s\u001b[0m 8ms/step - accuracy: 0.9760 - loss: 0.0750 - precision: 0.9661 - recall: 0.9737 - val_accuracy: 0.7911 - val_loss: 0.6063 - val_precision: 0.7465 - val_recall: 0.7794\n",
      "\u001b[1m5/5\u001b[0m \u001b[32m━━━━━━━━━━━━━━━━━━━━\u001b[0m\u001b[37m\u001b[0m \u001b[1m0s\u001b[0m 43ms/step\n",
      "Seed=777, hidden_units=32, batch_size=16\n",
      "Total OOV terms: 1340 (14.31%)\n",
      "Epoch 1/10\n",
      "\u001b[1m180/180\u001b[0m \u001b[32m━━━━━━━━━━━━━━━━━━━━\u001b[0m\u001b[37m\u001b[0m \u001b[1m5s\u001b[0m 14ms/step - accuracy: 0.6138 - loss: 0.6469 - precision: 0.5254 - recall: 0.2168 - val_accuracy: 0.7532 - val_loss: 0.4819 - val_precision: 0.7843 - val_recall: 0.5882\n",
      "Epoch 2/10\n",
      "\u001b[1m180/180\u001b[0m \u001b[32m━━━━━━━━━━━━━━━━━━━━\u001b[0m\u001b[37m\u001b[0m \u001b[1m4s\u001b[0m 20ms/step - accuracy: 0.7993 - loss: 0.4492 - precision: 0.7619 - recall: 0.7174 - val_accuracy: 0.8165 - val_loss: 0.4474 - val_precision: 0.8824 - val_recall: 0.6618\n",
      "Epoch 3/10\n",
      "\u001b[1m180/180\u001b[0m \u001b[32m━━━━━━━━━━━━━━━━━━━━\u001b[0m\u001b[37m\u001b[0m \u001b[1m2s\u001b[0m 13ms/step - accuracy: 0.8608 - loss: 0.3314 - precision: 0.8222 - recall: 0.8277 - val_accuracy: 0.8354 - val_loss: 0.4579 - val_precision: 0.9375 - val_recall: 0.6618\n",
      "Epoch 4/10\n",
      "\u001b[1m180/180\u001b[0m \u001b[32m━━━━━━━━━━━━━━━━━━━━\u001b[0m\u001b[37m\u001b[0m \u001b[1m2s\u001b[0m 8ms/step - accuracy: 0.9236 - loss: 0.2205 - precision: 0.8955 - recall: 0.9136 - val_accuracy: 0.8165 - val_loss: 0.4906 - val_precision: 0.9149 - val_recall: 0.6324\n",
      "Epoch 5/10\n",
      "\u001b[1m180/180\u001b[0m \u001b[32m━━━━━━━━━━━━━━━━━━━━\u001b[0m\u001b[37m\u001b[0m \u001b[1m2s\u001b[0m 8ms/step - accuracy: 0.9562 - loss: 0.1402 - precision: 0.9303 - recall: 0.9613 - val_accuracy: 0.7595 - val_loss: 0.8435 - val_precision: 0.9688 - val_recall: 0.4559\n",
      "Epoch 6/10\n",
      "\u001b[1m180/180\u001b[0m \u001b[32m━━━━━━━━━━━━━━━━━━━━\u001b[0m\u001b[37m\u001b[0m \u001b[1m3s\u001b[0m 8ms/step - accuracy: 0.9760 - loss: 0.0851 - precision: 0.9647 - recall: 0.9749 - val_accuracy: 0.7848 - val_loss: 0.7106 - val_precision: 0.8269 - val_recall: 0.6324\n",
      "Epoch 7/10\n",
      "\u001b[1m180/180\u001b[0m \u001b[32m━━━━━━━━━━━━━━━━━━━━\u001b[0m\u001b[37m\u001b[0m \u001b[1m2s\u001b[0m 9ms/step - accuracy: 0.9873 - loss: 0.0414 - precision: 0.9789 - recall: 0.9892 - val_accuracy: 0.8101 - val_loss: 0.6758 - val_precision: 0.7879 - val_recall: 0.7647\n",
      "Epoch 8/10\n",
      "\u001b[1m180/180\u001b[0m \u001b[32m━━━━━━━━━━━━━━━━━━━━\u001b[0m\u001b[37m\u001b[0m \u001b[1m3s\u001b[0m 13ms/step - accuracy: 0.9910 - loss: 0.0301 - precision: 0.9818 - recall: 0.9957 - val_accuracy: 0.7848 - val_loss: 0.7479 - val_precision: 0.7125 - val_recall: 0.8382\n",
      "Epoch 9/10\n",
      "\u001b[1m180/180\u001b[0m \u001b[32m━━━━━━━━━━━━━━━━━━━━\u001b[0m\u001b[37m\u001b[0m \u001b[1m2s\u001b[0m 10ms/step - accuracy: 0.9923 - loss: 0.0254 - precision: 0.9859 - recall: 0.9948 - val_accuracy: 0.7848 - val_loss: 0.7574 - val_precision: 0.7125 - val_recall: 0.8382\n",
      "Epoch 10/10\n",
      "\u001b[1m180/180\u001b[0m \u001b[32m━━━━━━━━━━━━━━━━━━━━\u001b[0m\u001b[37m\u001b[0m \u001b[1m2s\u001b[0m 9ms/step - accuracy: 0.9939 - loss: 0.0175 - precision: 0.9892 - recall: 0.9956 - val_accuracy: 0.7532 - val_loss: 0.8858 - val_precision: 0.7636 - val_recall: 0.6176\n",
      "\u001b[1m5/5\u001b[0m \u001b[32m━━━━━━━━━━━━━━━━━━━━\u001b[0m\u001b[37m\u001b[0m \u001b[1m0s\u001b[0m 41ms/step\n",
      "Seed=777, hidden_units=32, batch_size=32\n",
      "Total OOV terms: 1340 (14.31%)\n",
      "Epoch 1/10\n",
      "\u001b[1m90/90\u001b[0m \u001b[32m━━━━━━━━━━━━━━━━━━━━\u001b[0m\u001b[37m\u001b[0m \u001b[1m4s\u001b[0m 14ms/step - accuracy: 0.6274 - loss: 0.6507 - precision: 0.5928 - recall: 0.2313 - val_accuracy: 0.7342 - val_loss: 0.5428 - val_precision: 0.9062 - val_recall: 0.4265\n",
      "Epoch 2/10\n",
      "\u001b[1m90/90\u001b[0m \u001b[32m━━━━━━━━━━━━━━━━━━━━\u001b[0m\u001b[37m\u001b[0m \u001b[1m1s\u001b[0m 9ms/step - accuracy: 0.7597 - loss: 0.5053 - precision: 0.7212 - recall: 0.6495 - val_accuracy: 0.7848 - val_loss: 0.4478 - val_precision: 0.8269 - val_recall: 0.6324\n",
      "Epoch 3/10\n",
      "\u001b[1m90/90\u001b[0m \u001b[32m━━━━━━━━━━━━━━━━━━━━\u001b[0m\u001b[37m\u001b[0m \u001b[1m1s\u001b[0m 13ms/step - accuracy: 0.8385 - loss: 0.3895 - precision: 0.8170 - recall: 0.7634 - val_accuracy: 0.8165 - val_loss: 0.4247 - val_precision: 0.8679 - val_recall: 0.6765\n",
      "Epoch 4/10\n",
      "\u001b[1m90/90\u001b[0m \u001b[32m━━━━━━━━━━━━━━━━━━━━\u001b[0m\u001b[37m\u001b[0m \u001b[1m1s\u001b[0m 13ms/step - accuracy: 0.8841 - loss: 0.2994 - precision: 0.8633 - recall: 0.8404 - val_accuracy: 0.7911 - val_loss: 0.4113 - val_precision: 0.7778 - val_recall: 0.7206\n",
      "Epoch 5/10\n",
      "\u001b[1m90/90\u001b[0m \u001b[32m━━━━━━━━━━━━━━━━━━━━\u001b[0m\u001b[37m\u001b[0m \u001b[1m1s\u001b[0m 14ms/step - accuracy: 0.9254 - loss: 0.2134 - precision: 0.9066 - recall: 0.9047 - val_accuracy: 0.7911 - val_loss: 0.4709 - val_precision: 0.7273 - val_recall: 0.8235\n",
      "Epoch 6/10\n",
      "\u001b[1m90/90\u001b[0m \u001b[32m━━━━━━━━━━━━━━━━━━━━\u001b[0m\u001b[37m\u001b[0m \u001b[1m2s\u001b[0m 9ms/step - accuracy: 0.9521 - loss: 0.1485 - precision: 0.9357 - recall: 0.9440 - val_accuracy: 0.7911 - val_loss: 0.5630 - val_precision: 0.7160 - val_recall: 0.8529\n",
      "Epoch 7/10\n",
      "\u001b[1m90/90\u001b[0m \u001b[32m━━━━━━━━━━━━━━━━━━━━\u001b[0m\u001b[37m\u001b[0m \u001b[1m1s\u001b[0m 9ms/step - accuracy: 0.9657 - loss: 0.1143 - precision: 0.9519 - recall: 0.9619 - val_accuracy: 0.8165 - val_loss: 0.6048 - val_precision: 0.8421 - val_recall: 0.7059\n",
      "Epoch 8/10\n",
      "\u001b[1m90/90\u001b[0m \u001b[32m━━━━━━━━━━━━━━━━━━━━\u001b[0m\u001b[37m\u001b[0m \u001b[1m1s\u001b[0m 9ms/step - accuracy: 0.9704 - loss: 0.0858 - precision: 0.9574 - recall: 0.9684 - val_accuracy: 0.7785 - val_loss: 0.5459 - val_precision: 0.7324 - val_recall: 0.7647\n",
      "Epoch 9/10\n",
      "\u001b[1m90/90\u001b[0m \u001b[32m━━━━━━━━━━━━━━━━━━━━\u001b[0m\u001b[37m\u001b[0m \u001b[1m1s\u001b[0m 9ms/step - accuracy: 0.9784 - loss: 0.0688 - precision: 0.9644 - recall: 0.9818 - val_accuracy: 0.7975 - val_loss: 0.6702 - val_precision: 0.8333 - val_recall: 0.6618\n",
      "Epoch 10/10\n",
      "\u001b[1m90/90\u001b[0m \u001b[32m━━━━━━━━━━━━━━━━━━━━\u001b[0m\u001b[37m\u001b[0m \u001b[1m1s\u001b[0m 9ms/step - accuracy: 0.9879 - loss: 0.0401 - precision: 0.9821 - recall: 0.9876 - val_accuracy: 0.7848 - val_loss: 0.8803 - val_precision: 0.8148 - val_recall: 0.6471\n",
      "\u001b[1m5/5\u001b[0m \u001b[32m━━━━━━━━━━━━━━━━━━━━\u001b[0m\u001b[37m\u001b[0m \u001b[1m0s\u001b[0m 42ms/step\n",
      "Seed=777, hidden_units=64, batch_size=16\n",
      "Total OOV terms: 1340 (14.31%)\n",
      "Epoch 1/10\n",
      "\u001b[1m180/180\u001b[0m \u001b[32m━━━━━━━━━━━━━━━━━━━━\u001b[0m\u001b[37m\u001b[0m \u001b[1m6s\u001b[0m 16ms/step - accuracy: 0.6542 - loss: 0.6242 - precision: 0.6096 - recall: 0.2920 - val_accuracy: 0.7658 - val_loss: 0.4651 - val_precision: 0.8039 - val_recall: 0.6029\n",
      "Epoch 2/10\n",
      "\u001b[1m180/180\u001b[0m \u001b[32m━━━━━━━━━━━━━━━━━━━━\u001b[0m\u001b[37m\u001b[0m \u001b[1m2s\u001b[0m 9ms/step - accuracy: 0.8084 - loss: 0.4362 - precision: 0.7754 - recall: 0.7268 - val_accuracy: 0.7848 - val_loss: 0.4199 - val_precision: 0.8148 - val_recall: 0.6471\n",
      "Epoch 3/10\n",
      "\u001b[1m180/180\u001b[0m \u001b[32m━━━━━━━━━━━━━━━━━━━━\u001b[0m\u001b[37m\u001b[0m \u001b[1m3s\u001b[0m 9ms/step - accuracy: 0.8630 - loss: 0.3196 - precision: 0.8230 - recall: 0.8337 - val_accuracy: 0.7975 - val_loss: 0.4856 - val_precision: 0.9286 - val_recall: 0.5735\n",
      "Epoch 4/10\n",
      "\u001b[1m180/180\u001b[0m \u001b[32m━━━━━━━━━━━━━━━━━━━━\u001b[0m\u001b[37m\u001b[0m \u001b[1m2s\u001b[0m 9ms/step - accuracy: 0.9254 - loss: 0.2057 - precision: 0.8982 - recall: 0.9149 - val_accuracy: 0.7658 - val_loss: 0.7708 - val_precision: 0.9429 - val_recall: 0.4853\n",
      "Epoch 5/10\n",
      "\u001b[1m180/180\u001b[0m \u001b[32m━━━━━━━━━━━━━━━━━━━━\u001b[0m\u001b[37m\u001b[0m \u001b[1m3s\u001b[0m 9ms/step - accuracy: 0.9594 - loss: 0.1241 - precision: 0.9421 - recall: 0.9565 - val_accuracy: 0.8038 - val_loss: 0.4965 - val_precision: 0.7846 - val_recall: 0.7500\n",
      "Epoch 6/10\n",
      "\u001b[1m180/180\u001b[0m \u001b[32m━━━━━━━━━━━━━━━━━━━━\u001b[0m\u001b[37m\u001b[0m \u001b[1m3s\u001b[0m 12ms/step - accuracy: 0.9770 - loss: 0.0626 - precision: 0.9687 - recall: 0.9731 - val_accuracy: 0.7911 - val_loss: 0.6545 - val_precision: 0.7778 - val_recall: 0.7206\n",
      "Epoch 7/10\n",
      "\u001b[1m180/180\u001b[0m \u001b[32m━━━━━━━━━━━━━━━━━━━━\u001b[0m\u001b[37m\u001b[0m \u001b[1m3s\u001b[0m 13ms/step - accuracy: 0.9893 - loss: 0.0347 - precision: 0.9851 - recall: 0.9880 - val_accuracy: 0.8038 - val_loss: 0.7516 - val_precision: 0.7681 - val_recall: 0.7794\n",
      "Epoch 8/10\n",
      "\u001b[1m180/180\u001b[0m \u001b[32m━━━━━━━━━━━━━━━━━━━━\u001b[0m\u001b[37m\u001b[0m \u001b[1m2s\u001b[0m 9ms/step - accuracy: 0.9861 - loss: 0.0587 - precision: 0.9775 - recall: 0.9878 - val_accuracy: 0.7658 - val_loss: 0.8306 - val_precision: 0.7460 - val_recall: 0.6912\n",
      "Epoch 9/10\n",
      "\u001b[1m180/180\u001b[0m \u001b[32m━━━━━━━━━━━━━━━━━━━━\u001b[0m\u001b[37m\u001b[0m \u001b[1m2s\u001b[0m 8ms/step - accuracy: 0.9947 - loss: 0.0212 - precision: 0.9903 - recall: 0.9963 - val_accuracy: 0.7722 - val_loss: 0.9752 - val_precision: 0.7963 - val_recall: 0.6324\n",
      "Epoch 10/10\n",
      "\u001b[1m180/180\u001b[0m \u001b[32m━━━━━━━━━━━━━━━━━━━━\u001b[0m\u001b[37m\u001b[0m \u001b[1m2s\u001b[0m 8ms/step - accuracy: 0.9959 - loss: 0.0181 - precision: 0.9941 - recall: 0.9955 - val_accuracy: 0.7722 - val_loss: 0.9246 - val_precision: 0.7857 - val_recall: 0.6471\n",
      "\u001b[1m5/5\u001b[0m \u001b[32m━━━━━━━━━━━━━━━━━━━━\u001b[0m\u001b[37m\u001b[0m \u001b[1m0s\u001b[0m 49ms/step\n",
      "Seed=777, hidden_units=64, batch_size=32\n",
      "Total OOV terms: 1340 (14.31%)\n",
      "Epoch 1/10\n",
      "\u001b[1m90/90\u001b[0m \u001b[32m━━━━━━━━━━━━━━━━━━━━\u001b[0m\u001b[37m\u001b[0m \u001b[1m4s\u001b[0m 19ms/step - accuracy: 0.6228 - loss: 0.6422 - precision: 0.5435 - recall: 0.2468 - val_accuracy: 0.7342 - val_loss: 0.5271 - val_precision: 0.8611 - val_recall: 0.4559\n",
      "Epoch 2/10\n",
      "\u001b[1m90/90\u001b[0m \u001b[32m━━━━━━━━━━━━━━━━━━━━\u001b[0m\u001b[37m\u001b[0m \u001b[1m1s\u001b[0m 13ms/step - accuracy: 0.7646 - loss: 0.4892 - precision: 0.7246 - recall: 0.6572 - val_accuracy: 0.7595 - val_loss: 0.5583 - val_precision: 1.0000 - val_recall: 0.4412\n",
      "Epoch 3/10\n",
      "\u001b[1m90/90\u001b[0m \u001b[32m━━━━━━━━━━━━━━━━━━━━\u001b[0m\u001b[37m\u001b[0m \u001b[1m1s\u001b[0m 14ms/step - accuracy: 0.8268 - loss: 0.4022 - precision: 0.7955 - recall: 0.7607 - val_accuracy: 0.8038 - val_loss: 0.5554 - val_precision: 0.9111 - val_recall: 0.6029\n",
      "Epoch 4/10\n",
      "\u001b[1m90/90\u001b[0m \u001b[32m━━━━━━━━━━━━━━━━━━━━\u001b[0m\u001b[37m\u001b[0m \u001b[1m2s\u001b[0m 10ms/step - accuracy: 0.8801 - loss: 0.3020 - precision: 0.8520 - recall: 0.8459 - val_accuracy: 0.8101 - val_loss: 0.5217 - val_precision: 0.8800 - val_recall: 0.6471\n",
      "Epoch 5/10\n",
      "\u001b[1m90/90\u001b[0m \u001b[32m━━━━━━━━━━━━━━━━━━━━\u001b[0m\u001b[37m\u001b[0m \u001b[1m1s\u001b[0m 9ms/step - accuracy: 0.9320 - loss: 0.1929 - precision: 0.9031 - recall: 0.9278 - val_accuracy: 0.8354 - val_loss: 0.4968 - val_precision: 0.8500 - val_recall: 0.7500\n",
      "Epoch 6/10\n",
      "\u001b[1m90/90\u001b[0m \u001b[32m━━━━━━━━━━━━━━━━━━━━\u001b[0m\u001b[37m\u001b[0m \u001b[1m1s\u001b[0m 9ms/step - accuracy: 0.9598 - loss: 0.1156 - precision: 0.9468 - recall: 0.9519 - val_accuracy: 0.8038 - val_loss: 0.6363 - val_precision: 0.7342 - val_recall: 0.8529\n",
      "Epoch 7/10\n",
      "\u001b[1m90/90\u001b[0m \u001b[32m━━━━━━━━━━━━━━━━━━━━\u001b[0m\u001b[37m\u001b[0m \u001b[1m1s\u001b[0m 9ms/step - accuracy: 0.9681 - loss: 0.0871 - precision: 0.9550 - recall: 0.9651 - val_accuracy: 0.7975 - val_loss: 0.6613 - val_precision: 0.7903 - val_recall: 0.7206\n",
      "Epoch 8/10\n",
      "\u001b[1m90/90\u001b[0m \u001b[32m━━━━━━━━━━━━━━━━━━━━\u001b[0m\u001b[37m\u001b[0m \u001b[1m1s\u001b[0m 9ms/step - accuracy: 0.9811 - loss: 0.0706 - precision: 0.9702 - recall: 0.9823 - val_accuracy: 0.7975 - val_loss: 0.6466 - val_precision: 0.8103 - val_recall: 0.6912\n",
      "Epoch 9/10\n",
      "\u001b[1m90/90\u001b[0m \u001b[32m━━━━━━━━━━━━━━━━━━━━\u001b[0m\u001b[37m\u001b[0m \u001b[1m1s\u001b[0m 9ms/step - accuracy: 0.9896 - loss: 0.0443 - precision: 0.9800 - recall: 0.9939 - val_accuracy: 0.7975 - val_loss: 0.8140 - val_precision: 0.8333 - val_recall: 0.6618\n",
      "Epoch 10/10\n",
      "\u001b[1m90/90\u001b[0m \u001b[32m━━━━━━━━━━━━━━━━━━━━\u001b[0m\u001b[37m\u001b[0m \u001b[1m1s\u001b[0m 9ms/step - accuracy: 0.9952 - loss: 0.0210 - precision: 0.9909 - recall: 0.9970 - val_accuracy: 0.7785 - val_loss: 0.8941 - val_precision: 0.8113 - val_recall: 0.6324\n",
      "\u001b[1m5/5\u001b[0m \u001b[32m━━━━━━━━━━━━━━━━━━━━\u001b[0m\u001b[37m\u001b[0m \u001b[1m0s\u001b[0m 44ms/step\n",
      "\n",
      "Showing results for the following model: model_1\n",
      "Seed=39, hidden_units=32, batch_size=16\n",
      "Total OOV terms: 1340 (14.31%)\n",
      "Epoch 1/10\n",
      "\u001b[1m180/180\u001b[0m \u001b[32m━━━━━━━━━━━━━━━━━━━━\u001b[0m\u001b[37m\u001b[0m \u001b[1m6s\u001b[0m 13ms/step - accuracy: 0.5738 - loss: 0.6842 - precision: 0.1875 - recall: 0.0178 - val_accuracy: 0.5696 - val_loss: 0.6872 - val_precision: 0.0000e+00 - val_recall: 0.0000e+00\n",
      "Epoch 2/10\n",
      "\u001b[1m180/180\u001b[0m \u001b[32m━━━━━━━━━━━━━━━━━━━━\u001b[0m\u001b[37m\u001b[0m \u001b[1m2s\u001b[0m 11ms/step - accuracy: 0.5936 - loss: 0.6766 - precision: 0.0261 - recall: 2.5969e-04 - val_accuracy: 0.5696 - val_loss: 0.7058 - val_precision: 0.0000e+00 - val_recall: 0.0000e+00\n",
      "Epoch 3/10\n",
      "\u001b[1m180/180\u001b[0m \u001b[32m━━━━━━━━━━━━━━━━━━━━\u001b[0m\u001b[37m\u001b[0m \u001b[1m2s\u001b[0m 11ms/step - accuracy: 0.5825 - loss: 0.6783 - precision: 0.3517 - recall: 0.0402 - val_accuracy: 0.5696 - val_loss: 0.6915 - val_precision: 0.0000e+00 - val_recall: 0.0000e+00\n",
      "Epoch 4/10\n",
      "\u001b[1m180/180\u001b[0m \u001b[32m━━━━━━━━━━━━━━━━━━━━\u001b[0m\u001b[37m\u001b[0m \u001b[1m3s\u001b[0m 10ms/step - accuracy: 0.5937 - loss: 0.6766 - precision: 0.0000e+00 - recall: 0.0000e+00 - val_accuracy: 0.5696 - val_loss: 0.6915 - val_precision: 0.0000e+00 - val_recall: 0.0000e+00\n",
      "Epoch 5/10\n",
      "\u001b[1m180/180\u001b[0m \u001b[32m━━━━━━━━━━━━━━━━━━━━\u001b[0m\u001b[37m\u001b[0m \u001b[1m2s\u001b[0m 13ms/step - accuracy: 0.5937 - loss: 0.6765 - precision: 0.0000e+00 - recall: 0.0000e+00 - val_accuracy: 0.5696 - val_loss: 0.6911 - val_precision: 0.0000e+00 - val_recall: 0.0000e+00\n",
      "Epoch 6/10\n",
      "\u001b[1m180/180\u001b[0m \u001b[32m━━━━━━━━━━━━━━━━━━━━\u001b[0m\u001b[37m\u001b[0m \u001b[1m3s\u001b[0m 16ms/step - accuracy: 0.5937 - loss: 0.6765 - precision: 0.0000e+00 - recall: 0.0000e+00 - val_accuracy: 0.5696 - val_loss: 0.6907 - val_precision: 0.0000e+00 - val_recall: 0.0000e+00\n",
      "Epoch 7/10\n",
      "\u001b[1m180/180\u001b[0m \u001b[32m━━━━━━━━━━━━━━━━━━━━\u001b[0m\u001b[37m\u001b[0m \u001b[1m4s\u001b[0m 11ms/step - accuracy: 0.5937 - loss: 0.6762 - precision: 0.0000e+00 - recall: 0.0000e+00 - val_accuracy: 0.5696 - val_loss: 0.6713 - val_precision: 0.0000e+00 - val_recall: 0.0000e+00\n",
      "Epoch 8/10\n",
      "\u001b[1m180/180\u001b[0m \u001b[32m━━━━━━━━━━━━━━━━━━━━\u001b[0m\u001b[37m\u001b[0m \u001b[1m2s\u001b[0m 11ms/step - accuracy: 0.6166 - loss: 0.6561 - precision: 0.5414 - recall: 0.2416 - val_accuracy: 0.6266 - val_loss: 0.6729 - val_precision: 0.7143 - val_recall: 0.2206\n",
      "Epoch 9/10\n",
      "\u001b[1m180/180\u001b[0m \u001b[32m━━━━━━━━━━━━━━━━━━━━\u001b[0m\u001b[37m\u001b[0m \u001b[1m3s\u001b[0m 11ms/step - accuracy: 0.6843 - loss: 0.6238 - precision: 0.7447 - recall: 0.3408 - val_accuracy: 0.6266 - val_loss: 0.6818 - val_precision: 0.6957 - val_recall: 0.2353\n",
      "Epoch 10/10\n",
      "\u001b[1m180/180\u001b[0m \u001b[32m━━━━━━━━━━━━━━━━━━━━\u001b[0m\u001b[37m\u001b[0m \u001b[1m3s\u001b[0m 14ms/step - accuracy: 0.6905 - loss: 0.6183 - precision: 0.7649 - recall: 0.3452 - val_accuracy: 0.6266 - val_loss: 0.6796 - val_precision: 0.7647 - val_recall: 0.1912\n",
      "\u001b[1m5/5\u001b[0m \u001b[32m━━━━━━━━━━━━━━━━━━━━\u001b[0m\u001b[37m\u001b[0m \u001b[1m1s\u001b[0m 80ms/step\n",
      "Seed=39, hidden_units=32, batch_size=32\n",
      "Total OOV terms: 1340 (14.31%)\n",
      "Epoch 1/10\n",
      "\u001b[1m90/90\u001b[0m \u001b[32m━━━━━━━━━━━━━━━━━━━━\u001b[0m\u001b[37m\u001b[0m \u001b[1m4s\u001b[0m 17ms/step - accuracy: 0.5932 - loss: 0.6808 - precision: 0.0000e+00 - recall: 0.0000e+00 - val_accuracy: 0.5696 - val_loss: 0.6937 - val_precision: 0.0000e+00 - val_recall: 0.0000e+00\n",
      "Epoch 2/10\n",
      "\u001b[1m90/90\u001b[0m \u001b[32m━━━━━━━━━━━━━━━━━━━━\u001b[0m\u001b[37m\u001b[0m \u001b[1m1s\u001b[0m 11ms/step - accuracy: 0.5932 - loss: 0.6775 - precision: 0.0152 - recall: 5.5190e-04 - val_accuracy: 0.4620 - val_loss: 0.6928 - val_precision: 0.4444 - val_recall: 1.0000\n",
      "Epoch 3/10\n",
      "\u001b[1m90/90\u001b[0m \u001b[32m━━━━━━━━━━━━━━━━━━━━\u001b[0m\u001b[37m\u001b[0m \u001b[1m1s\u001b[0m 11ms/step - accuracy: 0.5912 - loss: 0.6596 - precision: 0.4797 - recall: 0.2032 - val_accuracy: 0.7025 - val_loss: 0.5945 - val_precision: 0.6667 - val_recall: 0.6176\n",
      "Epoch 4/10\n",
      "\u001b[1m90/90\u001b[0m \u001b[32m━━━━━━━━━━━━━━━━━━━━\u001b[0m\u001b[37m\u001b[0m \u001b[1m1s\u001b[0m 11ms/step - accuracy: 0.7494 - loss: 0.5243 - precision: 0.6661 - recall: 0.7728 - val_accuracy: 0.7405 - val_loss: 0.5319 - val_precision: 0.7143 - val_recall: 0.6618\n",
      "Epoch 5/10\n",
      "\u001b[1m90/90\u001b[0m \u001b[32m━━━━━━━━━━━━━━━━━━━━\u001b[0m\u001b[37m\u001b[0m \u001b[1m1s\u001b[0m 13ms/step - accuracy: 0.8361 - loss: 0.4050 - precision: 0.7701 - recall: 0.8535 - val_accuracy: 0.7405 - val_loss: 0.4984 - val_precision: 0.7368 - val_recall: 0.6176\n",
      "Epoch 6/10\n",
      "\u001b[1m90/90\u001b[0m \u001b[32m━━━━━━━━━━━━━━━━━━━━\u001b[0m\u001b[37m\u001b[0m \u001b[1m1s\u001b[0m 16ms/step - accuracy: 0.8734 - loss: 0.3305 - precision: 0.8203 - recall: 0.8822 - val_accuracy: 0.7975 - val_loss: 0.4895 - val_precision: 0.7812 - val_recall: 0.7353\n",
      "Epoch 7/10\n",
      "\u001b[1m90/90\u001b[0m \u001b[32m━━━━━━━━━━━━━━━━━━━━\u001b[0m\u001b[37m\u001b[0m \u001b[1m2s\u001b[0m 17ms/step - accuracy: 0.9071 - loss: 0.2585 - precision: 0.8589 - recall: 0.9239 - val_accuracy: 0.7911 - val_loss: 0.5185 - val_precision: 0.7692 - val_recall: 0.7353\n",
      "Epoch 8/10\n",
      "\u001b[1m90/90\u001b[0m \u001b[32m━━━━━━━━━━━━━━━━━━━━\u001b[0m\u001b[37m\u001b[0m \u001b[1m1s\u001b[0m 13ms/step - accuracy: 0.9342 - loss: 0.2003 - precision: 0.8964 - recall: 0.9484 - val_accuracy: 0.7532 - val_loss: 0.6708 - val_precision: 0.8718 - val_recall: 0.5000\n",
      "Epoch 9/10\n",
      "\u001b[1m90/90\u001b[0m \u001b[32m━━━━━━━━━━━━━━━━━━━━\u001b[0m\u001b[37m\u001b[0m \u001b[1m1s\u001b[0m 11ms/step - accuracy: 0.9569 - loss: 0.1612 - precision: 0.9208 - recall: 0.9789 - val_accuracy: 0.7025 - val_loss: 1.1189 - val_precision: 0.8621 - val_recall: 0.3676\n",
      "Epoch 10/10\n",
      "\u001b[1m90/90\u001b[0m \u001b[32m━━━━━━━━━━━━━━━━━━━━\u001b[0m\u001b[37m\u001b[0m \u001b[1m1s\u001b[0m 11ms/step - accuracy: 0.9528 - loss: 0.1613 - precision: 0.9315 - recall: 0.9553 - val_accuracy: 0.7152 - val_loss: 0.9309 - val_precision: 0.8710 - val_recall: 0.3971\n",
      "\u001b[1m5/5\u001b[0m \u001b[32m━━━━━━━━━━━━━━━━━━━━\u001b[0m\u001b[37m\u001b[0m \u001b[1m0s\u001b[0m 57ms/step\n",
      "Seed=39, hidden_units=64, batch_size=16\n",
      "Total OOV terms: 1340 (14.31%)\n",
      "Epoch 1/10\n",
      "\u001b[1m180/180\u001b[0m \u001b[32m━━━━━━━━━━━━━━━━━━━━\u001b[0m\u001b[37m\u001b[0m \u001b[1m6s\u001b[0m 16ms/step - accuracy: 0.5581 - loss: 0.6937 - precision: 0.3562 - recall: 0.0942 - val_accuracy: 0.5696 - val_loss: 0.6830 - val_precision: 0.0000e+00 - val_recall: 0.0000e+00\n",
      "Epoch 2/10\n",
      "\u001b[1m180/180\u001b[0m \u001b[32m━━━━━━━━━━━━━━━━━━━━\u001b[0m\u001b[37m\u001b[0m \u001b[1m3s\u001b[0m 16ms/step - accuracy: 0.5809 - loss: 0.6773 - precision: 0.4013 - recall: 0.0759 - val_accuracy: 0.6709 - val_loss: 0.6463 - val_precision: 0.6053 - val_recall: 0.6765\n",
      "Epoch 3/10\n",
      "\u001b[1m180/180\u001b[0m \u001b[32m━━━━━━━━━━━━━━━━━━━━\u001b[0m\u001b[37m\u001b[0m \u001b[1m4s\u001b[0m 11ms/step - accuracy: 0.6283 - loss: 0.6456 - precision: 0.5605 - recall: 0.4467 - val_accuracy: 0.7278 - val_loss: 0.5409 - val_precision: 0.6761 - val_recall: 0.7059\n",
      "Epoch 4/10\n",
      "\u001b[1m180/180\u001b[0m \u001b[32m━━━━━━━━━━━━━━━━━━━━\u001b[0m\u001b[37m\u001b[0m \u001b[1m2s\u001b[0m 10ms/step - accuracy: 0.7791 - loss: 0.4684 - precision: 0.7154 - recall: 0.7600 - val_accuracy: 0.7911 - val_loss: 0.4744 - val_precision: 0.7612 - val_recall: 0.7500\n",
      "Epoch 5/10\n",
      "\u001b[1m180/180\u001b[0m \u001b[32m━━━━━━━━━━━━━━━━━━━━\u001b[0m\u001b[37m\u001b[0m \u001b[1m2s\u001b[0m 11ms/step - accuracy: 0.8611 - loss: 0.3530 - precision: 0.8121 - recall: 0.8553 - val_accuracy: 0.8038 - val_loss: 0.4372 - val_precision: 0.7761 - val_recall: 0.7647\n",
      "Epoch 6/10\n",
      "\u001b[1m180/180\u001b[0m \u001b[32m━━━━━━━━━━━━━━━━━━━━\u001b[0m\u001b[37m\u001b[0m \u001b[1m2s\u001b[0m 11ms/step - accuracy: 0.9083 - loss: 0.2713 - precision: 0.8795 - recall: 0.8975 - val_accuracy: 0.7785 - val_loss: 0.4787 - val_precision: 0.8113 - val_recall: 0.6324\n",
      "Epoch 7/10\n",
      "\u001b[1m180/180\u001b[0m \u001b[32m━━━━━━━━━━━━━━━━━━━━\u001b[0m\u001b[37m\u001b[0m \u001b[1m3s\u001b[0m 16ms/step - accuracy: 0.9478 - loss: 0.1812 - precision: 0.9340 - recall: 0.9384 - val_accuracy: 0.8038 - val_loss: 0.5221 - val_precision: 0.8491 - val_recall: 0.6618\n",
      "Epoch 8/10\n",
      "\u001b[1m180/180\u001b[0m \u001b[32m━━━━━━━━━━━━━━━━━━━━\u001b[0m\u001b[37m\u001b[0m \u001b[1m3s\u001b[0m 14ms/step - accuracy: 0.9625 - loss: 0.1237 - precision: 0.9480 - recall: 0.9608 - val_accuracy: 0.7405 - val_loss: 0.6515 - val_precision: 0.8293 - val_recall: 0.5000\n",
      "Epoch 9/10\n",
      "\u001b[1m180/180\u001b[0m \u001b[32m━━━━━━━━━━━━━━━━━━━━\u001b[0m\u001b[37m\u001b[0m \u001b[1m2s\u001b[0m 11ms/step - accuracy: 0.9731 - loss: 0.0990 - precision: 0.9628 - recall: 0.9717 - val_accuracy: 0.7658 - val_loss: 0.6759 - val_precision: 0.8163 - val_recall: 0.5882\n",
      "Epoch 10/10\n",
      "\u001b[1m180/180\u001b[0m \u001b[32m━━━━━━━━━━━━━━━━━━━━\u001b[0m\u001b[37m\u001b[0m \u001b[1m2s\u001b[0m 11ms/step - accuracy: 0.9813 - loss: 0.0661 - precision: 0.9687 - recall: 0.9858 - val_accuracy: 0.7595 - val_loss: 0.7713 - val_precision: 0.8125 - val_recall: 0.5735\n",
      "\u001b[1m5/5\u001b[0m \u001b[32m━━━━━━━━━━━━━━━━━━━━\u001b[0m\u001b[37m\u001b[0m \u001b[1m0s\u001b[0m 65ms/step\n",
      "Seed=39, hidden_units=64, batch_size=32\n",
      "Total OOV terms: 1340 (14.31%)\n",
      "Epoch 1/10\n",
      "\u001b[1m90/90\u001b[0m \u001b[32m━━━━━━━━━━━━━━━━━━━━\u001b[0m\u001b[37m\u001b[0m \u001b[1m6s\u001b[0m 25ms/step - accuracy: 0.5722 - loss: 0.6862 - precision: 0.3125 - recall: 0.0447 - val_accuracy: 0.5696 - val_loss: 0.6904 - val_precision: 0.0000e+00 - val_recall: 0.0000e+00\n",
      "Epoch 2/10\n",
      "\u001b[1m90/90\u001b[0m \u001b[32m━━━━━━━━━━━━━━━━━━━━\u001b[0m\u001b[37m\u001b[0m \u001b[1m1s\u001b[0m 12ms/step - accuracy: 0.5932 - loss: 0.6778 - precision: 0.0000e+00 - recall: 0.0000e+00 - val_accuracy: 0.5696 - val_loss: 0.6776 - val_precision: 0.0000e+00 - val_recall: 0.0000e+00\n",
      "Epoch 3/10\n",
      "\u001b[1m90/90\u001b[0m \u001b[32m━━━━━━━━━━━━━━━━━━━━\u001b[0m\u001b[37m\u001b[0m \u001b[1m1s\u001b[0m 11ms/step - accuracy: 0.6204 - loss: 0.6498 - precision: 0.5416 - recall: 0.2265 - val_accuracy: 0.7405 - val_loss: 0.5647 - val_precision: 0.8462 - val_recall: 0.4853\n",
      "Epoch 4/10\n",
      "\u001b[1m90/90\u001b[0m \u001b[32m━━━━━━━━━━━━━━━━━━━━\u001b[0m\u001b[37m\u001b[0m \u001b[1m1s\u001b[0m 11ms/step - accuracy: 0.7837 - loss: 0.4985 - precision: 0.7390 - recall: 0.7238 - val_accuracy: 0.7722 - val_loss: 0.4717 - val_precision: 0.8077 - val_recall: 0.6176\n",
      "Epoch 5/10\n",
      "\u001b[1m90/90\u001b[0m \u001b[32m━━━━━━━━━━━━━━━━━━━━\u001b[0m\u001b[37m\u001b[0m \u001b[1m1s\u001b[0m 11ms/step - accuracy: 0.8351 - loss: 0.3978 - precision: 0.7861 - recall: 0.8173 - val_accuracy: 0.8038 - val_loss: 0.4587 - val_precision: 0.8491 - val_recall: 0.6618\n",
      "Epoch 6/10\n",
      "\u001b[1m90/90\u001b[0m \u001b[32m━━━━━━━━━━━━━━━━━━━━\u001b[0m\u001b[37m\u001b[0m \u001b[1m1s\u001b[0m 11ms/step - accuracy: 0.8911 - loss: 0.3018 - precision: 0.8454 - recall: 0.8961 - val_accuracy: 0.8418 - val_loss: 0.4568 - val_precision: 0.8525 - val_recall: 0.7647\n",
      "Epoch 7/10\n",
      "\u001b[1m90/90\u001b[0m \u001b[32m━━━━━━━━━━━━━━━━━━━━\u001b[0m\u001b[37m\u001b[0m \u001b[1m1s\u001b[0m 11ms/step - accuracy: 0.9313 - loss: 0.2096 - precision: 0.8915 - recall: 0.9464 - val_accuracy: 0.8228 - val_loss: 0.5205 - val_precision: 0.9000 - val_recall: 0.6618\n",
      "Epoch 8/10\n",
      "\u001b[1m90/90\u001b[0m \u001b[32m━━━━━━━━━━━━━━━━━━━━\u001b[0m\u001b[37m\u001b[0m \u001b[1m1s\u001b[0m 11ms/step - accuracy: 0.9558 - loss: 0.1629 - precision: 0.9243 - recall: 0.9711 - val_accuracy: 0.8038 - val_loss: 0.5123 - val_precision: 0.8491 - val_recall: 0.6618\n",
      "Epoch 9/10\n",
      "\u001b[1m90/90\u001b[0m \u001b[32m━━━━━━━━━━━━━━━━━━━━\u001b[0m\u001b[37m\u001b[0m \u001b[1m1s\u001b[0m 11ms/step - accuracy: 0.9606 - loss: 0.1369 - precision: 0.9385 - recall: 0.9668 - val_accuracy: 0.8291 - val_loss: 0.5160 - val_precision: 0.8254 - val_recall: 0.7647\n",
      "Epoch 10/10\n",
      "\u001b[1m90/90\u001b[0m \u001b[32m━━━━━━━━━━━━━━━━━━━━\u001b[0m\u001b[37m\u001b[0m \u001b[1m1s\u001b[0m 11ms/step - accuracy: 0.9674 - loss: 0.1213 - precision: 0.9412 - recall: 0.9814 - val_accuracy: 0.7911 - val_loss: 0.6794 - val_precision: 0.9487 - val_recall: 0.5441\n",
      "\u001b[1m5/5\u001b[0m \u001b[32m━━━━━━━━━━━━━━━━━━━━\u001b[0m\u001b[37m\u001b[0m \u001b[1m2s\u001b[0m 352ms/step\n",
      "Seed=39, hidden_units=32, batch_size=16\n",
      "Total OOV terms: 1340 (14.31%)\n",
      "Epoch 1/10\n",
      "\u001b[1m180/180\u001b[0m \u001b[32m━━━━━━━━━━━━━━━━━━━━\u001b[0m\u001b[37m\u001b[0m \u001b[1m5s\u001b[0m 13ms/step - accuracy: 0.5937 - loss: 0.6817 - precision: 0.0000e+00 - recall: 0.0000e+00 - val_accuracy: 0.5696 - val_loss: 0.6877 - val_precision: 0.0000e+00 - val_recall: 0.0000e+00\n",
      "Epoch 2/10\n",
      "\u001b[1m180/180\u001b[0m \u001b[32m━━━━━━━━━━━━━━━━━━━━\u001b[0m\u001b[37m\u001b[0m \u001b[1m2s\u001b[0m 11ms/step - accuracy: 0.5937 - loss: 0.6767 - precision: 0.0000e+00 - recall: 0.0000e+00 - val_accuracy: 0.5696 - val_loss: 0.6906 - val_precision: 0.0000e+00 - val_recall: 0.0000e+00\n",
      "Epoch 3/10\n",
      "\u001b[1m180/180\u001b[0m \u001b[32m━━━━━━━━━━━━━━━━━━━━\u001b[0m\u001b[37m\u001b[0m \u001b[1m3s\u001b[0m 14ms/step - accuracy: 0.6224 - loss: 0.6523 - precision: 0.4207 - recall: 0.1772 - val_accuracy: 0.7722 - val_loss: 0.5286 - val_precision: 0.7162 - val_recall: 0.7794\n",
      "Epoch 4/10\n",
      "\u001b[1m180/180\u001b[0m \u001b[32m━━━━━━━━━━━━━━━━━━━━\u001b[0m\u001b[37m\u001b[0m \u001b[1m5s\u001b[0m 11ms/step - accuracy: 0.7907 - loss: 0.4575 - precision: 0.7128 - recall: 0.8165 - val_accuracy: 0.7658 - val_loss: 0.4834 - val_precision: 0.7123 - val_recall: 0.7647\n",
      "Epoch 5/10\n",
      "\u001b[1m180/180\u001b[0m \u001b[32m━━━━━━━━━━━━━━━━━━━━\u001b[0m\u001b[37m\u001b[0m \u001b[1m2s\u001b[0m 11ms/step - accuracy: 0.8791 - loss: 0.3094 - precision: 0.8176 - recall: 0.9059 - val_accuracy: 0.7848 - val_loss: 0.5681 - val_precision: 0.7429 - val_recall: 0.7647\n",
      "Epoch 6/10\n",
      "\u001b[1m180/180\u001b[0m \u001b[32m━━━━━━━━━━━━━━━━━━━━\u001b[0m\u001b[37m\u001b[0m \u001b[1m2s\u001b[0m 11ms/step - accuracy: 0.9326 - loss: 0.2013 - precision: 0.8956 - recall: 0.9448 - val_accuracy: 0.7532 - val_loss: 0.6452 - val_precision: 0.6986 - val_recall: 0.7500\n",
      "Epoch 7/10\n",
      "\u001b[1m180/180\u001b[0m \u001b[32m━━━━━━━━━━━━━━━━━━━━\u001b[0m\u001b[37m\u001b[0m \u001b[1m2s\u001b[0m 11ms/step - accuracy: 0.9602 - loss: 0.1276 - precision: 0.9294 - recall: 0.9770 - val_accuracy: 0.7532 - val_loss: 0.7705 - val_precision: 0.7302 - val_recall: 0.6765\n",
      "Epoch 8/10\n",
      "\u001b[1m180/180\u001b[0m \u001b[32m━━━━━━━━━━━━━━━━━━━━\u001b[0m\u001b[37m\u001b[0m \u001b[1m3s\u001b[0m 16ms/step - accuracy: 0.9770 - loss: 0.0914 - precision: 0.9543 - recall: 0.9912 - val_accuracy: 0.7595 - val_loss: 1.0213 - val_precision: 0.8571 - val_recall: 0.5294\n",
      "Epoch 9/10\n",
      "\u001b[1m180/180\u001b[0m \u001b[32m━━━━━━━━━━━━━━━━━━━━\u001b[0m\u001b[37m\u001b[0m \u001b[1m4s\u001b[0m 11ms/step - accuracy: 0.9791 - loss: 0.0799 - precision: 0.9661 - recall: 0.9834 - val_accuracy: 0.7658 - val_loss: 1.0548 - val_precision: 0.8780 - val_recall: 0.5294\n",
      "Epoch 10/10\n",
      "\u001b[1m180/180\u001b[0m \u001b[32m━━━━━━━━━━━━━━━━━━━━\u001b[0m\u001b[37m\u001b[0m \u001b[1m2s\u001b[0m 11ms/step - accuracy: 0.9862 - loss: 0.0580 - precision: 0.9790 - recall: 0.9875 - val_accuracy: 0.7785 - val_loss: 0.9760 - val_precision: 0.8000 - val_recall: 0.6471\n",
      "\u001b[1m5/5\u001b[0m \u001b[32m━━━━━━━━━━━━━━━━━━━━\u001b[0m\u001b[37m\u001b[0m \u001b[1m0s\u001b[0m 60ms/step\n",
      "Seed=39, hidden_units=32, batch_size=32\n",
      "Total OOV terms: 1340 (14.31%)\n",
      "Epoch 1/10\n",
      "\u001b[1m90/90\u001b[0m \u001b[32m━━━━━━━━━━━━━━━━━━━━\u001b[0m\u001b[37m\u001b[0m \u001b[1m6s\u001b[0m 25ms/step - accuracy: 0.5722 - loss: 0.6841 - precision: 0.3125 - recall: 0.0447 - val_accuracy: 0.5696 - val_loss: 0.6909 - val_precision: 0.0000e+00 - val_recall: 0.0000e+00\n",
      "Epoch 2/10\n",
      "\u001b[1m90/90\u001b[0m \u001b[32m━━━━━━━━━━━━━━━━━━━━\u001b[0m\u001b[37m\u001b[0m \u001b[1m1s\u001b[0m 14ms/step - accuracy: 0.5932 - loss: 0.6781 - precision: 0.0000e+00 - recall: 0.0000e+00 - val_accuracy: 0.5696 - val_loss: 0.6947 - val_precision: 0.0000e+00 - val_recall: 0.0000e+00\n",
      "Epoch 3/10\n",
      "\u001b[1m90/90\u001b[0m \u001b[32m━━━━━━━━━━━━━━━━━━━━\u001b[0m\u001b[37m\u001b[0m \u001b[1m1s\u001b[0m 11ms/step - accuracy: 0.5943 - loss: 0.6768 - precision: 0.1425 - recall: 0.0061 - val_accuracy: 0.7025 - val_loss: 0.5899 - val_precision: 0.9200 - val_recall: 0.3382\n",
      "Epoch 4/10\n",
      "\u001b[1m90/90\u001b[0m \u001b[32m━━━━━━━━━━━━━━━━━━━━\u001b[0m\u001b[37m\u001b[0m \u001b[1m1s\u001b[0m 12ms/step - accuracy: 0.7206 - loss: 0.5712 - precision: 0.7317 - recall: 0.5046 - val_accuracy: 0.7911 - val_loss: 0.4853 - val_precision: 0.8182 - val_recall: 0.6618\n",
      "Epoch 5/10\n",
      "\u001b[1m90/90\u001b[0m \u001b[32m━━━━━━━━━━━━━━━━━━━━\u001b[0m\u001b[37m\u001b[0m \u001b[1m1s\u001b[0m 11ms/step - accuracy: 0.8436 - loss: 0.4023 - precision: 0.8064 - recall: 0.8094 - val_accuracy: 0.8038 - val_loss: 0.3962 - val_precision: 0.7937 - val_recall: 0.7353\n",
      "Epoch 6/10\n",
      "\u001b[1m90/90\u001b[0m \u001b[32m━━━━━━━━━━━━━━━━━━━━\u001b[0m\u001b[37m\u001b[0m \u001b[1m1s\u001b[0m 12ms/step - accuracy: 0.9046 - loss: 0.2668 - precision: 0.8691 - recall: 0.9015 - val_accuracy: 0.8228 - val_loss: 0.4301 - val_precision: 0.8333 - val_recall: 0.7353\n",
      "Epoch 7/10\n",
      "\u001b[1m90/90\u001b[0m \u001b[32m━━━━━━━━━━━━━━━━━━━━\u001b[0m\u001b[37m\u001b[0m \u001b[1m1s\u001b[0m 11ms/step - accuracy: 0.9454 - loss: 0.1783 - precision: 0.9154 - recall: 0.9546 - val_accuracy: 0.7785 - val_loss: 0.6514 - val_precision: 0.9231 - val_recall: 0.5294\n",
      "Epoch 8/10\n",
      "\u001b[1m90/90\u001b[0m \u001b[32m━━━━━━━━━━━━━━━━━━━━\u001b[0m\u001b[37m\u001b[0m \u001b[1m1s\u001b[0m 11ms/step - accuracy: 0.9654 - loss: 0.1218 - precision: 0.9413 - recall: 0.9763 - val_accuracy: 0.7405 - val_loss: 1.0458 - val_precision: 0.9355 - val_recall: 0.4265\n",
      "Epoch 9/10\n",
      "\u001b[1m90/90\u001b[0m \u001b[32m━━━━━━━━━━━━━━━━━━━━\u001b[0m\u001b[37m\u001b[0m \u001b[1m1s\u001b[0m 12ms/step - accuracy: 0.9691 - loss: 0.1082 - precision: 0.9542 - recall: 0.9714 - val_accuracy: 0.7785 - val_loss: 0.7228 - val_precision: 0.8367 - val_recall: 0.6029\n",
      "Epoch 10/10\n",
      "\u001b[1m90/90\u001b[0m \u001b[32m━━━━━━━━━━━━━━━━━━━━\u001b[0m\u001b[37m\u001b[0m \u001b[1m1s\u001b[0m 11ms/step - accuracy: 0.9742 - loss: 0.0891 - precision: 0.9641 - recall: 0.9731 - val_accuracy: 0.8165 - val_loss: 0.6408 - val_precision: 0.8421 - val_recall: 0.7059\n",
      "\u001b[1m5/5\u001b[0m \u001b[32m━━━━━━━━━━━━━━━━━━━━\u001b[0m\u001b[37m\u001b[0m \u001b[1m1s\u001b[0m 80ms/step\n",
      "Seed=39, hidden_units=64, batch_size=16\n",
      "Total OOV terms: 1340 (14.31%)\n",
      "Epoch 1/10\n",
      "\u001b[1m180/180\u001b[0m \u001b[32m━━━━━━━━━━━━━━━━━━━━\u001b[0m\u001b[37m\u001b[0m \u001b[1m5s\u001b[0m 14ms/step - accuracy: 0.5563 - loss: 0.6884 - precision: 0.3659 - recall: 0.1095 - val_accuracy: 0.5696 - val_loss: 0.6867 - val_precision: 0.0000e+00 - val_recall: 0.0000e+00\n",
      "Epoch 2/10\n",
      "\u001b[1m180/180\u001b[0m \u001b[32m━━━━━━━━━━━━━━━━━━━━\u001b[0m\u001b[37m\u001b[0m \u001b[1m5s\u001b[0m 13ms/step - accuracy: 0.5937 - loss: 0.6769 - precision: 0.0000e+00 - recall: 0.0000e+00 - val_accuracy: 0.5696 - val_loss: 0.6903 - val_precision: 0.0000e+00 - val_recall: 0.0000e+00\n",
      "Epoch 3/10\n",
      "\u001b[1m180/180\u001b[0m \u001b[32m━━━━━━━━━━━━━━━━━━━━\u001b[0m\u001b[37m\u001b[0m \u001b[1m3s\u001b[0m 16ms/step - accuracy: 0.5937 - loss: 0.6765 - precision: 0.1794 - recall: 0.0119 - val_accuracy: 0.5696 - val_loss: 0.6835 - val_precision: 0.0000e+00 - val_recall: 0.0000e+00\n",
      "Epoch 4/10\n",
      "\u001b[1m180/180\u001b[0m \u001b[32m━━━━━━━━━━━━━━━━━━━━\u001b[0m\u001b[37m\u001b[0m \u001b[1m4s\u001b[0m 11ms/step - accuracy: 0.5937 - loss: 0.6781 - precision: 0.0000e+00 - recall: 0.0000e+00 - val_accuracy: 0.5696 - val_loss: 0.6881 - val_precision: 0.0000e+00 - val_recall: 0.0000e+00\n",
      "Epoch 5/10\n",
      "\u001b[1m180/180\u001b[0m \u001b[32m━━━━━━━━━━━━━━━━━━━━\u001b[0m\u001b[37m\u001b[0m \u001b[1m2s\u001b[0m 12ms/step - accuracy: 0.5907 - loss: 0.6672 - precision: 0.2801 - recall: 0.1129 - val_accuracy: 0.5696 - val_loss: 0.6681 - val_precision: 0.0000e+00 - val_recall: 0.0000e+00\n",
      "Epoch 6/10\n",
      "\u001b[1m180/180\u001b[0m \u001b[32m━━━━━━━━━━━━━━━━━━━━\u001b[0m\u001b[37m\u001b[0m \u001b[1m2s\u001b[0m 11ms/step - accuracy: 0.6088 - loss: 0.6607 - precision: 0.5343 - recall: 0.0697 - val_accuracy: 0.5696 - val_loss: 0.6922 - val_precision: 0.0000e+00 - val_recall: 0.0000e+00\n",
      "Epoch 7/10\n",
      "\u001b[1m180/180\u001b[0m \u001b[32m━━━━━━━━━━━━━━━━━━━━\u001b[0m\u001b[37m\u001b[0m \u001b[1m3s\u001b[0m 13ms/step - accuracy: 0.6408 - loss: 0.6526 - precision: 0.6517 - recall: 0.2899 - val_accuracy: 0.6646 - val_loss: 0.6545 - val_precision: 0.9412 - val_recall: 0.2353\n",
      "Epoch 8/10\n",
      "\u001b[1m180/180\u001b[0m \u001b[32m━━━━━━━━━━━━━━━━━━━━\u001b[0m\u001b[37m\u001b[0m \u001b[1m3s\u001b[0m 16ms/step - accuracy: 0.7124 - loss: 0.5924 - precision: 0.6736 - recall: 0.5595 - val_accuracy: 0.8038 - val_loss: 0.4710 - val_precision: 0.8627 - val_recall: 0.6471\n",
      "Epoch 9/10\n",
      "\u001b[1m180/180\u001b[0m \u001b[32m━━━━━━━━━━━━━━━━━━━━\u001b[0m\u001b[37m\u001b[0m \u001b[1m4s\u001b[0m 11ms/step - accuracy: 0.8459 - loss: 0.3900 - precision: 0.8058 - recall: 0.8189 - val_accuracy: 0.8354 - val_loss: 0.4056 - val_precision: 0.8750 - val_recall: 0.7206\n",
      "Epoch 10/10\n",
      "\u001b[1m180/180\u001b[0m \u001b[32m━━━━━━━━━━━━━━━━━━━━\u001b[0m\u001b[37m\u001b[0m \u001b[1m2s\u001b[0m 11ms/step - accuracy: 0.9250 - loss: 0.2195 - precision: 0.8996 - recall: 0.9186 - val_accuracy: 0.8228 - val_loss: 0.4482 - val_precision: 0.8333 - val_recall: 0.7353\n",
      "\u001b[1m5/5\u001b[0m \u001b[32m━━━━━━━━━━━━━━━━━━━━\u001b[0m\u001b[37m\u001b[0m \u001b[1m0s\u001b[0m 61ms/step\n",
      "Seed=39, hidden_units=64, batch_size=32\n",
      "Total OOV terms: 1340 (14.31%)\n",
      "Epoch 1/10\n",
      "\u001b[1m90/90\u001b[0m \u001b[32m━━━━━━━━━━━━━━━━━━━━\u001b[0m\u001b[37m\u001b[0m \u001b[1m6s\u001b[0m 27ms/step - accuracy: 0.5722 - loss: 0.6893 - precision: 0.3125 - recall: 0.0447 - val_accuracy: 0.5696 - val_loss: 0.6897 - val_precision: 0.0000e+00 - val_recall: 0.0000e+00\n",
      "Epoch 2/10\n",
      "\u001b[1m90/90\u001b[0m \u001b[32m━━━━━━━━━━━━━━━━━━━━\u001b[0m\u001b[37m\u001b[0m \u001b[1m1s\u001b[0m 12ms/step - accuracy: 0.5932 - loss: 0.6782 - precision: 0.0000e+00 - recall: 0.0000e+00 - val_accuracy: 0.5696 - val_loss: 0.6832 - val_precision: 0.0000e+00 - val_recall: 0.0000e+00\n",
      "Epoch 3/10\n",
      "\u001b[1m90/90\u001b[0m \u001b[32m━━━━━━━━━━━━━━━━━━━━\u001b[0m\u001b[37m\u001b[0m \u001b[1m1s\u001b[0m 12ms/step - accuracy: 0.6277 - loss: 0.6444 - precision: 0.4511 - recall: 0.2122 - val_accuracy: 0.7595 - val_loss: 0.5198 - val_precision: 0.6829 - val_recall: 0.8235\n",
      "Epoch 4/10\n",
      "\u001b[1m90/90\u001b[0m \u001b[32m━━━━━━━━━━━━━━━━━━━━\u001b[0m\u001b[37m\u001b[0m \u001b[1m1s\u001b[0m 12ms/step - accuracy: 0.7958 - loss: 0.4616 - precision: 0.7280 - recall: 0.8002 - val_accuracy: 0.7848 - val_loss: 0.4272 - val_precision: 0.8036 - val_recall: 0.6618\n",
      "Epoch 5/10\n",
      "\u001b[1m90/90\u001b[0m \u001b[32m━━━━━━━━━━━━━━━━━━━━\u001b[0m\u001b[37m\u001b[0m \u001b[1m1s\u001b[0m 12ms/step - accuracy: 0.8692 - loss: 0.3285 - precision: 0.8128 - recall: 0.8824 - val_accuracy: 0.8354 - val_loss: 0.5023 - val_precision: 0.9200 - val_recall: 0.6765\n",
      "Epoch 6/10\n",
      "\u001b[1m90/90\u001b[0m \u001b[32m━━━━━━━━━━━━━━━━━━━━\u001b[0m\u001b[37m\u001b[0m \u001b[1m1s\u001b[0m 11ms/step - accuracy: 0.9203 - loss: 0.2184 - precision: 0.8758 - recall: 0.9382 - val_accuracy: 0.8481 - val_loss: 0.4964 - val_precision: 0.9074 - val_recall: 0.7206\n",
      "Epoch 7/10\n",
      "\u001b[1m90/90\u001b[0m \u001b[32m━━━━━━━━━━━━━━━━━━━━\u001b[0m\u001b[37m\u001b[0m \u001b[1m1s\u001b[0m 11ms/step - accuracy: 0.9591 - loss: 0.1409 - precision: 0.9306 - recall: 0.9724 - val_accuracy: 0.8228 - val_loss: 0.6064 - val_precision: 0.8846 - val_recall: 0.6765\n",
      "Epoch 8/10\n",
      "\u001b[1m90/90\u001b[0m \u001b[32m━━━━━━━━━━━━━━━━━━━━\u001b[0m\u001b[37m\u001b[0m \u001b[1m1s\u001b[0m 12ms/step - accuracy: 0.9710 - loss: 0.1004 - precision: 0.9482 - recall: 0.9825 - val_accuracy: 0.8038 - val_loss: 0.5567 - val_precision: 0.8776 - val_recall: 0.6324\n",
      "Epoch 9/10\n",
      "\u001b[1m90/90\u001b[0m \u001b[32m━━━━━━━━━━━━━━━━━━━━\u001b[0m\u001b[37m\u001b[0m \u001b[1m1s\u001b[0m 12ms/step - accuracy: 0.9827 - loss: 0.0738 - precision: 0.9655 - recall: 0.9931 - val_accuracy: 0.7911 - val_loss: 0.9545 - val_precision: 0.9268 - val_recall: 0.5588\n",
      "Epoch 10/10\n",
      "\u001b[1m90/90\u001b[0m \u001b[32m━━━━━━━━━━━━━━━━━━━━\u001b[0m\u001b[37m\u001b[0m \u001b[1m2s\u001b[0m 16ms/step - accuracy: 0.9834 - loss: 0.0620 - precision: 0.9764 - recall: 0.9832 - val_accuracy: 0.8038 - val_loss: 0.7031 - val_precision: 0.9111 - val_recall: 0.6029\n",
      "\u001b[1m5/5\u001b[0m \u001b[32m━━━━━━━━━━━━━━━━━━━━\u001b[0m\u001b[37m\u001b[0m \u001b[1m1s\u001b[0m 89ms/step\n",
      "Seed=42, hidden_units=32, batch_size=16\n",
      "Total OOV terms: 1340 (14.31%)\n",
      "Epoch 1/10\n",
      "\u001b[1m180/180\u001b[0m \u001b[32m━━━━━━━━━━━━━━━━━━━━\u001b[0m\u001b[37m\u001b[0m \u001b[1m5s\u001b[0m 13ms/step - accuracy: 0.6046 - loss: 0.6754 - precision: 0.0000e+00 - recall: 0.0000e+00 - val_accuracy: 0.5696 - val_loss: 0.6838 - val_precision: 0.0000e+00 - val_recall: 0.0000e+00\n",
      "Epoch 2/10\n",
      "\u001b[1m180/180\u001b[0m \u001b[32m━━━━━━━━━━━━━━━━━━━━\u001b[0m\u001b[37m\u001b[0m \u001b[1m2s\u001b[0m 11ms/step - accuracy: 0.6082 - loss: 0.6683 - precision: 0.1612 - recall: 0.0262 - val_accuracy: 0.7532 - val_loss: 0.5451 - val_precision: 0.7736 - val_recall: 0.6029\n",
      "Epoch 3/10\n",
      "\u001b[1m180/180\u001b[0m \u001b[32m━━━━━━━━━━━━━━━━━━━━\u001b[0m\u001b[37m\u001b[0m \u001b[1m3s\u001b[0m 15ms/step - accuracy: 0.7646 - loss: 0.5139 - precision: 0.7155 - recall: 0.6733 - val_accuracy: 0.7848 - val_loss: 0.4739 - val_precision: 0.9048 - val_recall: 0.5588\n",
      "Epoch 4/10\n",
      "\u001b[1m180/180\u001b[0m \u001b[32m━━━━━━━━━━━━━━━━━━━━\u001b[0m\u001b[37m\u001b[0m \u001b[1m3s\u001b[0m 16ms/step - accuracy: 0.8546 - loss: 0.3617 - precision: 0.8194 - recall: 0.8113 - val_accuracy: 0.8165 - val_loss: 0.4720 - val_precision: 0.8679 - val_recall: 0.6765\n",
      "Epoch 5/10\n",
      "\u001b[1m180/180\u001b[0m \u001b[32m━━━━━━━━━━━━━━━━━━━━\u001b[0m\u001b[37m\u001b[0m \u001b[1m4s\u001b[0m 11ms/step - accuracy: 0.9151 - loss: 0.2500 - precision: 0.8886 - recall: 0.8977 - val_accuracy: 0.8228 - val_loss: 0.5438 - val_precision: 0.8571 - val_recall: 0.7059\n",
      "Epoch 6/10\n",
      "\u001b[1m180/180\u001b[0m \u001b[32m━━━━━━━━━━━━━━━━━━━━\u001b[0m\u001b[37m\u001b[0m \u001b[1m3s\u001b[0m 11ms/step - accuracy: 0.9488 - loss: 0.1628 - precision: 0.9278 - recall: 0.9436 - val_accuracy: 0.8228 - val_loss: 0.6237 - val_precision: 0.8571 - val_recall: 0.7059\n",
      "Epoch 7/10\n",
      "\u001b[1m180/180\u001b[0m \u001b[32m━━━━━━━━━━━━━━━━━━━━\u001b[0m\u001b[37m\u001b[0m \u001b[1m2s\u001b[0m 11ms/step - accuracy: 0.9693 - loss: 0.1118 - precision: 0.9560 - recall: 0.9665 - val_accuracy: 0.7975 - val_loss: 0.6500 - val_precision: 0.7903 - val_recall: 0.7206\n",
      "Epoch 8/10\n",
      "\u001b[1m180/180\u001b[0m \u001b[32m━━━━━━━━━━━━━━━━━━━━\u001b[0m\u001b[37m\u001b[0m \u001b[1m2s\u001b[0m 13ms/step - accuracy: 0.9799 - loss: 0.0837 - precision: 0.9669 - recall: 0.9827 - val_accuracy: 0.7975 - val_loss: 0.8053 - val_precision: 0.8000 - val_recall: 0.7059\n",
      "Epoch 9/10\n",
      "\u001b[1m180/180\u001b[0m \u001b[32m━━━━━━━━━━━━━━━━━━━━\u001b[0m\u001b[37m\u001b[0m \u001b[1m3s\u001b[0m 16ms/step - accuracy: 0.9854 - loss: 0.0594 - precision: 0.9760 - recall: 0.9869 - val_accuracy: 0.7975 - val_loss: 0.7716 - val_precision: 0.8462 - val_recall: 0.6471\n",
      "Epoch 10/10\n",
      "\u001b[1m180/180\u001b[0m \u001b[32m━━━━━━━━━━━━━━━━━━━━\u001b[0m\u001b[37m\u001b[0m \u001b[1m2s\u001b[0m 12ms/step - accuracy: 0.9885 - loss: 0.0512 - precision: 0.9830 - recall: 0.9880 - val_accuracy: 0.7975 - val_loss: 0.8503 - val_precision: 0.8000 - val_recall: 0.7059\n",
      "\u001b[1m5/5\u001b[0m \u001b[32m━━━━━━━━━━━━━━━━━━━━\u001b[0m\u001b[37m\u001b[0m \u001b[1m0s\u001b[0m 57ms/step\n",
      "Seed=42, hidden_units=32, batch_size=32\n",
      "Total OOV terms: 1340 (14.31%)\n",
      "Epoch 1/10\n",
      "\u001b[1m90/90\u001b[0m \u001b[32m━━━━━━━━━━━━━━━━━━━━\u001b[0m\u001b[37m\u001b[0m \u001b[1m4s\u001b[0m 18ms/step - accuracy: 0.5942 - loss: 0.6752 - precision: 0.4062 - recall: 0.0557 - val_accuracy: 0.5696 - val_loss: 0.6841 - val_precision: 0.0000e+00 - val_recall: 0.0000e+00\n",
      "Epoch 2/10\n",
      "\u001b[1m90/90\u001b[0m \u001b[32m━━━━━━━━━━━━━━━━━━━━\u001b[0m\u001b[37m\u001b[0m \u001b[1m2s\u001b[0m 17ms/step - accuracy: 0.5973 - loss: 0.6689 - precision: 0.2619 - recall: 0.0451 - val_accuracy: 0.7278 - val_loss: 0.5982 - val_precision: 0.7049 - val_recall: 0.6324\n",
      "Epoch 3/10\n",
      "\u001b[1m90/90\u001b[0m \u001b[32m━━━━━━━━━━━━━━━━━━━━\u001b[0m\u001b[37m\u001b[0m \u001b[1m2s\u001b[0m 17ms/step - accuracy: 0.7226 - loss: 0.5725 - precision: 0.6611 - recall: 0.6130 - val_accuracy: 0.7532 - val_loss: 0.5322 - val_precision: 0.7959 - val_recall: 0.5735\n",
      "Epoch 4/10\n",
      "\u001b[1m90/90\u001b[0m \u001b[32m━━━━━━━━━━━━━━━━━━━━\u001b[0m\u001b[37m\u001b[0m \u001b[1m1s\u001b[0m 16ms/step - accuracy: 0.8150 - loss: 0.4467 - precision: 0.7863 - recall: 0.7314 - val_accuracy: 0.7595 - val_loss: 0.5630 - val_precision: 0.8000 - val_recall: 0.5882\n",
      "Epoch 5/10\n",
      "\u001b[1m90/90\u001b[0m \u001b[32m━━━━━━━━━━━━━━━━━━━━\u001b[0m\u001b[37m\u001b[0m \u001b[1m1s\u001b[0m 11ms/step - accuracy: 0.8654 - loss: 0.3616 - precision: 0.8358 - recall: 0.8206 - val_accuracy: 0.7595 - val_loss: 0.6249 - val_precision: 0.8000 - val_recall: 0.5882\n",
      "Epoch 6/10\n",
      "\u001b[1m90/90\u001b[0m \u001b[32m━━━━━━━━━━━━━━━━━━━━\u001b[0m\u001b[37m\u001b[0m \u001b[1m1s\u001b[0m 12ms/step - accuracy: 0.8972 - loss: 0.3032 - precision: 0.8620 - recall: 0.8806 - val_accuracy: 0.7595 - val_loss: 0.5733 - val_precision: 0.8000 - val_recall: 0.5882\n",
      "Epoch 7/10\n",
      "\u001b[1m90/90\u001b[0m \u001b[32m━━━━━━━━━━━━━━━━━━━━\u001b[0m\u001b[37m\u001b[0m \u001b[1m1s\u001b[0m 12ms/step - accuracy: 0.9151 - loss: 0.2611 - precision: 0.8870 - recall: 0.8995 - val_accuracy: 0.7911 - val_loss: 0.5753 - val_precision: 0.7778 - val_recall: 0.7206\n",
      "Epoch 8/10\n",
      "\u001b[1m90/90\u001b[0m \u001b[32m━━━━━━━━━━━━━━━━━━━━\u001b[0m\u001b[37m\u001b[0m \u001b[1m1s\u001b[0m 12ms/step - accuracy: 0.9345 - loss: 0.2162 - precision: 0.9100 - recall: 0.9261 - val_accuracy: 0.7911 - val_loss: 0.6663 - val_precision: 0.8431 - val_recall: 0.6324\n",
      "Epoch 9/10\n",
      "\u001b[1m90/90\u001b[0m \u001b[32m━━━━━━━━━━━━━━━━━━━━\u001b[0m\u001b[37m\u001b[0m \u001b[1m1s\u001b[0m 12ms/step - accuracy: 0.9577 - loss: 0.1621 - precision: 0.9400 - recall: 0.9539 - val_accuracy: 0.7848 - val_loss: 0.7558 - val_precision: 0.8542 - val_recall: 0.6029\n",
      "Epoch 10/10\n",
      "\u001b[1m90/90\u001b[0m \u001b[32m━━━━━━━━━━━━━━━━━━━━\u001b[0m\u001b[37m\u001b[0m \u001b[1m1s\u001b[0m 12ms/step - accuracy: 0.9654 - loss: 0.1341 - precision: 0.9586 - recall: 0.9539 - val_accuracy: 0.7911 - val_loss: 0.8254 - val_precision: 0.8723 - val_recall: 0.6029\n",
      "\u001b[1m5/5\u001b[0m \u001b[32m━━━━━━━━━━━━━━━━━━━━\u001b[0m\u001b[37m\u001b[0m \u001b[1m0s\u001b[0m 61ms/step\n",
      "Seed=42, hidden_units=64, batch_size=16\n",
      "Total OOV terms: 1340 (14.31%)\n",
      "Epoch 1/10\n",
      "\u001b[1m180/180\u001b[0m \u001b[32m━━━━━━━━━━━━━━━━━━━━\u001b[0m\u001b[37m\u001b[0m \u001b[1m6s\u001b[0m 14ms/step - accuracy: 0.5968 - loss: 0.6752 - precision: 0.3997 - recall: 0.0422 - val_accuracy: 0.5696 - val_loss: 0.6843 - val_precision: 0.0000e+00 - val_recall: 0.0000e+00\n",
      "Epoch 2/10\n",
      "\u001b[1m180/180\u001b[0m \u001b[32m━━━━━━━━━━━━━━━━━━━━\u001b[0m\u001b[37m\u001b[0m \u001b[1m5s\u001b[0m 11ms/step - accuracy: 0.6068 - loss: 0.6687 - precision: 0.2337 - recall: 0.0432 - val_accuracy: 0.5696 - val_loss: 0.6510 - val_precision: 0.0000e+00 - val_recall: 0.0000e+00\n",
      "Epoch 3/10\n",
      "\u001b[1m180/180\u001b[0m \u001b[32m━━━━━━━━━━━━━━━━━━━━\u001b[0m\u001b[37m\u001b[0m \u001b[1m2s\u001b[0m 11ms/step - accuracy: 0.6467 - loss: 0.5917 - precision: 0.5400 - recall: 0.4560 - val_accuracy: 0.7595 - val_loss: 0.5084 - val_precision: 0.8409 - val_recall: 0.5441\n",
      "Epoch 4/10\n",
      "\u001b[1m180/180\u001b[0m \u001b[32m━━━━━━━━━━━━━━━━━━━━\u001b[0m\u001b[37m\u001b[0m \u001b[1m3s\u001b[0m 17ms/step - accuracy: 0.8039 - loss: 0.4421 - precision: 0.7696 - recall: 0.7192 - val_accuracy: 0.7975 - val_loss: 0.5734 - val_precision: 0.9091 - val_recall: 0.5882\n",
      "Epoch 5/10\n",
      "\u001b[1m180/180\u001b[0m \u001b[32m━━━━━━━━━━━━━━━━━━━━\u001b[0m\u001b[37m\u001b[0m \u001b[1m2s\u001b[0m 12ms/step - accuracy: 0.8745 - loss: 0.3357 - precision: 0.8426 - recall: 0.8390 - val_accuracy: 0.7975 - val_loss: 0.5445 - val_precision: 0.8214 - val_recall: 0.6765\n",
      "Epoch 6/10\n",
      "\u001b[1m180/180\u001b[0m \u001b[32m━━━━━━━━━━━━━━━━━━━━\u001b[0m\u001b[37m\u001b[0m \u001b[1m2s\u001b[0m 11ms/step - accuracy: 0.9118 - loss: 0.2582 - precision: 0.8764 - recall: 0.9043 - val_accuracy: 0.7911 - val_loss: 0.6335 - val_precision: 0.8431 - val_recall: 0.6324\n",
      "Epoch 7/10\n",
      "\u001b[1m180/180\u001b[0m \u001b[32m━━━━━━━━━━━━━━━━━━━━\u001b[0m\u001b[37m\u001b[0m \u001b[1m2s\u001b[0m 11ms/step - accuracy: 0.9381 - loss: 0.1903 - precision: 0.9136 - recall: 0.9315 - val_accuracy: 0.7848 - val_loss: 0.8058 - val_precision: 0.8864 - val_recall: 0.5735\n",
      "Epoch 8/10\n",
      "\u001b[1m180/180\u001b[0m \u001b[32m━━━━━━━━━━━━━━━━━━━━\u001b[0m\u001b[37m\u001b[0m \u001b[1m2s\u001b[0m 11ms/step - accuracy: 0.9563 - loss: 0.1473 - precision: 0.9354 - recall: 0.9557 - val_accuracy: 0.7785 - val_loss: 0.8615 - val_precision: 0.8667 - val_recall: 0.5735\n",
      "Epoch 9/10\n",
      "\u001b[1m180/180\u001b[0m \u001b[32m━━━━━━━━━━━━━━━━━━━━\u001b[0m\u001b[37m\u001b[0m \u001b[1m2s\u001b[0m 12ms/step - accuracy: 0.9659 - loss: 0.1180 - precision: 0.9510 - recall: 0.9636 - val_accuracy: 0.7911 - val_loss: 0.7541 - val_precision: 0.8571 - val_recall: 0.6176\n",
      "Epoch 10/10\n",
      "\u001b[1m180/180\u001b[0m \u001b[32m━━━━━━━━━━━━━━━━━━━━\u001b[0m\u001b[37m\u001b[0m \u001b[1m4s\u001b[0m 17ms/step - accuracy: 0.9778 - loss: 0.0864 - precision: 0.9694 - recall: 0.9747 - val_accuracy: 0.7405 - val_loss: 0.9371 - val_precision: 0.7455 - val_recall: 0.6029\n",
      "\u001b[1m5/5\u001b[0m \u001b[32m━━━━━━━━━━━━━━━━━━━━\u001b[0m\u001b[37m\u001b[0m \u001b[1m0s\u001b[0m 58ms/step\n",
      "Seed=42, hidden_units=64, batch_size=32\n",
      "Total OOV terms: 1340 (14.31%)\n",
      "Epoch 1/10\n",
      "\u001b[1m90/90\u001b[0m \u001b[32m━━━━━━━━━━━━━━━━━━━━\u001b[0m\u001b[37m\u001b[0m \u001b[1m4s\u001b[0m 17ms/step - accuracy: 0.5942 - loss: 0.6770 - precision: 0.4062 - recall: 0.0557 - val_accuracy: 0.5696 - val_loss: 0.6856 - val_precision: 0.0000e+00 - val_recall: 0.0000e+00\n",
      "Epoch 2/10\n",
      "\u001b[1m90/90\u001b[0m \u001b[32m━━━━━━━━━━━━━━━━━━━━\u001b[0m\u001b[37m\u001b[0m \u001b[1m2s\u001b[0m 17ms/step - accuracy: 0.6047 - loss: 0.6717 - precision: 0.0000e+00 - recall: 0.0000e+00 - val_accuracy: 0.5696 - val_loss: 0.6846 - val_precision: 0.0000e+00 - val_recall: 0.0000e+00\n",
      "Epoch 3/10\n",
      "\u001b[1m90/90\u001b[0m \u001b[32m━━━━━━━━━━━━━━━━━━━━\u001b[0m\u001b[37m\u001b[0m \u001b[1m2s\u001b[0m 15ms/step - accuracy: 0.6046 - loss: 0.6713 - precision: 0.0491 - recall: 0.0032 - val_accuracy: 0.5696 - val_loss: 0.6781 - val_precision: 0.0000e+00 - val_recall: 0.0000e+00\n",
      "Epoch 4/10\n",
      "\u001b[1m90/90\u001b[0m \u001b[32m━━━━━━━━━━━━━━━━━━━━\u001b[0m\u001b[37m\u001b[0m \u001b[1m2s\u001b[0m 11ms/step - accuracy: 0.6192 - loss: 0.6553 - precision: 0.5441 - recall: 0.1696 - val_accuracy: 0.5696 - val_loss: 0.6838 - val_precision: 0.0000e+00 - val_recall: 0.0000e+00\n",
      "Epoch 5/10\n",
      "\u001b[1m90/90\u001b[0m \u001b[32m━━━━━━━━━━━━━━━━━━━━\u001b[0m\u001b[37m\u001b[0m \u001b[1m1s\u001b[0m 11ms/step - accuracy: 0.6121 - loss: 0.6597 - precision: 0.2929 - recall: 0.0353 - val_accuracy: 0.7468 - val_loss: 0.5774 - val_precision: 0.8500 - val_recall: 0.5000\n",
      "Epoch 6/10\n",
      "\u001b[1m90/90\u001b[0m \u001b[32m━━━━━━━━━━━━━━━━━━━━\u001b[0m\u001b[37m\u001b[0m \u001b[1m1s\u001b[0m 11ms/step - accuracy: 0.7820 - loss: 0.4870 - precision: 0.7559 - recall: 0.6687 - val_accuracy: 0.7785 - val_loss: 0.5440 - val_precision: 0.8235 - val_recall: 0.6176\n",
      "Epoch 7/10\n",
      "\u001b[1m90/90\u001b[0m \u001b[32m━━━━━━━━━━━━━━━━━━━━\u001b[0m\u001b[37m\u001b[0m \u001b[1m1s\u001b[0m 12ms/step - accuracy: 0.8429 - loss: 0.3828 - precision: 0.8078 - recall: 0.7919 - val_accuracy: 0.7595 - val_loss: 0.7398 - val_precision: 0.8409 - val_recall: 0.5441\n",
      "Epoch 8/10\n",
      "\u001b[1m90/90\u001b[0m \u001b[32m━━━━━━━━━━━━━━━━━━━━\u001b[0m\u001b[37m\u001b[0m \u001b[1m1s\u001b[0m 12ms/step - accuracy: 0.9010 - loss: 0.2943 - precision: 0.8710 - recall: 0.8799 - val_accuracy: 0.7785 - val_loss: 0.7089 - val_precision: 0.8367 - val_recall: 0.6029\n",
      "Epoch 9/10\n",
      "\u001b[1m90/90\u001b[0m \u001b[32m━━━━━━━━━━━━━━━━━━━━\u001b[0m\u001b[37m\u001b[0m \u001b[1m1s\u001b[0m 12ms/step - accuracy: 0.9322 - loss: 0.2160 - precision: 0.9106 - recall: 0.9187 - val_accuracy: 0.8165 - val_loss: 0.5933 - val_precision: 0.8000 - val_recall: 0.7647\n",
      "Epoch 10/10\n",
      "\u001b[1m90/90\u001b[0m \u001b[32m━━━━━━━━━━━━━━━━━━━━\u001b[0m\u001b[37m\u001b[0m \u001b[1m1s\u001b[0m 12ms/step - accuracy: 0.9537 - loss: 0.1588 - precision: 0.9312 - recall: 0.9539 - val_accuracy: 0.7722 - val_loss: 0.7666 - val_precision: 0.7857 - val_recall: 0.6471\n",
      "\u001b[1m5/5\u001b[0m \u001b[32m━━━━━━━━━━━━━━━━━━━━\u001b[0m\u001b[37m\u001b[0m \u001b[1m1s\u001b[0m 87ms/step\n",
      "Seed=42, hidden_units=32, batch_size=16\n",
      "Total OOV terms: 1340 (14.31%)\n",
      "Epoch 1/10\n",
      "\u001b[1m180/180\u001b[0m \u001b[32m━━━━━━━━━━━━━━━━━━━━\u001b[0m\u001b[37m\u001b[0m \u001b[1m5s\u001b[0m 14ms/step - accuracy: 0.5837 - loss: 0.6776 - precision: 0.3688 - recall: 0.0818 - val_accuracy: 0.5696 - val_loss: 0.6843 - val_precision: 0.0000e+00 - val_recall: 0.0000e+00\n",
      "Epoch 2/10\n",
      "\u001b[1m180/180\u001b[0m \u001b[32m━━━━━━━━━━━━━━━━━━━━\u001b[0m\u001b[37m\u001b[0m \u001b[1m2s\u001b[0m 12ms/step - accuracy: 0.6046 - loss: 0.6721 - precision: 0.0000e+00 - recall: 0.0000e+00 - val_accuracy: 0.5696 - val_loss: 0.6762 - val_precision: 0.0000e+00 - val_recall: 0.0000e+00\n",
      "Epoch 3/10\n",
      "\u001b[1m180/180\u001b[0m \u001b[32m━━━━━━━━━━━━━━━━━━━━\u001b[0m\u001b[37m\u001b[0m \u001b[1m3s\u001b[0m 12ms/step - accuracy: 0.6169 - loss: 0.6554 - precision: 0.2770 - recall: 0.0522 - val_accuracy: 0.7975 - val_loss: 0.4691 - val_precision: 0.8214 - val_recall: 0.6765\n",
      "Epoch 4/10\n",
      "\u001b[1m180/180\u001b[0m \u001b[32m━━━━━━━━━━━━━━━━━━━━\u001b[0m\u001b[37m\u001b[0m \u001b[1m3s\u001b[0m 17ms/step - accuracy: 0.8195 - loss: 0.4016 - precision: 0.7656 - recall: 0.7837 - val_accuracy: 0.7785 - val_loss: 0.5912 - val_precision: 0.9231 - val_recall: 0.5294\n",
      "Epoch 5/10\n",
      "\u001b[1m180/180\u001b[0m \u001b[32m━━━━━━━━━━━━━━━━━━━━\u001b[0m\u001b[37m\u001b[0m \u001b[1m4s\u001b[0m 12ms/step - accuracy: 0.9179 - loss: 0.2292 - precision: 0.8818 - recall: 0.9145 - val_accuracy: 0.8228 - val_loss: 0.5339 - val_precision: 0.8333 - val_recall: 0.7353\n",
      "Epoch 6/10\n",
      "\u001b[1m180/180\u001b[0m \u001b[32m━━━━━━━━━━━━━━━━━━━━\u001b[0m\u001b[37m\u001b[0m \u001b[1m2s\u001b[0m 12ms/step - accuracy: 0.9594 - loss: 0.1454 - precision: 0.9350 - recall: 0.9641 - val_accuracy: 0.7595 - val_loss: 0.8148 - val_precision: 0.8261 - val_recall: 0.5588\n",
      "Epoch 7/10\n",
      "\u001b[1m180/180\u001b[0m \u001b[32m━━━━━━━━━━━━━━━━━━━━\u001b[0m\u001b[37m\u001b[0m \u001b[1m3s\u001b[0m 12ms/step - accuracy: 0.9754 - loss: 0.0861 - precision: 0.9591 - recall: 0.9792 - val_accuracy: 0.8165 - val_loss: 0.7055 - val_precision: 0.8095 - val_recall: 0.7500\n",
      "Epoch 8/10\n",
      "\u001b[1m180/180\u001b[0m \u001b[32m━━━━━━━━━━━━━━━━━━━━\u001b[0m\u001b[37m\u001b[0m \u001b[1m3s\u001b[0m 14ms/step - accuracy: 0.9872 - loss: 0.0523 - precision: 0.9809 - recall: 0.9865 - val_accuracy: 0.8038 - val_loss: 0.6938 - val_precision: 0.7846 - val_recall: 0.7500\n",
      "Epoch 9/10\n",
      "\u001b[1m180/180\u001b[0m \u001b[32m━━━━━━━━━━━━━━━━━━━━\u001b[0m\u001b[37m\u001b[0m \u001b[1m5s\u001b[0m 12ms/step - accuracy: 0.9923 - loss: 0.0380 - precision: 0.9867 - recall: 0.9937 - val_accuracy: 0.7911 - val_loss: 0.8528 - val_precision: 0.7778 - val_recall: 0.7206\n",
      "Epoch 10/10\n",
      "\u001b[1m180/180\u001b[0m \u001b[32m━━━━━━━━━━━━━━━━━━━━\u001b[0m\u001b[37m\u001b[0m \u001b[1m2s\u001b[0m 12ms/step - accuracy: 0.9943 - loss: 0.0275 - precision: 0.9917 - recall: 0.9938 - val_accuracy: 0.8038 - val_loss: 0.7352 - val_precision: 0.7534 - val_recall: 0.8088\n",
      "\u001b[1m5/5\u001b[0m \u001b[32m━━━━━━━━━━━━━━━━━━━━\u001b[0m\u001b[37m\u001b[0m \u001b[1m0s\u001b[0m 60ms/step\n",
      "Seed=42, hidden_units=32, batch_size=32\n",
      "Total OOV terms: 1340 (14.31%)\n",
      "Epoch 1/10\n",
      "\u001b[1m90/90\u001b[0m \u001b[32m━━━━━━━━━━━━━━━━━━━━\u001b[0m\u001b[37m\u001b[0m \u001b[1m7s\u001b[0m 19ms/step - accuracy: 0.6045 - loss: 0.6768 - precision: 0.0000e+00 - recall: 0.0000e+00 - val_accuracy: 0.5696 - val_loss: 0.6853 - val_precision: 0.0000e+00 - val_recall: 0.0000e+00\n",
      "Epoch 2/10\n",
      "\u001b[1m90/90\u001b[0m \u001b[32m━━━━━━━━━━━━━━━━━━━━\u001b[0m\u001b[37m\u001b[0m \u001b[1m1s\u001b[0m 11ms/step - accuracy: 0.6043 - loss: 0.6716 - precision: 0.0452 - recall: 0.0038 - val_accuracy: 0.5696 - val_loss: 0.6755 - val_precision: 0.0000e+00 - val_recall: 0.0000e+00\n",
      "Epoch 3/10\n",
      "\u001b[1m90/90\u001b[0m \u001b[32m━━━━━━━━━━━━━━━━━━━━\u001b[0m\u001b[37m\u001b[0m \u001b[1m1s\u001b[0m 11ms/step - accuracy: 0.6707 - loss: 0.6093 - precision: 0.6543 - recall: 0.2955 - val_accuracy: 0.7595 - val_loss: 0.4826 - val_precision: 0.7885 - val_recall: 0.6029\n",
      "Epoch 4/10\n",
      "\u001b[1m90/90\u001b[0m \u001b[32m━━━━━━━━━━━━━━━━━━━━\u001b[0m\u001b[37m\u001b[0m \u001b[1m1s\u001b[0m 12ms/step - accuracy: 0.8253 - loss: 0.4153 - precision: 0.8024 - recall: 0.7415 - val_accuracy: 0.7975 - val_loss: 0.4975 - val_precision: 0.8462 - val_recall: 0.6471\n",
      "Epoch 5/10\n",
      "\u001b[1m90/90\u001b[0m \u001b[32m━━━━━━━━━━━━━━━━━━━━\u001b[0m\u001b[37m\u001b[0m \u001b[1m1s\u001b[0m 11ms/step - accuracy: 0.9029 - loss: 0.2774 - precision: 0.8718 - recall: 0.8847 - val_accuracy: 0.8038 - val_loss: 0.5294 - val_precision: 0.8776 - val_recall: 0.6324\n",
      "Epoch 6/10\n",
      "\u001b[1m90/90\u001b[0m \u001b[32m━━━━━━━━━━━━━━━━━━━━\u001b[0m\u001b[37m\u001b[0m \u001b[1m1s\u001b[0m 12ms/step - accuracy: 0.9459 - loss: 0.1752 - precision: 0.9255 - recall: 0.9386 - val_accuracy: 0.8165 - val_loss: 0.4906 - val_precision: 0.8197 - val_recall: 0.7353\n",
      "Epoch 7/10\n",
      "\u001b[1m90/90\u001b[0m \u001b[32m━━━━━━━━━━━━━━━━━━━━\u001b[0m\u001b[37m\u001b[0m \u001b[1m1s\u001b[0m 12ms/step - accuracy: 0.9707 - loss: 0.1066 - precision: 0.9537 - recall: 0.9733 - val_accuracy: 0.8165 - val_loss: 0.5983 - val_precision: 0.8095 - val_recall: 0.7500\n",
      "Epoch 8/10\n",
      "\u001b[1m90/90\u001b[0m \u001b[32m━━━━━━━━━━━━━━━━━━━━\u001b[0m\u001b[37m\u001b[0m \u001b[1m1s\u001b[0m 12ms/step - accuracy: 0.9816 - loss: 0.0778 - precision: 0.9638 - recall: 0.9907 - val_accuracy: 0.7975 - val_loss: 0.7776 - val_precision: 0.8462 - val_recall: 0.6471\n",
      "Epoch 9/10\n",
      "\u001b[1m90/90\u001b[0m \u001b[32m━━━━━━━━━━━━━━━━━━━━\u001b[0m\u001b[37m\u001b[0m \u001b[1m2s\u001b[0m 15ms/step - accuracy: 0.9806 - loss: 0.0625 - precision: 0.9718 - recall: 0.9794 - val_accuracy: 0.7595 - val_loss: 1.0641 - val_precision: 0.8261 - val_recall: 0.5588\n",
      "Epoch 10/10\n",
      "\u001b[1m90/90\u001b[0m \u001b[32m━━━━━━━━━━━━━━━━━━━━\u001b[0m\u001b[37m\u001b[0m \u001b[1m3s\u001b[0m 17ms/step - accuracy: 0.9899 - loss: 0.0450 - precision: 0.9864 - recall: 0.9878 - val_accuracy: 0.7975 - val_loss: 0.8479 - val_precision: 0.8462 - val_recall: 0.6471\n",
      "\u001b[1m5/5\u001b[0m \u001b[32m━━━━━━━━━━━━━━━━━━━━\u001b[0m\u001b[37m\u001b[0m \u001b[1m0s\u001b[0m 64ms/step\n",
      "Seed=42, hidden_units=64, batch_size=16\n",
      "Total OOV terms: 1340 (14.31%)\n",
      "Epoch 1/10\n",
      "\u001b[1m180/180\u001b[0m \u001b[32m━━━━━━━━━━━━━━━━━━━━\u001b[0m\u001b[37m\u001b[0m \u001b[1m5s\u001b[0m 14ms/step - accuracy: 0.5917 - loss: 0.6778 - precision: 0.4223 - recall: 0.0884 - val_accuracy: 0.5696 - val_loss: 0.6845 - val_precision: 0.0000e+00 - val_recall: 0.0000e+00\n",
      "Epoch 2/10\n",
      "\u001b[1m180/180\u001b[0m \u001b[32m━━━━━━━━━━━━━━━━━━━━\u001b[0m\u001b[37m\u001b[0m \u001b[1m2s\u001b[0m 11ms/step - accuracy: 0.6046 - loss: 0.6722 - precision: 0.0000e+00 - recall: 0.0000e+00 - val_accuracy: 0.5696 - val_loss: 0.6844 - val_precision: 0.0000e+00 - val_recall: 0.0000e+00\n",
      "Epoch 3/10\n",
      "\u001b[1m180/180\u001b[0m \u001b[32m━━━━━━━━━━━━━━━━━━━━\u001b[0m\u001b[37m\u001b[0m \u001b[1m3s\u001b[0m 16ms/step - accuracy: 0.6059 - loss: 0.6708 - precision: 0.1110 - recall: 0.0089 - val_accuracy: 0.7342 - val_loss: 0.5898 - val_precision: 0.8611 - val_recall: 0.4559\n",
      "Epoch 4/10\n",
      "\u001b[1m180/180\u001b[0m \u001b[32m━━━━━━━━━━━━━━━━━━━━\u001b[0m\u001b[37m\u001b[0m \u001b[1m3s\u001b[0m 15ms/step - accuracy: 0.7151 - loss: 0.5532 - precision: 0.6399 - recall: 0.6602 - val_accuracy: 0.8038 - val_loss: 0.4798 - val_precision: 0.8627 - val_recall: 0.6471\n",
      "Epoch 5/10\n",
      "\u001b[1m180/180\u001b[0m \u001b[32m━━━━━━━━━━━━━━━━━━━━\u001b[0m\u001b[37m\u001b[0m \u001b[1m2s\u001b[0m 11ms/step - accuracy: 0.8440 - loss: 0.3782 - precision: 0.8245 - recall: 0.7693 - val_accuracy: 0.8165 - val_loss: 0.5134 - val_precision: 0.8980 - val_recall: 0.6471\n",
      "Epoch 6/10\n",
      "\u001b[1m180/180\u001b[0m \u001b[32m━━━━━━━━━━━━━━━━━━━━\u001b[0m\u001b[37m\u001b[0m \u001b[1m3s\u001b[0m 11ms/step - accuracy: 0.9066 - loss: 0.2660 - precision: 0.8773 - recall: 0.8880 - val_accuracy: 0.8228 - val_loss: 0.5181 - val_precision: 0.8125 - val_recall: 0.7647\n",
      "Epoch 7/10\n",
      "\u001b[1m180/180\u001b[0m \u001b[32m━━━━━━━━━━━━━━━━━━━━\u001b[0m\u001b[37m\u001b[0m \u001b[1m3s\u001b[0m 12ms/step - accuracy: 0.9402 - loss: 0.1843 - precision: 0.9114 - recall: 0.9400 - val_accuracy: 0.8038 - val_loss: 0.5257 - val_precision: 0.7681 - val_recall: 0.7794\n",
      "Epoch 8/10\n",
      "\u001b[1m180/180\u001b[0m \u001b[32m━━━━━━━━━━━━━━━━━━━━\u001b[0m\u001b[37m\u001b[0m \u001b[1m2s\u001b[0m 12ms/step - accuracy: 0.9593 - loss: 0.1391 - precision: 0.9387 - recall: 0.9596 - val_accuracy: 0.7911 - val_loss: 0.7339 - val_precision: 0.8302 - val_recall: 0.6471\n",
      "Epoch 9/10\n",
      "\u001b[1m180/180\u001b[0m \u001b[32m━━━━━━━━━━━━━━━━━━━━\u001b[0m\u001b[37m\u001b[0m \u001b[1m4s\u001b[0m 17ms/step - accuracy: 0.9749 - loss: 0.1028 - precision: 0.9611 - recall: 0.9759 - val_accuracy: 0.7911 - val_loss: 0.7406 - val_precision: 0.7869 - val_recall: 0.7059\n",
      "Epoch 10/10\n",
      "\u001b[1m180/180\u001b[0m \u001b[32m━━━━━━━━━━━━━━━━━━━━\u001b[0m\u001b[37m\u001b[0m \u001b[1m4s\u001b[0m 11ms/step - accuracy: 0.9814 - loss: 0.0787 - precision: 0.9719 - recall: 0.9815 - val_accuracy: 0.7785 - val_loss: 0.8466 - val_precision: 0.7538 - val_recall: 0.7206\n",
      "\u001b[1m5/5\u001b[0m \u001b[32m━━━━━━━━━━━━━━━━━━━━\u001b[0m\u001b[37m\u001b[0m \u001b[1m0s\u001b[0m 62ms/step\n",
      "Seed=42, hidden_units=64, batch_size=32\n",
      "Total OOV terms: 1340 (14.31%)\n",
      "Epoch 1/10\n",
      "\u001b[1m90/90\u001b[0m \u001b[32m━━━━━━━━━━━━━━━━━━━━\u001b[0m\u001b[37m\u001b[0m \u001b[1m5s\u001b[0m 22ms/step - accuracy: 0.5942 - loss: 0.6775 - precision: 0.4062 - recall: 0.0557 - val_accuracy: 0.5696 - val_loss: 0.6853 - val_precision: 0.0000e+00 - val_recall: 0.0000e+00\n",
      "Epoch 2/10\n",
      "\u001b[1m90/90\u001b[0m \u001b[32m━━━━━━━━━━━━━━━━━━━━\u001b[0m\u001b[37m\u001b[0m \u001b[1m2s\u001b[0m 17ms/step - accuracy: 0.6052 - loss: 0.6714 - precision: 0.0897 - recall: 0.0070 - val_accuracy: 0.5759 - val_loss: 0.6795 - val_precision: 1.0000 - val_recall: 0.0147\n",
      "Epoch 3/10\n",
      "\u001b[1m90/90\u001b[0m \u001b[32m━━━━━━━━━━━━━━━━━━━━\u001b[0m\u001b[37m\u001b[0m \u001b[1m2s\u001b[0m 12ms/step - accuracy: 0.6081 - loss: 0.6534 - precision: 0.4754 - recall: 0.1917 - val_accuracy: 0.7025 - val_loss: 0.6292 - val_precision: 0.9200 - val_recall: 0.3382\n",
      "Epoch 4/10\n",
      "\u001b[1m90/90\u001b[0m \u001b[32m━━━━━━━━━━━━━━━━━━━━\u001b[0m\u001b[37m\u001b[0m \u001b[1m1s\u001b[0m 11ms/step - accuracy: 0.7354 - loss: 0.5681 - precision: 0.7226 - recall: 0.5728 - val_accuracy: 0.7722 - val_loss: 0.5162 - val_precision: 0.8810 - val_recall: 0.5441\n",
      "Epoch 5/10\n",
      "\u001b[1m90/90\u001b[0m \u001b[32m━━━━━━━━━━━━━━━━━━━━\u001b[0m\u001b[37m\u001b[0m \u001b[1m1s\u001b[0m 12ms/step - accuracy: 0.7978 - loss: 0.4554 - precision: 0.7793 - recall: 0.6867 - val_accuracy: 0.8038 - val_loss: 0.4691 - val_precision: 0.7937 - val_recall: 0.7353\n",
      "Epoch 6/10\n",
      "\u001b[1m90/90\u001b[0m \u001b[32m━━━━━━━━━━━━━━━━━━━━\u001b[0m\u001b[37m\u001b[0m \u001b[1m1s\u001b[0m 12ms/step - accuracy: 0.8664 - loss: 0.3396 - precision: 0.8541 - recall: 0.8001 - val_accuracy: 0.8291 - val_loss: 0.5157 - val_precision: 0.8596 - val_recall: 0.7206\n",
      "Epoch 7/10\n",
      "\u001b[1m90/90\u001b[0m \u001b[32m━━━━━━━━━━━━━━━━━━━━\u001b[0m\u001b[37m\u001b[0m \u001b[1m1s\u001b[0m 11ms/step - accuracy: 0.9305 - loss: 0.2203 - precision: 0.9182 - recall: 0.9046 - val_accuracy: 0.8354 - val_loss: 0.5652 - val_precision: 0.8500 - val_recall: 0.7500\n",
      "Epoch 8/10\n",
      "\u001b[1m90/90\u001b[0m \u001b[32m━━━━━━━━━━━━━━━━━━━━\u001b[0m\u001b[37m\u001b[0m \u001b[1m1s\u001b[0m 11ms/step - accuracy: 0.9438 - loss: 0.1698 - precision: 0.9176 - recall: 0.9437 - val_accuracy: 0.7785 - val_loss: 0.8299 - val_precision: 0.9024 - val_recall: 0.5441\n",
      "Epoch 9/10\n",
      "\u001b[1m90/90\u001b[0m \u001b[32m━━━━━━━━━━━━━━━━━━━━\u001b[0m\u001b[37m\u001b[0m \u001b[1m1s\u001b[0m 12ms/step - accuracy: 0.9595 - loss: 0.1294 - precision: 0.9336 - recall: 0.9669 - val_accuracy: 0.8418 - val_loss: 0.6912 - val_precision: 0.8772 - val_recall: 0.7353\n",
      "Epoch 10/10\n",
      "\u001b[1m90/90\u001b[0m \u001b[32m━━━━━━━━━━━━━━━━━━━━\u001b[0m\u001b[37m\u001b[0m \u001b[1m1s\u001b[0m 11ms/step - accuracy: 0.9748 - loss: 0.0943 - precision: 0.9580 - recall: 0.9791 - val_accuracy: 0.8354 - val_loss: 0.7257 - val_precision: 0.8500 - val_recall: 0.7500\n",
      "\u001b[1m5/5\u001b[0m \u001b[32m━━━━━━━━━━━━━━━━━━━━\u001b[0m\u001b[37m\u001b[0m \u001b[1m0s\u001b[0m 60ms/step\n",
      "Seed=777, hidden_units=32, batch_size=16\n",
      "Total OOV terms: 1340 (14.31%)\n",
      "Epoch 1/10\n",
      "\u001b[1m180/180\u001b[0m \u001b[32m━━━━━━━━━━━━━━━━━━━━\u001b[0m\u001b[37m\u001b[0m \u001b[1m6s\u001b[0m 14ms/step - accuracy: 0.6038 - loss: 0.6740 - precision: 0.0000e+00 - recall: 0.0000e+00 - val_accuracy: 0.5696 - val_loss: 0.6904 - val_precision: 0.0000e+00 - val_recall: 0.0000e+00\n",
      "Epoch 2/10\n",
      "\u001b[1m180/180\u001b[0m \u001b[32m━━━━━━━━━━━━━━━━━━━━\u001b[0m\u001b[37m\u001b[0m \u001b[1m2s\u001b[0m 11ms/step - accuracy: 0.6090 - loss: 0.6695 - precision: 0.3956 - recall: 0.0844 - val_accuracy: 0.5696 - val_loss: 0.6884 - val_precision: 0.0000e+00 - val_recall: 0.0000e+00\n",
      "Epoch 3/10\n",
      "\u001b[1m180/180\u001b[0m \u001b[32m━━━━━━━━━━━━━━━━━━━━\u001b[0m\u001b[37m\u001b[0m \u001b[1m2s\u001b[0m 11ms/step - accuracy: 0.6038 - loss: 0.6728 - precision: 0.0000e+00 - recall: 0.0000e+00 - val_accuracy: 0.5696 - val_loss: 0.6861 - val_precision: 0.0000e+00 - val_recall: 0.0000e+00\n",
      "Epoch 4/10\n",
      "\u001b[1m180/180\u001b[0m \u001b[32m━━━━━━━━━━━━━━━━━━━━\u001b[0m\u001b[37m\u001b[0m \u001b[1m3s\u001b[0m 15ms/step - accuracy: 0.6295 - loss: 0.6525 - precision: 0.4386 - recall: 0.1022 - val_accuracy: 0.6519 - val_loss: 0.6012 - val_precision: 0.9333 - val_recall: 0.2059\n",
      "Epoch 5/10\n",
      "\u001b[1m180/180\u001b[0m \u001b[32m━━━━━━━━━━━━━━━━━━━━\u001b[0m\u001b[37m\u001b[0m \u001b[1m4s\u001b[0m 11ms/step - accuracy: 0.7752 - loss: 0.4895 - precision: 0.7457 - recall: 0.6675 - val_accuracy: 0.7405 - val_loss: 0.5539 - val_precision: 0.8293 - val_recall: 0.5000\n",
      "Epoch 6/10\n",
      "\u001b[1m180/180\u001b[0m \u001b[32m━━━━━━━━━━━━━━━━━━━━\u001b[0m\u001b[37m\u001b[0m \u001b[1m3s\u001b[0m 11ms/step - accuracy: 0.8516 - loss: 0.3808 - precision: 0.8274 - recall: 0.7917 - val_accuracy: 0.7532 - val_loss: 0.6041 - val_precision: 0.7959 - val_recall: 0.5735\n",
      "Epoch 7/10\n",
      "\u001b[1m180/180\u001b[0m \u001b[32m━━━━━━━━━━━━━━━━━━━━\u001b[0m\u001b[37m\u001b[0m \u001b[1m3s\u001b[0m 11ms/step - accuracy: 0.8955 - loss: 0.3010 - precision: 0.8716 - recall: 0.8639 - val_accuracy: 0.7595 - val_loss: 0.6106 - val_precision: 0.7206 - val_recall: 0.7206\n",
      "Epoch 8/10\n",
      "\u001b[1m180/180\u001b[0m \u001b[32m━━━━━━━━━━━━━━━━━━━━\u001b[0m\u001b[37m\u001b[0m \u001b[1m3s\u001b[0m 14ms/step - accuracy: 0.9230 - loss: 0.2383 - precision: 0.8960 - recall: 0.9112 - val_accuracy: 0.8038 - val_loss: 0.5722 - val_precision: 0.8246 - val_recall: 0.6912\n",
      "Epoch 9/10\n",
      "\u001b[1m180/180\u001b[0m \u001b[32m━━━━━━━━━━━━━━━━━━━━\u001b[0m\u001b[37m\u001b[0m \u001b[1m3s\u001b[0m 17ms/step - accuracy: 0.9512 - loss: 0.1669 - precision: 0.9247 - recall: 0.9546 - val_accuracy: 0.8354 - val_loss: 0.5795 - val_precision: 0.8182 - val_recall: 0.7941\n",
      "Epoch 10/10\n",
      "\u001b[1m180/180\u001b[0m \u001b[32m━━━━━━━━━━━━━━━━━━━━\u001b[0m\u001b[37m\u001b[0m \u001b[1m2s\u001b[0m 12ms/step - accuracy: 0.9622 - loss: 0.1297 - precision: 0.9423 - recall: 0.9637 - val_accuracy: 0.8228 - val_loss: 0.6331 - val_precision: 0.7857 - val_recall: 0.8088\n",
      "\u001b[1m5/5\u001b[0m \u001b[32m━━━━━━━━━━━━━━━━━━━━\u001b[0m\u001b[37m\u001b[0m \u001b[1m0s\u001b[0m 66ms/step\n",
      "Seed=777, hidden_units=32, batch_size=32\n",
      "Total OOV terms: 1340 (14.31%)\n",
      "Epoch 1/10\n",
      "\u001b[1m90/90\u001b[0m \u001b[32m━━━━━━━━━━━━━━━━━━━━\u001b[0m\u001b[37m\u001b[0m \u001b[1m4s\u001b[0m 17ms/step - accuracy: 0.5963 - loss: 0.6751 - precision: 0.4375 - recall: 0.0596 - val_accuracy: 0.5696 - val_loss: 0.6857 - val_precision: 0.0000e+00 - val_recall: 0.0000e+00\n",
      "Epoch 2/10\n",
      "\u001b[1m90/90\u001b[0m \u001b[32m━━━━━━━━━━━━━━━━━━━━\u001b[0m\u001b[37m\u001b[0m \u001b[1m1s\u001b[0m 14ms/step - accuracy: 0.6033 - loss: 0.6728 - precision: 0.0000e+00 - recall: 0.0000e+00 - val_accuracy: 0.5696 - val_loss: 0.6905 - val_precision: 0.0000e+00 - val_recall: 0.0000e+00\n",
      "Epoch 3/10\n",
      "\u001b[1m90/90\u001b[0m \u001b[32m━━━━━━━━━━━━━━━━━━━━\u001b[0m\u001b[37m\u001b[0m \u001b[1m1s\u001b[0m 16ms/step - accuracy: 0.6045 - loss: 0.6715 - precision: 0.1118 - recall: 0.0079 - val_accuracy: 0.7089 - val_loss: 0.6122 - val_precision: 0.7895 - val_recall: 0.4412\n",
      "Epoch 4/10\n",
      "\u001b[1m90/90\u001b[0m \u001b[32m━━━━━━━━━━━━━━━━━━━━\u001b[0m\u001b[37m\u001b[0m \u001b[1m2s\u001b[0m 14ms/step - accuracy: 0.7200 - loss: 0.5759 - precision: 0.6579 - recall: 0.6229 - val_accuracy: 0.7278 - val_loss: 0.5896 - val_precision: 0.6712 - val_recall: 0.7206\n",
      "Epoch 5/10\n",
      "\u001b[1m90/90\u001b[0m \u001b[32m━━━━━━━━━━━━━━━━━━━━\u001b[0m\u001b[37m\u001b[0m \u001b[1m1s\u001b[0m 11ms/step - accuracy: 0.7801 - loss: 0.4951 - precision: 0.7082 - recall: 0.7599 - val_accuracy: 0.7089 - val_loss: 0.5525 - val_precision: 0.9231 - val_recall: 0.3529\n",
      "Epoch 6/10\n",
      "\u001b[1m90/90\u001b[0m \u001b[32m━━━━━━━━━━━━━━━━━━━━\u001b[0m\u001b[37m\u001b[0m \u001b[1m1s\u001b[0m 12ms/step - accuracy: 0.7902 - loss: 0.4990 - precision: 0.7675 - recall: 0.6810 - val_accuracy: 0.7089 - val_loss: 0.5520 - val_precision: 0.6667 - val_recall: 0.6471\n",
      "Epoch 7/10\n",
      "\u001b[1m90/90\u001b[0m \u001b[32m━━━━━━━━━━━━━━━━━━━━\u001b[0m\u001b[37m\u001b[0m \u001b[1m1s\u001b[0m 12ms/step - accuracy: 0.8506 - loss: 0.3776 - precision: 0.7980 - recall: 0.8344 - val_accuracy: 0.7722 - val_loss: 0.5630 - val_precision: 0.7857 - val_recall: 0.6471\n",
      "Epoch 8/10\n",
      "\u001b[1m90/90\u001b[0m \u001b[32m━━━━━━━━━━━━━━━━━━━━\u001b[0m\u001b[37m\u001b[0m \u001b[1m1s\u001b[0m 11ms/step - accuracy: 0.8822 - loss: 0.3163 - precision: 0.8392 - recall: 0.8699 - val_accuracy: 0.7848 - val_loss: 0.5334 - val_precision: 0.7742 - val_recall: 0.7059\n",
      "Epoch 9/10\n",
      "\u001b[1m90/90\u001b[0m \u001b[32m━━━━━━━━━━━━━━━━━━━━\u001b[0m\u001b[37m\u001b[0m \u001b[1m1s\u001b[0m 11ms/step - accuracy: 0.9169 - loss: 0.2627 - precision: 0.8896 - recall: 0.9020 - val_accuracy: 0.7722 - val_loss: 0.5546 - val_precision: 0.7286 - val_recall: 0.7500\n",
      "Epoch 10/10\n",
      "\u001b[1m90/90\u001b[0m \u001b[32m━━━━━━━━━━━━━━━━━━━━\u001b[0m\u001b[37m\u001b[0m \u001b[1m1s\u001b[0m 11ms/step - accuracy: 0.9280 - loss: 0.2283 - precision: 0.9018 - recall: 0.9185 - val_accuracy: 0.7911 - val_loss: 0.5648 - val_precision: 0.7612 - val_recall: 0.7500\n",
      "\u001b[1m5/5\u001b[0m \u001b[32m━━━━━━━━━━━━━━━━━━━━\u001b[0m\u001b[37m\u001b[0m \u001b[1m0s\u001b[0m 62ms/step\n",
      "Seed=777, hidden_units=64, batch_size=16\n",
      "Total OOV terms: 1340 (14.31%)\n",
      "Epoch 1/10\n",
      "\u001b[1m180/180\u001b[0m \u001b[32m━━━━━━━━━━━━━━━━━━━━\u001b[0m\u001b[37m\u001b[0m \u001b[1m6s\u001b[0m 14ms/step - accuracy: 0.5998 - loss: 0.6764 - precision: 0.4375 - recall: 0.0342 - val_accuracy: 0.5696 - val_loss: 0.6882 - val_precision: 0.0000e+00 - val_recall: 0.0000e+00\n",
      "Epoch 2/10\n",
      "\u001b[1m180/180\u001b[0m \u001b[32m━━━━━━━━━━━━━━━━━━━━\u001b[0m\u001b[37m\u001b[0m \u001b[1m2s\u001b[0m 11ms/step - accuracy: 0.6061 - loss: 0.6678 - precision: 0.3387 - recall: 0.0929 - val_accuracy: 0.6709 - val_loss: 0.6448 - val_precision: 0.6600 - val_recall: 0.4853\n",
      "Epoch 3/10\n",
      "\u001b[1m180/180\u001b[0m \u001b[32m━━━━━━━━━━━━━━━━━━━━\u001b[0m\u001b[37m\u001b[0m \u001b[1m2s\u001b[0m 11ms/step - accuracy: 0.6111 - loss: 0.6521 - precision: 0.5078 - recall: 0.2710 - val_accuracy: 0.5696 - val_loss: 0.6614 - val_precision: 0.0000e+00 - val_recall: 0.0000e+00\n",
      "Epoch 4/10\n",
      "\u001b[1m180/180\u001b[0m \u001b[32m━━━━━━━━━━━━━━━━━━━━\u001b[0m\u001b[37m\u001b[0m \u001b[1m2s\u001b[0m 12ms/step - accuracy: 0.6038 - loss: 0.6475 - precision: 0.0000e+00 - recall: 0.0000e+00 - val_accuracy: 0.5696 - val_loss: 0.6664 - val_precision: 0.0000e+00 - val_recall: 0.0000e+00\n",
      "Epoch 5/10\n",
      "\u001b[1m180/180\u001b[0m \u001b[32m━━━━━━━━━━━━━━━━━━━━\u001b[0m\u001b[37m\u001b[0m \u001b[1m3s\u001b[0m 16ms/step - accuracy: 0.6196 - loss: 0.6365 - precision: 0.4772 - recall: 0.4565 - val_accuracy: 0.6392 - val_loss: 0.6458 - val_precision: 0.5647 - val_recall: 0.7059\n",
      "Epoch 6/10\n",
      "\u001b[1m180/180\u001b[0m \u001b[32m━━━━━━━━━━━━━━━━━━━━\u001b[0m\u001b[37m\u001b[0m \u001b[1m3s\u001b[0m 15ms/step - accuracy: 0.6465 - loss: 0.6214 - precision: 0.5395 - recall: 0.7353 - val_accuracy: 0.5823 - val_loss: 0.7019 - val_precision: 1.0000 - val_recall: 0.0294\n",
      "Epoch 7/10\n",
      "\u001b[1m180/180\u001b[0m \u001b[32m━━━━━━━━━━━━━━━━━━━━\u001b[0m\u001b[37m\u001b[0m \u001b[1m5s\u001b[0m 11ms/step - accuracy: 0.6040 - loss: 0.6749 - precision: 0.5000 - recall: 0.0032 - val_accuracy: 0.5696 - val_loss: 0.6875 - val_precision: 0.0000e+00 - val_recall: 0.0000e+00\n",
      "Epoch 8/10\n",
      "\u001b[1m180/180\u001b[0m \u001b[32m━━━━━━━━━━━━━━━━━━━━\u001b[0m\u001b[37m\u001b[0m \u001b[1m2s\u001b[0m 11ms/step - accuracy: 0.6038 - loss: 0.6716 - precision: 0.0000e+00 - recall: 0.0000e+00 - val_accuracy: 0.5696 - val_loss: 0.6635 - val_precision: 0.0000e+00 - val_recall: 0.0000e+00\n",
      "Epoch 9/10\n",
      "\u001b[1m180/180\u001b[0m \u001b[32m━━━━━━━━━━━━━━━━━━━━\u001b[0m\u001b[37m\u001b[0m \u001b[1m3s\u001b[0m 13ms/step - accuracy: 0.7192 - loss: 0.5601 - precision: 0.6387 - recall: 0.6144 - val_accuracy: 0.7595 - val_loss: 0.5120 - val_precision: 0.7778 - val_recall: 0.6176\n",
      "Epoch 10/10\n",
      "\u001b[1m180/180\u001b[0m \u001b[32m━━━━━━━━━━━━━━━━━━━━\u001b[0m\u001b[37m\u001b[0m \u001b[1m3s\u001b[0m 17ms/step - accuracy: 0.8543 - loss: 0.3653 - precision: 0.8006 - recall: 0.8432 - val_accuracy: 0.7658 - val_loss: 0.5362 - val_precision: 0.7541 - val_recall: 0.6765\n",
      "\u001b[1m5/5\u001b[0m \u001b[32m━━━━━━━━━━━━━━━━━━━━\u001b[0m\u001b[37m\u001b[0m \u001b[1m0s\u001b[0m 61ms/step\n",
      "Seed=777, hidden_units=64, batch_size=32\n",
      "Total OOV terms: 1340 (14.31%)\n",
      "Epoch 1/10\n",
      "\u001b[1m90/90\u001b[0m \u001b[32m━━━━━━━━━━━━━━━━━━━━\u001b[0m\u001b[37m\u001b[0m \u001b[1m4s\u001b[0m 18ms/step - accuracy: 0.5961 - loss: 0.6758 - precision: 0.4324 - recall: 0.0596 - val_accuracy: 0.5696 - val_loss: 0.6823 - val_precision: 0.0000e+00 - val_recall: 0.0000e+00\n",
      "Epoch 2/10\n",
      "\u001b[1m90/90\u001b[0m \u001b[32m━━━━━━━━━━━━━━━━━━━━\u001b[0m\u001b[37m\u001b[0m \u001b[1m1s\u001b[0m 12ms/step - accuracy: 0.6249 - loss: 0.6480 - precision: 0.4597 - recall: 0.2068 - val_accuracy: 0.7089 - val_loss: 0.5970 - val_precision: 0.9583 - val_recall: 0.3382\n",
      "Epoch 3/10\n",
      "\u001b[1m90/90\u001b[0m \u001b[32m━━━━━━━━━━━━━━━━━━━━\u001b[0m\u001b[37m\u001b[0m \u001b[1m1s\u001b[0m 12ms/step - accuracy: 0.7232 - loss: 0.5681 - precision: 0.6680 - recall: 0.6269 - val_accuracy: 0.7468 - val_loss: 0.5979 - val_precision: 0.9118 - val_recall: 0.4559\n",
      "Epoch 4/10\n",
      "\u001b[1m90/90\u001b[0m \u001b[32m━━━━━━━━━━━━━━━━━━━━\u001b[0m\u001b[37m\u001b[0m \u001b[1m2s\u001b[0m 16ms/step - accuracy: 0.7891 - loss: 0.4697 - precision: 0.7551 - recall: 0.6971 - val_accuracy: 0.7722 - val_loss: 0.4913 - val_precision: 0.8200 - val_recall: 0.6029\n",
      "Epoch 5/10\n",
      "\u001b[1m90/90\u001b[0m \u001b[32m━━━━━━━━━━━━━━━━━━━━\u001b[0m\u001b[37m\u001b[0m \u001b[1m2s\u001b[0m 16ms/step - accuracy: 0.8443 - loss: 0.3877 - precision: 0.8331 - recall: 0.7604 - val_accuracy: 0.7911 - val_loss: 0.5188 - val_precision: 0.7778 - val_recall: 0.7206\n",
      "Epoch 6/10\n",
      "\u001b[1m90/90\u001b[0m \u001b[32m━━━━━━━━━━━━━━━━━━━━\u001b[0m\u001b[37m\u001b[0m \u001b[1m2s\u001b[0m 17ms/step - accuracy: 0.8841 - loss: 0.3043 - precision: 0.8580 - recall: 0.8476 - val_accuracy: 0.7658 - val_loss: 0.5172 - val_precision: 0.7123 - val_recall: 0.7647\n",
      "Epoch 7/10\n",
      "\u001b[1m90/90\u001b[0m \u001b[32m━━━━━━━━━━━━━━━━━━━━\u001b[0m\u001b[37m\u001b[0m \u001b[1m1s\u001b[0m 13ms/step - accuracy: 0.9058 - loss: 0.2623 - precision: 0.8660 - recall: 0.9018 - val_accuracy: 0.7848 - val_loss: 0.5139 - val_precision: 0.7500 - val_recall: 0.7500\n",
      "Epoch 8/10\n",
      "\u001b[1m90/90\u001b[0m \u001b[32m━━━━━━━━━━━━━━━━━━━━\u001b[0m\u001b[37m\u001b[0m \u001b[1m1s\u001b[0m 12ms/step - accuracy: 0.9268 - loss: 0.2188 - precision: 0.8901 - recall: 0.9300 - val_accuracy: 0.7975 - val_loss: 0.5410 - val_precision: 0.7647 - val_recall: 0.7647\n",
      "Epoch 9/10\n",
      "\u001b[1m90/90\u001b[0m \u001b[32m━━━━━━━━━━━━━━━━━━━━\u001b[0m\u001b[37m\u001b[0m \u001b[1m1s\u001b[0m 12ms/step - accuracy: 0.9397 - loss: 0.1887 - precision: 0.9158 - recall: 0.9335 - val_accuracy: 0.7658 - val_loss: 0.6720 - val_precision: 0.7313 - val_recall: 0.7206\n",
      "Epoch 10/10\n",
      "\u001b[1m90/90\u001b[0m \u001b[32m━━━━━━━━━━━━━━━━━━━━\u001b[0m\u001b[37m\u001b[0m \u001b[1m1s\u001b[0m 12ms/step - accuracy: 0.9462 - loss: 0.1756 - precision: 0.9234 - recall: 0.9426 - val_accuracy: 0.7785 - val_loss: 0.7851 - val_precision: 0.7324 - val_recall: 0.7647\n",
      "\u001b[1m5/5\u001b[0m \u001b[32m━━━━━━━━━━━━━━━━━━━━\u001b[0m\u001b[37m\u001b[0m \u001b[1m0s\u001b[0m 61ms/step\n",
      "Seed=777, hidden_units=32, batch_size=16\n",
      "Total OOV terms: 1340 (14.31%)\n",
      "Epoch 1/10\n",
      "\u001b[1m180/180\u001b[0m \u001b[32m━━━━━━━━━━━━━━━━━━━━\u001b[0m\u001b[37m\u001b[0m \u001b[1m6s\u001b[0m 20ms/step - accuracy: 0.5998 - loss: 0.6770 - precision: 0.4375 - recall: 0.0342 - val_accuracy: 0.5696 - val_loss: 0.6876 - val_precision: 0.0000e+00 - val_recall: 0.0000e+00\n",
      "Epoch 2/10\n",
      "\u001b[1m180/180\u001b[0m \u001b[32m━━━━━━━━━━━━━━━━━━━━\u001b[0m\u001b[37m\u001b[0m \u001b[1m3s\u001b[0m 16ms/step - accuracy: 0.6030 - loss: 0.6701 - precision: 0.1793 - recall: 0.0187 - val_accuracy: 0.7975 - val_loss: 0.5218 - val_precision: 0.7727 - val_recall: 0.7500\n",
      "Epoch 3/10\n",
      "\u001b[1m180/180\u001b[0m \u001b[32m━━━━━━━━━━━━━━━━━━━━\u001b[0m\u001b[37m\u001b[0m \u001b[1m4s\u001b[0m 12ms/step - accuracy: 0.7582 - loss: 0.5046 - precision: 0.6792 - recall: 0.7391 - val_accuracy: 0.8228 - val_loss: 0.4472 - val_precision: 0.8125 - val_recall: 0.7647\n",
      "Epoch 4/10\n",
      "\u001b[1m180/180\u001b[0m \u001b[32m━━━━━━━━━━━━━━━━━━━━\u001b[0m\u001b[37m\u001b[0m \u001b[1m3s\u001b[0m 11ms/step - accuracy: 0.8841 - loss: 0.3148 - precision: 0.8323 - recall: 0.8855 - val_accuracy: 0.8544 - val_loss: 0.4621 - val_precision: 0.8571 - val_recall: 0.7941\n",
      "Epoch 5/10\n",
      "\u001b[1m180/180\u001b[0m \u001b[32m━━━━━━━━━━━━━━━━━━━━\u001b[0m\u001b[37m\u001b[0m \u001b[1m3s\u001b[0m 11ms/step - accuracy: 0.9347 - loss: 0.2059 - precision: 0.9037 - recall: 0.9348 - val_accuracy: 0.8481 - val_loss: 0.4664 - val_precision: 0.8143 - val_recall: 0.8382\n",
      "Epoch 6/10\n",
      "\u001b[1m180/180\u001b[0m \u001b[32m━━━━━━━━━━━━━━━━━━━━\u001b[0m\u001b[37m\u001b[0m \u001b[1m3s\u001b[0m 16ms/step - accuracy: 0.9594 - loss: 0.1374 - precision: 0.9345 - recall: 0.9652 - val_accuracy: 0.8481 - val_loss: 0.5197 - val_precision: 0.8056 - val_recall: 0.8529\n",
      "Epoch 7/10\n",
      "\u001b[1m180/180\u001b[0m \u001b[32m━━━━━━━━━━━━━━━━━━━━\u001b[0m\u001b[37m\u001b[0m \u001b[1m3s\u001b[0m 14ms/step - accuracy: 0.9685 - loss: 0.1094 - precision: 0.9505 - recall: 0.9707 - val_accuracy: 0.8291 - val_loss: 0.6237 - val_precision: 0.7470 - val_recall: 0.9118\n",
      "Epoch 8/10\n",
      "\u001b[1m180/180\u001b[0m \u001b[32m━━━━━━━━━━━━━━━━━━━━\u001b[0m\u001b[37m\u001b[0m \u001b[1m2s\u001b[0m 12ms/step - accuracy: 0.9820 - loss: 0.0701 - precision: 0.9710 - recall: 0.9836 - val_accuracy: 0.8291 - val_loss: 0.6295 - val_precision: 0.7470 - val_recall: 0.9118\n",
      "Epoch 9/10\n",
      "\u001b[1m180/180\u001b[0m \u001b[32m━━━━━━━━━━━━━━━━━━━━\u001b[0m\u001b[37m\u001b[0m \u001b[1m3s\u001b[0m 11ms/step - accuracy: 0.9880 - loss: 0.0529 - precision: 0.9830 - recall: 0.9867 - val_accuracy: 0.7911 - val_loss: 0.8325 - val_precision: 0.8182 - val_recall: 0.6618\n",
      "Epoch 10/10\n",
      "\u001b[1m180/180\u001b[0m \u001b[32m━━━━━━━━━━━━━━━━━━━━\u001b[0m\u001b[37m\u001b[0m \u001b[1m2s\u001b[0m 12ms/step - accuracy: 0.9899 - loss: 0.0366 - precision: 0.9814 - recall: 0.9932 - val_accuracy: 0.7722 - val_loss: 1.1072 - val_precision: 0.8077 - val_recall: 0.6176\n",
      "\u001b[1m5/5\u001b[0m \u001b[32m━━━━━━━━━━━━━━━━━━━━\u001b[0m\u001b[37m\u001b[0m \u001b[1m0s\u001b[0m 57ms/step\n",
      "Seed=777, hidden_units=32, batch_size=32\n",
      "Total OOV terms: 1340 (14.31%)\n",
      "Epoch 1/10\n",
      "\u001b[1m90/90\u001b[0m \u001b[32m━━━━━━━━━━━━━━━━━━━━\u001b[0m\u001b[37m\u001b[0m \u001b[1m5s\u001b[0m 18ms/step - accuracy: 0.6033 - loss: 0.6755 - precision: 0.4945 - recall: 0.0556 - val_accuracy: 0.5696 - val_loss: 0.6854 - val_precision: 0.0000e+00 - val_recall: 0.0000e+00\n",
      "Epoch 2/10\n",
      "\u001b[1m90/90\u001b[0m \u001b[32m━━━━━━━━━━━━━━━━━━━━\u001b[0m\u001b[37m\u001b[0m \u001b[1m1s\u001b[0m 12ms/step - accuracy: 0.6033 - loss: 0.6731 - precision: 0.0000e+00 - recall: 0.0000e+00 - val_accuracy: 0.5696 - val_loss: 0.6872 - val_precision: 0.0000e+00 - val_recall: 0.0000e+00\n",
      "Epoch 3/10\n",
      "\u001b[1m90/90\u001b[0m \u001b[32m━━━━━━━━━━━━━━━━━━━━\u001b[0m\u001b[37m\u001b[0m \u001b[1m1s\u001b[0m 12ms/step - accuracy: 0.6157 - loss: 0.6629 - precision: 0.3770 - recall: 0.0593 - val_accuracy: 0.7405 - val_loss: 0.5743 - val_precision: 0.9091 - val_recall: 0.4412\n",
      "Epoch 4/10\n",
      "\u001b[1m90/90\u001b[0m \u001b[32m━━━━━━━━━━━━━━━━━━━━\u001b[0m\u001b[37m\u001b[0m \u001b[1m1s\u001b[0m 12ms/step - accuracy: 0.7647 - loss: 0.5057 - precision: 0.6938 - recall: 0.7391 - val_accuracy: 0.7975 - val_loss: 0.4956 - val_precision: 0.8750 - val_recall: 0.6176\n",
      "Epoch 5/10\n",
      "\u001b[1m90/90\u001b[0m \u001b[32m━━━━━━━━━━━━━━━━━━━━\u001b[0m\u001b[37m\u001b[0m \u001b[1m1s\u001b[0m 12ms/step - accuracy: 0.8626 - loss: 0.3551 - precision: 0.8174 - recall: 0.8413 - val_accuracy: 0.8101 - val_loss: 0.4200 - val_precision: 0.7794 - val_recall: 0.7794\n",
      "Epoch 6/10\n",
      "\u001b[1m90/90\u001b[0m \u001b[32m━━━━━━━━━━━━━━━━━━━━\u001b[0m\u001b[37m\u001b[0m \u001b[1m1s\u001b[0m 12ms/step - accuracy: 0.9187 - loss: 0.2338 - precision: 0.8850 - recall: 0.9133 - val_accuracy: 0.8228 - val_loss: 0.5122 - val_precision: 0.7703 - val_recall: 0.8382\n",
      "Epoch 7/10\n",
      "\u001b[1m90/90\u001b[0m \u001b[32m━━━━━━━━━━━━━━━━━━━━\u001b[0m\u001b[37m\u001b[0m \u001b[1m1s\u001b[0m 12ms/step - accuracy: 0.9439 - loss: 0.1837 - precision: 0.9086 - recall: 0.9548 - val_accuracy: 0.8038 - val_loss: 0.5708 - val_precision: 0.7342 - val_recall: 0.8529\n",
      "Epoch 8/10\n",
      "\u001b[1m90/90\u001b[0m \u001b[32m━━━━━━━━━━━━━━━━━━━━\u001b[0m\u001b[37m\u001b[0m \u001b[1m2s\u001b[0m 16ms/step - accuracy: 0.9563 - loss: 0.1522 - precision: 0.9271 - recall: 0.9660 - val_accuracy: 0.8291 - val_loss: 0.5967 - val_precision: 0.8727 - val_recall: 0.7059\n",
      "Epoch 9/10\n",
      "\u001b[1m90/90\u001b[0m \u001b[32m━━━━━━━━━━━━━━━━━━━━\u001b[0m\u001b[37m\u001b[0m \u001b[1m3s\u001b[0m 17ms/step - accuracy: 0.9741 - loss: 0.0965 - precision: 0.9581 - recall: 0.9774 - val_accuracy: 0.8228 - val_loss: 0.6562 - val_precision: 0.8333 - val_recall: 0.7353\n",
      "Epoch 10/10\n",
      "\u001b[1m90/90\u001b[0m \u001b[32m━━━━━━━━━━━━━━━━━━━━\u001b[0m\u001b[37m\u001b[0m \u001b[1m1s\u001b[0m 12ms/step - accuracy: 0.9838 - loss: 0.0739 - precision: 0.9753 - recall: 0.9838 - val_accuracy: 0.8101 - val_loss: 0.8880 - val_precision: 0.8519 - val_recall: 0.6765\n",
      "\u001b[1m5/5\u001b[0m \u001b[32m━━━━━━━━━━━━━━━━━━━━\u001b[0m\u001b[37m\u001b[0m \u001b[1m0s\u001b[0m 63ms/step\n",
      "Seed=777, hidden_units=64, batch_size=16\n",
      "Total OOV terms: 1340 (14.31%)\n",
      "Epoch 1/10\n",
      "\u001b[1m180/180\u001b[0m \u001b[32m━━━━━━━━━━━━━━━━━━━━\u001b[0m\u001b[37m\u001b[0m \u001b[1m5s\u001b[0m 14ms/step - accuracy: 0.6038 - loss: 0.6782 - precision: 0.0000e+00 - recall: 0.0000e+00 - val_accuracy: 0.5696 - val_loss: 0.6952 - val_precision: 0.0000e+00 - val_recall: 0.0000e+00\n",
      "Epoch 2/10\n",
      "\u001b[1m180/180\u001b[0m \u001b[32m━━━━━━━━━━━━━━━━━━━━\u001b[0m\u001b[37m\u001b[0m \u001b[1m5s\u001b[0m 12ms/step - accuracy: 0.6079 - loss: 0.6697 - precision: 0.3438 - recall: 0.0529 - val_accuracy: 0.7595 - val_loss: 0.5440 - val_precision: 1.0000 - val_recall: 0.4412\n",
      "Epoch 3/10\n",
      "\u001b[1m180/180\u001b[0m \u001b[32m━━━━━━━━━━━━━━━━━━━━\u001b[0m\u001b[37m\u001b[0m \u001b[1m2s\u001b[0m 12ms/step - accuracy: 0.7730 - loss: 0.4982 - precision: 0.7129 - recall: 0.7192 - val_accuracy: 0.8291 - val_loss: 0.4735 - val_precision: 0.9020 - val_recall: 0.6765\n",
      "Epoch 4/10\n",
      "\u001b[1m180/180\u001b[0m \u001b[32m━━━━━━━━━━━━━━━━━━━━\u001b[0m\u001b[37m\u001b[0m \u001b[1m2s\u001b[0m 12ms/step - accuracy: 0.8596 - loss: 0.3390 - precision: 0.8069 - recall: 0.8492 - val_accuracy: 0.8291 - val_loss: 0.5545 - val_precision: 0.8596 - val_recall: 0.7206\n",
      "Epoch 5/10\n",
      "\u001b[1m180/180\u001b[0m \u001b[32m━━━━━━━━━━━━━━━━━━━━\u001b[0m\u001b[37m\u001b[0m \u001b[1m2s\u001b[0m 12ms/step - accuracy: 0.9251 - loss: 0.2261 - precision: 0.8890 - recall: 0.9260 - val_accuracy: 0.8101 - val_loss: 0.5930 - val_precision: 0.7879 - val_recall: 0.7647\n",
      "Epoch 6/10\n",
      "\u001b[1m180/180\u001b[0m \u001b[32m━━━━━━━━━━━━━━━━━━━━\u001b[0m\u001b[37m\u001b[0m \u001b[1m3s\u001b[0m 16ms/step - accuracy: 0.9610 - loss: 0.1439 - precision: 0.9370 - recall: 0.9664 - val_accuracy: 0.7911 - val_loss: 0.7896 - val_precision: 0.7612 - val_recall: 0.7500\n",
      "Epoch 7/10\n",
      "\u001b[1m180/180\u001b[0m \u001b[32m━━━━━━━━━━━━━━━━━━━━\u001b[0m\u001b[37m\u001b[0m \u001b[1m4s\u001b[0m 12ms/step - accuracy: 0.9742 - loss: 0.0957 - precision: 0.9576 - recall: 0.9779 - val_accuracy: 0.7342 - val_loss: 0.8591 - val_precision: 0.6806 - val_recall: 0.7206\n",
      "Epoch 8/10\n",
      "\u001b[1m180/180\u001b[0m \u001b[32m━━━━━━━━━━━━━━━━━━━━\u001b[0m\u001b[37m\u001b[0m \u001b[1m2s\u001b[0m 12ms/step - accuracy: 0.9839 - loss: 0.0686 - precision: 0.9734 - recall: 0.9863 - val_accuracy: 0.7975 - val_loss: 0.8276 - val_precision: 0.8214 - val_recall: 0.6765\n",
      "Epoch 9/10\n",
      "\u001b[1m180/180\u001b[0m \u001b[32m━━━━━━━━━━━━━━━━━━━━\u001b[0m\u001b[37m\u001b[0m \u001b[1m2s\u001b[0m 12ms/step - accuracy: 0.9849 - loss: 0.0646 - precision: 0.9738 - recall: 0.9885 - val_accuracy: 0.8038 - val_loss: 0.8089 - val_precision: 0.8627 - val_recall: 0.6471\n",
      "Epoch 10/10\n",
      "\u001b[1m180/180\u001b[0m \u001b[32m━━━━━━━━━━━━━━━━━━━━\u001b[0m\u001b[37m\u001b[0m \u001b[1m2s\u001b[0m 11ms/step - accuracy: 0.9856 - loss: 0.0571 - precision: 0.9792 - recall: 0.9845 - val_accuracy: 0.7848 - val_loss: 0.8877 - val_precision: 0.7931 - val_recall: 0.6765\n",
      "\u001b[1m5/5\u001b[0m \u001b[32m━━━━━━━━━━━━━━━━━━━━\u001b[0m\u001b[37m\u001b[0m \u001b[1m1s\u001b[0m 89ms/step\n",
      "Seed=777, hidden_units=64, batch_size=32\n",
      "Total OOV terms: 1340 (14.31%)\n",
      "Epoch 1/10\n",
      "\u001b[1m90/90\u001b[0m \u001b[32m━━━━━━━━━━━━━━━━━━━━\u001b[0m\u001b[37m\u001b[0m \u001b[1m4s\u001b[0m 18ms/step - accuracy: 0.5963 - loss: 0.6756 - precision: 0.4375 - recall: 0.0596 - val_accuracy: 0.5696 - val_loss: 0.6843 - val_precision: 0.0000e+00 - val_recall: 0.0000e+00\n",
      "Epoch 2/10\n",
      "\u001b[1m90/90\u001b[0m \u001b[32m━━━━━━━━━━━━━━━━━━━━\u001b[0m\u001b[37m\u001b[0m \u001b[1m2s\u001b[0m 12ms/step - accuracy: 0.6295 - loss: 0.6454 - precision: 0.4890 - recall: 0.2135 - val_accuracy: 0.7342 - val_loss: 0.5872 - val_precision: 0.7826 - val_recall: 0.5294\n",
      "Epoch 3/10\n",
      "\u001b[1m90/90\u001b[0m \u001b[32m━━━━━━━━━━━━━━━━━━━━\u001b[0m\u001b[37m\u001b[0m \u001b[1m1s\u001b[0m 12ms/step - accuracy: 0.7565 - loss: 0.5377 - precision: 0.7044 - recall: 0.6735 - val_accuracy: 0.7658 - val_loss: 0.4814 - val_precision: 0.8605 - val_recall: 0.5441\n",
      "Epoch 4/10\n",
      "\u001b[1m90/90\u001b[0m \u001b[32m━━━━━━━━━━━━━━━━━━━━\u001b[0m\u001b[37m\u001b[0m \u001b[1m1s\u001b[0m 12ms/step - accuracy: 0.8442 - loss: 0.3922 - precision: 0.8147 - recall: 0.7874 - val_accuracy: 0.7975 - val_loss: 0.4802 - val_precision: 0.8000 - val_recall: 0.7059\n",
      "Epoch 5/10\n",
      "\u001b[1m90/90\u001b[0m \u001b[32m━━━━━━━━━━━━━━━━━━━━\u001b[0m\u001b[37m\u001b[0m \u001b[1m1s\u001b[0m 12ms/step - accuracy: 0.8942 - loss: 0.2799 - precision: 0.8549 - recall: 0.8827 - val_accuracy: 0.8354 - val_loss: 0.4796 - val_precision: 0.8000 - val_recall: 0.8235\n",
      "Epoch 6/10\n",
      "\u001b[1m90/90\u001b[0m \u001b[32m━━━━━━━━━━━━━━━━━━━━\u001b[0m\u001b[37m\u001b[0m \u001b[1m2s\u001b[0m 16ms/step - accuracy: 0.9443 - loss: 0.1784 - precision: 0.9192 - recall: 0.9421 - val_accuracy: 0.7911 - val_loss: 0.6353 - val_precision: 0.7059 - val_recall: 0.8824\n",
      "Epoch 7/10\n",
      "\u001b[1m90/90\u001b[0m \u001b[32m━━━━━━━━━━━━━━━━━━━━\u001b[0m\u001b[37m\u001b[0m \u001b[1m3s\u001b[0m 17ms/step - accuracy: 0.9545 - loss: 0.1469 - precision: 0.9303 - recall: 0.9575 - val_accuracy: 0.7532 - val_loss: 0.7275 - val_precision: 0.6559 - val_recall: 0.8971\n",
      "Epoch 8/10\n",
      "\u001b[1m90/90\u001b[0m \u001b[32m━━━━━━━━━━━━━━━━━━━━\u001b[0m\u001b[37m\u001b[0m \u001b[1m2s\u001b[0m 12ms/step - accuracy: 0.9473 - loss: 0.1610 - precision: 0.9227 - recall: 0.9462 - val_accuracy: 0.7911 - val_loss: 0.7414 - val_precision: 0.7869 - val_recall: 0.7059\n",
      "Epoch 9/10\n",
      "\u001b[1m90/90\u001b[0m \u001b[32m━━━━━━━━━━━━━━━━━━━━\u001b[0m\u001b[37m\u001b[0m \u001b[1m1s\u001b[0m 12ms/step - accuracy: 0.9593 - loss: 0.1243 - precision: 0.9330 - recall: 0.9666 - val_accuracy: 0.7848 - val_loss: 0.9010 - val_precision: 0.8269 - val_recall: 0.6324\n",
      "Epoch 10/10\n",
      "\u001b[1m90/90\u001b[0m \u001b[32m━━━━━━━━━━━━━━━━━━━━\u001b[0m\u001b[37m\u001b[0m \u001b[1m1s\u001b[0m 12ms/step - accuracy: 0.9770 - loss: 0.0777 - precision: 0.9627 - recall: 0.9796 - val_accuracy: 0.7658 - val_loss: 1.0625 - val_precision: 0.8163 - val_recall: 0.5882\n",
      "\u001b[1m5/5\u001b[0m \u001b[32m━━━━━━━━━━━━━━━━━━━━\u001b[0m\u001b[37m\u001b[0m \u001b[1m0s\u001b[0m 60ms/step\n",
      "\n"
     ]
    }
   ],
   "source": [
    "# Define seed list and hyperparams\n",
    "hyperparams = {\n",
    "    \"seeds\": [39, 42, 777],\n",
    "    \"embedding_dimension\": [50, 100],\n",
    "    \"hidden_units\": [32, 64],\n",
    "    \"batch_size\": [16, 32]\n",
    "}\n",
    "\n",
    "# Perform grid search over all the combinations of the hyperparameters\n",
    "grid = list(product(*hyperparams.values()))\n",
    "\n",
    "# Initialize the results dict. to store results for each model\n",
    "results = {model_name: [] for model_name in models}\n",
    "\n",
    "# Loop over each model\n",
    "for model_name in models:\n",
    "    print(f\"Showing results for the following model: {model_name}\")\n",
    "\n",
    "    # Iterate over the possible combinations\n",
    "    for seed, embedding_dimension, hidden_units, batch_size in grid:\n",
    "        print(f\"Seed={seed}, embedding_dim = {embedding_dimension}, hidden_units={hidden_units}, batch_size={batch_size}\")\n",
    "\n",
    "        # Embed text with the specified embedding dimension\n",
    "        embedding_matrix = embed_text(embedding_dimension)\n",
    "        embedding_layer = create_embedding_layer(embedding_matrix, embedding_dimension)\n",
    "\n",
    "        # Create the specified model with the current hyperparams\n",
    "        model = create_model(\n",
    "            name=model_name,\n",
    "            embedding_layer=embedding_layer,\n",
    "            hidden_units=hidden_units,\n",
    "            extra_LSTM=(model_name != \"baseline\")\n",
    "        )\n",
    "\n",
    "        # Train the model and get the results\n",
    "        history, val_loss, val_accuracy, val_precision, val_recall, val_f1_macro = train_model(\n",
    "            model=model, seed=seed, training_data=train_padded, training_labels=training_set['hard_label_task1'],\n",
    "            val_data=validation_padded, val_labels=validation_set['hard_label_task1'], batch_size=batch_size\n",
    "        )\n",
    "\n",
    "        # Store the results in the dict\n",
    "        results[model_name].append({\n",
    "            \"seed\": seed,\n",
    "            \"embedding_dimension\": embedding_dimension,\n",
    "            \"hidden_units\": hidden_units,\n",
    "            \"batch_size\": batch_size,\n",
    "            \"val_loss\": val_loss,\n",
    "            \"val_accuracy\": val_accuracy,\n",
    "            \"val_precision\": val_precision,\n",
    "            \"val_recall\": val_recall,\n",
    "            \"val_f1_macro\": val_f1_macro,\n",
    "            \"history\": history\n",
    "        })\n",
    "\n",
    "    print()"
   ]
  },
  {
   "cell_type": "code",
   "execution_count": 48,
   "metadata": {
    "colab": {
     "base_uri": "https://localhost:8080/"
    },
    "id": "Rz--GjU8gC82",
    "outputId": "bfe811ed-c79d-4099-81b5-c56341c2eed0"
   },
   "outputs": [
    {
     "name": "stdout",
     "output_type": "stream",
     "text": [
      "       Model  Seed  Embedding Dimension  Hidden Units  Batch Size  Val Loss  \\\n",
      "0   baseline    39                   50            32          16  1.029997   \n",
      "1   baseline    39                   50            32          32  0.772323   \n",
      "2   baseline    39                   50            64          16  1.167094   \n",
      "3   baseline    39                   50            64          32  0.745662   \n",
      "4   baseline    39                  100            32          16  1.306962   \n",
      "5   baseline    39                  100            32          32  0.703036   \n",
      "6   baseline    39                  100            64          16  1.034811   \n",
      "7   baseline    39                  100            64          32  0.874945   \n",
      "8   baseline    42                   50            32          16  0.977035   \n",
      "9   baseline    42                   50            32          32  0.557226   \n",
      "10  baseline    42                   50            64          16  0.928958   \n",
      "11  baseline    42                   50            64          32  0.941811   \n",
      "12  baseline    42                  100            32          16  0.864248   \n",
      "13  baseline    42                  100            32          32  0.867649   \n",
      "14  baseline    42                  100            64          16  1.100128   \n",
      "15  baseline    42                  100            64          32  0.856556   \n",
      "16  baseline   777                   50            32          16  0.890044   \n",
      "17  baseline   777                   50            32          32  0.653949   \n",
      "18  baseline   777                   50            64          16  0.878448   \n",
      "19  baseline   777                   50            64          32  0.606283   \n",
      "20  baseline   777                  100            32          16  0.885787   \n",
      "21  baseline   777                  100            32          32  0.880338   \n",
      "22  baseline   777                  100            64          16  0.924576   \n",
      "23  baseline   777                  100            64          32  0.894130   \n",
      "24   model_1    39                   50            32          16  0.679610   \n",
      "25   model_1    39                   50            32          32  0.930909   \n",
      "26   model_1    39                   50            64          16  0.771333   \n",
      "27   model_1    39                   50            64          32  0.679435   \n",
      "28   model_1    39                  100            32          16  0.975969   \n",
      "29   model_1    39                  100            32          32  0.640848   \n",
      "30   model_1    39                  100            64          16  0.448208   \n",
      "31   model_1    39                  100            64          32  0.703065   \n",
      "32   model_1    42                   50            32          16  0.850272   \n",
      "33   model_1    42                   50            32          32  0.825440   \n",
      "34   model_1    42                   50            64          16  0.937142   \n",
      "35   model_1    42                   50            64          32  0.766627   \n",
      "36   model_1    42                  100            32          16  0.735211   \n",
      "37   model_1    42                  100            32          32  0.847937   \n",
      "38   model_1    42                  100            64          16  0.846581   \n",
      "39   model_1    42                  100            64          32  0.725739   \n",
      "40   model_1   777                   50            32          16  0.633112   \n",
      "41   model_1   777                   50            32          32  0.564799   \n",
      "42   model_1   777                   50            64          16  0.536155   \n",
      "43   model_1   777                   50            64          32  0.785084   \n",
      "44   model_1   777                  100            32          16  1.107212   \n",
      "45   model_1   777                  100            32          32  0.888009   \n",
      "46   model_1   777                  100            64          16  0.887743   \n",
      "47   model_1   777                  100            64          32  1.062471   \n",
      "\n",
      "    Val Accuracy  Val Precision  Val Recall  Val F1 Macro  \n",
      "0       0.778481       0.811321    0.632353      0.765628  \n",
      "1       0.784810       0.814815    0.647059      0.773027  \n",
      "2       0.778481       0.866667    0.573529      0.758926  \n",
      "3       0.778481       0.823529    0.617647      0.764109  \n",
      "4       0.765823       0.792453    0.617647      0.752236  \n",
      "5       0.784810       0.750000    0.750000      0.780556  \n",
      "6       0.772152       0.742424    0.720588      0.766771  \n",
      "7       0.797468       0.821429    0.676471      0.787634  \n",
      "8       0.753165       0.808511    0.558824      0.733420  \n",
      "9       0.810127       0.779412    0.779412      0.806373  \n",
      "10      0.753165       0.822222    0.544118      0.731375  \n",
      "11      0.765823       0.860465    0.544118      0.743089  \n",
      "12      0.791139       0.796610    0.691176      0.782777  \n",
      "13      0.778481       0.823529    0.617647      0.764109  \n",
      "14      0.797468       0.810345    0.691176      0.788805  \n",
      "15      0.784810       0.765625    0.720588      0.778821  \n",
      "16      0.791139       0.843137    0.632353      0.777588  \n",
      "17      0.765823       0.724638    0.735294      0.761612  \n",
      "18      0.816456       0.791045    0.779412      0.812482  \n",
      "19      0.791139       0.746479    0.779412      0.788075  \n",
      "20      0.753165       0.763636    0.617647      0.740427  \n",
      "21      0.784810       0.814815    0.647059      0.773027  \n",
      "22      0.772152       0.785714    0.647059      0.761089  \n",
      "23      0.778481       0.811321    0.632353      0.765628  \n",
      "24      0.626582       0.764706    0.191176      0.525236  \n",
      "25      0.715190       0.870968    0.397059      0.669041  \n",
      "26      0.759494       0.812500    0.573529      0.741207  \n",
      "27      0.791139       0.948718    0.544118      0.766847  \n",
      "28      0.778481       0.800000    0.647059      0.767050  \n",
      "29      0.816456       0.842105    0.705882      0.808084  \n",
      "30      0.822785       0.833333    0.735294      0.816157  \n",
      "31      0.803797       0.911111    0.602941      0.786477  \n",
      "32      0.797468       0.800000    0.705882      0.789894  \n",
      "33      0.791139       0.872340    0.602941      0.774432  \n",
      "34      0.740506       0.745455    0.602941      0.727116  \n",
      "35      0.772152       0.785714    0.647059      0.761089  \n",
      "36      0.803797       0.753425    0.808824      0.801499  \n",
      "37      0.797468       0.846154    0.647059      0.785034  \n",
      "38      0.778481       0.753846    0.720588      0.772793  \n",
      "39      0.835443       0.850000    0.750000      0.829289  \n",
      "40      0.822785       0.785714    0.808824      0.819899  \n",
      "41      0.791139       0.761194    0.750000      0.786618  \n",
      "42      0.765823       0.754098    0.676471      0.757659  \n",
      "43      0.778481       0.732394    0.764706      0.775231  \n",
      "44      0.772152       0.807692    0.617647      0.758163  \n",
      "45      0.810127       0.851852    0.676471      0.799730  \n",
      "46      0.784810       0.793103    0.676471      0.775606  \n",
      "47      0.765823       0.816327    0.588235      0.748916  \n"
     ]
    }
   ],
   "source": [
    "# Flatten the data into a list of dictionaries\n",
    "data = []\n",
    "for model_name, model_results in results.items():\n",
    "    for result in model_results:\n",
    "        data.append({\n",
    "            \"Model\": model_name,\n",
    "            \"Seed\": result[\"seed\"],\n",
    "            \"Embedding Dimension\": result[\"embedding_dimension\"],\n",
    "            \"Hidden Units\": result[\"hidden_units\"],\n",
    "            \"Batch Size\": result[\"batch_size\"],\n",
    "            \"Val Loss\": result[\"val_loss\"],\n",
    "            \"Val Accuracy\": result[\"val_accuracy\"],\n",
    "            \"Val Precision\": result[\"val_precision\"],\n",
    "            \"Val Recall\": result[\"val_recall\"],\n",
    "            \"Val F1 Macro\": result[\"val_f1_macro\"],\n",
    "        })\n",
    "\n",
    "# Create a DataFrame\n",
    "df = pd.DataFrame(data)\n",
    "\n",
    "# Print the table\n",
    "print(df)"
   ]
  },
  {
   "cell_type": "code",
   "execution_count": 49,
   "metadata": {
    "colab": {
     "base_uri": "https://localhost:8080/"
    },
    "id": "pA2O-0g1hxkw",
    "outputId": "36ce6d32-aa24-418d-d29c-3fd200f20e4b"
   },
   "outputs": [
    {
     "name": "stdout",
     "output_type": "stream",
     "text": [
      "                   baseline   model_1\n",
      "avg_val_loss       0.889250  0.784538\n",
      "avg_val_accuracy   0.780327  0.780063\n",
      "avg_val_precision  0.798756  0.812198\n",
      "avg_val_recall     0.660539  0.643382\n",
      "avg_val_f1_macro   0.769066  0.764294\n"
     ]
    }
   ],
   "source": [
    "#@title Average results of each model to obtain the best configuration\n",
    "\n",
    "# Initialize a dictionary to store the averages for each model\n",
    "averaged_results = {}\n",
    "\n",
    "# Iterate over each model\n",
    "for model_name, model_results in results.items():\n",
    "    # Initialize sums for the metrics\n",
    "    total_val_loss = 0\n",
    "    total_val_accuracy = 0\n",
    "    total_val_precision = 0\n",
    "    total_val_recall = 0\n",
    "    total_val_f1_macro = 0\n",
    "\n",
    "    # Iterate over each result for the model (3 seeds)\n",
    "    for result in model_results:\n",
    "        total_val_loss += result[\"val_loss\"]\n",
    "        total_val_accuracy += result[\"val_accuracy\"]\n",
    "        total_val_precision += result[\"val_precision\"]\n",
    "        total_val_recall += result[\"val_recall\"]\n",
    "        total_val_f1_macro += result[\"val_f1_macro\"]\n",
    "\n",
    "    # Calculate the average for each metric\n",
    "    num_results = len(model_results)\n",
    "    averaged_results[model_name] = {\n",
    "        \"avg_val_loss\": total_val_loss / num_results,\n",
    "        \"avg_val_accuracy\": total_val_accuracy / num_results,\n",
    "        \"avg_val_precision\": total_val_precision / num_results,\n",
    "        \"avg_val_recall\": total_val_recall / num_results,\n",
    "        \"avg_val_f1_macro\": total_val_f1_macro / num_results\n",
    "    } # 'averaged_results' contains the average metrics for each model\n",
    "\n",
    "# Create a DataFrame\n",
    "avg_df = pd.DataFrame(averaged_results)\n",
    "\n",
    "# Print the table\n",
    "print(avg_df)"
   ]
  },
  {
   "cell_type": "markdown",
   "metadata": {
    "id": "_jDI6mEovrV5"
   },
   "source": [
    "#### Compute standard deviation for each model"
   ]
  },
  {
   "cell_type": "code",
   "execution_count": 52,
   "metadata": {
    "colab": {
     "base_uri": "https://localhost:8080/"
    },
    "id": "uv2y98UDMyti",
    "outputId": "b7778bac-b336-46c4-f111-666699ca6253"
   },
   "outputs": [
    {
     "name": "stdout",
     "output_type": "stream",
     "text": [
      "          baseline   model_1\n",
      "f1_stdev  0.020064  0.059701\n"
     ]
    }
   ],
   "source": [
    "# Initialize a dictionary to store the standard deviation for each model\n",
    "stdev_results = {}\n",
    "\n",
    "# Iterate over each model\n",
    "for model_name, model_results in results.items():\n",
    "    # Get the F1 scores for the model\n",
    "    f1_scores = [result[\"val_f1_macro\"] for result in model_results]\n",
    "\n",
    "    # Calculate the standard deviation of F1 scores\n",
    "    f1_stdev = np.std(f1_scores)\n",
    "\n",
    "    # Store the standard deviation in the dictionary\n",
    "    stdev_results[model_name] = {\n",
    "        \"f1_stdev\": f1_stdev\n",
    "    }\n",
    "\n",
    "# Convert the results into a DataFrame\n",
    "stdev_df = pd.DataFrame(stdev_results)\n",
    "\n",
    "# Print the table with standard deviations\n",
    "print(stdev_df)"
   ]
  },
  {
   "cell_type": "markdown",
   "metadata": {
    "id": "iMFWba09NHWd"
   },
   "source": [
    "#### Find the best config"
   ]
  },
  {
   "cell_type": "code",
   "execution_count": 50,
   "metadata": {
    "colab": {
     "base_uri": "https://localhost:8080/"
    },
    "id": "Q_l8i34pKTgP",
    "outputId": "abeb9058-271c-41e7-e779-a17f814fd29b"
   },
   "outputs": [
    {
     "name": "stdout",
     "output_type": "stream",
     "text": [
      "Best configuration for baseline:\n",
      "Seed: 777\n",
      "Embedding Dimension: 50\n",
      "Hidden Units: 64\n",
      "Batch Size: 16\n",
      "Val Loss: 0.8784475326538086\n",
      "Val Accuracy: 0.8164557218551636\n",
      "Val Precision: 0.7910447716712952\n",
      "Val Recall: 0.779411792755127\n",
      "Val F1 Macro: 0.8124820953550236\n",
      "--------------------------------------------------\n",
      "Best configuration for model_1:\n",
      "Seed: 42\n",
      "Embedding Dimension: 100\n",
      "Hidden Units: 64\n",
      "Batch Size: 32\n",
      "Val Loss: 0.7257394790649414\n",
      "Val Accuracy: 0.8354430198669434\n",
      "Val Precision: 0.8500000238418579\n",
      "Val Recall: 0.75\n",
      "Val F1 Macro: 0.8292885638297872\n",
      "--------------------------------------------------\n"
     ]
    }
   ],
   "source": [
    "# Find the best configuration for each model based on average validation metrics\n",
    "best_configurations = {}\n",
    "\n",
    "# Iterate over the averaged results and find the best configuration for each model\n",
    "for model_name, avg_results in averaged_results.items():\n",
    "    # Find the seed, embedding dimension, hidden units, batch size corresponding to the best metric\n",
    "    best_result = None\n",
    "    best_f1_macro = -1  # Initialize to a very low value to find the maximum\n",
    "\n",
    "    # Iterate over the model results to find the best configuration based on F1 macro (you can change the metric if needed)\n",
    "    for result in results[model_name]:\n",
    "        if result[\"val_f1_macro\"] > best_f1_macro:\n",
    "            best_f1_macro = result[\"val_f1_macro\"]\n",
    "            best_result = result\n",
    "\n",
    "    # Store the best configuration for the model\n",
    "    best_configurations[model_name] = best_result\n",
    "\n",
    "# Print the best configuration for each model\n",
    "for model_name, best_config in best_configurations.items():\n",
    "    print(f\"Best configuration for {model_name}:\")\n",
    "    print(f\"Seed: {best_config['seed']}\")\n",
    "    print(f\"Embedding Dimension: {best_config['embedding_dimension']}\")\n",
    "    print(f\"Hidden Units: {best_config['hidden_units']}\")\n",
    "    print(f\"Batch Size: {best_config['batch_size']}\")\n",
    "    print(f\"Val Loss: {best_config['val_loss']}\")\n",
    "    print(f\"Val Accuracy: {best_config['val_accuracy']}\")\n",
    "    print(f\"Val Precision: {best_config['val_precision']}\")\n",
    "    print(f\"Val Recall: {best_config['val_recall']}\")\n",
    "    print(f\"Val F1 Macro: {best_config['val_f1_macro']}\")\n",
    "    print(\"-\" * 50)"
   ]
  },
  {
   "cell_type": "markdown",
   "metadata": {
    "id": "OIPtzFMMUHhC"
   },
   "source": [
    "### Evaluate the best versions found of the two models using the Test set"
   ]
  },
  {
   "cell_type": "code",
   "execution_count": 51,
   "metadata": {
    "colab": {
     "base_uri": "https://localhost:8080/"
    },
    "id": "OTJZVD9kU1hs",
    "outputId": "b3a878bd-777c-4344-ce29-8ecd052bcf3d"
   },
   "outputs": [
    {
     "name": "stdout",
     "output_type": "stream",
     "text": [
      "Evaluating optimal model for baseline:\n",
      "Total OOV terms: 1340 (14.31%)\n",
      "Epoch 1/10\n",
      "\u001b[1m180/180\u001b[0m \u001b[32m━━━━━━━━━━━━━━━━━━━━\u001b[0m\u001b[37m\u001b[0m \u001b[1m4s\u001b[0m 10ms/step - accuracy: 0.6227 - loss: 0.6446 - precision: 0.5378 - recall: 0.2873 - val_accuracy: 0.7215 - val_loss: 0.5200 - val_precision: 0.7400 - val_recall: 0.5441\n",
      "Epoch 2/10\n",
      "\u001b[1m180/180\u001b[0m \u001b[32m━━━━━━━━━━━━━━━━━━━━\u001b[0m\u001b[37m\u001b[0m \u001b[1m2s\u001b[0m 8ms/step - accuracy: 0.7820 - loss: 0.4834 - precision: 0.7406 - recall: 0.6928 - val_accuracy: 0.7405 - val_loss: 0.5096 - val_precision: 0.8000 - val_recall: 0.5294\n",
      "Epoch 3/10\n",
      "\u001b[1m180/180\u001b[0m \u001b[32m━━━━━━━━━━━━━━━━━━━━\u001b[0m\u001b[37m\u001b[0m \u001b[1m1s\u001b[0m 8ms/step - accuracy: 0.8347 - loss: 0.3847 - precision: 0.7937 - recall: 0.7886 - val_accuracy: 0.7532 - val_loss: 0.5108 - val_precision: 0.8222 - val_recall: 0.5441\n",
      "Epoch 4/10\n",
      "\u001b[1m180/180\u001b[0m \u001b[32m━━━━━━━━━━━━━━━━━━━━\u001b[0m\u001b[37m\u001b[0m \u001b[1m3s\u001b[0m 12ms/step - accuracy: 0.8817 - loss: 0.2895 - precision: 0.8486 - recall: 0.8543 - val_accuracy: 0.7658 - val_loss: 0.5306 - val_precision: 0.7925 - val_recall: 0.6176\n",
      "Epoch 5/10\n",
      "\u001b[1m180/180\u001b[0m \u001b[32m━━━━━━━━━━━━━━━━━━━━\u001b[0m\u001b[37m\u001b[0m \u001b[1m2s\u001b[0m 9ms/step - accuracy: 0.9313 - loss: 0.1945 - precision: 0.9037 - recall: 0.9251 - val_accuracy: 0.7785 - val_loss: 0.6484 - val_precision: 0.6941 - val_recall: 0.8676\n",
      "Epoch 6/10\n",
      "\u001b[1m180/180\u001b[0m \u001b[32m━━━━━━━━━━━━━━━━━━━━\u001b[0m\u001b[37m\u001b[0m \u001b[1m2s\u001b[0m 8ms/step - accuracy: 0.9401 - loss: 0.1544 - precision: 0.9099 - recall: 0.9426 - val_accuracy: 0.7722 - val_loss: 0.7622 - val_precision: 0.8200 - val_recall: 0.6029\n",
      "Epoch 7/10\n",
      "\u001b[1m180/180\u001b[0m \u001b[32m━━━━━━━━━━━━━━━━━━━━\u001b[0m\u001b[37m\u001b[0m \u001b[1m1s\u001b[0m 8ms/step - accuracy: 0.9710 - loss: 0.0862 - precision: 0.9535 - recall: 0.9744 - val_accuracy: 0.7532 - val_loss: 0.7739 - val_precision: 0.7377 - val_recall: 0.6618\n",
      "Epoch 8/10\n",
      "\u001b[1m180/180\u001b[0m \u001b[32m━━━━━━━━━━━━━━━━━━━━\u001b[0m\u001b[37m\u001b[0m \u001b[1m3s\u001b[0m 10ms/step - accuracy: 0.9837 - loss: 0.0472 - precision: 0.9778 - recall: 0.9812 - val_accuracy: 0.7532 - val_loss: 0.9873 - val_precision: 0.6933 - val_recall: 0.7647\n",
      "Epoch 9/10\n",
      "\u001b[1m180/180\u001b[0m \u001b[32m━━━━━━━━━━━━━━━━━━━━\u001b[0m\u001b[37m\u001b[0m \u001b[1m2s\u001b[0m 11ms/step - accuracy: 0.9910 - loss: 0.0296 - precision: 0.9891 - recall: 0.9880 - val_accuracy: 0.7658 - val_loss: 1.1249 - val_precision: 0.7385 - val_recall: 0.7059\n",
      "Epoch 10/10\n",
      "\u001b[1m180/180\u001b[0m \u001b[32m━━━━━━━━━━━━━━━━━━━━\u001b[0m\u001b[37m\u001b[0m \u001b[1m3s\u001b[0m 18ms/step - accuracy: 0.9945 - loss: 0.0211 - precision: 0.9913 - recall: 0.9948 - val_accuracy: 0.7278 - val_loss: 1.2785 - val_precision: 0.6623 - val_recall: 0.7500\n",
      "\u001b[1m5/5\u001b[0m \u001b[32m━━━━━━━━━━━━━━━━━━━━\u001b[0m\u001b[37m\u001b[0m \u001b[1m1s\u001b[0m 129ms/step\n",
      "\u001b[1m9/9\u001b[0m \u001b[32m━━━━━━━━━━━━━━━━━━━━\u001b[0m\u001b[37m\u001b[0m \u001b[1m0s\u001b[0m 3ms/step \n",
      "Test Loss: 1.4125726222991943\n",
      "Test Accuracy: 0.7062937021255493\n",
      "Test Precision: 0.6399999856948853\n",
      "Test Recall: 0.761904776096344\n",
      "Test F1 Macro: 0.7059341950646298\n",
      "--------------------------------------------------\n",
      "Evaluating optimal model for model_1:\n",
      "Total OOV terms: 1340 (14.31%)\n",
      "Epoch 1/10\n",
      "\u001b[1m90/90\u001b[0m \u001b[32m━━━━━━━━━━━━━━━━━━━━\u001b[0m\u001b[37m\u001b[0m \u001b[1m7s\u001b[0m 17ms/step - accuracy: 0.5884 - loss: 0.6810 - precision: 0.3578 - recall: 0.0595 - val_accuracy: 0.5696 - val_loss: 0.6846 - val_precision: 0.0000e+00 - val_recall: 0.0000e+00\n",
      "Epoch 2/10\n",
      "\u001b[1m90/90\u001b[0m \u001b[32m━━━━━━━━━━━━━━━━━━━━\u001b[0m\u001b[37m\u001b[0m \u001b[1m2s\u001b[0m 10ms/step - accuracy: 0.6060 - loss: 0.6698 - precision: 0.1428 - recall: 0.0209 - val_accuracy: 0.5886 - val_loss: 0.6909 - val_precision: 1.0000 - val_recall: 0.0441\n",
      "Epoch 3/10\n",
      "\u001b[1m90/90\u001b[0m \u001b[32m━━━━━━━━━━━━━━━━━━━━\u001b[0m\u001b[37m\u001b[0m \u001b[1m1s\u001b[0m 11ms/step - accuracy: 0.6540 - loss: 0.6523 - precision: 0.6796 - recall: 0.2629 - val_accuracy: 0.6013 - val_loss: 0.6713 - val_precision: 0.6923 - val_recall: 0.1324\n",
      "Epoch 4/10\n",
      "\u001b[1m90/90\u001b[0m \u001b[32m━━━━━━━━━━━━━━━━━━━━\u001b[0m\u001b[37m\u001b[0m \u001b[1m1s\u001b[0m 11ms/step - accuracy: 0.6781 - loss: 0.6260 - precision: 0.7165 - recall: 0.3070 - val_accuracy: 0.6772 - val_loss: 0.6333 - val_precision: 0.7179 - val_recall: 0.4118\n",
      "Epoch 5/10\n",
      "\u001b[1m90/90\u001b[0m \u001b[32m━━━━━━━━━━━━━━━━━━━━\u001b[0m\u001b[37m\u001b[0m \u001b[1m1s\u001b[0m 11ms/step - accuracy: 0.7144 - loss: 0.5864 - precision: 0.6566 - recall: 0.5903 - val_accuracy: 0.6962 - val_loss: 0.6148 - val_precision: 0.7000 - val_recall: 0.5147\n",
      "Epoch 6/10\n",
      "\u001b[1m90/90\u001b[0m \u001b[32m━━━━━━━━━━━━━━━━━━━━\u001b[0m\u001b[37m\u001b[0m \u001b[1m1s\u001b[0m 11ms/step - accuracy: 0.7745 - loss: 0.5242 - precision: 0.7612 - recall: 0.6292 - val_accuracy: 0.7089 - val_loss: 0.5628 - val_precision: 0.7750 - val_recall: 0.4559\n",
      "Epoch 7/10\n",
      "\u001b[1m90/90\u001b[0m \u001b[32m━━━━━━━━━━━━━━━━━━━━\u001b[0m\u001b[37m\u001b[0m \u001b[1m1s\u001b[0m 11ms/step - accuracy: 0.8169 - loss: 0.4299 - precision: 0.7923 - recall: 0.7273 - val_accuracy: 0.7532 - val_loss: 0.5299 - val_precision: 0.7843 - val_recall: 0.5882\n",
      "Epoch 8/10\n",
      "\u001b[1m90/90\u001b[0m \u001b[32m━━━━━━━━━━━━━━━━━━━━\u001b[0m\u001b[37m\u001b[0m \u001b[1m1s\u001b[0m 13ms/step - accuracy: 0.8685 - loss: 0.3405 - precision: 0.8435 - recall: 0.8196 - val_accuracy: 0.7532 - val_loss: 0.6499 - val_precision: 0.8222 - val_recall: 0.5441\n",
      "Epoch 9/10\n",
      "\u001b[1m90/90\u001b[0m \u001b[32m━━━━━━━━━━━━━━━━━━━━\u001b[0m\u001b[37m\u001b[0m \u001b[1m2s\u001b[0m 16ms/step - accuracy: 0.9029 - loss: 0.2756 - precision: 0.8776 - recall: 0.8770 - val_accuracy: 0.7785 - val_loss: 0.5061 - val_precision: 0.8667 - val_recall: 0.5735\n",
      "Epoch 10/10\n",
      "\u001b[1m90/90\u001b[0m \u001b[32m━━━━━━━━━━━━━━━━━━━━\u001b[0m\u001b[37m\u001b[0m \u001b[1m2s\u001b[0m 11ms/step - accuracy: 0.9308 - loss: 0.2083 - precision: 0.9277 - recall: 0.8945 - val_accuracy: 0.8038 - val_loss: 0.5876 - val_precision: 0.8033 - val_recall: 0.7206\n",
      "\u001b[1m5/5\u001b[0m \u001b[32m━━━━━━━━━━━━━━━━━━━━\u001b[0m\u001b[37m\u001b[0m \u001b[1m0s\u001b[0m 62ms/step\n",
      "\u001b[1m9/9\u001b[0m \u001b[32m━━━━━━━━━━━━━━━━━━━━\u001b[0m\u001b[37m\u001b[0m \u001b[1m0s\u001b[0m 4ms/step \n",
      "Test Loss: 0.8356173634529114\n",
      "Test Accuracy: 0.7307692170143127\n",
      "Test Precision: 0.6762589812278748\n",
      "Test Recall: 0.7460317611694336\n",
      "Test F1 Macro: 0.729309815008297\n",
      "--------------------------------------------------\n"
     ]
    }
   ],
   "source": [
    "# Iterate over the best configurations of each model\n",
    "for model_name, best_config in best_configurations.items():\n",
    "    print(f\"Evaluating optimal model for {model_name}:\")\n",
    "\n",
    "    # Create the optimal model with the best configuration\n",
    "    embedding_matrix = embed_text(best_config[\"embedding_dimension\"])\n",
    "    embedding_layer = create_embedding_layer(embedding_matrix, best_config[\"embedding_dimension\"])\n",
    "\n",
    "    # Build the model with the best hyperparameters\n",
    "    model = create_model(\n",
    "        name=model_name,\n",
    "        embedding_layer=embedding_layer,\n",
    "        hidden_units=best_config[\"hidden_units\"],\n",
    "        extra_LSTM=(model_name != \"baseline\")\n",
    "    )\n",
    "\n",
    "    # Train the model with the best hyperparams\n",
    "    history, val_loss, val_accuracy, val_precision, val_recall, val_f1_macro = train_model(\n",
    "        model=model,\n",
    "        seed=best_config[\"seed\"],\n",
    "        training_data=train_padded,\n",
    "        training_labels=training_set['hard_label_task1'],\n",
    "        val_data=validation_padded,\n",
    "        val_labels=validation_set['hard_label_task1'],\n",
    "        batch_size=best_config[\"batch_size\"]\n",
    "    )\n",
    "\n",
    "    # Now evaluate the model on the test set\n",
    "    test_results = model.evaluate(test_padded, test_set['hard_label_task1'], verbose=0)\n",
    "    test_loss = test_results[0]\n",
    "    test_accuracy = test_results[1]\n",
    "    test_precision = test_results[2]\n",
    "    test_recall = test_results[3]\n",
    "\n",
    "    # Evaluate using F1-Macro on the test set\n",
    "    test_predictions = model.predict(test_padded)\n",
    "    test_predictions = (test_predictions > 0.5).astype(int)  # binarize predictions\n",
    "    test_f1_macro = f1_score(test_set['hard_label_task1'], test_predictions, average='macro')\n",
    "\n",
    "    # Print the evaluation results for the test set\n",
    "    print(f\"Test Loss: {test_loss}\")\n",
    "    print(f\"Test Accuracy: {test_accuracy}\")\n",
    "    print(f\"Test Precision: {test_precision}\")\n",
    "    print(f\"Test Recall: {test_recall}\")\n",
    "    print(f\"Test F1 Macro: {test_f1_macro}\")\n",
    "    print(\"-\" * 50)"
   ]
  },
  {
   "cell_type": "markdown",
   "metadata": {
    "id": "DIgLISvHijwG"
   },
   "source": [
    "## Task 6"
   ]
  },
  {
   "cell_type": "code",
   "execution_count": null,
   "metadata": {
    "id": "zgXWP4FMxFyM"
   },
   "outputs": [],
   "source": [
    "from transformers import AutoModelForSequenceClassification\n",
    "from transformers import AutoTokenizer, Trainer, TrainingArguments\n",
    "from transformers import DataCollatorWithPadding"
   ]
  },
  {
   "cell_type": "code",
   "execution_count": null,
   "metadata": {
    "id": "zLoItpT7n5I0"
   },
   "outputs": [],
   "source": [
    "!pip install evaluate\n",
    "!pip install datasets"
   ]
  },
  {
   "cell_type": "markdown",
   "metadata": {
    "id": "5hTwEMzrbfSt"
   },
   "source": [
    "### Input data preparation"
   ]
  },
  {
   "cell_type": "code",
   "execution_count": null,
   "metadata": {
    "id": "SBuUU6-F4U7P"
   },
   "outputs": [],
   "source": [
    "# Reset the index for training and test sets\n",
    "training_set = training_set.reset_index(drop=True)\n",
    "validation_set = validation_set.reset_index(drop=True)\n",
    "test_set = test_set.reset_index(drop=True)"
   ]
  },
  {
   "cell_type": "markdown",
   "metadata": {
    "id": "_NmOnnMFblWn"
   },
   "source": [
    "#### Encode the datasets for computational speed-up"
   ]
  },
  {
   "cell_type": "code",
   "execution_count": null,
   "metadata": {
    "id": "txbdFx761YhS"
   },
   "outputs": [],
   "source": [
    "from datasets import Dataset\n",
    "\n",
    "train_data = Dataset.from_pandas(training_set)\n",
    "validation_data = Dataset.from_pandas(validation_set)\n",
    "test_data = Dataset.from_pandas(test_set)\n",
    "\n",
    "train_data = Dataset.from_pandas(training_set[[\"tweet\", \"hard_label_task1\"]])\n",
    "validation_data = Dataset.from_pandas(validation_set[[\"tweet\", \"hard_label_task1\"]])\n",
    "test_data = Dataset.from_pandas(test_set[[\"tweet\", \"hard_label_task1\"]])"
   ]
  },
  {
   "cell_type": "markdown",
   "metadata": {
    "id": "b4Vvs_dibxtf"
   },
   "source": [
    "#### (optional) reduce the size of the datasets"
   ]
  },
  {
   "cell_type": "code",
   "execution_count": null,
   "metadata": {
    "id": "6w6ZQAME5XE_"
   },
   "outputs": [],
   "source": [
    "#train_data = train_data.select(range(50))\n",
    "#validation_data = validation_data.select(range(5))  # Example for validation\n",
    "#test_data = test_data.select(range(5))             # Example for test"
   ]
  },
  {
   "cell_type": "markdown",
   "metadata": {
    "id": "O-i2eknEbaYL"
   },
   "source": [
    "### Pre-trained model #1: RoBERTa"
   ]
  },
  {
   "cell_type": "markdown",
   "metadata": {
    "id": "H_Nl6s5_b73R"
   },
   "source": [
    "#### Define the pre-trained model and the tokenizer to use"
   ]
  },
  {
   "cell_type": "code",
   "execution_count": null,
   "metadata": {
    "id": "vuC3CJG1xgAQ"
   },
   "outputs": [],
   "source": [
    "MODEL_CARD_1 = \"cardiffnlp/twitter-roberta-base-hate\"\n",
    "roberta_tokenizer = AutoTokenizer.from_pretrained(MODEL_CARD_1)\n",
    "\n",
    "# Instantiate the model\n",
    "roberta_model = AutoModelForSequenceClassification.from_pretrained(MODEL_CARD_1,\n",
    "                                                                   num_labels=2, # binary classif. task\n",
    "                                                                   id2label={0: 'NO', 1: 'YES'},\n",
    "                                                                   label2id={'NO': 0, 'YES': 1})"
   ]
  },
  {
   "cell_type": "code",
   "execution_count": null,
   "metadata": {
    "id": "8JIyYV6d0MYy"
   },
   "outputs": [],
   "source": [
    "print(roberta_model)"
   ]
  },
  {
   "cell_type": "code",
   "execution_count": null,
   "metadata": {
    "colab": {
     "base_uri": "https://localhost:8080/"
    },
    "id": "YCgBb_kDdjbL",
    "outputId": "37090e2b-4a74-457f-f098-34219e583370"
   },
   "outputs": [
    {
     "name": "stdout",
     "output_type": "stream",
     "text": [
      "['<s>', 'write', 'Ġun', 'i', 'Ġessay', 'Ġlocal', 'Ġpub', 'Ġcoffee', 'Ġrandom', 'Ġold', 'Ġman', 'Ġkeep', 'Ġask', 'Ġdrunk', 'Ġquestion', 'Ġim', 'Ġtry', 'Ġconcentrate', 'Ġend', 'Ġgood', 'Ġluck', 'Ġyou', 'll', 'Ġend', 'Ġget', 'Ġmarry', 'Ġuse', 'Ġanyway', 'Ġalive', 'Ġwell', '</s>']\n"
     ]
    }
   ],
   "source": [
    "example_text = training_set['tweet'][0]\n",
    "encoded_example = roberta_tokenizer.encode_plus(example_text, add_special_tokens=True)\n",
    "print(encoded_example.tokens())"
   ]
  },
  {
   "cell_type": "markdown",
   "metadata": {
    "id": "BPrav4UAcOp8"
   },
   "source": [
    "### Preprocessing the text, accordingly to the tokenizer of the model"
   ]
  },
  {
   "cell_type": "code",
   "execution_count": null,
   "metadata": {
    "id": "nOEfJwz2xMfi"
   },
   "outputs": [],
   "source": [
    "def tokenize_function(examples, tokenizer):\n",
    "    return tokenizer(examples[\"tweet\"], truncation=True, padding=True)"
   ]
  },
  {
   "cell_type": "code",
   "execution_count": null,
   "metadata": {
    "colab": {
     "base_uri": "https://localhost:8080/",
     "height": 131,
     "referenced_widgets": [
      "2f3eeb4170104910ba22b3bbb1d1e524",
      "2ec9f51b24da4530aff070ec41eb78e1",
      "26dae33f234346989f304c3a849a0115",
      "4c86c99b737c4bfb83ab642ca8055991",
      "75f2aafc50604ffd8d2dcda1279b1562",
      "5f57833a09524ad8befe2d632ec43514",
      "a3fa161518744a80ba6e67ea257fb6d3",
      "acc1adbb2f494bffb3ae55c4381697b7",
      "033275172b1b4699b28516770605904b",
      "c9e6e737faf8469bae93c1dc821e05e0",
      "08252b60bfc548fb9d87144777493d1c",
      "120880ac52404083a70c22a97fb2d84f",
      "9593f4c3406a4061958d1e156240ae42",
      "f1b08f01f3c345679e616759711e9a14",
      "693b9ecc4e424355adbc3605ef5c158a",
      "cf77f2dbbb19428eb92f22eb233c3e35",
      "4457d8158f55490f96cffcac49b83bfc",
      "e960ea0f12514aaf9afa3101af9093b3",
      "84beab2db06d41b0b99c3572e60df8d0",
      "a40066238af946fa90bb9cc574c84c56",
      "bc8cfba1dcf54ad1864ae68670250078",
      "46049494a22446b4bd664c85c2408581",
      "e5d02f26e50f44229405fdee6dbe15f5",
      "376c3394f2304a8ba90f3cd75777d25a",
      "2caac4394d8041bea865c78ee4543457",
      "ca7442a6da404a889e4e8719c632d779",
      "af621c98f5a447c88483b7de8ed15076",
      "f0c80ba3577a4743b20ac2c240f0a060",
      "c17f5ee484344389a9fdab390ae9c692",
      "b6233e15c76c41ddaef4151b34d87d03",
      "5e3192f85af84c1bb5e9ff294e4b9086",
      "d9ba6113098f48dd83b46b86546d7c07",
      "0f5899fa55864a2998786002ce7c86d7"
     ]
    },
    "id": "6pFpRXeryGwZ",
    "outputId": "672d509d-bba6-48d4-b0bd-5a2111c5fd09"
   },
   "outputs": [
    {
     "data": {
      "application/vnd.jupyter.widget-view+json": {
       "model_id": "2f3eeb4170104910ba22b3bbb1d1e524",
       "version_major": 2,
       "version_minor": 0
      },
      "text/plain": [
       "Map:   0%|          | 0/2870 [00:00<?, ? examples/s]"
      ]
     },
     "metadata": {},
     "output_type": "display_data"
    },
    {
     "name": "stderr",
     "output_type": "stream",
     "text": [
      "Asking to truncate to max_length but no maximum length is provided and the model has no predefined maximum length. Default to no truncation.\n"
     ]
    },
    {
     "data": {
      "application/vnd.jupyter.widget-view+json": {
       "model_id": "120880ac52404083a70c22a97fb2d84f",
       "version_major": 2,
       "version_minor": 0
      },
      "text/plain": [
       "Map:   0%|          | 0/158 [00:00<?, ? examples/s]"
      ]
     },
     "metadata": {},
     "output_type": "display_data"
    },
    {
     "data": {
      "application/vnd.jupyter.widget-view+json": {
       "model_id": "e5d02f26e50f44229405fdee6dbe15f5",
       "version_major": 2,
       "version_minor": 0
      },
      "text/plain": [
       "Map:   0%|          | 0/286 [00:00<?, ? examples/s]"
      ]
     },
     "metadata": {},
     "output_type": "display_data"
    }
   ],
   "source": [
    "# Apply tokenization to the datasets using lambda to pass the tokenizer\n",
    "train_data = train_data.map(lambda examples: tokenize_function(examples, roberta_tokenizer), batched=True)\n",
    "validation_data = validation_data.map(lambda examples: tokenize_function(examples, roberta_tokenizer), batched=True)\n",
    "test_data = test_data.map(lambda examples: tokenize_function(examples, roberta_tokenizer), batched=True)"
   ]
  },
  {
   "cell_type": "code",
   "execution_count": null,
   "metadata": {
    "id": "EPne0DA6-2Qi"
   },
   "outputs": [],
   "source": [
    "# Rename column for consistency\n",
    "train_data = train_data.rename_column('hard_label_task1', 'label')\n",
    "validation_data = validation_data.rename_column('hard_label_task1', 'label')\n",
    "test_data = test_data.rename_column('hard_label_task1', 'label')"
   ]
  },
  {
   "cell_type": "code",
   "execution_count": null,
   "metadata": {
    "colab": {
     "base_uri": "https://localhost:8080/"
    },
    "id": "ero0J4Vg6I5-",
    "outputId": "8f27aff9-1458-4661-e3d3-baa9ece1d735"
   },
   "outputs": [
    {
     "name": "stdout",
     "output_type": "stream",
     "text": [
      "{'label': tensor(1), 'input_ids': tensor([    0, 29631,   542,   118, 14700,   400,  8881,  3895,  9624,   793,\n",
      "          313,   489,  1394, 10789,   864,  4356,   860, 14410,   253,   205,\n",
      "         6620,    47,   890,   253,   120, 12908,   304,  6992,  4299,   157,\n",
      "            2,     1,     1,     1,     1,     1,     1,     1,     1,     1,\n",
      "            1,     1,     1,     1,     1,     1,     1,     1,     1,     1,\n",
      "            1,     1,     1,     1,     1,     1,     1,     1,     1,     1,\n",
      "            1,     1,     1,     1,     1,     1,     1,     1,     1,     1,\n",
      "            1,     1,     1,     1,     1,     1,     1,     1,     1,     1,\n",
      "            1,     1,     1,     1,     1,     1,     1,     1,     1,     1,\n",
      "            1,     1,     1]), 'attention_mask': tensor([1, 1, 1, 1, 1, 1, 1, 1, 1, 1, 1, 1, 1, 1, 1, 1, 1, 1, 1, 1, 1, 1, 1, 1,\n",
      "        1, 1, 1, 1, 1, 1, 1, 0, 0, 0, 0, 0, 0, 0, 0, 0, 0, 0, 0, 0, 0, 0, 0, 0,\n",
      "        0, 0, 0, 0, 0, 0, 0, 0, 0, 0, 0, 0, 0, 0, 0, 0, 0, 0, 0, 0, 0, 0, 0, 0,\n",
      "        0, 0, 0, 0, 0, 0, 0, 0, 0, 0, 0, 0, 0, 0, 0, 0, 0, 0, 0, 0, 0])}\n"
     ]
    }
   ],
   "source": [
    "print(train_data[0])"
   ]
  },
  {
   "cell_type": "markdown",
   "metadata": {
    "id": "i9yTSkLvdNPZ"
   },
   "source": [
    "### Data formatting"
   ]
  },
  {
   "cell_type": "code",
   "execution_count": null,
   "metadata": {
    "id": "VQ3Pv1Bl5Y6w"
   },
   "outputs": [],
   "source": [
    "# Ensure the dataset has the necessary format\n",
    "train_data.set_format(type=\"torch\", columns=[\"input_ids\", \"attention_mask\", \"label\"])\n",
    "validation_data.set_format(type=\"torch\", columns=[\"input_ids\", \"attention_mask\", \"label\"])\n",
    "test_data.set_format(type=\"torch\", columns=[\"input_ids\", \"attention_mask\", \"label\"])"
   ]
  },
  {
   "cell_type": "code",
   "execution_count": null,
   "metadata": {
    "id": "LcLAd248zsHH"
   },
   "outputs": [],
   "source": [
    "data_collator = DataCollatorWithPadding(tokenizer=roberta_tokenizer)"
   ]
  },
  {
   "cell_type": "markdown",
   "metadata": {
    "id": "xZIFE48pdW8K"
   },
   "source": [
    "### Enforcing GPU usage"
   ]
  },
  {
   "cell_type": "code",
   "execution_count": null,
   "metadata": {
    "colab": {
     "base_uri": "https://localhost:8080/"
    },
    "id": "88r9tIdHSM-y",
    "outputId": "ef373433-a29e-4f87-d653-7a0897ab4abd"
   },
   "outputs": [
    {
     "name": "stdout",
     "output_type": "stream",
     "text": [
      "True\n"
     ]
    },
    {
     "data": {
      "text/plain": [
       "RobertaForSequenceClassification(\n",
       "  (roberta): RobertaModel(\n",
       "    (embeddings): RobertaEmbeddings(\n",
       "      (word_embeddings): Embedding(50265, 768, padding_idx=1)\n",
       "      (position_embeddings): Embedding(514, 768, padding_idx=1)\n",
       "      (token_type_embeddings): Embedding(1, 768)\n",
       "      (LayerNorm): LayerNorm((768,), eps=1e-05, elementwise_affine=True)\n",
       "      (dropout): Dropout(p=0.1, inplace=False)\n",
       "    )\n",
       "    (encoder): RobertaEncoder(\n",
       "      (layer): ModuleList(\n",
       "        (0-11): 12 x RobertaLayer(\n",
       "          (attention): RobertaAttention(\n",
       "            (self): RobertaSdpaSelfAttention(\n",
       "              (query): Linear(in_features=768, out_features=768, bias=True)\n",
       "              (key): Linear(in_features=768, out_features=768, bias=True)\n",
       "              (value): Linear(in_features=768, out_features=768, bias=True)\n",
       "              (dropout): Dropout(p=0.1, inplace=False)\n",
       "            )\n",
       "            (output): RobertaSelfOutput(\n",
       "              (dense): Linear(in_features=768, out_features=768, bias=True)\n",
       "              (LayerNorm): LayerNorm((768,), eps=1e-05, elementwise_affine=True)\n",
       "              (dropout): Dropout(p=0.1, inplace=False)\n",
       "            )\n",
       "          )\n",
       "          (intermediate): RobertaIntermediate(\n",
       "            (dense): Linear(in_features=768, out_features=3072, bias=True)\n",
       "            (intermediate_act_fn): GELUActivation()\n",
       "          )\n",
       "          (output): RobertaOutput(\n",
       "            (dense): Linear(in_features=3072, out_features=768, bias=True)\n",
       "            (LayerNorm): LayerNorm((768,), eps=1e-05, elementwise_affine=True)\n",
       "            (dropout): Dropout(p=0.1, inplace=False)\n",
       "          )\n",
       "        )\n",
       "      )\n",
       "    )\n",
       "  )\n",
       "  (classifier): RobertaClassificationHead(\n",
       "    (dense): Linear(in_features=768, out_features=768, bias=True)\n",
       "    (dropout): Dropout(p=0.1, inplace=False)\n",
       "    (out_proj): Linear(in_features=768, out_features=2, bias=True)\n",
       "  )\n",
       ")"
      ]
     },
     "execution_count": 94,
     "metadata": {},
     "output_type": "execute_result"
    }
   ],
   "source": [
    "import torch\n",
    "\n",
    "print(torch.cuda.is_available())  # Should return True if GPU is available\n",
    "roberta_model.to('cuda')  # Move the model to the GPU"
   ]
  },
  {
   "cell_type": "markdown",
   "metadata": {
    "id": "TDXuNr2KiWBL"
   },
   "source": [
    "### Defining the metrics of interest: F1-score and accuracy"
   ]
  },
  {
   "cell_type": "code",
   "execution_count": null,
   "metadata": {
    "id": "VL8oF0N90aLE"
   },
   "outputs": [],
   "source": [
    "from sklearn.metrics import f1_score, accuracy_score\n",
    "\n",
    "def compute_metrics(output_info):\n",
    "    predictions, labels = output_info\n",
    "    predictions = np.argmax(predictions, axis=-1)\n",
    "\n",
    "    f1 = f1_score(y_pred=predictions, y_true=labels, average='macro')\n",
    "    acc = accuracy_score(y_pred=predictions, y_true=labels)\n",
    "    return {'f1': f1, 'acc': acc}"
   ]
  },
  {
   "cell_type": "markdown",
   "metadata": {
    "id": "iqQBobWBc8lw"
   },
   "source": [
    "### Training"
   ]
  },
  {
   "cell_type": "code",
   "execution_count": null,
   "metadata": {
    "colab": {
     "base_uri": "https://localhost:8080/",
     "height": 267
    },
    "id": "gG97japcrJrB",
    "outputId": "f13e5a08-11d7-4a0a-901d-a36c1ed6b16f"
   },
   "outputs": [
    {
     "name": "stderr",
     "output_type": "stream",
     "text": [
      "/usr/local/lib/python3.10/dist-packages/transformers/training_args.py:1575: FutureWarning: `evaluation_strategy` is deprecated and will be removed in version 4.46 of 🤗 Transformers. Use `eval_strategy` instead\n",
      "  warnings.warn(\n",
      "<ipython-input-96-4628a705e919>:19: FutureWarning: `tokenizer` is deprecated and will be removed in version 5.0.0 for `Trainer.__init__`. Use `processing_class` instead.\n",
      "  trainer = Trainer(\n"
     ]
    },
    {
     "data": {
      "text/html": [
       "\n",
       "    <div>\n",
       "      \n",
       "      <progress value='718' max='718' style='width:300px; height:20px; vertical-align: middle;'></progress>\n",
       "      [718/718 02:38, Epoch 2/2]\n",
       "    </div>\n",
       "    <table border=\"1\" class=\"dataframe\">\n",
       "  <thead>\n",
       " <tr style=\"text-align: left;\">\n",
       "      <th>Epoch</th>\n",
       "      <th>Training Loss</th>\n",
       "      <th>Validation Loss</th>\n",
       "      <th>F1</th>\n",
       "      <th>Acc</th>\n",
       "    </tr>\n",
       "  </thead>\n",
       "  <tbody>\n",
       "    <tr>\n",
       "      <td>1</td>\n",
       "      <td>0.592500</td>\n",
       "      <td>0.361152</td>\n",
       "      <td>0.873541</td>\n",
       "      <td>0.879747</td>\n",
       "    </tr>\n",
       "    <tr>\n",
       "      <td>2</td>\n",
       "      <td>0.418900</td>\n",
       "      <td>0.468534</td>\n",
       "      <td>0.888097</td>\n",
       "      <td>0.892405</td>\n",
       "    </tr>\n",
       "  </tbody>\n",
       "</table><p>"
      ],
      "text/plain": [
       "<IPython.core.display.HTML object>"
      ]
     },
     "metadata": {},
     "output_type": "display_data"
    },
    {
     "data": {
      "text/plain": [
       "TrainOutput(global_step=718, training_loss=0.3907966454381066, metrics={'train_runtime': 159.1123, 'train_samples_per_second': 36.075, 'train_steps_per_second': 4.513, 'total_flos': 271993109033520.0, 'train_loss': 0.3907966454381066, 'epoch': 2.0})"
      ]
     },
     "execution_count": 96,
     "metadata": {},
     "output_type": "execute_result"
    }
   ],
   "source": [
    "# Define the training arguments\n",
    "training_args = TrainingArguments(\n",
    "    output_dir=\"test_dir\",                # where to save model\n",
    "    learning_rate=2e-5,\n",
    "    per_device_train_batch_size=8,        # accelerate defines distributed training\n",
    "    per_device_eval_batch_size=8,\n",
    "    num_train_epochs=2,\n",
    "    weight_decay=0.05,\n",
    "    evaluation_strategy=\"epoch\",          # when to report evaluation metrics/losses\n",
    "    save_strategy=\"epoch\",                # when to save checkpoint\n",
    "    load_best_model_at_end=True,\n",
    "    report_to='none',                     # disabling wandb (default)\n",
    "    logging_dir='logs',                   # Directory for storing logs\n",
    "    logging_steps=20,                     # Log interval\n",
    ")\n",
    "\n",
    "#Instantiate the Trainer\n",
    "trainer = Trainer(\n",
    "    model=roberta_model,\n",
    "    args=training_args,\n",
    "    train_dataset=train_data,\n",
    "    eval_dataset=validation_data,\n",
    "    tokenizer=roberta_tokenizer,\n",
    "    data_collator=data_collator,\n",
    "    compute_metrics=compute_metrics,\n",
    ")\n",
    "\n",
    "trainer.train()"
   ]
  },
  {
   "cell_type": "markdown",
   "metadata": {
    "id": "nU4QjUL7lbIA"
   },
   "source": [
    "### Evaluation"
   ]
  },
  {
   "cell_type": "code",
   "execution_count": null,
   "metadata": {
    "colab": {
     "base_uri": "https://localhost:8080/",
     "height": 53
    },
    "id": "4McaH6GC6xWo",
    "outputId": "3beef2c7-8907-45e9-9efe-1bbfad498dca"
   },
   "outputs": [
    {
     "data": {
      "text/html": [],
      "text/plain": [
       "<IPython.core.display.HTML object>"
      ]
     },
     "metadata": {},
     "output_type": "display_data"
    },
    {
     "name": "stdout",
     "output_type": "stream",
     "text": [
      "(286, 2)\n",
      "(286,)\n"
     ]
    }
   ],
   "source": [
    "test_prediction_info = trainer.predict(test_data)\n",
    "test_predictions, test_labels = test_prediction_info.predictions, test_prediction_info.label_ids\n",
    "\n",
    "print(test_predictions.shape)\n",
    "print(test_labels.shape)"
   ]
  },
  {
   "cell_type": "code",
   "execution_count": null,
   "metadata": {
    "colab": {
     "base_uri": "https://localhost:8080/"
    },
    "id": "Y5Dn5zv56520",
    "outputId": "b680154c-ab2c-4bf4-8e0b-c8001be76f75"
   },
   "outputs": [
    {
     "name": "stdout",
     "output_type": "stream",
     "text": [
      "{'f1': 0.8098497906919477, 'acc': 0.8111888111888111}\n"
     ]
    }
   ],
   "source": [
    "test_metrics = compute_metrics([test_predictions, test_labels])\n",
    "print(test_metrics)"
   ]
  },
  {
   "cell_type": "markdown",
   "metadata": {
    "id": "VOJZpgRUatCk"
   },
   "source": [
    "### [Extra] Pre-trained model #2: DistilBERT"
   ]
  },
  {
   "cell_type": "code",
   "execution_count": null,
   "metadata": {
    "colab": {
     "base_uri": "https://localhost:8080/",
     "height": 233,
     "referenced_widgets": [
      "14bac16896184c08a64fde0ffdbdfee7",
      "c8db92f70bfa4d6782c411679ba20804",
      "9b9b18ab379f48d7a654c9c38f34d1f6",
      "84226cd7c9ad4a8ca84b9108fe791753",
      "8e2c9ca5bf934464adf2028dbe5209c5",
      "41893efa9051466db2d3d7ff37bdefcb",
      "e2a7bcdb57a645ff95d96d146f3b51ea",
      "da881f4e0efd463783dc9d6b2bd665d0",
      "36e40b732ad34dadb9892b7b9c10f95f",
      "192577b2c7d34ae5a6b6eccfd38d1d1c",
      "6652e4ea7e9e48fd99b58f319b239e32",
      "c8c480c10dfb4ba386266a3c3521d1b0",
      "6f3dd3161b9b411188c0ac0f668db833",
      "9b0b60523a1f4e53a538bc58c2751ec7",
      "6483eef5a5f64871a96ec2b984e98f1f",
      "150c3bbc89964568b9039dc2eaeac557",
      "55d01429551148f086ab5c95eb0c1910",
      "261b4b22c94d4949b7a086deaee5a661",
      "99b5baf040774a0a827f7643e195b272",
      "2141220efee44238adae0a051e176fb1",
      "56990f09686e42f8bed2f15a5b348d67",
      "75a2cae6ea254857beecf53f0f9774af",
      "5c44844640d04a90b5e8c6e9fc3e2763",
      "639f8aae639d48979fd07ef05c85dfc2",
      "e7e5c103febc46c69cd3904b98a07f2b",
      "895f8163f1b741cb97309fcf42f4b772",
      "6d69d6015e114a259848f653e1b81982",
      "2c68fb505bd647789656ffe1cb121348",
      "179065eca2db40599bd56db1e2eb20b4",
      "f3472e04e9164a6f962b5d4fca257d88",
      "0595120e0f1d4b8f94fd8cda705ccf58",
      "93497bd8d66a4114a6e96b479cde9662",
      "0fde5490bf9040dea2a81a5d1d8b2144",
      "2d925b263eec4732b30ba4802a5ea084",
      "2646400950a74b15a32d5bddc46ad051",
      "4aaecba6179e4e8fa60d14355d43c2df",
      "0b6bec88324045dcafc506d790a52323",
      "d1a73568b33f45ac87204eabf2f7c269",
      "5b9e49c6946b4c4398ef09f413c10636",
      "8e8526df81564f0ea5271963d48fb186",
      "67cadba5dd82476c94ce01faf2457959",
      "95dab5c5d3ea4d77a86afe506de62201",
      "3785d3ba0fdb4efeb219429dd0f654ea",
      "eba1cda0e9f6489a8c9d4a89ca6c30d3",
      "587dbabe98db475f8b206c732326f23e",
      "4888d8c7b6364f8e93fa9e4a4b8ebffe",
      "abb75ec4e00d4d0986644526b2bafffd",
      "06c5f46085bd4bad9dd793f073ea07c5",
      "a7876454d13349d1aecb5989660437eb",
      "a0bc9e9d96f8430caf32a04d2250df52",
      "41dfcb8e2d1b4f679f0e0d7ef2f94f8b",
      "449874e0a5954e94bd920c7dada5f018",
      "f0ed86cb8fcb404886c6733cba926757",
      "1849b4e2f9cd43c5afd5b6c4818f2ed8",
      "08a6b80e3d7042b1b68f12e3b505da10"
     ]
    },
    "id": "7XgPglC8exqa",
    "outputId": "9d6b6115-6843-435c-b15f-41c4acd68855"
   },
   "outputs": [
    {
     "data": {
      "application/vnd.jupyter.widget-view+json": {
       "model_id": "14bac16896184c08a64fde0ffdbdfee7",
       "version_major": 2,
       "version_minor": 0
      },
      "text/plain": [
       "tokenizer_config.json:   0%|          | 0.00/48.0 [00:00<?, ?B/s]"
      ]
     },
     "metadata": {},
     "output_type": "display_data"
    },
    {
     "data": {
      "application/vnd.jupyter.widget-view+json": {
       "model_id": "c8c480c10dfb4ba386266a3c3521d1b0",
       "version_major": 2,
       "version_minor": 0
      },
      "text/plain": [
       "config.json:   0%|          | 0.00/483 [00:00<?, ?B/s]"
      ]
     },
     "metadata": {},
     "output_type": "display_data"
    },
    {
     "data": {
      "application/vnd.jupyter.widget-view+json": {
       "model_id": "5c44844640d04a90b5e8c6e9fc3e2763",
       "version_major": 2,
       "version_minor": 0
      },
      "text/plain": [
       "vocab.txt:   0%|          | 0.00/232k [00:00<?, ?B/s]"
      ]
     },
     "metadata": {},
     "output_type": "display_data"
    },
    {
     "data": {
      "application/vnd.jupyter.widget-view+json": {
       "model_id": "2d925b263eec4732b30ba4802a5ea084",
       "version_major": 2,
       "version_minor": 0
      },
      "text/plain": [
       "tokenizer.json:   0%|          | 0.00/466k [00:00<?, ?B/s]"
      ]
     },
     "metadata": {},
     "output_type": "display_data"
    },
    {
     "data": {
      "application/vnd.jupyter.widget-view+json": {
       "model_id": "587dbabe98db475f8b206c732326f23e",
       "version_major": 2,
       "version_minor": 0
      },
      "text/plain": [
       "model.safetensors:   0%|          | 0.00/268M [00:00<?, ?B/s]"
      ]
     },
     "metadata": {},
     "output_type": "display_data"
    },
    {
     "name": "stderr",
     "output_type": "stream",
     "text": [
      "Some weights of DistilBertForSequenceClassification were not initialized from the model checkpoint at distilbert-base-uncased and are newly initialized: ['classifier.bias', 'classifier.weight', 'pre_classifier.bias', 'pre_classifier.weight']\n",
      "You should probably TRAIN this model on a down-stream task to be able to use it for predictions and inference.\n"
     ]
    }
   ],
   "source": [
    "MODEL_CARD_2 = \"distilbert-base-uncased\"\n",
    "bert_tokenizer = AutoTokenizer.from_pretrained(MODEL_CARD_2)\n",
    "\n",
    "# Instantiate the model\n",
    "bert_model = AutoModelForSequenceClassification.from_pretrained(MODEL_CARD_2,\n",
    "                                                                num_labels=2, # binary classif. task\n",
    "                                                                id2label={0: 'NO', 1: 'YES'},\n",
    "                                                                label2id={'NO': 0, 'YES': 1})"
   ]
  },
  {
   "cell_type": "code",
   "execution_count": null,
   "metadata": {
    "colab": {
     "base_uri": "https://localhost:8080/"
    },
    "id": "lXnck6oHid4C",
    "outputId": "23391485-3cb4-4afb-e49e-7b84ff59f104"
   },
   "outputs": [
    {
     "name": "stdout",
     "output_type": "stream",
     "text": [
      "['[CLS]', 'write', 'un', '##i', 'essay', 'local', 'pub', 'coffee', 'random', 'old', 'man', 'keep', 'ask', 'drunk', 'question', 'im', 'try', 'concentrate', 'end', 'good', 'luck', 'you', '##ll', 'end', 'get', 'marry', 'use', 'anyway', 'alive', 'well', '[SEP]']\n"
     ]
    }
   ],
   "source": [
    "example_text = training_set['tweet'][0]\n",
    "encoded_example = bert_tokenizer.encode_plus(example_text, add_special_tokens=True)\n",
    "print(encoded_example.tokens())"
   ]
  },
  {
   "cell_type": "markdown",
   "metadata": {
    "id": "S30IFAktjuRp"
   },
   "source": [
    "### Perform the same preprocessing steps of before"
   ]
  },
  {
   "cell_type": "code",
   "execution_count": null,
   "metadata": {
    "colab": {
     "base_uri": "https://localhost:8080/",
     "height": 730,
     "referenced_widgets": [
      "e91b3b181f324422b1fde64d101f6eaf",
      "c310f29008c745309a45816d21b98476",
      "8293fcf85cec4555bac748d7c9444444",
      "a6ebc413c84d44ab87e10a886d57fc90",
      "526d0a77a1ee428ebfbe8adb0461f6b4",
      "74c73f1a6de04fbcb2687bc959473aa5",
      "8ba2c2fd468c4ab0ba06e0c2702b2786",
      "655ce5df679244ca98d884fee46bb27b",
      "37eedd7659124f49ad5f56435a907c49",
      "0844863b7ec44aada3d36336b69dbbc5",
      "693ddb1d6cfc4e80b2bd50eec17d7f3e",
      "17ca7498f11f4038af433d3ecd195b2e",
      "5f4cea9ded5c4730a9a7579774ee34a4",
      "14fc8f534ba84cf3bec9b740b2a50c9c",
      "3da817a28fd74aa095b56f0cd4f5b0cc",
      "068a1b81921d42eeb5ce4346c2447dca",
      "ea3116ff8ef343cba177f6071f6fa939",
      "75560675c07a42e5a3be6c399eb9a762",
      "4cb51f40e7d64191bbd80dc9480edd51",
      "c25866ce784c4e32aa018a0a4d864a3b",
      "13f48c5154084a1a8b70adb0c0c42c5d",
      "116d2a52bce7448c8da9593e2b8b5e3c",
      "73423a427fe44c6aa9f3cf25b8a931a1",
      "74424f7a874641fe8e864fcc9fd6b05a",
      "e6f3bddb1a9c47eeb993e2a7dbb036c4",
      "49c300a819b441f3904769b7c7bf207a",
      "bb7e9c8f6fdb439fb547feefa6d4b9de",
      "ad3fa69273704612935598766e8e9a67",
      "042db5c7eb094451bbe6f485af43272d",
      "cb99a2b5ac394871af810c47499a010a",
      "b067ba1fdbfc4357ae0f506b6dbd177c",
      "1e7767d219b34e2e933f33c9f96f8d3d",
      "07c333044e3a43d28c74e5900e12fad7"
     ]
    },
    "id": "028FGLfJjSP8",
    "outputId": "b3183163-2534-439f-c4e5-6df9a7b48912"
   },
   "outputs": [
    {
     "data": {
      "application/vnd.jupyter.widget-view+json": {
       "model_id": "e91b3b181f324422b1fde64d101f6eaf",
       "version_major": 2,
       "version_minor": 0
      },
      "text/plain": [
       "Map:   0%|          | 0/2870 [00:00<?, ? examples/s]"
      ]
     },
     "metadata": {},
     "output_type": "display_data"
    },
    {
     "data": {
      "application/vnd.jupyter.widget-view+json": {
       "model_id": "17ca7498f11f4038af433d3ecd195b2e",
       "version_major": 2,
       "version_minor": 0
      },
      "text/plain": [
       "Map:   0%|          | 0/158 [00:00<?, ? examples/s]"
      ]
     },
     "metadata": {},
     "output_type": "display_data"
    },
    {
     "data": {
      "application/vnd.jupyter.widget-view+json": {
       "model_id": "73423a427fe44c6aa9f3cf25b8a931a1",
       "version_major": 2,
       "version_minor": 0
      },
      "text/plain": [
       "Map:   0%|          | 0/286 [00:00<?, ? examples/s]"
      ]
     },
     "metadata": {},
     "output_type": "display_data"
    },
    {
     "data": {
      "text/plain": [
       "DistilBertForSequenceClassification(\n",
       "  (distilbert): DistilBertModel(\n",
       "    (embeddings): Embeddings(\n",
       "      (word_embeddings): Embedding(30522, 768, padding_idx=0)\n",
       "      (position_embeddings): Embedding(512, 768)\n",
       "      (LayerNorm): LayerNorm((768,), eps=1e-12, elementwise_affine=True)\n",
       "      (dropout): Dropout(p=0.1, inplace=False)\n",
       "    )\n",
       "    (transformer): Transformer(\n",
       "      (layer): ModuleList(\n",
       "        (0-5): 6 x TransformerBlock(\n",
       "          (attention): DistilBertSdpaAttention(\n",
       "            (dropout): Dropout(p=0.1, inplace=False)\n",
       "            (q_lin): Linear(in_features=768, out_features=768, bias=True)\n",
       "            (k_lin): Linear(in_features=768, out_features=768, bias=True)\n",
       "            (v_lin): Linear(in_features=768, out_features=768, bias=True)\n",
       "            (out_lin): Linear(in_features=768, out_features=768, bias=True)\n",
       "          )\n",
       "          (sa_layer_norm): LayerNorm((768,), eps=1e-12, elementwise_affine=True)\n",
       "          (ffn): FFN(\n",
       "            (dropout): Dropout(p=0.1, inplace=False)\n",
       "            (lin1): Linear(in_features=768, out_features=3072, bias=True)\n",
       "            (lin2): Linear(in_features=3072, out_features=768, bias=True)\n",
       "            (activation): GELUActivation()\n",
       "          )\n",
       "          (output_layer_norm): LayerNorm((768,), eps=1e-12, elementwise_affine=True)\n",
       "        )\n",
       "      )\n",
       "    )\n",
       "  )\n",
       "  (pre_classifier): Linear(in_features=768, out_features=768, bias=True)\n",
       "  (classifier): Linear(in_features=768, out_features=2, bias=True)\n",
       "  (dropout): Dropout(p=0.2, inplace=False)\n",
       ")"
      ]
     },
     "execution_count": 120,
     "metadata": {},
     "output_type": "execute_result"
    }
   ],
   "source": [
    "# ENCODING DATASETS\n",
    "train_data = Dataset.from_pandas(training_set)\n",
    "validation_data = Dataset.from_pandas(validation_set)\n",
    "test_data = Dataset.from_pandas(test_set)\n",
    "\n",
    "train_data = Dataset.from_pandas(training_set[[\"tweet\", \"hard_label_task1\"]])\n",
    "validation_data = Dataset.from_pandas(validation_set[[\"tweet\", \"hard_label_task1\"]])\n",
    "test_data = Dataset.from_pandas(test_set[[\"tweet\", \"hard_label_task1\"]])\n",
    "\n",
    "# TOKENIZE TEXT\n",
    "train_data = train_data.map(lambda examples: tokenize_function(examples, bert_tokenizer), batched=True)\n",
    "validation_data = validation_data.map(lambda examples: tokenize_function(examples, bert_tokenizer), batched=True)\n",
    "test_data = test_data.map(lambda examples: tokenize_function(examples, bert_tokenizer), batched=True)\n",
    "\n",
    "# RENAMING\n",
    "train_data = train_data.rename_column('hard_label_task1', 'label')\n",
    "validation_data = validation_data.rename_column('hard_label_task1', 'label')\n",
    "test_data = test_data.rename_column('hard_label_task1', 'label')\n",
    "\n",
    "# FORMATTING DATA\n",
    "train_data.set_format(type=\"torch\", columns=[\"input_ids\", \"attention_mask\", \"label\"])\n",
    "validation_data.set_format(type=\"torch\", columns=[\"input_ids\", \"attention_mask\", \"label\"])\n",
    "test_data.set_format(type=\"torch\", columns=[\"input_ids\", \"attention_mask\", \"label\"])\n",
    "\n",
    "data_collator = DataCollatorWithPadding(tokenizer=bert_tokenizer)\n",
    "\n",
    "# MOVE TO GPU\n",
    "bert_model.to('cuda')"
   ]
  },
  {
   "cell_type": "code",
   "execution_count": null,
   "metadata": {
    "colab": {
     "base_uri": "https://localhost:8080/",
     "height": 267
    },
    "id": "zenr3AYEjWG7",
    "outputId": "736b3b57-0b89-4867-cbc9-723843d9447f"
   },
   "outputs": [
    {
     "name": "stderr",
     "output_type": "stream",
     "text": [
      "/usr/local/lib/python3.10/dist-packages/transformers/training_args.py:1575: FutureWarning: `evaluation_strategy` is deprecated and will be removed in version 4.46 of 🤗 Transformers. Use `eval_strategy` instead\n",
      "  warnings.warn(\n",
      "<ipython-input-121-2d746a58a2a5>:19: FutureWarning: `tokenizer` is deprecated and will be removed in version 5.0.0 for `Trainer.__init__`. Use `processing_class` instead.\n",
      "  trainer = Trainer(\n"
     ]
    },
    {
     "data": {
      "text/html": [
       "\n",
       "    <div>\n",
       "      \n",
       "      <progress value='718' max='718' style='width:300px; height:20px; vertical-align: middle;'></progress>\n",
       "      [718/718 01:10, Epoch 2/2]\n",
       "    </div>\n",
       "    <table border=\"1\" class=\"dataframe\">\n",
       "  <thead>\n",
       " <tr style=\"text-align: left;\">\n",
       "      <th>Epoch</th>\n",
       "      <th>Training Loss</th>\n",
       "      <th>Validation Loss</th>\n",
       "      <th>F1</th>\n",
       "      <th>Acc</th>\n",
       "    </tr>\n",
       "  </thead>\n",
       "  <tbody>\n",
       "    <tr>\n",
       "      <td>1</td>\n",
       "      <td>0.540400</td>\n",
       "      <td>0.364716</td>\n",
       "      <td>0.855552</td>\n",
       "      <td>0.860759</td>\n",
       "    </tr>\n",
       "    <tr>\n",
       "      <td>2</td>\n",
       "      <td>0.446500</td>\n",
       "      <td>0.360554</td>\n",
       "      <td>0.836256</td>\n",
       "      <td>0.841772</td>\n",
       "    </tr>\n",
       "  </tbody>\n",
       "</table><p>"
      ],
      "text/plain": [
       "<IPython.core.display.HTML object>"
      ]
     },
     "metadata": {},
     "output_type": "display_data"
    },
    {
     "data": {
      "text/plain": [
       "TrainOutput(global_step=718, training_loss=0.4295939967492829, metrics={'train_runtime': 70.628, 'train_samples_per_second': 81.271, 'train_steps_per_second': 10.166, 'total_flos': 86062413064320.0, 'train_loss': 0.4295939967492829, 'epoch': 2.0})"
      ]
     },
     "execution_count": 121,
     "metadata": {},
     "output_type": "execute_result"
    }
   ],
   "source": [
    "# TRAINING\n",
    "# Define the training arguments\n",
    "training_args = TrainingArguments(\n",
    "    output_dir=\"test_dir_2\",                # where to save model\n",
    "    learning_rate=2e-5,\n",
    "    per_device_train_batch_size=8,        # accelerate defines distributed training\n",
    "    per_device_eval_batch_size=8,\n",
    "    num_train_epochs=2,\n",
    "    weight_decay=0.05,\n",
    "    evaluation_strategy=\"epoch\",          # when to report evaluation metrics/losses\n",
    "    save_strategy=\"epoch\",                # when to save checkpoint\n",
    "    load_best_model_at_end=True,\n",
    "    report_to='none',                     # disabling wandb (default)\n",
    "    logging_dir='logs',                   # Directory for storing logs\n",
    "    logging_steps=20,                     # Log interval\n",
    ")\n",
    "\n",
    "#Instantiate the Trainer\n",
    "trainer = Trainer(\n",
    "    model=bert_model,\n",
    "    args=training_args,\n",
    "    train_dataset=train_data,\n",
    "    eval_dataset=validation_data,\n",
    "    tokenizer=bert_tokenizer,\n",
    "    data_collator=data_collator,\n",
    "    compute_metrics=compute_metrics,\n",
    ")\n",
    "\n",
    "trainer.train()"
   ]
  },
  {
   "cell_type": "code",
   "execution_count": null,
   "metadata": {
    "colab": {
     "base_uri": "https://localhost:8080/",
     "height": 35
    },
    "id": "-jUyXrd_ljFI",
    "outputId": "43128943-1517-46fe-f158-5dd5b1690e44"
   },
   "outputs": [
    {
     "data": {
      "text/html": [],
      "text/plain": [
       "<IPython.core.display.HTML object>"
      ]
     },
     "metadata": {},
     "output_type": "display_data"
    },
    {
     "name": "stdout",
     "output_type": "stream",
     "text": [
      "{'f1': 0.810064935064935, 'acc': 0.8111888111888111}\n"
     ]
    }
   ],
   "source": [
    "# EVALUATION\n",
    "test_prediction_info = trainer.predict(test_data)\n",
    "test_predictions, test_labels = test_prediction_info.predictions, test_prediction_info.label_ids\n",
    "\n",
    "test_metrics = compute_metrics([test_predictions, test_labels])\n",
    "print(test_metrics)"
   ]
  },
  {
   "cell_type": "markdown",
   "metadata": {
    "id": "2zUxh37WajyH"
   },
   "source": [
    "## Task 7"
   ]
  },
  {
   "cell_type": "code",
   "execution_count": null,
   "metadata": {
    "id": "-hI6yI0eaihz"
   },
   "outputs": [],
   "source": []
  }
 ],
 "metadata": {
  "accelerator": "GPU",
  "colab": {
   "collapsed_sections": [
    "xZIFE48pdW8K",
    "TDXuNr2KiWBL"
   ],
   "gpuType": "T4",
   "provenance": []
  },
  "kernelspec": {
   "display_name": "base",
   "language": "python",
   "name": "python3"
  },
  "language_info": {
   "codemirror_mode": {
    "name": "ipython",
    "version": 3
   },
   "file_extension": ".py",
   "mimetype": "text/x-python",
   "name": "python",
   "nbconvert_exporter": "python",
   "pygments_lexer": "ipython3",
   "version": "3.10.9"
  },
  "widgets": {
   "application/vnd.jupyter.widget-state+json": {
    "033275172b1b4699b28516770605904b": {
     "model_module": "@jupyter-widgets/controls",
     "model_module_version": "1.5.0",
     "model_name": "ProgressStyleModel",
     "state": {
      "_model_module": "@jupyter-widgets/controls",
      "_model_module_version": "1.5.0",
      "_model_name": "ProgressStyleModel",
      "_view_count": null,
      "_view_module": "@jupyter-widgets/base",
      "_view_module_version": "1.2.0",
      "_view_name": "StyleView",
      "bar_color": null,
      "description_width": ""
     }
    },
    "042db5c7eb094451bbe6f485af43272d": {
     "model_module": "@jupyter-widgets/controls",
     "model_module_version": "1.5.0",
     "model_name": "DescriptionStyleModel",
     "state": {
      "_model_module": "@jupyter-widgets/controls",
      "_model_module_version": "1.5.0",
      "_model_name": "DescriptionStyleModel",
      "_view_count": null,
      "_view_module": "@jupyter-widgets/base",
      "_view_module_version": "1.2.0",
      "_view_name": "StyleView",
      "description_width": ""
     }
    },
    "0595120e0f1d4b8f94fd8cda705ccf58": {
     "model_module": "@jupyter-widgets/controls",
     "model_module_version": "1.5.0",
     "model_name": "ProgressStyleModel",
     "state": {
      "_model_module": "@jupyter-widgets/controls",
      "_model_module_version": "1.5.0",
      "_model_name": "ProgressStyleModel",
      "_view_count": null,
      "_view_module": "@jupyter-widgets/base",
      "_view_module_version": "1.2.0",
      "_view_name": "StyleView",
      "bar_color": null,
      "description_width": ""
     }
    },
    "068a1b81921d42eeb5ce4346c2447dca": {
     "model_module": "@jupyter-widgets/base",
     "model_module_version": "1.2.0",
     "model_name": "LayoutModel",
     "state": {
      "_model_module": "@jupyter-widgets/base",
      "_model_module_version": "1.2.0",
      "_model_name": "LayoutModel",
      "_view_count": null,
      "_view_module": "@jupyter-widgets/base",
      "_view_module_version": "1.2.0",
      "_view_name": "LayoutView",
      "align_content": null,
      "align_items": null,
      "align_self": null,
      "border": null,
      "bottom": null,
      "display": null,
      "flex": null,
      "flex_flow": null,
      "grid_area": null,
      "grid_auto_columns": null,
      "grid_auto_flow": null,
      "grid_auto_rows": null,
      "grid_column": null,
      "grid_gap": null,
      "grid_row": null,
      "grid_template_areas": null,
      "grid_template_columns": null,
      "grid_template_rows": null,
      "height": null,
      "justify_content": null,
      "justify_items": null,
      "left": null,
      "margin": null,
      "max_height": null,
      "max_width": null,
      "min_height": null,
      "min_width": null,
      "object_fit": null,
      "object_position": null,
      "order": null,
      "overflow": null,
      "overflow_x": null,
      "overflow_y": null,
      "padding": null,
      "right": null,
      "top": null,
      "visibility": null,
      "width": null
     }
    },
    "06c5f46085bd4bad9dd793f073ea07c5": {
     "model_module": "@jupyter-widgets/controls",
     "model_module_version": "1.5.0",
     "model_name": "HTMLModel",
     "state": {
      "_dom_classes": [],
      "_model_module": "@jupyter-widgets/controls",
      "_model_module_version": "1.5.0",
      "_model_name": "HTMLModel",
      "_view_count": null,
      "_view_module": "@jupyter-widgets/controls",
      "_view_module_version": "1.5.0",
      "_view_name": "HTMLView",
      "description": "",
      "description_tooltip": null,
      "layout": "IPY_MODEL_1849b4e2f9cd43c5afd5b6c4818f2ed8",
      "placeholder": "​",
      "style": "IPY_MODEL_08a6b80e3d7042b1b68f12e3b505da10",
      "value": " 268M/268M [00:04&lt;00:00, 51.5MB/s]"
     }
    },
    "07c333044e3a43d28c74e5900e12fad7": {
     "model_module": "@jupyter-widgets/controls",
     "model_module_version": "1.5.0",
     "model_name": "DescriptionStyleModel",
     "state": {
      "_model_module": "@jupyter-widgets/controls",
      "_model_module_version": "1.5.0",
      "_model_name": "DescriptionStyleModel",
      "_view_count": null,
      "_view_module": "@jupyter-widgets/base",
      "_view_module_version": "1.2.0",
      "_view_name": "StyleView",
      "description_width": ""
     }
    },
    "08252b60bfc548fb9d87144777493d1c": {
     "model_module": "@jupyter-widgets/controls",
     "model_module_version": "1.5.0",
     "model_name": "DescriptionStyleModel",
     "state": {
      "_model_module": "@jupyter-widgets/controls",
      "_model_module_version": "1.5.0",
      "_model_name": "DescriptionStyleModel",
      "_view_count": null,
      "_view_module": "@jupyter-widgets/base",
      "_view_module_version": "1.2.0",
      "_view_name": "StyleView",
      "description_width": ""
     }
    },
    "0844863b7ec44aada3d36336b69dbbc5": {
     "model_module": "@jupyter-widgets/base",
     "model_module_version": "1.2.0",
     "model_name": "LayoutModel",
     "state": {
      "_model_module": "@jupyter-widgets/base",
      "_model_module_version": "1.2.0",
      "_model_name": "LayoutModel",
      "_view_count": null,
      "_view_module": "@jupyter-widgets/base",
      "_view_module_version": "1.2.0",
      "_view_name": "LayoutView",
      "align_content": null,
      "align_items": null,
      "align_self": null,
      "border": null,
      "bottom": null,
      "display": null,
      "flex": null,
      "flex_flow": null,
      "grid_area": null,
      "grid_auto_columns": null,
      "grid_auto_flow": null,
      "grid_auto_rows": null,
      "grid_column": null,
      "grid_gap": null,
      "grid_row": null,
      "grid_template_areas": null,
      "grid_template_columns": null,
      "grid_template_rows": null,
      "height": null,
      "justify_content": null,
      "justify_items": null,
      "left": null,
      "margin": null,
      "max_height": null,
      "max_width": null,
      "min_height": null,
      "min_width": null,
      "object_fit": null,
      "object_position": null,
      "order": null,
      "overflow": null,
      "overflow_x": null,
      "overflow_y": null,
      "padding": null,
      "right": null,
      "top": null,
      "visibility": null,
      "width": null
     }
    },
    "08a6b80e3d7042b1b68f12e3b505da10": {
     "model_module": "@jupyter-widgets/controls",
     "model_module_version": "1.5.0",
     "model_name": "DescriptionStyleModel",
     "state": {
      "_model_module": "@jupyter-widgets/controls",
      "_model_module_version": "1.5.0",
      "_model_name": "DescriptionStyleModel",
      "_view_count": null,
      "_view_module": "@jupyter-widgets/base",
      "_view_module_version": "1.2.0",
      "_view_name": "StyleView",
      "description_width": ""
     }
    },
    "0b6bec88324045dcafc506d790a52323": {
     "model_module": "@jupyter-widgets/controls",
     "model_module_version": "1.5.0",
     "model_name": "HTMLModel",
     "state": {
      "_dom_classes": [],
      "_model_module": "@jupyter-widgets/controls",
      "_model_module_version": "1.5.0",
      "_model_name": "HTMLModel",
      "_view_count": null,
      "_view_module": "@jupyter-widgets/controls",
      "_view_module_version": "1.5.0",
      "_view_name": "HTMLView",
      "description": "",
      "description_tooltip": null,
      "layout": "IPY_MODEL_3785d3ba0fdb4efeb219429dd0f654ea",
      "placeholder": "​",
      "style": "IPY_MODEL_eba1cda0e9f6489a8c9d4a89ca6c30d3",
      "value": " 466k/466k [00:00&lt;00:00, 11.5MB/s]"
     }
    },
    "0f5899fa55864a2998786002ce7c86d7": {
     "model_module": "@jupyter-widgets/controls",
     "model_module_version": "1.5.0",
     "model_name": "DescriptionStyleModel",
     "state": {
      "_model_module": "@jupyter-widgets/controls",
      "_model_module_version": "1.5.0",
      "_model_name": "DescriptionStyleModel",
      "_view_count": null,
      "_view_module": "@jupyter-widgets/base",
      "_view_module_version": "1.2.0",
      "_view_name": "StyleView",
      "description_width": ""
     }
    },
    "0fde5490bf9040dea2a81a5d1d8b2144": {
     "model_module": "@jupyter-widgets/controls",
     "model_module_version": "1.5.0",
     "model_name": "DescriptionStyleModel",
     "state": {
      "_model_module": "@jupyter-widgets/controls",
      "_model_module_version": "1.5.0",
      "_model_name": "DescriptionStyleModel",
      "_view_count": null,
      "_view_module": "@jupyter-widgets/base",
      "_view_module_version": "1.2.0",
      "_view_name": "StyleView",
      "description_width": ""
     }
    },
    "116d2a52bce7448c8da9593e2b8b5e3c": {
     "model_module": "@jupyter-widgets/controls",
     "model_module_version": "1.5.0",
     "model_name": "DescriptionStyleModel",
     "state": {
      "_model_module": "@jupyter-widgets/controls",
      "_model_module_version": "1.5.0",
      "_model_name": "DescriptionStyleModel",
      "_view_count": null,
      "_view_module": "@jupyter-widgets/base",
      "_view_module_version": "1.2.0",
      "_view_name": "StyleView",
      "description_width": ""
     }
    },
    "120880ac52404083a70c22a97fb2d84f": {
     "model_module": "@jupyter-widgets/controls",
     "model_module_version": "1.5.0",
     "model_name": "HBoxModel",
     "state": {
      "_dom_classes": [],
      "_model_module": "@jupyter-widgets/controls",
      "_model_module_version": "1.5.0",
      "_model_name": "HBoxModel",
      "_view_count": null,
      "_view_module": "@jupyter-widgets/controls",
      "_view_module_version": "1.5.0",
      "_view_name": "HBoxView",
      "box_style": "",
      "children": [
       "IPY_MODEL_9593f4c3406a4061958d1e156240ae42",
       "IPY_MODEL_f1b08f01f3c345679e616759711e9a14",
       "IPY_MODEL_693b9ecc4e424355adbc3605ef5c158a"
      ],
      "layout": "IPY_MODEL_cf77f2dbbb19428eb92f22eb233c3e35"
     }
    },
    "13f48c5154084a1a8b70adb0c0c42c5d": {
     "model_module": "@jupyter-widgets/base",
     "model_module_version": "1.2.0",
     "model_name": "LayoutModel",
     "state": {
      "_model_module": "@jupyter-widgets/base",
      "_model_module_version": "1.2.0",
      "_model_name": "LayoutModel",
      "_view_count": null,
      "_view_module": "@jupyter-widgets/base",
      "_view_module_version": "1.2.0",
      "_view_name": "LayoutView",
      "align_content": null,
      "align_items": null,
      "align_self": null,
      "border": null,
      "bottom": null,
      "display": null,
      "flex": null,
      "flex_flow": null,
      "grid_area": null,
      "grid_auto_columns": null,
      "grid_auto_flow": null,
      "grid_auto_rows": null,
      "grid_column": null,
      "grid_gap": null,
      "grid_row": null,
      "grid_template_areas": null,
      "grid_template_columns": null,
      "grid_template_rows": null,
      "height": null,
      "justify_content": null,
      "justify_items": null,
      "left": null,
      "margin": null,
      "max_height": null,
      "max_width": null,
      "min_height": null,
      "min_width": null,
      "object_fit": null,
      "object_position": null,
      "order": null,
      "overflow": null,
      "overflow_x": null,
      "overflow_y": null,
      "padding": null,
      "right": null,
      "top": null,
      "visibility": null,
      "width": null
     }
    },
    "14bac16896184c08a64fde0ffdbdfee7": {
     "model_module": "@jupyter-widgets/controls",
     "model_module_version": "1.5.0",
     "model_name": "HBoxModel",
     "state": {
      "_dom_classes": [],
      "_model_module": "@jupyter-widgets/controls",
      "_model_module_version": "1.5.0",
      "_model_name": "HBoxModel",
      "_view_count": null,
      "_view_module": "@jupyter-widgets/controls",
      "_view_module_version": "1.5.0",
      "_view_name": "HBoxView",
      "box_style": "",
      "children": [
       "IPY_MODEL_c8db92f70bfa4d6782c411679ba20804",
       "IPY_MODEL_9b9b18ab379f48d7a654c9c38f34d1f6",
       "IPY_MODEL_84226cd7c9ad4a8ca84b9108fe791753"
      ],
      "layout": "IPY_MODEL_8e2c9ca5bf934464adf2028dbe5209c5"
     }
    },
    "14fc8f534ba84cf3bec9b740b2a50c9c": {
     "model_module": "@jupyter-widgets/controls",
     "model_module_version": "1.5.0",
     "model_name": "FloatProgressModel",
     "state": {
      "_dom_classes": [],
      "_model_module": "@jupyter-widgets/controls",
      "_model_module_version": "1.5.0",
      "_model_name": "FloatProgressModel",
      "_view_count": null,
      "_view_module": "@jupyter-widgets/controls",
      "_view_module_version": "1.5.0",
      "_view_name": "ProgressView",
      "bar_style": "success",
      "description": "",
      "description_tooltip": null,
      "layout": "IPY_MODEL_4cb51f40e7d64191bbd80dc9480edd51",
      "max": 158,
      "min": 0,
      "orientation": "horizontal",
      "style": "IPY_MODEL_c25866ce784c4e32aa018a0a4d864a3b",
      "value": 158
     }
    },
    "150c3bbc89964568b9039dc2eaeac557": {
     "model_module": "@jupyter-widgets/base",
     "model_module_version": "1.2.0",
     "model_name": "LayoutModel",
     "state": {
      "_model_module": "@jupyter-widgets/base",
      "_model_module_version": "1.2.0",
      "_model_name": "LayoutModel",
      "_view_count": null,
      "_view_module": "@jupyter-widgets/base",
      "_view_module_version": "1.2.0",
      "_view_name": "LayoutView",
      "align_content": null,
      "align_items": null,
      "align_self": null,
      "border": null,
      "bottom": null,
      "display": null,
      "flex": null,
      "flex_flow": null,
      "grid_area": null,
      "grid_auto_columns": null,
      "grid_auto_flow": null,
      "grid_auto_rows": null,
      "grid_column": null,
      "grid_gap": null,
      "grid_row": null,
      "grid_template_areas": null,
      "grid_template_columns": null,
      "grid_template_rows": null,
      "height": null,
      "justify_content": null,
      "justify_items": null,
      "left": null,
      "margin": null,
      "max_height": null,
      "max_width": null,
      "min_height": null,
      "min_width": null,
      "object_fit": null,
      "object_position": null,
      "order": null,
      "overflow": null,
      "overflow_x": null,
      "overflow_y": null,
      "padding": null,
      "right": null,
      "top": null,
      "visibility": null,
      "width": null
     }
    },
    "179065eca2db40599bd56db1e2eb20b4": {
     "model_module": "@jupyter-widgets/controls",
     "model_module_version": "1.5.0",
     "model_name": "DescriptionStyleModel",
     "state": {
      "_model_module": "@jupyter-widgets/controls",
      "_model_module_version": "1.5.0",
      "_model_name": "DescriptionStyleModel",
      "_view_count": null,
      "_view_module": "@jupyter-widgets/base",
      "_view_module_version": "1.2.0",
      "_view_name": "StyleView",
      "description_width": ""
     }
    },
    "17ca7498f11f4038af433d3ecd195b2e": {
     "model_module": "@jupyter-widgets/controls",
     "model_module_version": "1.5.0",
     "model_name": "HBoxModel",
     "state": {
      "_dom_classes": [],
      "_model_module": "@jupyter-widgets/controls",
      "_model_module_version": "1.5.0",
      "_model_name": "HBoxModel",
      "_view_count": null,
      "_view_module": "@jupyter-widgets/controls",
      "_view_module_version": "1.5.0",
      "_view_name": "HBoxView",
      "box_style": "",
      "children": [
       "IPY_MODEL_5f4cea9ded5c4730a9a7579774ee34a4",
       "IPY_MODEL_14fc8f534ba84cf3bec9b740b2a50c9c",
       "IPY_MODEL_3da817a28fd74aa095b56f0cd4f5b0cc"
      ],
      "layout": "IPY_MODEL_068a1b81921d42eeb5ce4346c2447dca"
     }
    },
    "1849b4e2f9cd43c5afd5b6c4818f2ed8": {
     "model_module": "@jupyter-widgets/base",
     "model_module_version": "1.2.0",
     "model_name": "LayoutModel",
     "state": {
      "_model_module": "@jupyter-widgets/base",
      "_model_module_version": "1.2.0",
      "_model_name": "LayoutModel",
      "_view_count": null,
      "_view_module": "@jupyter-widgets/base",
      "_view_module_version": "1.2.0",
      "_view_name": "LayoutView",
      "align_content": null,
      "align_items": null,
      "align_self": null,
      "border": null,
      "bottom": null,
      "display": null,
      "flex": null,
      "flex_flow": null,
      "grid_area": null,
      "grid_auto_columns": null,
      "grid_auto_flow": null,
      "grid_auto_rows": null,
      "grid_column": null,
      "grid_gap": null,
      "grid_row": null,
      "grid_template_areas": null,
      "grid_template_columns": null,
      "grid_template_rows": null,
      "height": null,
      "justify_content": null,
      "justify_items": null,
      "left": null,
      "margin": null,
      "max_height": null,
      "max_width": null,
      "min_height": null,
      "min_width": null,
      "object_fit": null,
      "object_position": null,
      "order": null,
      "overflow": null,
      "overflow_x": null,
      "overflow_y": null,
      "padding": null,
      "right": null,
      "top": null,
      "visibility": null,
      "width": null
     }
    },
    "192577b2c7d34ae5a6b6eccfd38d1d1c": {
     "model_module": "@jupyter-widgets/base",
     "model_module_version": "1.2.0",
     "model_name": "LayoutModel",
     "state": {
      "_model_module": "@jupyter-widgets/base",
      "_model_module_version": "1.2.0",
      "_model_name": "LayoutModel",
      "_view_count": null,
      "_view_module": "@jupyter-widgets/base",
      "_view_module_version": "1.2.0",
      "_view_name": "LayoutView",
      "align_content": null,
      "align_items": null,
      "align_self": null,
      "border": null,
      "bottom": null,
      "display": null,
      "flex": null,
      "flex_flow": null,
      "grid_area": null,
      "grid_auto_columns": null,
      "grid_auto_flow": null,
      "grid_auto_rows": null,
      "grid_column": null,
      "grid_gap": null,
      "grid_row": null,
      "grid_template_areas": null,
      "grid_template_columns": null,
      "grid_template_rows": null,
      "height": null,
      "justify_content": null,
      "justify_items": null,
      "left": null,
      "margin": null,
      "max_height": null,
      "max_width": null,
      "min_height": null,
      "min_width": null,
      "object_fit": null,
      "object_position": null,
      "order": null,
      "overflow": null,
      "overflow_x": null,
      "overflow_y": null,
      "padding": null,
      "right": null,
      "top": null,
      "visibility": null,
      "width": null
     }
    },
    "1e7767d219b34e2e933f33c9f96f8d3d": {
     "model_module": "@jupyter-widgets/base",
     "model_module_version": "1.2.0",
     "model_name": "LayoutModel",
     "state": {
      "_model_module": "@jupyter-widgets/base",
      "_model_module_version": "1.2.0",
      "_model_name": "LayoutModel",
      "_view_count": null,
      "_view_module": "@jupyter-widgets/base",
      "_view_module_version": "1.2.0",
      "_view_name": "LayoutView",
      "align_content": null,
      "align_items": null,
      "align_self": null,
      "border": null,
      "bottom": null,
      "display": null,
      "flex": null,
      "flex_flow": null,
      "grid_area": null,
      "grid_auto_columns": null,
      "grid_auto_flow": null,
      "grid_auto_rows": null,
      "grid_column": null,
      "grid_gap": null,
      "grid_row": null,
      "grid_template_areas": null,
      "grid_template_columns": null,
      "grid_template_rows": null,
      "height": null,
      "justify_content": null,
      "justify_items": null,
      "left": null,
      "margin": null,
      "max_height": null,
      "max_width": null,
      "min_height": null,
      "min_width": null,
      "object_fit": null,
      "object_position": null,
      "order": null,
      "overflow": null,
      "overflow_x": null,
      "overflow_y": null,
      "padding": null,
      "right": null,
      "top": null,
      "visibility": null,
      "width": null
     }
    },
    "2141220efee44238adae0a051e176fb1": {
     "model_module": "@jupyter-widgets/controls",
     "model_module_version": "1.5.0",
     "model_name": "ProgressStyleModel",
     "state": {
      "_model_module": "@jupyter-widgets/controls",
      "_model_module_version": "1.5.0",
      "_model_name": "ProgressStyleModel",
      "_view_count": null,
      "_view_module": "@jupyter-widgets/base",
      "_view_module_version": "1.2.0",
      "_view_name": "StyleView",
      "bar_color": null,
      "description_width": ""
     }
    },
    "261b4b22c94d4949b7a086deaee5a661": {
     "model_module": "@jupyter-widgets/controls",
     "model_module_version": "1.5.0",
     "model_name": "DescriptionStyleModel",
     "state": {
      "_model_module": "@jupyter-widgets/controls",
      "_model_module_version": "1.5.0",
      "_model_name": "DescriptionStyleModel",
      "_view_count": null,
      "_view_module": "@jupyter-widgets/base",
      "_view_module_version": "1.2.0",
      "_view_name": "StyleView",
      "description_width": ""
     }
    },
    "2646400950a74b15a32d5bddc46ad051": {
     "model_module": "@jupyter-widgets/controls",
     "model_module_version": "1.5.0",
     "model_name": "HTMLModel",
     "state": {
      "_dom_classes": [],
      "_model_module": "@jupyter-widgets/controls",
      "_model_module_version": "1.5.0",
      "_model_name": "HTMLModel",
      "_view_count": null,
      "_view_module": "@jupyter-widgets/controls",
      "_view_module_version": "1.5.0",
      "_view_name": "HTMLView",
      "description": "",
      "description_tooltip": null,
      "layout": "IPY_MODEL_5b9e49c6946b4c4398ef09f413c10636",
      "placeholder": "​",
      "style": "IPY_MODEL_8e8526df81564f0ea5271963d48fb186",
      "value": "tokenizer.json: 100%"
     }
    },
    "26dae33f234346989f304c3a849a0115": {
     "model_module": "@jupyter-widgets/controls",
     "model_module_version": "1.5.0",
     "model_name": "FloatProgressModel",
     "state": {
      "_dom_classes": [],
      "_model_module": "@jupyter-widgets/controls",
      "_model_module_version": "1.5.0",
      "_model_name": "FloatProgressModel",
      "_view_count": null,
      "_view_module": "@jupyter-widgets/controls",
      "_view_module_version": "1.5.0",
      "_view_name": "ProgressView",
      "bar_style": "success",
      "description": "",
      "description_tooltip": null,
      "layout": "IPY_MODEL_acc1adbb2f494bffb3ae55c4381697b7",
      "max": 2870,
      "min": 0,
      "orientation": "horizontal",
      "style": "IPY_MODEL_033275172b1b4699b28516770605904b",
      "value": 2870
     }
    },
    "2c68fb505bd647789656ffe1cb121348": {
     "model_module": "@jupyter-widgets/base",
     "model_module_version": "1.2.0",
     "model_name": "LayoutModel",
     "state": {
      "_model_module": "@jupyter-widgets/base",
      "_model_module_version": "1.2.0",
      "_model_name": "LayoutModel",
      "_view_count": null,
      "_view_module": "@jupyter-widgets/base",
      "_view_module_version": "1.2.0",
      "_view_name": "LayoutView",
      "align_content": null,
      "align_items": null,
      "align_self": null,
      "border": null,
      "bottom": null,
      "display": null,
      "flex": null,
      "flex_flow": null,
      "grid_area": null,
      "grid_auto_columns": null,
      "grid_auto_flow": null,
      "grid_auto_rows": null,
      "grid_column": null,
      "grid_gap": null,
      "grid_row": null,
      "grid_template_areas": null,
      "grid_template_columns": null,
      "grid_template_rows": null,
      "height": null,
      "justify_content": null,
      "justify_items": null,
      "left": null,
      "margin": null,
      "max_height": null,
      "max_width": null,
      "min_height": null,
      "min_width": null,
      "object_fit": null,
      "object_position": null,
      "order": null,
      "overflow": null,
      "overflow_x": null,
      "overflow_y": null,
      "padding": null,
      "right": null,
      "top": null,
      "visibility": null,
      "width": null
     }
    },
    "2caac4394d8041bea865c78ee4543457": {
     "model_module": "@jupyter-widgets/controls",
     "model_module_version": "1.5.0",
     "model_name": "FloatProgressModel",
     "state": {
      "_dom_classes": [],
      "_model_module": "@jupyter-widgets/controls",
      "_model_module_version": "1.5.0",
      "_model_name": "FloatProgressModel",
      "_view_count": null,
      "_view_module": "@jupyter-widgets/controls",
      "_view_module_version": "1.5.0",
      "_view_name": "ProgressView",
      "bar_style": "success",
      "description": "",
      "description_tooltip": null,
      "layout": "IPY_MODEL_b6233e15c76c41ddaef4151b34d87d03",
      "max": 286,
      "min": 0,
      "orientation": "horizontal",
      "style": "IPY_MODEL_5e3192f85af84c1bb5e9ff294e4b9086",
      "value": 286
     }
    },
    "2d925b263eec4732b30ba4802a5ea084": {
     "model_module": "@jupyter-widgets/controls",
     "model_module_version": "1.5.0",
     "model_name": "HBoxModel",
     "state": {
      "_dom_classes": [],
      "_model_module": "@jupyter-widgets/controls",
      "_model_module_version": "1.5.0",
      "_model_name": "HBoxModel",
      "_view_count": null,
      "_view_module": "@jupyter-widgets/controls",
      "_view_module_version": "1.5.0",
      "_view_name": "HBoxView",
      "box_style": "",
      "children": [
       "IPY_MODEL_2646400950a74b15a32d5bddc46ad051",
       "IPY_MODEL_4aaecba6179e4e8fa60d14355d43c2df",
       "IPY_MODEL_0b6bec88324045dcafc506d790a52323"
      ],
      "layout": "IPY_MODEL_d1a73568b33f45ac87204eabf2f7c269"
     }
    },
    "2ec9f51b24da4530aff070ec41eb78e1": {
     "model_module": "@jupyter-widgets/controls",
     "model_module_version": "1.5.0",
     "model_name": "HTMLModel",
     "state": {
      "_dom_classes": [],
      "_model_module": "@jupyter-widgets/controls",
      "_model_module_version": "1.5.0",
      "_model_name": "HTMLModel",
      "_view_count": null,
      "_view_module": "@jupyter-widgets/controls",
      "_view_module_version": "1.5.0",
      "_view_name": "HTMLView",
      "description": "",
      "description_tooltip": null,
      "layout": "IPY_MODEL_5f57833a09524ad8befe2d632ec43514",
      "placeholder": "​",
      "style": "IPY_MODEL_a3fa161518744a80ba6e67ea257fb6d3",
      "value": "Map: 100%"
     }
    },
    "2f3eeb4170104910ba22b3bbb1d1e524": {
     "model_module": "@jupyter-widgets/controls",
     "model_module_version": "1.5.0",
     "model_name": "HBoxModel",
     "state": {
      "_dom_classes": [],
      "_model_module": "@jupyter-widgets/controls",
      "_model_module_version": "1.5.0",
      "_model_name": "HBoxModel",
      "_view_count": null,
      "_view_module": "@jupyter-widgets/controls",
      "_view_module_version": "1.5.0",
      "_view_name": "HBoxView",
      "box_style": "",
      "children": [
       "IPY_MODEL_2ec9f51b24da4530aff070ec41eb78e1",
       "IPY_MODEL_26dae33f234346989f304c3a849a0115",
       "IPY_MODEL_4c86c99b737c4bfb83ab642ca8055991"
      ],
      "layout": "IPY_MODEL_75f2aafc50604ffd8d2dcda1279b1562"
     }
    },
    "36e40b732ad34dadb9892b7b9c10f95f": {
     "model_module": "@jupyter-widgets/controls",
     "model_module_version": "1.5.0",
     "model_name": "ProgressStyleModel",
     "state": {
      "_model_module": "@jupyter-widgets/controls",
      "_model_module_version": "1.5.0",
      "_model_name": "ProgressStyleModel",
      "_view_count": null,
      "_view_module": "@jupyter-widgets/base",
      "_view_module_version": "1.2.0",
      "_view_name": "StyleView",
      "bar_color": null,
      "description_width": ""
     }
    },
    "376c3394f2304a8ba90f3cd75777d25a": {
     "model_module": "@jupyter-widgets/controls",
     "model_module_version": "1.5.0",
     "model_name": "HTMLModel",
     "state": {
      "_dom_classes": [],
      "_model_module": "@jupyter-widgets/controls",
      "_model_module_version": "1.5.0",
      "_model_name": "HTMLModel",
      "_view_count": null,
      "_view_module": "@jupyter-widgets/controls",
      "_view_module_version": "1.5.0",
      "_view_name": "HTMLView",
      "description": "",
      "description_tooltip": null,
      "layout": "IPY_MODEL_f0c80ba3577a4743b20ac2c240f0a060",
      "placeholder": "​",
      "style": "IPY_MODEL_c17f5ee484344389a9fdab390ae9c692",
      "value": "Map: 100%"
     }
    },
    "3785d3ba0fdb4efeb219429dd0f654ea": {
     "model_module": "@jupyter-widgets/base",
     "model_module_version": "1.2.0",
     "model_name": "LayoutModel",
     "state": {
      "_model_module": "@jupyter-widgets/base",
      "_model_module_version": "1.2.0",
      "_model_name": "LayoutModel",
      "_view_count": null,
      "_view_module": "@jupyter-widgets/base",
      "_view_module_version": "1.2.0",
      "_view_name": "LayoutView",
      "align_content": null,
      "align_items": null,
      "align_self": null,
      "border": null,
      "bottom": null,
      "display": null,
      "flex": null,
      "flex_flow": null,
      "grid_area": null,
      "grid_auto_columns": null,
      "grid_auto_flow": null,
      "grid_auto_rows": null,
      "grid_column": null,
      "grid_gap": null,
      "grid_row": null,
      "grid_template_areas": null,
      "grid_template_columns": null,
      "grid_template_rows": null,
      "height": null,
      "justify_content": null,
      "justify_items": null,
      "left": null,
      "margin": null,
      "max_height": null,
      "max_width": null,
      "min_height": null,
      "min_width": null,
      "object_fit": null,
      "object_position": null,
      "order": null,
      "overflow": null,
      "overflow_x": null,
      "overflow_y": null,
      "padding": null,
      "right": null,
      "top": null,
      "visibility": null,
      "width": null
     }
    },
    "37eedd7659124f49ad5f56435a907c49": {
     "model_module": "@jupyter-widgets/controls",
     "model_module_version": "1.5.0",
     "model_name": "ProgressStyleModel",
     "state": {
      "_model_module": "@jupyter-widgets/controls",
      "_model_module_version": "1.5.0",
      "_model_name": "ProgressStyleModel",
      "_view_count": null,
      "_view_module": "@jupyter-widgets/base",
      "_view_module_version": "1.2.0",
      "_view_name": "StyleView",
      "bar_color": null,
      "description_width": ""
     }
    },
    "3da817a28fd74aa095b56f0cd4f5b0cc": {
     "model_module": "@jupyter-widgets/controls",
     "model_module_version": "1.5.0",
     "model_name": "HTMLModel",
     "state": {
      "_dom_classes": [],
      "_model_module": "@jupyter-widgets/controls",
      "_model_module_version": "1.5.0",
      "_model_name": "HTMLModel",
      "_view_count": null,
      "_view_module": "@jupyter-widgets/controls",
      "_view_module_version": "1.5.0",
      "_view_name": "HTMLView",
      "description": "",
      "description_tooltip": null,
      "layout": "IPY_MODEL_13f48c5154084a1a8b70adb0c0c42c5d",
      "placeholder": "​",
      "style": "IPY_MODEL_116d2a52bce7448c8da9593e2b8b5e3c",
      "value": " 158/158 [00:00&lt;00:00, 1793.96 examples/s]"
     }
    },
    "41893efa9051466db2d3d7ff37bdefcb": {
     "model_module": "@jupyter-widgets/base",
     "model_module_version": "1.2.0",
     "model_name": "LayoutModel",
     "state": {
      "_model_module": "@jupyter-widgets/base",
      "_model_module_version": "1.2.0",
      "_model_name": "LayoutModel",
      "_view_count": null,
      "_view_module": "@jupyter-widgets/base",
      "_view_module_version": "1.2.0",
      "_view_name": "LayoutView",
      "align_content": null,
      "align_items": null,
      "align_self": null,
      "border": null,
      "bottom": null,
      "display": null,
      "flex": null,
      "flex_flow": null,
      "grid_area": null,
      "grid_auto_columns": null,
      "grid_auto_flow": null,
      "grid_auto_rows": null,
      "grid_column": null,
      "grid_gap": null,
      "grid_row": null,
      "grid_template_areas": null,
      "grid_template_columns": null,
      "grid_template_rows": null,
      "height": null,
      "justify_content": null,
      "justify_items": null,
      "left": null,
      "margin": null,
      "max_height": null,
      "max_width": null,
      "min_height": null,
      "min_width": null,
      "object_fit": null,
      "object_position": null,
      "order": null,
      "overflow": null,
      "overflow_x": null,
      "overflow_y": null,
      "padding": null,
      "right": null,
      "top": null,
      "visibility": null,
      "width": null
     }
    },
    "41dfcb8e2d1b4f679f0e0d7ef2f94f8b": {
     "model_module": "@jupyter-widgets/controls",
     "model_module_version": "1.5.0",
     "model_name": "DescriptionStyleModel",
     "state": {
      "_model_module": "@jupyter-widgets/controls",
      "_model_module_version": "1.5.0",
      "_model_name": "DescriptionStyleModel",
      "_view_count": null,
      "_view_module": "@jupyter-widgets/base",
      "_view_module_version": "1.2.0",
      "_view_name": "StyleView",
      "description_width": ""
     }
    },
    "4457d8158f55490f96cffcac49b83bfc": {
     "model_module": "@jupyter-widgets/base",
     "model_module_version": "1.2.0",
     "model_name": "LayoutModel",
     "state": {
      "_model_module": "@jupyter-widgets/base",
      "_model_module_version": "1.2.0",
      "_model_name": "LayoutModel",
      "_view_count": null,
      "_view_module": "@jupyter-widgets/base",
      "_view_module_version": "1.2.0",
      "_view_name": "LayoutView",
      "align_content": null,
      "align_items": null,
      "align_self": null,
      "border": null,
      "bottom": null,
      "display": null,
      "flex": null,
      "flex_flow": null,
      "grid_area": null,
      "grid_auto_columns": null,
      "grid_auto_flow": null,
      "grid_auto_rows": null,
      "grid_column": null,
      "grid_gap": null,
      "grid_row": null,
      "grid_template_areas": null,
      "grid_template_columns": null,
      "grid_template_rows": null,
      "height": null,
      "justify_content": null,
      "justify_items": null,
      "left": null,
      "margin": null,
      "max_height": null,
      "max_width": null,
      "min_height": null,
      "min_width": null,
      "object_fit": null,
      "object_position": null,
      "order": null,
      "overflow": null,
      "overflow_x": null,
      "overflow_y": null,
      "padding": null,
      "right": null,
      "top": null,
      "visibility": null,
      "width": null
     }
    },
    "449874e0a5954e94bd920c7dada5f018": {
     "model_module": "@jupyter-widgets/base",
     "model_module_version": "1.2.0",
     "model_name": "LayoutModel",
     "state": {
      "_model_module": "@jupyter-widgets/base",
      "_model_module_version": "1.2.0",
      "_model_name": "LayoutModel",
      "_view_count": null,
      "_view_module": "@jupyter-widgets/base",
      "_view_module_version": "1.2.0",
      "_view_name": "LayoutView",
      "align_content": null,
      "align_items": null,
      "align_self": null,
      "border": null,
      "bottom": null,
      "display": null,
      "flex": null,
      "flex_flow": null,
      "grid_area": null,
      "grid_auto_columns": null,
      "grid_auto_flow": null,
      "grid_auto_rows": null,
      "grid_column": null,
      "grid_gap": null,
      "grid_row": null,
      "grid_template_areas": null,
      "grid_template_columns": null,
      "grid_template_rows": null,
      "height": null,
      "justify_content": null,
      "justify_items": null,
      "left": null,
      "margin": null,
      "max_height": null,
      "max_width": null,
      "min_height": null,
      "min_width": null,
      "object_fit": null,
      "object_position": null,
      "order": null,
      "overflow": null,
      "overflow_x": null,
      "overflow_y": null,
      "padding": null,
      "right": null,
      "top": null,
      "visibility": null,
      "width": null
     }
    },
    "46049494a22446b4bd664c85c2408581": {
     "model_module": "@jupyter-widgets/controls",
     "model_module_version": "1.5.0",
     "model_name": "DescriptionStyleModel",
     "state": {
      "_model_module": "@jupyter-widgets/controls",
      "_model_module_version": "1.5.0",
      "_model_name": "DescriptionStyleModel",
      "_view_count": null,
      "_view_module": "@jupyter-widgets/base",
      "_view_module_version": "1.2.0",
      "_view_name": "StyleView",
      "description_width": ""
     }
    },
    "4888d8c7b6364f8e93fa9e4a4b8ebffe": {
     "model_module": "@jupyter-widgets/controls",
     "model_module_version": "1.5.0",
     "model_name": "HTMLModel",
     "state": {
      "_dom_classes": [],
      "_model_module": "@jupyter-widgets/controls",
      "_model_module_version": "1.5.0",
      "_model_name": "HTMLModel",
      "_view_count": null,
      "_view_module": "@jupyter-widgets/controls",
      "_view_module_version": "1.5.0",
      "_view_name": "HTMLView",
      "description": "",
      "description_tooltip": null,
      "layout": "IPY_MODEL_a0bc9e9d96f8430caf32a04d2250df52",
      "placeholder": "​",
      "style": "IPY_MODEL_41dfcb8e2d1b4f679f0e0d7ef2f94f8b",
      "value": "model.safetensors: 100%"
     }
    },
    "49c300a819b441f3904769b7c7bf207a": {
     "model_module": "@jupyter-widgets/controls",
     "model_module_version": "1.5.0",
     "model_name": "HTMLModel",
     "state": {
      "_dom_classes": [],
      "_model_module": "@jupyter-widgets/controls",
      "_model_module_version": "1.5.0",
      "_model_name": "HTMLModel",
      "_view_count": null,
      "_view_module": "@jupyter-widgets/controls",
      "_view_module_version": "1.5.0",
      "_view_name": "HTMLView",
      "description": "",
      "description_tooltip": null,
      "layout": "IPY_MODEL_1e7767d219b34e2e933f33c9f96f8d3d",
      "placeholder": "​",
      "style": "IPY_MODEL_07c333044e3a43d28c74e5900e12fad7",
      "value": " 286/286 [00:00&lt;00:00, 3263.04 examples/s]"
     }
    },
    "4aaecba6179e4e8fa60d14355d43c2df": {
     "model_module": "@jupyter-widgets/controls",
     "model_module_version": "1.5.0",
     "model_name": "FloatProgressModel",
     "state": {
      "_dom_classes": [],
      "_model_module": "@jupyter-widgets/controls",
      "_model_module_version": "1.5.0",
      "_model_name": "FloatProgressModel",
      "_view_count": null,
      "_view_module": "@jupyter-widgets/controls",
      "_view_module_version": "1.5.0",
      "_view_name": "ProgressView",
      "bar_style": "success",
      "description": "",
      "description_tooltip": null,
      "layout": "IPY_MODEL_67cadba5dd82476c94ce01faf2457959",
      "max": 466062,
      "min": 0,
      "orientation": "horizontal",
      "style": "IPY_MODEL_95dab5c5d3ea4d77a86afe506de62201",
      "value": 466062
     }
    },
    "4c86c99b737c4bfb83ab642ca8055991": {
     "model_module": "@jupyter-widgets/controls",
     "model_module_version": "1.5.0",
     "model_name": "HTMLModel",
     "state": {
      "_dom_classes": [],
      "_model_module": "@jupyter-widgets/controls",
      "_model_module_version": "1.5.0",
      "_model_name": "HTMLModel",
      "_view_count": null,
      "_view_module": "@jupyter-widgets/controls",
      "_view_module_version": "1.5.0",
      "_view_name": "HTMLView",
      "description": "",
      "description_tooltip": null,
      "layout": "IPY_MODEL_c9e6e737faf8469bae93c1dc821e05e0",
      "placeholder": "​",
      "style": "IPY_MODEL_08252b60bfc548fb9d87144777493d1c",
      "value": " 2870/2870 [00:00&lt;00:00, 5300.51 examples/s]"
     }
    },
    "4cb51f40e7d64191bbd80dc9480edd51": {
     "model_module": "@jupyter-widgets/base",
     "model_module_version": "1.2.0",
     "model_name": "LayoutModel",
     "state": {
      "_model_module": "@jupyter-widgets/base",
      "_model_module_version": "1.2.0",
      "_model_name": "LayoutModel",
      "_view_count": null,
      "_view_module": "@jupyter-widgets/base",
      "_view_module_version": "1.2.0",
      "_view_name": "LayoutView",
      "align_content": null,
      "align_items": null,
      "align_self": null,
      "border": null,
      "bottom": null,
      "display": null,
      "flex": null,
      "flex_flow": null,
      "grid_area": null,
      "grid_auto_columns": null,
      "grid_auto_flow": null,
      "grid_auto_rows": null,
      "grid_column": null,
      "grid_gap": null,
      "grid_row": null,
      "grid_template_areas": null,
      "grid_template_columns": null,
      "grid_template_rows": null,
      "height": null,
      "justify_content": null,
      "justify_items": null,
      "left": null,
      "margin": null,
      "max_height": null,
      "max_width": null,
      "min_height": null,
      "min_width": null,
      "object_fit": null,
      "object_position": null,
      "order": null,
      "overflow": null,
      "overflow_x": null,
      "overflow_y": null,
      "padding": null,
      "right": null,
      "top": null,
      "visibility": null,
      "width": null
     }
    },
    "526d0a77a1ee428ebfbe8adb0461f6b4": {
     "model_module": "@jupyter-widgets/base",
     "model_module_version": "1.2.0",
     "model_name": "LayoutModel",
     "state": {
      "_model_module": "@jupyter-widgets/base",
      "_model_module_version": "1.2.0",
      "_model_name": "LayoutModel",
      "_view_count": null,
      "_view_module": "@jupyter-widgets/base",
      "_view_module_version": "1.2.0",
      "_view_name": "LayoutView",
      "align_content": null,
      "align_items": null,
      "align_self": null,
      "border": null,
      "bottom": null,
      "display": null,
      "flex": null,
      "flex_flow": null,
      "grid_area": null,
      "grid_auto_columns": null,
      "grid_auto_flow": null,
      "grid_auto_rows": null,
      "grid_column": null,
      "grid_gap": null,
      "grid_row": null,
      "grid_template_areas": null,
      "grid_template_columns": null,
      "grid_template_rows": null,
      "height": null,
      "justify_content": null,
      "justify_items": null,
      "left": null,
      "margin": null,
      "max_height": null,
      "max_width": null,
      "min_height": null,
      "min_width": null,
      "object_fit": null,
      "object_position": null,
      "order": null,
      "overflow": null,
      "overflow_x": null,
      "overflow_y": null,
      "padding": null,
      "right": null,
      "top": null,
      "visibility": null,
      "width": null
     }
    },
    "55d01429551148f086ab5c95eb0c1910": {
     "model_module": "@jupyter-widgets/base",
     "model_module_version": "1.2.0",
     "model_name": "LayoutModel",
     "state": {
      "_model_module": "@jupyter-widgets/base",
      "_model_module_version": "1.2.0",
      "_model_name": "LayoutModel",
      "_view_count": null,
      "_view_module": "@jupyter-widgets/base",
      "_view_module_version": "1.2.0",
      "_view_name": "LayoutView",
      "align_content": null,
      "align_items": null,
      "align_self": null,
      "border": null,
      "bottom": null,
      "display": null,
      "flex": null,
      "flex_flow": null,
      "grid_area": null,
      "grid_auto_columns": null,
      "grid_auto_flow": null,
      "grid_auto_rows": null,
      "grid_column": null,
      "grid_gap": null,
      "grid_row": null,
      "grid_template_areas": null,
      "grid_template_columns": null,
      "grid_template_rows": null,
      "height": null,
      "justify_content": null,
      "justify_items": null,
      "left": null,
      "margin": null,
      "max_height": null,
      "max_width": null,
      "min_height": null,
      "min_width": null,
      "object_fit": null,
      "object_position": null,
      "order": null,
      "overflow": null,
      "overflow_x": null,
      "overflow_y": null,
      "padding": null,
      "right": null,
      "top": null,
      "visibility": null,
      "width": null
     }
    },
    "56990f09686e42f8bed2f15a5b348d67": {
     "model_module": "@jupyter-widgets/base",
     "model_module_version": "1.2.0",
     "model_name": "LayoutModel",
     "state": {
      "_model_module": "@jupyter-widgets/base",
      "_model_module_version": "1.2.0",
      "_model_name": "LayoutModel",
      "_view_count": null,
      "_view_module": "@jupyter-widgets/base",
      "_view_module_version": "1.2.0",
      "_view_name": "LayoutView",
      "align_content": null,
      "align_items": null,
      "align_self": null,
      "border": null,
      "bottom": null,
      "display": null,
      "flex": null,
      "flex_flow": null,
      "grid_area": null,
      "grid_auto_columns": null,
      "grid_auto_flow": null,
      "grid_auto_rows": null,
      "grid_column": null,
      "grid_gap": null,
      "grid_row": null,
      "grid_template_areas": null,
      "grid_template_columns": null,
      "grid_template_rows": null,
      "height": null,
      "justify_content": null,
      "justify_items": null,
      "left": null,
      "margin": null,
      "max_height": null,
      "max_width": null,
      "min_height": null,
      "min_width": null,
      "object_fit": null,
      "object_position": null,
      "order": null,
      "overflow": null,
      "overflow_x": null,
      "overflow_y": null,
      "padding": null,
      "right": null,
      "top": null,
      "visibility": null,
      "width": null
     }
    },
    "587dbabe98db475f8b206c732326f23e": {
     "model_module": "@jupyter-widgets/controls",
     "model_module_version": "1.5.0",
     "model_name": "HBoxModel",
     "state": {
      "_dom_classes": [],
      "_model_module": "@jupyter-widgets/controls",
      "_model_module_version": "1.5.0",
      "_model_name": "HBoxModel",
      "_view_count": null,
      "_view_module": "@jupyter-widgets/controls",
      "_view_module_version": "1.5.0",
      "_view_name": "HBoxView",
      "box_style": "",
      "children": [
       "IPY_MODEL_4888d8c7b6364f8e93fa9e4a4b8ebffe",
       "IPY_MODEL_abb75ec4e00d4d0986644526b2bafffd",
       "IPY_MODEL_06c5f46085bd4bad9dd793f073ea07c5"
      ],
      "layout": "IPY_MODEL_a7876454d13349d1aecb5989660437eb"
     }
    },
    "5b9e49c6946b4c4398ef09f413c10636": {
     "model_module": "@jupyter-widgets/base",
     "model_module_version": "1.2.0",
     "model_name": "LayoutModel",
     "state": {
      "_model_module": "@jupyter-widgets/base",
      "_model_module_version": "1.2.0",
      "_model_name": "LayoutModel",
      "_view_count": null,
      "_view_module": "@jupyter-widgets/base",
      "_view_module_version": "1.2.0",
      "_view_name": "LayoutView",
      "align_content": null,
      "align_items": null,
      "align_self": null,
      "border": null,
      "bottom": null,
      "display": null,
      "flex": null,
      "flex_flow": null,
      "grid_area": null,
      "grid_auto_columns": null,
      "grid_auto_flow": null,
      "grid_auto_rows": null,
      "grid_column": null,
      "grid_gap": null,
      "grid_row": null,
      "grid_template_areas": null,
      "grid_template_columns": null,
      "grid_template_rows": null,
      "height": null,
      "justify_content": null,
      "justify_items": null,
      "left": null,
      "margin": null,
      "max_height": null,
      "max_width": null,
      "min_height": null,
      "min_width": null,
      "object_fit": null,
      "object_position": null,
      "order": null,
      "overflow": null,
      "overflow_x": null,
      "overflow_y": null,
      "padding": null,
      "right": null,
      "top": null,
      "visibility": null,
      "width": null
     }
    },
    "5c44844640d04a90b5e8c6e9fc3e2763": {
     "model_module": "@jupyter-widgets/controls",
     "model_module_version": "1.5.0",
     "model_name": "HBoxModel",
     "state": {
      "_dom_classes": [],
      "_model_module": "@jupyter-widgets/controls",
      "_model_module_version": "1.5.0",
      "_model_name": "HBoxModel",
      "_view_count": null,
      "_view_module": "@jupyter-widgets/controls",
      "_view_module_version": "1.5.0",
      "_view_name": "HBoxView",
      "box_style": "",
      "children": [
       "IPY_MODEL_639f8aae639d48979fd07ef05c85dfc2",
       "IPY_MODEL_e7e5c103febc46c69cd3904b98a07f2b",
       "IPY_MODEL_895f8163f1b741cb97309fcf42f4b772"
      ],
      "layout": "IPY_MODEL_6d69d6015e114a259848f653e1b81982"
     }
    },
    "5e3192f85af84c1bb5e9ff294e4b9086": {
     "model_module": "@jupyter-widgets/controls",
     "model_module_version": "1.5.0",
     "model_name": "ProgressStyleModel",
     "state": {
      "_model_module": "@jupyter-widgets/controls",
      "_model_module_version": "1.5.0",
      "_model_name": "ProgressStyleModel",
      "_view_count": null,
      "_view_module": "@jupyter-widgets/base",
      "_view_module_version": "1.2.0",
      "_view_name": "StyleView",
      "bar_color": null,
      "description_width": ""
     }
    },
    "5f4cea9ded5c4730a9a7579774ee34a4": {
     "model_module": "@jupyter-widgets/controls",
     "model_module_version": "1.5.0",
     "model_name": "HTMLModel",
     "state": {
      "_dom_classes": [],
      "_model_module": "@jupyter-widgets/controls",
      "_model_module_version": "1.5.0",
      "_model_name": "HTMLModel",
      "_view_count": null,
      "_view_module": "@jupyter-widgets/controls",
      "_view_module_version": "1.5.0",
      "_view_name": "HTMLView",
      "description": "",
      "description_tooltip": null,
      "layout": "IPY_MODEL_ea3116ff8ef343cba177f6071f6fa939",
      "placeholder": "​",
      "style": "IPY_MODEL_75560675c07a42e5a3be6c399eb9a762",
      "value": "Map: 100%"
     }
    },
    "5f57833a09524ad8befe2d632ec43514": {
     "model_module": "@jupyter-widgets/base",
     "model_module_version": "1.2.0",
     "model_name": "LayoutModel",
     "state": {
      "_model_module": "@jupyter-widgets/base",
      "_model_module_version": "1.2.0",
      "_model_name": "LayoutModel",
      "_view_count": null,
      "_view_module": "@jupyter-widgets/base",
      "_view_module_version": "1.2.0",
      "_view_name": "LayoutView",
      "align_content": null,
      "align_items": null,
      "align_self": null,
      "border": null,
      "bottom": null,
      "display": null,
      "flex": null,
      "flex_flow": null,
      "grid_area": null,
      "grid_auto_columns": null,
      "grid_auto_flow": null,
      "grid_auto_rows": null,
      "grid_column": null,
      "grid_gap": null,
      "grid_row": null,
      "grid_template_areas": null,
      "grid_template_columns": null,
      "grid_template_rows": null,
      "height": null,
      "justify_content": null,
      "justify_items": null,
      "left": null,
      "margin": null,
      "max_height": null,
      "max_width": null,
      "min_height": null,
      "min_width": null,
      "object_fit": null,
      "object_position": null,
      "order": null,
      "overflow": null,
      "overflow_x": null,
      "overflow_y": null,
      "padding": null,
      "right": null,
      "top": null,
      "visibility": null,
      "width": null
     }
    },
    "639f8aae639d48979fd07ef05c85dfc2": {
     "model_module": "@jupyter-widgets/controls",
     "model_module_version": "1.5.0",
     "model_name": "HTMLModel",
     "state": {
      "_dom_classes": [],
      "_model_module": "@jupyter-widgets/controls",
      "_model_module_version": "1.5.0",
      "_model_name": "HTMLModel",
      "_view_count": null,
      "_view_module": "@jupyter-widgets/controls",
      "_view_module_version": "1.5.0",
      "_view_name": "HTMLView",
      "description": "",
      "description_tooltip": null,
      "layout": "IPY_MODEL_2c68fb505bd647789656ffe1cb121348",
      "placeholder": "​",
      "style": "IPY_MODEL_179065eca2db40599bd56db1e2eb20b4",
      "value": "vocab.txt: 100%"
     }
    },
    "6483eef5a5f64871a96ec2b984e98f1f": {
     "model_module": "@jupyter-widgets/controls",
     "model_module_version": "1.5.0",
     "model_name": "HTMLModel",
     "state": {
      "_dom_classes": [],
      "_model_module": "@jupyter-widgets/controls",
      "_model_module_version": "1.5.0",
      "_model_name": "HTMLModel",
      "_view_count": null,
      "_view_module": "@jupyter-widgets/controls",
      "_view_module_version": "1.5.0",
      "_view_name": "HTMLView",
      "description": "",
      "description_tooltip": null,
      "layout": "IPY_MODEL_56990f09686e42f8bed2f15a5b348d67",
      "placeholder": "​",
      "style": "IPY_MODEL_75a2cae6ea254857beecf53f0f9774af",
      "value": " 483/483 [00:00&lt;00:00, 21.5kB/s]"
     }
    },
    "655ce5df679244ca98d884fee46bb27b": {
     "model_module": "@jupyter-widgets/base",
     "model_module_version": "1.2.0",
     "model_name": "LayoutModel",
     "state": {
      "_model_module": "@jupyter-widgets/base",
      "_model_module_version": "1.2.0",
      "_model_name": "LayoutModel",
      "_view_count": null,
      "_view_module": "@jupyter-widgets/base",
      "_view_module_version": "1.2.0",
      "_view_name": "LayoutView",
      "align_content": null,
      "align_items": null,
      "align_self": null,
      "border": null,
      "bottom": null,
      "display": null,
      "flex": null,
      "flex_flow": null,
      "grid_area": null,
      "grid_auto_columns": null,
      "grid_auto_flow": null,
      "grid_auto_rows": null,
      "grid_column": null,
      "grid_gap": null,
      "grid_row": null,
      "grid_template_areas": null,
      "grid_template_columns": null,
      "grid_template_rows": null,
      "height": null,
      "justify_content": null,
      "justify_items": null,
      "left": null,
      "margin": null,
      "max_height": null,
      "max_width": null,
      "min_height": null,
      "min_width": null,
      "object_fit": null,
      "object_position": null,
      "order": null,
      "overflow": null,
      "overflow_x": null,
      "overflow_y": null,
      "padding": null,
      "right": null,
      "top": null,
      "visibility": null,
      "width": null
     }
    },
    "6652e4ea7e9e48fd99b58f319b239e32": {
     "model_module": "@jupyter-widgets/controls",
     "model_module_version": "1.5.0",
     "model_name": "DescriptionStyleModel",
     "state": {
      "_model_module": "@jupyter-widgets/controls",
      "_model_module_version": "1.5.0",
      "_model_name": "DescriptionStyleModel",
      "_view_count": null,
      "_view_module": "@jupyter-widgets/base",
      "_view_module_version": "1.2.0",
      "_view_name": "StyleView",
      "description_width": ""
     }
    },
    "67cadba5dd82476c94ce01faf2457959": {
     "model_module": "@jupyter-widgets/base",
     "model_module_version": "1.2.0",
     "model_name": "LayoutModel",
     "state": {
      "_model_module": "@jupyter-widgets/base",
      "_model_module_version": "1.2.0",
      "_model_name": "LayoutModel",
      "_view_count": null,
      "_view_module": "@jupyter-widgets/base",
      "_view_module_version": "1.2.0",
      "_view_name": "LayoutView",
      "align_content": null,
      "align_items": null,
      "align_self": null,
      "border": null,
      "bottom": null,
      "display": null,
      "flex": null,
      "flex_flow": null,
      "grid_area": null,
      "grid_auto_columns": null,
      "grid_auto_flow": null,
      "grid_auto_rows": null,
      "grid_column": null,
      "grid_gap": null,
      "grid_row": null,
      "grid_template_areas": null,
      "grid_template_columns": null,
      "grid_template_rows": null,
      "height": null,
      "justify_content": null,
      "justify_items": null,
      "left": null,
      "margin": null,
      "max_height": null,
      "max_width": null,
      "min_height": null,
      "min_width": null,
      "object_fit": null,
      "object_position": null,
      "order": null,
      "overflow": null,
      "overflow_x": null,
      "overflow_y": null,
      "padding": null,
      "right": null,
      "top": null,
      "visibility": null,
      "width": null
     }
    },
    "693b9ecc4e424355adbc3605ef5c158a": {
     "model_module": "@jupyter-widgets/controls",
     "model_module_version": "1.5.0",
     "model_name": "HTMLModel",
     "state": {
      "_dom_classes": [],
      "_model_module": "@jupyter-widgets/controls",
      "_model_module_version": "1.5.0",
      "_model_name": "HTMLModel",
      "_view_count": null,
      "_view_module": "@jupyter-widgets/controls",
      "_view_module_version": "1.5.0",
      "_view_name": "HTMLView",
      "description": "",
      "description_tooltip": null,
      "layout": "IPY_MODEL_bc8cfba1dcf54ad1864ae68670250078",
      "placeholder": "​",
      "style": "IPY_MODEL_46049494a22446b4bd664c85c2408581",
      "value": " 158/158 [00:00&lt;00:00, 1920.12 examples/s]"
     }
    },
    "693ddb1d6cfc4e80b2bd50eec17d7f3e": {
     "model_module": "@jupyter-widgets/controls",
     "model_module_version": "1.5.0",
     "model_name": "DescriptionStyleModel",
     "state": {
      "_model_module": "@jupyter-widgets/controls",
      "_model_module_version": "1.5.0",
      "_model_name": "DescriptionStyleModel",
      "_view_count": null,
      "_view_module": "@jupyter-widgets/base",
      "_view_module_version": "1.2.0",
      "_view_name": "StyleView",
      "description_width": ""
     }
    },
    "6d69d6015e114a259848f653e1b81982": {
     "model_module": "@jupyter-widgets/base",
     "model_module_version": "1.2.0",
     "model_name": "LayoutModel",
     "state": {
      "_model_module": "@jupyter-widgets/base",
      "_model_module_version": "1.2.0",
      "_model_name": "LayoutModel",
      "_view_count": null,
      "_view_module": "@jupyter-widgets/base",
      "_view_module_version": "1.2.0",
      "_view_name": "LayoutView",
      "align_content": null,
      "align_items": null,
      "align_self": null,
      "border": null,
      "bottom": null,
      "display": null,
      "flex": null,
      "flex_flow": null,
      "grid_area": null,
      "grid_auto_columns": null,
      "grid_auto_flow": null,
      "grid_auto_rows": null,
      "grid_column": null,
      "grid_gap": null,
      "grid_row": null,
      "grid_template_areas": null,
      "grid_template_columns": null,
      "grid_template_rows": null,
      "height": null,
      "justify_content": null,
      "justify_items": null,
      "left": null,
      "margin": null,
      "max_height": null,
      "max_width": null,
      "min_height": null,
      "min_width": null,
      "object_fit": null,
      "object_position": null,
      "order": null,
      "overflow": null,
      "overflow_x": null,
      "overflow_y": null,
      "padding": null,
      "right": null,
      "top": null,
      "visibility": null,
      "width": null
     }
    },
    "6f3dd3161b9b411188c0ac0f668db833": {
     "model_module": "@jupyter-widgets/controls",
     "model_module_version": "1.5.0",
     "model_name": "HTMLModel",
     "state": {
      "_dom_classes": [],
      "_model_module": "@jupyter-widgets/controls",
      "_model_module_version": "1.5.0",
      "_model_name": "HTMLModel",
      "_view_count": null,
      "_view_module": "@jupyter-widgets/controls",
      "_view_module_version": "1.5.0",
      "_view_name": "HTMLView",
      "description": "",
      "description_tooltip": null,
      "layout": "IPY_MODEL_55d01429551148f086ab5c95eb0c1910",
      "placeholder": "​",
      "style": "IPY_MODEL_261b4b22c94d4949b7a086deaee5a661",
      "value": "config.json: 100%"
     }
    },
    "73423a427fe44c6aa9f3cf25b8a931a1": {
     "model_module": "@jupyter-widgets/controls",
     "model_module_version": "1.5.0",
     "model_name": "HBoxModel",
     "state": {
      "_dom_classes": [],
      "_model_module": "@jupyter-widgets/controls",
      "_model_module_version": "1.5.0",
      "_model_name": "HBoxModel",
      "_view_count": null,
      "_view_module": "@jupyter-widgets/controls",
      "_view_module_version": "1.5.0",
      "_view_name": "HBoxView",
      "box_style": "",
      "children": [
       "IPY_MODEL_74424f7a874641fe8e864fcc9fd6b05a",
       "IPY_MODEL_e6f3bddb1a9c47eeb993e2a7dbb036c4",
       "IPY_MODEL_49c300a819b441f3904769b7c7bf207a"
      ],
      "layout": "IPY_MODEL_bb7e9c8f6fdb439fb547feefa6d4b9de"
     }
    },
    "74424f7a874641fe8e864fcc9fd6b05a": {
     "model_module": "@jupyter-widgets/controls",
     "model_module_version": "1.5.0",
     "model_name": "HTMLModel",
     "state": {
      "_dom_classes": [],
      "_model_module": "@jupyter-widgets/controls",
      "_model_module_version": "1.5.0",
      "_model_name": "HTMLModel",
      "_view_count": null,
      "_view_module": "@jupyter-widgets/controls",
      "_view_module_version": "1.5.0",
      "_view_name": "HTMLView",
      "description": "",
      "description_tooltip": null,
      "layout": "IPY_MODEL_ad3fa69273704612935598766e8e9a67",
      "placeholder": "​",
      "style": "IPY_MODEL_042db5c7eb094451bbe6f485af43272d",
      "value": "Map: 100%"
     }
    },
    "74c73f1a6de04fbcb2687bc959473aa5": {
     "model_module": "@jupyter-widgets/base",
     "model_module_version": "1.2.0",
     "model_name": "LayoutModel",
     "state": {
      "_model_module": "@jupyter-widgets/base",
      "_model_module_version": "1.2.0",
      "_model_name": "LayoutModel",
      "_view_count": null,
      "_view_module": "@jupyter-widgets/base",
      "_view_module_version": "1.2.0",
      "_view_name": "LayoutView",
      "align_content": null,
      "align_items": null,
      "align_self": null,
      "border": null,
      "bottom": null,
      "display": null,
      "flex": null,
      "flex_flow": null,
      "grid_area": null,
      "grid_auto_columns": null,
      "grid_auto_flow": null,
      "grid_auto_rows": null,
      "grid_column": null,
      "grid_gap": null,
      "grid_row": null,
      "grid_template_areas": null,
      "grid_template_columns": null,
      "grid_template_rows": null,
      "height": null,
      "justify_content": null,
      "justify_items": null,
      "left": null,
      "margin": null,
      "max_height": null,
      "max_width": null,
      "min_height": null,
      "min_width": null,
      "object_fit": null,
      "object_position": null,
      "order": null,
      "overflow": null,
      "overflow_x": null,
      "overflow_y": null,
      "padding": null,
      "right": null,
      "top": null,
      "visibility": null,
      "width": null
     }
    },
    "75560675c07a42e5a3be6c399eb9a762": {
     "model_module": "@jupyter-widgets/controls",
     "model_module_version": "1.5.0",
     "model_name": "DescriptionStyleModel",
     "state": {
      "_model_module": "@jupyter-widgets/controls",
      "_model_module_version": "1.5.0",
      "_model_name": "DescriptionStyleModel",
      "_view_count": null,
      "_view_module": "@jupyter-widgets/base",
      "_view_module_version": "1.2.0",
      "_view_name": "StyleView",
      "description_width": ""
     }
    },
    "75a2cae6ea254857beecf53f0f9774af": {
     "model_module": "@jupyter-widgets/controls",
     "model_module_version": "1.5.0",
     "model_name": "DescriptionStyleModel",
     "state": {
      "_model_module": "@jupyter-widgets/controls",
      "_model_module_version": "1.5.0",
      "_model_name": "DescriptionStyleModel",
      "_view_count": null,
      "_view_module": "@jupyter-widgets/base",
      "_view_module_version": "1.2.0",
      "_view_name": "StyleView",
      "description_width": ""
     }
    },
    "75f2aafc50604ffd8d2dcda1279b1562": {
     "model_module": "@jupyter-widgets/base",
     "model_module_version": "1.2.0",
     "model_name": "LayoutModel",
     "state": {
      "_model_module": "@jupyter-widgets/base",
      "_model_module_version": "1.2.0",
      "_model_name": "LayoutModel",
      "_view_count": null,
      "_view_module": "@jupyter-widgets/base",
      "_view_module_version": "1.2.0",
      "_view_name": "LayoutView",
      "align_content": null,
      "align_items": null,
      "align_self": null,
      "border": null,
      "bottom": null,
      "display": null,
      "flex": null,
      "flex_flow": null,
      "grid_area": null,
      "grid_auto_columns": null,
      "grid_auto_flow": null,
      "grid_auto_rows": null,
      "grid_column": null,
      "grid_gap": null,
      "grid_row": null,
      "grid_template_areas": null,
      "grid_template_columns": null,
      "grid_template_rows": null,
      "height": null,
      "justify_content": null,
      "justify_items": null,
      "left": null,
      "margin": null,
      "max_height": null,
      "max_width": null,
      "min_height": null,
      "min_width": null,
      "object_fit": null,
      "object_position": null,
      "order": null,
      "overflow": null,
      "overflow_x": null,
      "overflow_y": null,
      "padding": null,
      "right": null,
      "top": null,
      "visibility": null,
      "width": null
     }
    },
    "8293fcf85cec4555bac748d7c9444444": {
     "model_module": "@jupyter-widgets/controls",
     "model_module_version": "1.5.0",
     "model_name": "FloatProgressModel",
     "state": {
      "_dom_classes": [],
      "_model_module": "@jupyter-widgets/controls",
      "_model_module_version": "1.5.0",
      "_model_name": "FloatProgressModel",
      "_view_count": null,
      "_view_module": "@jupyter-widgets/controls",
      "_view_module_version": "1.5.0",
      "_view_name": "ProgressView",
      "bar_style": "success",
      "description": "",
      "description_tooltip": null,
      "layout": "IPY_MODEL_655ce5df679244ca98d884fee46bb27b",
      "max": 2870,
      "min": 0,
      "orientation": "horizontal",
      "style": "IPY_MODEL_37eedd7659124f49ad5f56435a907c49",
      "value": 2870
     }
    },
    "84226cd7c9ad4a8ca84b9108fe791753": {
     "model_module": "@jupyter-widgets/controls",
     "model_module_version": "1.5.0",
     "model_name": "HTMLModel",
     "state": {
      "_dom_classes": [],
      "_model_module": "@jupyter-widgets/controls",
      "_model_module_version": "1.5.0",
      "_model_name": "HTMLModel",
      "_view_count": null,
      "_view_module": "@jupyter-widgets/controls",
      "_view_module_version": "1.5.0",
      "_view_name": "HTMLView",
      "description": "",
      "description_tooltip": null,
      "layout": "IPY_MODEL_192577b2c7d34ae5a6b6eccfd38d1d1c",
      "placeholder": "​",
      "style": "IPY_MODEL_6652e4ea7e9e48fd99b58f319b239e32",
      "value": " 48.0/48.0 [00:00&lt;00:00, 1.06kB/s]"
     }
    },
    "84beab2db06d41b0b99c3572e60df8d0": {
     "model_module": "@jupyter-widgets/base",
     "model_module_version": "1.2.0",
     "model_name": "LayoutModel",
     "state": {
      "_model_module": "@jupyter-widgets/base",
      "_model_module_version": "1.2.0",
      "_model_name": "LayoutModel",
      "_view_count": null,
      "_view_module": "@jupyter-widgets/base",
      "_view_module_version": "1.2.0",
      "_view_name": "LayoutView",
      "align_content": null,
      "align_items": null,
      "align_self": null,
      "border": null,
      "bottom": null,
      "display": null,
      "flex": null,
      "flex_flow": null,
      "grid_area": null,
      "grid_auto_columns": null,
      "grid_auto_flow": null,
      "grid_auto_rows": null,
      "grid_column": null,
      "grid_gap": null,
      "grid_row": null,
      "grid_template_areas": null,
      "grid_template_columns": null,
      "grid_template_rows": null,
      "height": null,
      "justify_content": null,
      "justify_items": null,
      "left": null,
      "margin": null,
      "max_height": null,
      "max_width": null,
      "min_height": null,
      "min_width": null,
      "object_fit": null,
      "object_position": null,
      "order": null,
      "overflow": null,
      "overflow_x": null,
      "overflow_y": null,
      "padding": null,
      "right": null,
      "top": null,
      "visibility": null,
      "width": null
     }
    },
    "895f8163f1b741cb97309fcf42f4b772": {
     "model_module": "@jupyter-widgets/controls",
     "model_module_version": "1.5.0",
     "model_name": "HTMLModel",
     "state": {
      "_dom_classes": [],
      "_model_module": "@jupyter-widgets/controls",
      "_model_module_version": "1.5.0",
      "_model_name": "HTMLModel",
      "_view_count": null,
      "_view_module": "@jupyter-widgets/controls",
      "_view_module_version": "1.5.0",
      "_view_name": "HTMLView",
      "description": "",
      "description_tooltip": null,
      "layout": "IPY_MODEL_93497bd8d66a4114a6e96b479cde9662",
      "placeholder": "​",
      "style": "IPY_MODEL_0fde5490bf9040dea2a81a5d1d8b2144",
      "value": " 232k/232k [00:00&lt;00:00, 4.47MB/s]"
     }
    },
    "8ba2c2fd468c4ab0ba06e0c2702b2786": {
     "model_module": "@jupyter-widgets/controls",
     "model_module_version": "1.5.0",
     "model_name": "DescriptionStyleModel",
     "state": {
      "_model_module": "@jupyter-widgets/controls",
      "_model_module_version": "1.5.0",
      "_model_name": "DescriptionStyleModel",
      "_view_count": null,
      "_view_module": "@jupyter-widgets/base",
      "_view_module_version": "1.2.0",
      "_view_name": "StyleView",
      "description_width": ""
     }
    },
    "8e2c9ca5bf934464adf2028dbe5209c5": {
     "model_module": "@jupyter-widgets/base",
     "model_module_version": "1.2.0",
     "model_name": "LayoutModel",
     "state": {
      "_model_module": "@jupyter-widgets/base",
      "_model_module_version": "1.2.0",
      "_model_name": "LayoutModel",
      "_view_count": null,
      "_view_module": "@jupyter-widgets/base",
      "_view_module_version": "1.2.0",
      "_view_name": "LayoutView",
      "align_content": null,
      "align_items": null,
      "align_self": null,
      "border": null,
      "bottom": null,
      "display": null,
      "flex": null,
      "flex_flow": null,
      "grid_area": null,
      "grid_auto_columns": null,
      "grid_auto_flow": null,
      "grid_auto_rows": null,
      "grid_column": null,
      "grid_gap": null,
      "grid_row": null,
      "grid_template_areas": null,
      "grid_template_columns": null,
      "grid_template_rows": null,
      "height": null,
      "justify_content": null,
      "justify_items": null,
      "left": null,
      "margin": null,
      "max_height": null,
      "max_width": null,
      "min_height": null,
      "min_width": null,
      "object_fit": null,
      "object_position": null,
      "order": null,
      "overflow": null,
      "overflow_x": null,
      "overflow_y": null,
      "padding": null,
      "right": null,
      "top": null,
      "visibility": null,
      "width": null
     }
    },
    "8e8526df81564f0ea5271963d48fb186": {
     "model_module": "@jupyter-widgets/controls",
     "model_module_version": "1.5.0",
     "model_name": "DescriptionStyleModel",
     "state": {
      "_model_module": "@jupyter-widgets/controls",
      "_model_module_version": "1.5.0",
      "_model_name": "DescriptionStyleModel",
      "_view_count": null,
      "_view_module": "@jupyter-widgets/base",
      "_view_module_version": "1.2.0",
      "_view_name": "StyleView",
      "description_width": ""
     }
    },
    "93497bd8d66a4114a6e96b479cde9662": {
     "model_module": "@jupyter-widgets/base",
     "model_module_version": "1.2.0",
     "model_name": "LayoutModel",
     "state": {
      "_model_module": "@jupyter-widgets/base",
      "_model_module_version": "1.2.0",
      "_model_name": "LayoutModel",
      "_view_count": null,
      "_view_module": "@jupyter-widgets/base",
      "_view_module_version": "1.2.0",
      "_view_name": "LayoutView",
      "align_content": null,
      "align_items": null,
      "align_self": null,
      "border": null,
      "bottom": null,
      "display": null,
      "flex": null,
      "flex_flow": null,
      "grid_area": null,
      "grid_auto_columns": null,
      "grid_auto_flow": null,
      "grid_auto_rows": null,
      "grid_column": null,
      "grid_gap": null,
      "grid_row": null,
      "grid_template_areas": null,
      "grid_template_columns": null,
      "grid_template_rows": null,
      "height": null,
      "justify_content": null,
      "justify_items": null,
      "left": null,
      "margin": null,
      "max_height": null,
      "max_width": null,
      "min_height": null,
      "min_width": null,
      "object_fit": null,
      "object_position": null,
      "order": null,
      "overflow": null,
      "overflow_x": null,
      "overflow_y": null,
      "padding": null,
      "right": null,
      "top": null,
      "visibility": null,
      "width": null
     }
    },
    "9593f4c3406a4061958d1e156240ae42": {
     "model_module": "@jupyter-widgets/controls",
     "model_module_version": "1.5.0",
     "model_name": "HTMLModel",
     "state": {
      "_dom_classes": [],
      "_model_module": "@jupyter-widgets/controls",
      "_model_module_version": "1.5.0",
      "_model_name": "HTMLModel",
      "_view_count": null,
      "_view_module": "@jupyter-widgets/controls",
      "_view_module_version": "1.5.0",
      "_view_name": "HTMLView",
      "description": "",
      "description_tooltip": null,
      "layout": "IPY_MODEL_4457d8158f55490f96cffcac49b83bfc",
      "placeholder": "​",
      "style": "IPY_MODEL_e960ea0f12514aaf9afa3101af9093b3",
      "value": "Map: 100%"
     }
    },
    "95dab5c5d3ea4d77a86afe506de62201": {
     "model_module": "@jupyter-widgets/controls",
     "model_module_version": "1.5.0",
     "model_name": "ProgressStyleModel",
     "state": {
      "_model_module": "@jupyter-widgets/controls",
      "_model_module_version": "1.5.0",
      "_model_name": "ProgressStyleModel",
      "_view_count": null,
      "_view_module": "@jupyter-widgets/base",
      "_view_module_version": "1.2.0",
      "_view_name": "StyleView",
      "bar_color": null,
      "description_width": ""
     }
    },
    "99b5baf040774a0a827f7643e195b272": {
     "model_module": "@jupyter-widgets/base",
     "model_module_version": "1.2.0",
     "model_name": "LayoutModel",
     "state": {
      "_model_module": "@jupyter-widgets/base",
      "_model_module_version": "1.2.0",
      "_model_name": "LayoutModel",
      "_view_count": null,
      "_view_module": "@jupyter-widgets/base",
      "_view_module_version": "1.2.0",
      "_view_name": "LayoutView",
      "align_content": null,
      "align_items": null,
      "align_self": null,
      "border": null,
      "bottom": null,
      "display": null,
      "flex": null,
      "flex_flow": null,
      "grid_area": null,
      "grid_auto_columns": null,
      "grid_auto_flow": null,
      "grid_auto_rows": null,
      "grid_column": null,
      "grid_gap": null,
      "grid_row": null,
      "grid_template_areas": null,
      "grid_template_columns": null,
      "grid_template_rows": null,
      "height": null,
      "justify_content": null,
      "justify_items": null,
      "left": null,
      "margin": null,
      "max_height": null,
      "max_width": null,
      "min_height": null,
      "min_width": null,
      "object_fit": null,
      "object_position": null,
      "order": null,
      "overflow": null,
      "overflow_x": null,
      "overflow_y": null,
      "padding": null,
      "right": null,
      "top": null,
      "visibility": null,
      "width": null
     }
    },
    "9b0b60523a1f4e53a538bc58c2751ec7": {
     "model_module": "@jupyter-widgets/controls",
     "model_module_version": "1.5.0",
     "model_name": "FloatProgressModel",
     "state": {
      "_dom_classes": [],
      "_model_module": "@jupyter-widgets/controls",
      "_model_module_version": "1.5.0",
      "_model_name": "FloatProgressModel",
      "_view_count": null,
      "_view_module": "@jupyter-widgets/controls",
      "_view_module_version": "1.5.0",
      "_view_name": "ProgressView",
      "bar_style": "success",
      "description": "",
      "description_tooltip": null,
      "layout": "IPY_MODEL_99b5baf040774a0a827f7643e195b272",
      "max": 483,
      "min": 0,
      "orientation": "horizontal",
      "style": "IPY_MODEL_2141220efee44238adae0a051e176fb1",
      "value": 483
     }
    },
    "9b9b18ab379f48d7a654c9c38f34d1f6": {
     "model_module": "@jupyter-widgets/controls",
     "model_module_version": "1.5.0",
     "model_name": "FloatProgressModel",
     "state": {
      "_dom_classes": [],
      "_model_module": "@jupyter-widgets/controls",
      "_model_module_version": "1.5.0",
      "_model_name": "FloatProgressModel",
      "_view_count": null,
      "_view_module": "@jupyter-widgets/controls",
      "_view_module_version": "1.5.0",
      "_view_name": "ProgressView",
      "bar_style": "success",
      "description": "",
      "description_tooltip": null,
      "layout": "IPY_MODEL_da881f4e0efd463783dc9d6b2bd665d0",
      "max": 48,
      "min": 0,
      "orientation": "horizontal",
      "style": "IPY_MODEL_36e40b732ad34dadb9892b7b9c10f95f",
      "value": 48
     }
    },
    "a0bc9e9d96f8430caf32a04d2250df52": {
     "model_module": "@jupyter-widgets/base",
     "model_module_version": "1.2.0",
     "model_name": "LayoutModel",
     "state": {
      "_model_module": "@jupyter-widgets/base",
      "_model_module_version": "1.2.0",
      "_model_name": "LayoutModel",
      "_view_count": null,
      "_view_module": "@jupyter-widgets/base",
      "_view_module_version": "1.2.0",
      "_view_name": "LayoutView",
      "align_content": null,
      "align_items": null,
      "align_self": null,
      "border": null,
      "bottom": null,
      "display": null,
      "flex": null,
      "flex_flow": null,
      "grid_area": null,
      "grid_auto_columns": null,
      "grid_auto_flow": null,
      "grid_auto_rows": null,
      "grid_column": null,
      "grid_gap": null,
      "grid_row": null,
      "grid_template_areas": null,
      "grid_template_columns": null,
      "grid_template_rows": null,
      "height": null,
      "justify_content": null,
      "justify_items": null,
      "left": null,
      "margin": null,
      "max_height": null,
      "max_width": null,
      "min_height": null,
      "min_width": null,
      "object_fit": null,
      "object_position": null,
      "order": null,
      "overflow": null,
      "overflow_x": null,
      "overflow_y": null,
      "padding": null,
      "right": null,
      "top": null,
      "visibility": null,
      "width": null
     }
    },
    "a3fa161518744a80ba6e67ea257fb6d3": {
     "model_module": "@jupyter-widgets/controls",
     "model_module_version": "1.5.0",
     "model_name": "DescriptionStyleModel",
     "state": {
      "_model_module": "@jupyter-widgets/controls",
      "_model_module_version": "1.5.0",
      "_model_name": "DescriptionStyleModel",
      "_view_count": null,
      "_view_module": "@jupyter-widgets/base",
      "_view_module_version": "1.2.0",
      "_view_name": "StyleView",
      "description_width": ""
     }
    },
    "a40066238af946fa90bb9cc574c84c56": {
     "model_module": "@jupyter-widgets/controls",
     "model_module_version": "1.5.0",
     "model_name": "ProgressStyleModel",
     "state": {
      "_model_module": "@jupyter-widgets/controls",
      "_model_module_version": "1.5.0",
      "_model_name": "ProgressStyleModel",
      "_view_count": null,
      "_view_module": "@jupyter-widgets/base",
      "_view_module_version": "1.2.0",
      "_view_name": "StyleView",
      "bar_color": null,
      "description_width": ""
     }
    },
    "a6ebc413c84d44ab87e10a886d57fc90": {
     "model_module": "@jupyter-widgets/controls",
     "model_module_version": "1.5.0",
     "model_name": "HTMLModel",
     "state": {
      "_dom_classes": [],
      "_model_module": "@jupyter-widgets/controls",
      "_model_module_version": "1.5.0",
      "_model_name": "HTMLModel",
      "_view_count": null,
      "_view_module": "@jupyter-widgets/controls",
      "_view_module_version": "1.5.0",
      "_view_name": "HTMLView",
      "description": "",
      "description_tooltip": null,
      "layout": "IPY_MODEL_0844863b7ec44aada3d36336b69dbbc5",
      "placeholder": "​",
      "style": "IPY_MODEL_693ddb1d6cfc4e80b2bd50eec17d7f3e",
      "value": " 2870/2870 [00:00&lt;00:00, 5204.43 examples/s]"
     }
    },
    "a7876454d13349d1aecb5989660437eb": {
     "model_module": "@jupyter-widgets/base",
     "model_module_version": "1.2.0",
     "model_name": "LayoutModel",
     "state": {
      "_model_module": "@jupyter-widgets/base",
      "_model_module_version": "1.2.0",
      "_model_name": "LayoutModel",
      "_view_count": null,
      "_view_module": "@jupyter-widgets/base",
      "_view_module_version": "1.2.0",
      "_view_name": "LayoutView",
      "align_content": null,
      "align_items": null,
      "align_self": null,
      "border": null,
      "bottom": null,
      "display": null,
      "flex": null,
      "flex_flow": null,
      "grid_area": null,
      "grid_auto_columns": null,
      "grid_auto_flow": null,
      "grid_auto_rows": null,
      "grid_column": null,
      "grid_gap": null,
      "grid_row": null,
      "grid_template_areas": null,
      "grid_template_columns": null,
      "grid_template_rows": null,
      "height": null,
      "justify_content": null,
      "justify_items": null,
      "left": null,
      "margin": null,
      "max_height": null,
      "max_width": null,
      "min_height": null,
      "min_width": null,
      "object_fit": null,
      "object_position": null,
      "order": null,
      "overflow": null,
      "overflow_x": null,
      "overflow_y": null,
      "padding": null,
      "right": null,
      "top": null,
      "visibility": null,
      "width": null
     }
    },
    "abb75ec4e00d4d0986644526b2bafffd": {
     "model_module": "@jupyter-widgets/controls",
     "model_module_version": "1.5.0",
     "model_name": "FloatProgressModel",
     "state": {
      "_dom_classes": [],
      "_model_module": "@jupyter-widgets/controls",
      "_model_module_version": "1.5.0",
      "_model_name": "FloatProgressModel",
      "_view_count": null,
      "_view_module": "@jupyter-widgets/controls",
      "_view_module_version": "1.5.0",
      "_view_name": "ProgressView",
      "bar_style": "success",
      "description": "",
      "description_tooltip": null,
      "layout": "IPY_MODEL_449874e0a5954e94bd920c7dada5f018",
      "max": 267954768,
      "min": 0,
      "orientation": "horizontal",
      "style": "IPY_MODEL_f0ed86cb8fcb404886c6733cba926757",
      "value": 267954768
     }
    },
    "acc1adbb2f494bffb3ae55c4381697b7": {
     "model_module": "@jupyter-widgets/base",
     "model_module_version": "1.2.0",
     "model_name": "LayoutModel",
     "state": {
      "_model_module": "@jupyter-widgets/base",
      "_model_module_version": "1.2.0",
      "_model_name": "LayoutModel",
      "_view_count": null,
      "_view_module": "@jupyter-widgets/base",
      "_view_module_version": "1.2.0",
      "_view_name": "LayoutView",
      "align_content": null,
      "align_items": null,
      "align_self": null,
      "border": null,
      "bottom": null,
      "display": null,
      "flex": null,
      "flex_flow": null,
      "grid_area": null,
      "grid_auto_columns": null,
      "grid_auto_flow": null,
      "grid_auto_rows": null,
      "grid_column": null,
      "grid_gap": null,
      "grid_row": null,
      "grid_template_areas": null,
      "grid_template_columns": null,
      "grid_template_rows": null,
      "height": null,
      "justify_content": null,
      "justify_items": null,
      "left": null,
      "margin": null,
      "max_height": null,
      "max_width": null,
      "min_height": null,
      "min_width": null,
      "object_fit": null,
      "object_position": null,
      "order": null,
      "overflow": null,
      "overflow_x": null,
      "overflow_y": null,
      "padding": null,
      "right": null,
      "top": null,
      "visibility": null,
      "width": null
     }
    },
    "ad3fa69273704612935598766e8e9a67": {
     "model_module": "@jupyter-widgets/base",
     "model_module_version": "1.2.0",
     "model_name": "LayoutModel",
     "state": {
      "_model_module": "@jupyter-widgets/base",
      "_model_module_version": "1.2.0",
      "_model_name": "LayoutModel",
      "_view_count": null,
      "_view_module": "@jupyter-widgets/base",
      "_view_module_version": "1.2.0",
      "_view_name": "LayoutView",
      "align_content": null,
      "align_items": null,
      "align_self": null,
      "border": null,
      "bottom": null,
      "display": null,
      "flex": null,
      "flex_flow": null,
      "grid_area": null,
      "grid_auto_columns": null,
      "grid_auto_flow": null,
      "grid_auto_rows": null,
      "grid_column": null,
      "grid_gap": null,
      "grid_row": null,
      "grid_template_areas": null,
      "grid_template_columns": null,
      "grid_template_rows": null,
      "height": null,
      "justify_content": null,
      "justify_items": null,
      "left": null,
      "margin": null,
      "max_height": null,
      "max_width": null,
      "min_height": null,
      "min_width": null,
      "object_fit": null,
      "object_position": null,
      "order": null,
      "overflow": null,
      "overflow_x": null,
      "overflow_y": null,
      "padding": null,
      "right": null,
      "top": null,
      "visibility": null,
      "width": null
     }
    },
    "af621c98f5a447c88483b7de8ed15076": {
     "model_module": "@jupyter-widgets/base",
     "model_module_version": "1.2.0",
     "model_name": "LayoutModel",
     "state": {
      "_model_module": "@jupyter-widgets/base",
      "_model_module_version": "1.2.0",
      "_model_name": "LayoutModel",
      "_view_count": null,
      "_view_module": "@jupyter-widgets/base",
      "_view_module_version": "1.2.0",
      "_view_name": "LayoutView",
      "align_content": null,
      "align_items": null,
      "align_self": null,
      "border": null,
      "bottom": null,
      "display": null,
      "flex": null,
      "flex_flow": null,
      "grid_area": null,
      "grid_auto_columns": null,
      "grid_auto_flow": null,
      "grid_auto_rows": null,
      "grid_column": null,
      "grid_gap": null,
      "grid_row": null,
      "grid_template_areas": null,
      "grid_template_columns": null,
      "grid_template_rows": null,
      "height": null,
      "justify_content": null,
      "justify_items": null,
      "left": null,
      "margin": null,
      "max_height": null,
      "max_width": null,
      "min_height": null,
      "min_width": null,
      "object_fit": null,
      "object_position": null,
      "order": null,
      "overflow": null,
      "overflow_x": null,
      "overflow_y": null,
      "padding": null,
      "right": null,
      "top": null,
      "visibility": null,
      "width": null
     }
    },
    "b067ba1fdbfc4357ae0f506b6dbd177c": {
     "model_module": "@jupyter-widgets/controls",
     "model_module_version": "1.5.0",
     "model_name": "ProgressStyleModel",
     "state": {
      "_model_module": "@jupyter-widgets/controls",
      "_model_module_version": "1.5.0",
      "_model_name": "ProgressStyleModel",
      "_view_count": null,
      "_view_module": "@jupyter-widgets/base",
      "_view_module_version": "1.2.0",
      "_view_name": "StyleView",
      "bar_color": null,
      "description_width": ""
     }
    },
    "b6233e15c76c41ddaef4151b34d87d03": {
     "model_module": "@jupyter-widgets/base",
     "model_module_version": "1.2.0",
     "model_name": "LayoutModel",
     "state": {
      "_model_module": "@jupyter-widgets/base",
      "_model_module_version": "1.2.0",
      "_model_name": "LayoutModel",
      "_view_count": null,
      "_view_module": "@jupyter-widgets/base",
      "_view_module_version": "1.2.0",
      "_view_name": "LayoutView",
      "align_content": null,
      "align_items": null,
      "align_self": null,
      "border": null,
      "bottom": null,
      "display": null,
      "flex": null,
      "flex_flow": null,
      "grid_area": null,
      "grid_auto_columns": null,
      "grid_auto_flow": null,
      "grid_auto_rows": null,
      "grid_column": null,
      "grid_gap": null,
      "grid_row": null,
      "grid_template_areas": null,
      "grid_template_columns": null,
      "grid_template_rows": null,
      "height": null,
      "justify_content": null,
      "justify_items": null,
      "left": null,
      "margin": null,
      "max_height": null,
      "max_width": null,
      "min_height": null,
      "min_width": null,
      "object_fit": null,
      "object_position": null,
      "order": null,
      "overflow": null,
      "overflow_x": null,
      "overflow_y": null,
      "padding": null,
      "right": null,
      "top": null,
      "visibility": null,
      "width": null
     }
    },
    "bb7e9c8f6fdb439fb547feefa6d4b9de": {
     "model_module": "@jupyter-widgets/base",
     "model_module_version": "1.2.0",
     "model_name": "LayoutModel",
     "state": {
      "_model_module": "@jupyter-widgets/base",
      "_model_module_version": "1.2.0",
      "_model_name": "LayoutModel",
      "_view_count": null,
      "_view_module": "@jupyter-widgets/base",
      "_view_module_version": "1.2.0",
      "_view_name": "LayoutView",
      "align_content": null,
      "align_items": null,
      "align_self": null,
      "border": null,
      "bottom": null,
      "display": null,
      "flex": null,
      "flex_flow": null,
      "grid_area": null,
      "grid_auto_columns": null,
      "grid_auto_flow": null,
      "grid_auto_rows": null,
      "grid_column": null,
      "grid_gap": null,
      "grid_row": null,
      "grid_template_areas": null,
      "grid_template_columns": null,
      "grid_template_rows": null,
      "height": null,
      "justify_content": null,
      "justify_items": null,
      "left": null,
      "margin": null,
      "max_height": null,
      "max_width": null,
      "min_height": null,
      "min_width": null,
      "object_fit": null,
      "object_position": null,
      "order": null,
      "overflow": null,
      "overflow_x": null,
      "overflow_y": null,
      "padding": null,
      "right": null,
      "top": null,
      "visibility": null,
      "width": null
     }
    },
    "bc8cfba1dcf54ad1864ae68670250078": {
     "model_module": "@jupyter-widgets/base",
     "model_module_version": "1.2.0",
     "model_name": "LayoutModel",
     "state": {
      "_model_module": "@jupyter-widgets/base",
      "_model_module_version": "1.2.0",
      "_model_name": "LayoutModel",
      "_view_count": null,
      "_view_module": "@jupyter-widgets/base",
      "_view_module_version": "1.2.0",
      "_view_name": "LayoutView",
      "align_content": null,
      "align_items": null,
      "align_self": null,
      "border": null,
      "bottom": null,
      "display": null,
      "flex": null,
      "flex_flow": null,
      "grid_area": null,
      "grid_auto_columns": null,
      "grid_auto_flow": null,
      "grid_auto_rows": null,
      "grid_column": null,
      "grid_gap": null,
      "grid_row": null,
      "grid_template_areas": null,
      "grid_template_columns": null,
      "grid_template_rows": null,
      "height": null,
      "justify_content": null,
      "justify_items": null,
      "left": null,
      "margin": null,
      "max_height": null,
      "max_width": null,
      "min_height": null,
      "min_width": null,
      "object_fit": null,
      "object_position": null,
      "order": null,
      "overflow": null,
      "overflow_x": null,
      "overflow_y": null,
      "padding": null,
      "right": null,
      "top": null,
      "visibility": null,
      "width": null
     }
    },
    "c17f5ee484344389a9fdab390ae9c692": {
     "model_module": "@jupyter-widgets/controls",
     "model_module_version": "1.5.0",
     "model_name": "DescriptionStyleModel",
     "state": {
      "_model_module": "@jupyter-widgets/controls",
      "_model_module_version": "1.5.0",
      "_model_name": "DescriptionStyleModel",
      "_view_count": null,
      "_view_module": "@jupyter-widgets/base",
      "_view_module_version": "1.2.0",
      "_view_name": "StyleView",
      "description_width": ""
     }
    },
    "c25866ce784c4e32aa018a0a4d864a3b": {
     "model_module": "@jupyter-widgets/controls",
     "model_module_version": "1.5.0",
     "model_name": "ProgressStyleModel",
     "state": {
      "_model_module": "@jupyter-widgets/controls",
      "_model_module_version": "1.5.0",
      "_model_name": "ProgressStyleModel",
      "_view_count": null,
      "_view_module": "@jupyter-widgets/base",
      "_view_module_version": "1.2.0",
      "_view_name": "StyleView",
      "bar_color": null,
      "description_width": ""
     }
    },
    "c310f29008c745309a45816d21b98476": {
     "model_module": "@jupyter-widgets/controls",
     "model_module_version": "1.5.0",
     "model_name": "HTMLModel",
     "state": {
      "_dom_classes": [],
      "_model_module": "@jupyter-widgets/controls",
      "_model_module_version": "1.5.0",
      "_model_name": "HTMLModel",
      "_view_count": null,
      "_view_module": "@jupyter-widgets/controls",
      "_view_module_version": "1.5.0",
      "_view_name": "HTMLView",
      "description": "",
      "description_tooltip": null,
      "layout": "IPY_MODEL_74c73f1a6de04fbcb2687bc959473aa5",
      "placeholder": "​",
      "style": "IPY_MODEL_8ba2c2fd468c4ab0ba06e0c2702b2786",
      "value": "Map: 100%"
     }
    },
    "c8c480c10dfb4ba386266a3c3521d1b0": {
     "model_module": "@jupyter-widgets/controls",
     "model_module_version": "1.5.0",
     "model_name": "HBoxModel",
     "state": {
      "_dom_classes": [],
      "_model_module": "@jupyter-widgets/controls",
      "_model_module_version": "1.5.0",
      "_model_name": "HBoxModel",
      "_view_count": null,
      "_view_module": "@jupyter-widgets/controls",
      "_view_module_version": "1.5.0",
      "_view_name": "HBoxView",
      "box_style": "",
      "children": [
       "IPY_MODEL_6f3dd3161b9b411188c0ac0f668db833",
       "IPY_MODEL_9b0b60523a1f4e53a538bc58c2751ec7",
       "IPY_MODEL_6483eef5a5f64871a96ec2b984e98f1f"
      ],
      "layout": "IPY_MODEL_150c3bbc89964568b9039dc2eaeac557"
     }
    },
    "c8db92f70bfa4d6782c411679ba20804": {
     "model_module": "@jupyter-widgets/controls",
     "model_module_version": "1.5.0",
     "model_name": "HTMLModel",
     "state": {
      "_dom_classes": [],
      "_model_module": "@jupyter-widgets/controls",
      "_model_module_version": "1.5.0",
      "_model_name": "HTMLModel",
      "_view_count": null,
      "_view_module": "@jupyter-widgets/controls",
      "_view_module_version": "1.5.0",
      "_view_name": "HTMLView",
      "description": "",
      "description_tooltip": null,
      "layout": "IPY_MODEL_41893efa9051466db2d3d7ff37bdefcb",
      "placeholder": "​",
      "style": "IPY_MODEL_e2a7bcdb57a645ff95d96d146f3b51ea",
      "value": "tokenizer_config.json: 100%"
     }
    },
    "c9e6e737faf8469bae93c1dc821e05e0": {
     "model_module": "@jupyter-widgets/base",
     "model_module_version": "1.2.0",
     "model_name": "LayoutModel",
     "state": {
      "_model_module": "@jupyter-widgets/base",
      "_model_module_version": "1.2.0",
      "_model_name": "LayoutModel",
      "_view_count": null,
      "_view_module": "@jupyter-widgets/base",
      "_view_module_version": "1.2.0",
      "_view_name": "LayoutView",
      "align_content": null,
      "align_items": null,
      "align_self": null,
      "border": null,
      "bottom": null,
      "display": null,
      "flex": null,
      "flex_flow": null,
      "grid_area": null,
      "grid_auto_columns": null,
      "grid_auto_flow": null,
      "grid_auto_rows": null,
      "grid_column": null,
      "grid_gap": null,
      "grid_row": null,
      "grid_template_areas": null,
      "grid_template_columns": null,
      "grid_template_rows": null,
      "height": null,
      "justify_content": null,
      "justify_items": null,
      "left": null,
      "margin": null,
      "max_height": null,
      "max_width": null,
      "min_height": null,
      "min_width": null,
      "object_fit": null,
      "object_position": null,
      "order": null,
      "overflow": null,
      "overflow_x": null,
      "overflow_y": null,
      "padding": null,
      "right": null,
      "top": null,
      "visibility": null,
      "width": null
     }
    },
    "ca7442a6da404a889e4e8719c632d779": {
     "model_module": "@jupyter-widgets/controls",
     "model_module_version": "1.5.0",
     "model_name": "HTMLModel",
     "state": {
      "_dom_classes": [],
      "_model_module": "@jupyter-widgets/controls",
      "_model_module_version": "1.5.0",
      "_model_name": "HTMLModel",
      "_view_count": null,
      "_view_module": "@jupyter-widgets/controls",
      "_view_module_version": "1.5.0",
      "_view_name": "HTMLView",
      "description": "",
      "description_tooltip": null,
      "layout": "IPY_MODEL_d9ba6113098f48dd83b46b86546d7c07",
      "placeholder": "​",
      "style": "IPY_MODEL_0f5899fa55864a2998786002ce7c86d7",
      "value": " 286/286 [00:00&lt;00:00, 2858.95 examples/s]"
     }
    },
    "cb99a2b5ac394871af810c47499a010a": {
     "model_module": "@jupyter-widgets/base",
     "model_module_version": "1.2.0",
     "model_name": "LayoutModel",
     "state": {
      "_model_module": "@jupyter-widgets/base",
      "_model_module_version": "1.2.0",
      "_model_name": "LayoutModel",
      "_view_count": null,
      "_view_module": "@jupyter-widgets/base",
      "_view_module_version": "1.2.0",
      "_view_name": "LayoutView",
      "align_content": null,
      "align_items": null,
      "align_self": null,
      "border": null,
      "bottom": null,
      "display": null,
      "flex": null,
      "flex_flow": null,
      "grid_area": null,
      "grid_auto_columns": null,
      "grid_auto_flow": null,
      "grid_auto_rows": null,
      "grid_column": null,
      "grid_gap": null,
      "grid_row": null,
      "grid_template_areas": null,
      "grid_template_columns": null,
      "grid_template_rows": null,
      "height": null,
      "justify_content": null,
      "justify_items": null,
      "left": null,
      "margin": null,
      "max_height": null,
      "max_width": null,
      "min_height": null,
      "min_width": null,
      "object_fit": null,
      "object_position": null,
      "order": null,
      "overflow": null,
      "overflow_x": null,
      "overflow_y": null,
      "padding": null,
      "right": null,
      "top": null,
      "visibility": null,
      "width": null
     }
    },
    "cf77f2dbbb19428eb92f22eb233c3e35": {
     "model_module": "@jupyter-widgets/base",
     "model_module_version": "1.2.0",
     "model_name": "LayoutModel",
     "state": {
      "_model_module": "@jupyter-widgets/base",
      "_model_module_version": "1.2.0",
      "_model_name": "LayoutModel",
      "_view_count": null,
      "_view_module": "@jupyter-widgets/base",
      "_view_module_version": "1.2.0",
      "_view_name": "LayoutView",
      "align_content": null,
      "align_items": null,
      "align_self": null,
      "border": null,
      "bottom": null,
      "display": null,
      "flex": null,
      "flex_flow": null,
      "grid_area": null,
      "grid_auto_columns": null,
      "grid_auto_flow": null,
      "grid_auto_rows": null,
      "grid_column": null,
      "grid_gap": null,
      "grid_row": null,
      "grid_template_areas": null,
      "grid_template_columns": null,
      "grid_template_rows": null,
      "height": null,
      "justify_content": null,
      "justify_items": null,
      "left": null,
      "margin": null,
      "max_height": null,
      "max_width": null,
      "min_height": null,
      "min_width": null,
      "object_fit": null,
      "object_position": null,
      "order": null,
      "overflow": null,
      "overflow_x": null,
      "overflow_y": null,
      "padding": null,
      "right": null,
      "top": null,
      "visibility": null,
      "width": null
     }
    },
    "d1a73568b33f45ac87204eabf2f7c269": {
     "model_module": "@jupyter-widgets/base",
     "model_module_version": "1.2.0",
     "model_name": "LayoutModel",
     "state": {
      "_model_module": "@jupyter-widgets/base",
      "_model_module_version": "1.2.0",
      "_model_name": "LayoutModel",
      "_view_count": null,
      "_view_module": "@jupyter-widgets/base",
      "_view_module_version": "1.2.0",
      "_view_name": "LayoutView",
      "align_content": null,
      "align_items": null,
      "align_self": null,
      "border": null,
      "bottom": null,
      "display": null,
      "flex": null,
      "flex_flow": null,
      "grid_area": null,
      "grid_auto_columns": null,
      "grid_auto_flow": null,
      "grid_auto_rows": null,
      "grid_column": null,
      "grid_gap": null,
      "grid_row": null,
      "grid_template_areas": null,
      "grid_template_columns": null,
      "grid_template_rows": null,
      "height": null,
      "justify_content": null,
      "justify_items": null,
      "left": null,
      "margin": null,
      "max_height": null,
      "max_width": null,
      "min_height": null,
      "min_width": null,
      "object_fit": null,
      "object_position": null,
      "order": null,
      "overflow": null,
      "overflow_x": null,
      "overflow_y": null,
      "padding": null,
      "right": null,
      "top": null,
      "visibility": null,
      "width": null
     }
    },
    "d9ba6113098f48dd83b46b86546d7c07": {
     "model_module": "@jupyter-widgets/base",
     "model_module_version": "1.2.0",
     "model_name": "LayoutModel",
     "state": {
      "_model_module": "@jupyter-widgets/base",
      "_model_module_version": "1.2.0",
      "_model_name": "LayoutModel",
      "_view_count": null,
      "_view_module": "@jupyter-widgets/base",
      "_view_module_version": "1.2.0",
      "_view_name": "LayoutView",
      "align_content": null,
      "align_items": null,
      "align_self": null,
      "border": null,
      "bottom": null,
      "display": null,
      "flex": null,
      "flex_flow": null,
      "grid_area": null,
      "grid_auto_columns": null,
      "grid_auto_flow": null,
      "grid_auto_rows": null,
      "grid_column": null,
      "grid_gap": null,
      "grid_row": null,
      "grid_template_areas": null,
      "grid_template_columns": null,
      "grid_template_rows": null,
      "height": null,
      "justify_content": null,
      "justify_items": null,
      "left": null,
      "margin": null,
      "max_height": null,
      "max_width": null,
      "min_height": null,
      "min_width": null,
      "object_fit": null,
      "object_position": null,
      "order": null,
      "overflow": null,
      "overflow_x": null,
      "overflow_y": null,
      "padding": null,
      "right": null,
      "top": null,
      "visibility": null,
      "width": null
     }
    },
    "da881f4e0efd463783dc9d6b2bd665d0": {
     "model_module": "@jupyter-widgets/base",
     "model_module_version": "1.2.0",
     "model_name": "LayoutModel",
     "state": {
      "_model_module": "@jupyter-widgets/base",
      "_model_module_version": "1.2.0",
      "_model_name": "LayoutModel",
      "_view_count": null,
      "_view_module": "@jupyter-widgets/base",
      "_view_module_version": "1.2.0",
      "_view_name": "LayoutView",
      "align_content": null,
      "align_items": null,
      "align_self": null,
      "border": null,
      "bottom": null,
      "display": null,
      "flex": null,
      "flex_flow": null,
      "grid_area": null,
      "grid_auto_columns": null,
      "grid_auto_flow": null,
      "grid_auto_rows": null,
      "grid_column": null,
      "grid_gap": null,
      "grid_row": null,
      "grid_template_areas": null,
      "grid_template_columns": null,
      "grid_template_rows": null,
      "height": null,
      "justify_content": null,
      "justify_items": null,
      "left": null,
      "margin": null,
      "max_height": null,
      "max_width": null,
      "min_height": null,
      "min_width": null,
      "object_fit": null,
      "object_position": null,
      "order": null,
      "overflow": null,
      "overflow_x": null,
      "overflow_y": null,
      "padding": null,
      "right": null,
      "top": null,
      "visibility": null,
      "width": null
     }
    },
    "e2a7bcdb57a645ff95d96d146f3b51ea": {
     "model_module": "@jupyter-widgets/controls",
     "model_module_version": "1.5.0",
     "model_name": "DescriptionStyleModel",
     "state": {
      "_model_module": "@jupyter-widgets/controls",
      "_model_module_version": "1.5.0",
      "_model_name": "DescriptionStyleModel",
      "_view_count": null,
      "_view_module": "@jupyter-widgets/base",
      "_view_module_version": "1.2.0",
      "_view_name": "StyleView",
      "description_width": ""
     }
    },
    "e5d02f26e50f44229405fdee6dbe15f5": {
     "model_module": "@jupyter-widgets/controls",
     "model_module_version": "1.5.0",
     "model_name": "HBoxModel",
     "state": {
      "_dom_classes": [],
      "_model_module": "@jupyter-widgets/controls",
      "_model_module_version": "1.5.0",
      "_model_name": "HBoxModel",
      "_view_count": null,
      "_view_module": "@jupyter-widgets/controls",
      "_view_module_version": "1.5.0",
      "_view_name": "HBoxView",
      "box_style": "",
      "children": [
       "IPY_MODEL_376c3394f2304a8ba90f3cd75777d25a",
       "IPY_MODEL_2caac4394d8041bea865c78ee4543457",
       "IPY_MODEL_ca7442a6da404a889e4e8719c632d779"
      ],
      "layout": "IPY_MODEL_af621c98f5a447c88483b7de8ed15076"
     }
    },
    "e6f3bddb1a9c47eeb993e2a7dbb036c4": {
     "model_module": "@jupyter-widgets/controls",
     "model_module_version": "1.5.0",
     "model_name": "FloatProgressModel",
     "state": {
      "_dom_classes": [],
      "_model_module": "@jupyter-widgets/controls",
      "_model_module_version": "1.5.0",
      "_model_name": "FloatProgressModel",
      "_view_count": null,
      "_view_module": "@jupyter-widgets/controls",
      "_view_module_version": "1.5.0",
      "_view_name": "ProgressView",
      "bar_style": "success",
      "description": "",
      "description_tooltip": null,
      "layout": "IPY_MODEL_cb99a2b5ac394871af810c47499a010a",
      "max": 286,
      "min": 0,
      "orientation": "horizontal",
      "style": "IPY_MODEL_b067ba1fdbfc4357ae0f506b6dbd177c",
      "value": 286
     }
    },
    "e7e5c103febc46c69cd3904b98a07f2b": {
     "model_module": "@jupyter-widgets/controls",
     "model_module_version": "1.5.0",
     "model_name": "FloatProgressModel",
     "state": {
      "_dom_classes": [],
      "_model_module": "@jupyter-widgets/controls",
      "_model_module_version": "1.5.0",
      "_model_name": "FloatProgressModel",
      "_view_count": null,
      "_view_module": "@jupyter-widgets/controls",
      "_view_module_version": "1.5.0",
      "_view_name": "ProgressView",
      "bar_style": "success",
      "description": "",
      "description_tooltip": null,
      "layout": "IPY_MODEL_f3472e04e9164a6f962b5d4fca257d88",
      "max": 231508,
      "min": 0,
      "orientation": "horizontal",
      "style": "IPY_MODEL_0595120e0f1d4b8f94fd8cda705ccf58",
      "value": 231508
     }
    },
    "e91b3b181f324422b1fde64d101f6eaf": {
     "model_module": "@jupyter-widgets/controls",
     "model_module_version": "1.5.0",
     "model_name": "HBoxModel",
     "state": {
      "_dom_classes": [],
      "_model_module": "@jupyter-widgets/controls",
      "_model_module_version": "1.5.0",
      "_model_name": "HBoxModel",
      "_view_count": null,
      "_view_module": "@jupyter-widgets/controls",
      "_view_module_version": "1.5.0",
      "_view_name": "HBoxView",
      "box_style": "",
      "children": [
       "IPY_MODEL_c310f29008c745309a45816d21b98476",
       "IPY_MODEL_8293fcf85cec4555bac748d7c9444444",
       "IPY_MODEL_a6ebc413c84d44ab87e10a886d57fc90"
      ],
      "layout": "IPY_MODEL_526d0a77a1ee428ebfbe8adb0461f6b4"
     }
    },
    "e960ea0f12514aaf9afa3101af9093b3": {
     "model_module": "@jupyter-widgets/controls",
     "model_module_version": "1.5.0",
     "model_name": "DescriptionStyleModel",
     "state": {
      "_model_module": "@jupyter-widgets/controls",
      "_model_module_version": "1.5.0",
      "_model_name": "DescriptionStyleModel",
      "_view_count": null,
      "_view_module": "@jupyter-widgets/base",
      "_view_module_version": "1.2.0",
      "_view_name": "StyleView",
      "description_width": ""
     }
    },
    "ea3116ff8ef343cba177f6071f6fa939": {
     "model_module": "@jupyter-widgets/base",
     "model_module_version": "1.2.0",
     "model_name": "LayoutModel",
     "state": {
      "_model_module": "@jupyter-widgets/base",
      "_model_module_version": "1.2.0",
      "_model_name": "LayoutModel",
      "_view_count": null,
      "_view_module": "@jupyter-widgets/base",
      "_view_module_version": "1.2.0",
      "_view_name": "LayoutView",
      "align_content": null,
      "align_items": null,
      "align_self": null,
      "border": null,
      "bottom": null,
      "display": null,
      "flex": null,
      "flex_flow": null,
      "grid_area": null,
      "grid_auto_columns": null,
      "grid_auto_flow": null,
      "grid_auto_rows": null,
      "grid_column": null,
      "grid_gap": null,
      "grid_row": null,
      "grid_template_areas": null,
      "grid_template_columns": null,
      "grid_template_rows": null,
      "height": null,
      "justify_content": null,
      "justify_items": null,
      "left": null,
      "margin": null,
      "max_height": null,
      "max_width": null,
      "min_height": null,
      "min_width": null,
      "object_fit": null,
      "object_position": null,
      "order": null,
      "overflow": null,
      "overflow_x": null,
      "overflow_y": null,
      "padding": null,
      "right": null,
      "top": null,
      "visibility": null,
      "width": null
     }
    },
    "eba1cda0e9f6489a8c9d4a89ca6c30d3": {
     "model_module": "@jupyter-widgets/controls",
     "model_module_version": "1.5.0",
     "model_name": "DescriptionStyleModel",
     "state": {
      "_model_module": "@jupyter-widgets/controls",
      "_model_module_version": "1.5.0",
      "_model_name": "DescriptionStyleModel",
      "_view_count": null,
      "_view_module": "@jupyter-widgets/base",
      "_view_module_version": "1.2.0",
      "_view_name": "StyleView",
      "description_width": ""
     }
    },
    "f0c80ba3577a4743b20ac2c240f0a060": {
     "model_module": "@jupyter-widgets/base",
     "model_module_version": "1.2.0",
     "model_name": "LayoutModel",
     "state": {
      "_model_module": "@jupyter-widgets/base",
      "_model_module_version": "1.2.0",
      "_model_name": "LayoutModel",
      "_view_count": null,
      "_view_module": "@jupyter-widgets/base",
      "_view_module_version": "1.2.0",
      "_view_name": "LayoutView",
      "align_content": null,
      "align_items": null,
      "align_self": null,
      "border": null,
      "bottom": null,
      "display": null,
      "flex": null,
      "flex_flow": null,
      "grid_area": null,
      "grid_auto_columns": null,
      "grid_auto_flow": null,
      "grid_auto_rows": null,
      "grid_column": null,
      "grid_gap": null,
      "grid_row": null,
      "grid_template_areas": null,
      "grid_template_columns": null,
      "grid_template_rows": null,
      "height": null,
      "justify_content": null,
      "justify_items": null,
      "left": null,
      "margin": null,
      "max_height": null,
      "max_width": null,
      "min_height": null,
      "min_width": null,
      "object_fit": null,
      "object_position": null,
      "order": null,
      "overflow": null,
      "overflow_x": null,
      "overflow_y": null,
      "padding": null,
      "right": null,
      "top": null,
      "visibility": null,
      "width": null
     }
    },
    "f0ed86cb8fcb404886c6733cba926757": {
     "model_module": "@jupyter-widgets/controls",
     "model_module_version": "1.5.0",
     "model_name": "ProgressStyleModel",
     "state": {
      "_model_module": "@jupyter-widgets/controls",
      "_model_module_version": "1.5.0",
      "_model_name": "ProgressStyleModel",
      "_view_count": null,
      "_view_module": "@jupyter-widgets/base",
      "_view_module_version": "1.2.0",
      "_view_name": "StyleView",
      "bar_color": null,
      "description_width": ""
     }
    },
    "f1b08f01f3c345679e616759711e9a14": {
     "model_module": "@jupyter-widgets/controls",
     "model_module_version": "1.5.0",
     "model_name": "FloatProgressModel",
     "state": {
      "_dom_classes": [],
      "_model_module": "@jupyter-widgets/controls",
      "_model_module_version": "1.5.0",
      "_model_name": "FloatProgressModel",
      "_view_count": null,
      "_view_module": "@jupyter-widgets/controls",
      "_view_module_version": "1.5.0",
      "_view_name": "ProgressView",
      "bar_style": "success",
      "description": "",
      "description_tooltip": null,
      "layout": "IPY_MODEL_84beab2db06d41b0b99c3572e60df8d0",
      "max": 158,
      "min": 0,
      "orientation": "horizontal",
      "style": "IPY_MODEL_a40066238af946fa90bb9cc574c84c56",
      "value": 158
     }
    },
    "f3472e04e9164a6f962b5d4fca257d88": {
     "model_module": "@jupyter-widgets/base",
     "model_module_version": "1.2.0",
     "model_name": "LayoutModel",
     "state": {
      "_model_module": "@jupyter-widgets/base",
      "_model_module_version": "1.2.0",
      "_model_name": "LayoutModel",
      "_view_count": null,
      "_view_module": "@jupyter-widgets/base",
      "_view_module_version": "1.2.0",
      "_view_name": "LayoutView",
      "align_content": null,
      "align_items": null,
      "align_self": null,
      "border": null,
      "bottom": null,
      "display": null,
      "flex": null,
      "flex_flow": null,
      "grid_area": null,
      "grid_auto_columns": null,
      "grid_auto_flow": null,
      "grid_auto_rows": null,
      "grid_column": null,
      "grid_gap": null,
      "grid_row": null,
      "grid_template_areas": null,
      "grid_template_columns": null,
      "grid_template_rows": null,
      "height": null,
      "justify_content": null,
      "justify_items": null,
      "left": null,
      "margin": null,
      "max_height": null,
      "max_width": null,
      "min_height": null,
      "min_width": null,
      "object_fit": null,
      "object_position": null,
      "order": null,
      "overflow": null,
      "overflow_x": null,
      "overflow_y": null,
      "padding": null,
      "right": null,
      "top": null,
      "visibility": null,
      "width": null
     }
    }
   }
  }
 },
 "nbformat": 4,
 "nbformat_minor": 0
}
